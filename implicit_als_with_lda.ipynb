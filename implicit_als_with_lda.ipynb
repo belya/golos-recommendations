{
 "metadata": {
  "name": "",
  "signature": "sha256:f2bffc0e83818f7f540aceab116f2381b7bc6f4215bd63744857701bfa4ce1f9"
 },
 "nbformat": 3,
 "nbformat_minor": 0,
 "worksheets": [
  {
   "cells": [
    {
     "cell_type": "code",
     "collapsed": false,
     "input": [
      "import pandas as pd\n",
      "\n",
      "dataset = pd.read_csv(\"./events.csv\")"
     ],
     "language": "python",
     "metadata": {},
     "outputs": [],
     "prompt_number": 38
    },
    {
     "cell_type": "code",
     "collapsed": false,
     "input": [
      "dataset.head()"
     ],
     "language": "python",
     "metadata": {},
     "outputs": [
      {
       "html": [
        "<div style=\"max-width:1500px;overflow:auto;\">\n",
        "<style>\n",
        "    .dataframe thead tr:only-child th {\n",
        "        text-align: right;\n",
        "    }\n",
        "\n",
        "    .dataframe thead th {\n",
        "        text-align: left;\n",
        "    }\n",
        "\n",
        "    .dataframe tbody tr th {\n",
        "        vertical-align: top;\n",
        "    }\n",
        "</style>\n",
        "<table border=\"1\" class=\"dataframe\">\n",
        "  <thead>\n",
        "    <tr style=\"text-align: right;\">\n",
        "      <th></th>\n",
        "      <th>Unnamed: 0</th>\n",
        "      <th>user_id</th>\n",
        "      <th>post_permlink</th>\n",
        "      <th>like</th>\n",
        "    </tr>\n",
        "  </thead>\n",
        "  <tbody>\n",
        "    <tr>\n",
        "      <th>0</th>\n",
        "      <td>0</td>\n",
        "      <td>13443.0</td>\n",
        "      <td>http://golos.io/@mahadev/vrata-v-turcziyu</td>\n",
        "      <td>True</td>\n",
        "    </tr>\n",
        "    <tr>\n",
        "      <th>1</th>\n",
        "      <td>1</td>\n",
        "      <td>17606.0</td>\n",
        "      <td>http://golos.io/@cysik1946/zamechatelnaya-stra...</td>\n",
        "      <td>True</td>\n",
        "    </tr>\n",
        "    <tr>\n",
        "      <th>2</th>\n",
        "      <td>2</td>\n",
        "      <td>15542.0</td>\n",
        "      <td>http://golos.io/@golos.loto/5x36-golos-lottery...</td>\n",
        "      <td>True</td>\n",
        "    </tr>\n",
        "    <tr>\n",
        "      <th>3</th>\n",
        "      <td>3</td>\n",
        "      <td>10190.0</td>\n",
        "      <td>http://golos.io/@aleks/podarok-golosu-neubivae...</td>\n",
        "      <td>True</td>\n",
        "    </tr>\n",
        "    <tr>\n",
        "      <th>4</th>\n",
        "      <td>4</td>\n",
        "      <td>17606.0</td>\n",
        "      <td>http://golos.io/@elena.mihajlovna/moi-sobaki</td>\n",
        "      <td>True</td>\n",
        "    </tr>\n",
        "  </tbody>\n",
        "</table>\n",
        "</div>"
       ],
       "metadata": {},
       "output_type": "pyout",
       "prompt_number": 39,
       "text": [
        "   Unnamed: 0  user_id                                      post_permlink  \\\n",
        "0           0  13443.0          http://golos.io/@mahadev/vrata-v-turcziyu   \n",
        "1           1  17606.0  http://golos.io/@cysik1946/zamechatelnaya-stra...   \n",
        "2           2  15542.0  http://golos.io/@golos.loto/5x36-golos-lottery...   \n",
        "3           3  10190.0  http://golos.io/@aleks/podarok-golosu-neubivae...   \n",
        "4           4  17606.0       http://golos.io/@elena.mihajlovna/moi-sobaki   \n",
        "\n",
        "   like  \n",
        "0  True  \n",
        "1  True  \n",
        "2  True  \n",
        "3  True  \n",
        "4  True  "
       ]
      }
     ],
     "prompt_number": 39
    },
    {
     "cell_type": "code",
     "collapsed": false,
     "input": [
      "def remove_duplicates(dataset):\n",
      "    return dataset.loc[dataset[[\"user_id\", \"post_permlink\"]].drop_duplicates().index]"
     ],
     "language": "python",
     "metadata": {},
     "outputs": [],
     "prompt_number": 40
    },
    {
     "cell_type": "code",
     "collapsed": false,
     "input": [
      "dataset = remove_duplicates(dataset).reset_index()"
     ],
     "language": "python",
     "metadata": {},
     "outputs": [],
     "prompt_number": 41
    },
    {
     "cell_type": "code",
     "collapsed": false,
     "input": [
      "def threshold_likes(df, uid_min, mid_min):\n",
      "    n_users = df.user_id.unique().shape[0]\n",
      "    n_items = df.post_permlink.unique().shape[0]\n",
      "    sparsity = float(df.shape[0]) / float(n_users*n_items) * 100\n",
      "    print('Starting likes info')\n",
      "    print('Number of users: {}'.format(n_users))\n",
      "    print('Number of models: {}'.format(n_items))\n",
      "    print('Sparsity: {:4.3f}%'.format(sparsity))\n",
      "    \n",
      "    done = False\n",
      "    while not done:\n",
      "        starting_shape = df.shape[0]\n",
      "        mid_counts = df.groupby('user_id').post_permlink.count()\n",
      "        df = df[~df.user_id.isin(mid_counts[mid_counts < mid_min].index.tolist())]\n",
      "        uid_counts = df.groupby('post_permlink').user_id.count()\n",
      "        df = df[~df.post_permlink.isin(uid_counts[uid_counts < uid_min].index.tolist())]\n",
      "        ending_shape = df.shape[0]\n",
      "        if starting_shape == ending_shape:\n",
      "            done = True\n",
      "    \n",
      "    assert(df.groupby('user_id').post_permlink.count().min() >= mid_min)\n",
      "    assert(df.groupby('post_permlink').user_id.count().min() >= uid_min)\n",
      "    \n",
      "    n_users = df.user_id.unique().shape[0]\n",
      "    n_items = df.post_permlink.unique().shape[0]\n",
      "    sparsity = float(df.shape[0]) / float(n_users*n_items) * 100\n",
      "    print('Ending likes info')\n",
      "    print('Number of users: {}'.format(n_users))\n",
      "    print('Number of models: {}'.format(n_items))\n",
      "    print('Sparsity: {:4.3f}%'.format(sparsity))\n",
      "    return df"
     ],
     "language": "python",
     "metadata": {},
     "outputs": [],
     "prompt_number": 42
    },
    {
     "cell_type": "code",
     "collapsed": false,
     "input": [
      "dataset = threshold_likes(dataset, 10, 10)"
     ],
     "language": "python",
     "metadata": {},
     "outputs": [
      {
       "output_type": "stream",
       "stream": "stdout",
       "text": [
        "Starting likes info\n",
        "Number of users: 10379\n",
        "Number of models: 185777\n",
        "Sparsity: 0.066%\n",
        "Ending likes info"
       ]
      },
      {
       "output_type": "stream",
       "stream": "stdout",
       "text": [
        "\n",
        "Number of users: 3622\n",
        "Number of models: 32788\n",
        "Sparsity: 0.776%\n"
       ]
      }
     ],
     "prompt_number": 43
    },
    {
     "cell_type": "code",
     "collapsed": false,
     "input": [
      "dataset = dataset.reset_index()"
     ],
     "language": "python",
     "metadata": {},
     "outputs": [],
     "prompt_number": 44
    },
    {
     "cell_type": "markdown",
     "metadata": {},
     "source": [
      "- \u0421\u0444\u043e\u0440\u043c\u0438\u0440\u043e\u0432\u0430\u0442\u044c \u043c\u0430\u0442\u0440\u0438\u0446\u0443 \u043f\u0440\u0435\u0434\u043f\u043e\u0447\u0442\u0435\u043d\u0438\u0439\n",
      "- \u041f\u0440\u0438\u043c\u0435\u043d\u0438\u0442\u044c als\n",
      "- \u041f\u0440\u043e\u0432\u0435\u0441\u0442\u0438 \u043a\u0440\u043e\u0441\u0441-\u0432\u0430\u043b\u0438\u0434\u0430\u0446\u0438\u044e"
     ]
    },
    {
     "cell_type": "markdown",
     "metadata": {},
     "source": [
      "**\u0424\u043e\u0440\u043c\u0438\u0440\u0443\u0435\u043c \u043c\u0430\u0442\u0440\u0438\u0446\u0443 \u043f\u0440\u0435\u0434\u043f\u043e\u0447\u0442\u0435\u043d\u0438\u0439**"
     ]
    },
    {
     "cell_type": "code",
     "collapsed": false,
     "input": [
      "def map_ids(row, mapper):\n",
      "    return mapper[row]"
     ],
     "language": "python",
     "metadata": {},
     "outputs": [],
     "prompt_number": 45
    },
    {
     "cell_type": "code",
     "collapsed": false,
     "input": [
      "from scipy import sparse\n",
      "import numpy as np\n",
      "\n",
      "uid_to_idx = {}\n",
      "mid_to_idx = {}\n",
      "for (idx, uid) in enumerate(dataset[\"user_id\"].unique().tolist()):\n",
      "    uid_to_idx[uid] = idx\n",
      "    \n",
      "for (idx, mid) in enumerate(dataset[\"post_permlink\"].unique().tolist()):\n",
      "    mid_to_idx[mid] = idx\n",
      "    \n",
      "idx_to_uid = {v: k for k, v in uid_to_idx.items()}\n",
      "idx_to_mid = {v: k for k, v in mid_to_idx.items()}"
     ],
     "language": "python",
     "metadata": {},
     "outputs": [],
     "prompt_number": 46
    },
    {
     "cell_type": "code",
     "collapsed": false,
     "input": [
      "def create_matrix(tuples, train, alpha=1):\n",
      "    dataset = tuples.loc[train]\n",
      "    I = dataset[\"user_id\"].apply(map_ids, args=[uid_to_idx]).as_matrix()\n",
      "    J = dataset[\"post_permlink\"].apply(map_ids, args=[mid_to_idx]).as_matrix()\n",
      "    V = np.hstack(dataset[\"like\"].apply(lambda x: 1 if x else -1) * alpha)\n",
      "    shape = (tuples[\"user_id\"].unique().size, tuples[\"post_permlink\"].unique().size)\n",
      "    likes = sparse.coo_matrix((V, (I, J)), shape=shape, dtype=np.float64).tocsr()\n",
      "    likes[likes < 0] = -1\n",
      "    likes[likes > 0] = 1\n",
      "    return likes"
     ],
     "language": "python",
     "metadata": {},
     "outputs": [],
     "prompt_number": 47
    },
    {
     "cell_type": "markdown",
     "metadata": {},
     "source": [
      "\u041f\u0440\u043e\u0432\u043e\u0434\u0438\u043c \u043a\u0440\u043e\u0441\u0441-\u0432\u0430\u043b\u0438\u0434\u0430\u0446\u0438\u044e \u043c\u043e\u0434\u0435\u043b\u0438"
     ]
    },
    {
     "cell_type": "code",
     "collapsed": false,
     "input": [
      "dataset[\"post_id\"] = dataset[\"post_permlink\"].apply(lambda x: mid_to_idx[x])"
     ],
     "language": "python",
     "metadata": {},
     "outputs": [],
     "prompt_number": 48
    },
    {
     "cell_type": "code",
     "collapsed": false,
     "input": [
      "def average_precision_k(model, train_matrix, test, k):\n",
      "    precisions = []\n",
      "    for user in test[\"user_id\"].unique():\n",
      "        pred_items = [item for item, _ in model.recommend(uid_to_idx[user], train_matrix.T, N=k)]\n",
      "        true_items = test[(test[\"user_id\"] == user) & test[\"like\"]][\"post_id\"]\n",
      "        right_items = [x for x in true_items if x in pred_items]\n",
      "        if (true_items.size == 0):\n",
      "            precisions.append(1)\n",
      "        else:\n",
      "            precisions.append(float(len(right_items) / min(k, true_items.size)))\n",
      "    return np.mean(precisions)"
     ],
     "language": "python",
     "metadata": {},
     "outputs": [],
     "prompt_number": 49
    },
    {
     "cell_type": "markdown",
     "metadata": {},
     "source": [
      "Test for precision method (with 100% precision)"
     ]
    },
    {
     "cell_type": "code",
     "collapsed": false,
     "input": [
      "class TestModel:\n",
      "    def recommend(self, user_id, matrix, N):\n",
      "        all_posts = dataset[(dataset[\"user_id\"] == idx_to_uid[user_id]) & (dataset[\"like\"])][\"post_id\"]\n",
      "        train_posts = matrix.T[user_id].indices\n",
      "        return [(post, 1) for post in all_posts if post not in train_posts][0:N]"
     ],
     "language": "python",
     "metadata": {},
     "outputs": [],
     "prompt_number": 31
    },
    {
     "cell_type": "code",
     "collapsed": false,
     "input": [
      "train_matrix = create_matrix(dataset, dataset.iloc[100:200].index).T\n",
      "model = TestModel()\n",
      "average_precision_k(model, train_matrix, dataset, 10)"
     ],
     "language": "python",
     "metadata": {},
     "outputs": [
      {
       "metadata": {},
       "output_type": "pyout",
       "prompt_number": 30,
       "text": [
        "1.0"
       ]
      }
     ],
     "prompt_number": 30
    },
    {
     "cell_type": "markdown",
     "metadata": {},
     "source": [
      "Use cross validation by roc auc and precision k"
     ]
    },
    {
     "cell_type": "code",
     "collapsed": false,
     "input": [
      "from sklearn.model_selection import ShuffleSplit\n",
      "from sklearn.metrics import roc_auc_score\n",
      "import implicit\n",
      "\n",
      "def cross_validate_roc_auc(n_splits, **kwargs):\n",
      "    train_scores = []\n",
      "    test_scores = []\n",
      "    generator = ShuffleSplit(n_splits=n_splits)\n",
      "    for train, test in generator.split(dataset):\n",
      "        train_dataset = dataset.iloc[train]\n",
      "        test_dataset = dataset.iloc[test]\n",
      "        train_matrix = create_matrix(dataset, train, alpha=40).T\n",
      "        model = implicit.als.AlternatingLeastSquares(**kwargs)\n",
      "        model.fit(train_matrix)\n",
      "        result_matrix = np.dot(model.user_factors, model.item_factors.T)\n",
      "        y_true = train_dataset[\"like\"].apply(lambda x: 1 if x else -1)\n",
      "        y_pred = [result_matrix[uid_to_idx[row[\"user_id\"]], mid_to_idx[row[\"post_permlink\"]]] for _, row in train_dataset.iterrows()]\n",
      "        train_scores.append(roc_auc_score(y_true, y_pred))\n",
      "        y_true = test_dataset[\"like\"].apply(lambda x: 1 if x else -1)\n",
      "        y_pred = [result_matrix[uid_to_idx[row[\"user_id\"]], mid_to_idx[row[\"post_permlink\"]]] for _, row in test_dataset.iterrows()]\n",
      "        test_scores.append(roc_auc_score(y_true, y_pred))\n",
      "    return train_scores, test_scores"
     ],
     "language": "python",
     "metadata": {},
     "outputs": [],
     "prompt_number": 52
    },
    {
     "cell_type": "code",
     "collapsed": false,
     "input": [
      "from sklearn.model_selection import ShuffleSplit\n",
      "import implicit\n",
      "\n",
      "def cross_validate_precision_k(n_splits, k, **kwargs):\n",
      "    scores = []\n",
      "    generator = ShuffleSplit(n_splits=n_splits)\n",
      "    for train, test in generator.split(dataset):\n",
      "        train_dataset = dataset.iloc[train]\n",
      "        test_dataset = dataset.iloc[test]\n",
      "        train_matrix = create_matrix(dataset, train, alpha=40).T\n",
      "        print(\"Created matrix\")\n",
      "        model = implicit.als.AlternatingLeastSquares(**kwargs)\n",
      "        model.fit(train_matrix)\n",
      "        print(\"Prepared model\")\n",
      "        scores.append(average_precision_k(model, train_matrix, test_dataset, k))\n",
      "        print(\"Prepared score\")\n",
      "    return scores"
     ],
     "language": "python",
     "metadata": {},
     "outputs": [],
     "prompt_number": 51
    },
    {
     "cell_type": "code",
     "collapsed": false,
     "input": [
      "for factors in [250]:\n",
      "    for regularization in np.linspace(5, 8, 5):\n",
      "        train_scores, test_scores = cross_validate_roc_auc(n_splits=3, factors=factors, regularization=regularization)\n",
      "        print(\"======================\")\n",
      "        print(\"{}, {}, {}, {}\".format(factors, regularization, np.mean(train_scores), np.mean(test_scores)))"
     ],
     "language": "python",
     "metadata": {},
     "outputs": [
      {
       "output_type": "stream",
       "stream": "stderr",
       "text": [
        "WARNING:root:OpenBLAS detected. Its highly recommend to set the environment variable 'export OPENBLAS_NUM_THREADS=1' to disable its internal multithreading\n"
       ]
      }
     ]
    },
    {
     "cell_type": "code",
     "collapsed": false,
     "input": [
      "for factors in [250]:\n",
      "    for regularization in np.linspace(5, 8, 5):\n",
      "        scores = cross_validate_precision_k(n_splits=3, k=10, factors=factors, regularization=regularization)\n",
      "        print(\"======================\")\n",
      "        print(\"{}, {}, {}\".format(factors, regularization, np.mean(scores)))"
     ],
     "language": "python",
     "metadata": {},
     "outputs": [
      {
       "output_type": "stream",
       "stream": "stderr",
       "text": [
        "WARNING:root:OpenBLAS detected. Its highly recommend to set the environment variable 'export OPENBLAS_NUM_THREADS=1' to disable its internal multithreading\n"
       ]
      },
      {
       "output_type": "stream",
       "stream": "stdout",
       "text": [
        "Created matrix\n",
        "Prepared model"
       ]
      },
      {
       "output_type": "stream",
       "stream": "stdout",
       "text": [
        "\n",
        "Prepared score"
       ]
      },
      {
       "output_type": "stream",
       "stream": "stdout",
       "text": [
        "\n",
        "Created matrix"
       ]
      },
      {
       "output_type": "stream",
       "stream": "stderr",
       "text": [
        "WARNING:root:OpenBLAS detected. Its highly recommend to set the environment variable 'export OPENBLAS_NUM_THREADS=1' to disable its internal multithreading\n"
       ]
      },
      {
       "output_type": "stream",
       "stream": "stdout",
       "text": [
        "\n",
        "Prepared model"
       ]
      },
      {
       "output_type": "stream",
       "stream": "stdout",
       "text": [
        "\n",
        "Prepared score"
       ]
      },
      {
       "output_type": "stream",
       "stream": "stdout",
       "text": [
        "\n",
        "Created matrix"
       ]
      },
      {
       "output_type": "stream",
       "stream": "stderr",
       "text": [
        "WARNING:root:OpenBLAS detected. Its highly recommend to set the environment variable 'export OPENBLAS_NUM_THREADS=1' to disable its internal multithreading\n"
       ]
      },
      {
       "output_type": "stream",
       "stream": "stdout",
       "text": [
        "\n",
        "Prepared model"
       ]
      },
      {
       "output_type": "stream",
       "stream": "stdout",
       "text": [
        "\n",
        "Prepared score"
       ]
      },
      {
       "output_type": "stream",
       "stream": "stdout",
       "text": [
        "\n",
        "======================\n",
        "250, 5.0, 0.3934545012444392\n",
        "Created matrix"
       ]
      },
      {
       "output_type": "stream",
       "stream": "stderr",
       "text": [
        "WARNING:root:OpenBLAS detected. Its highly recommend to set the environment variable 'export OPENBLAS_NUM_THREADS=1' to disable its internal multithreading\n"
       ]
      },
      {
       "output_type": "stream",
       "stream": "stdout",
       "text": [
        "\n",
        "Prepared model"
       ]
      },
      {
       "output_type": "stream",
       "stream": "stdout",
       "text": [
        "\n",
        "Prepared score"
       ]
      },
      {
       "output_type": "stream",
       "stream": "stdout",
       "text": [
        "\n",
        "Created matrix"
       ]
      },
      {
       "output_type": "stream",
       "stream": "stderr",
       "text": [
        "WARNING:root:OpenBLAS detected. Its highly recommend to set the environment variable 'export OPENBLAS_NUM_THREADS=1' to disable its internal multithreading\n"
       ]
      },
      {
       "output_type": "stream",
       "stream": "stdout",
       "text": [
        "\n",
        "Prepared model"
       ]
      },
      {
       "output_type": "stream",
       "stream": "stdout",
       "text": [
        "\n"
       ]
      },
      {
       "ename": "KeyboardInterrupt",
       "evalue": "",
       "output_type": "pyerr",
       "traceback": [
        "\u001b[0;31m---------------------------------------------------------------------------\u001b[0m\n\u001b[0;31mKeyboardInterrupt\u001b[0m                         Traceback (most recent call last)",
        "\u001b[0;32m<ipython-input-35-e96e43959423>\u001b[0m in \u001b[0;36m<module>\u001b[0;34m()\u001b[0m\n\u001b[1;32m      1\u001b[0m \u001b[0;32mfor\u001b[0m \u001b[0mfactors\u001b[0m \u001b[0;32min\u001b[0m \u001b[0;34m[\u001b[0m\u001b[0;36m250\u001b[0m\u001b[0;34m]\u001b[0m\u001b[0;34m:\u001b[0m\u001b[0;34m\u001b[0m\u001b[0m\n\u001b[1;32m      2\u001b[0m     \u001b[0;32mfor\u001b[0m \u001b[0mregularization\u001b[0m \u001b[0;32min\u001b[0m \u001b[0mnp\u001b[0m\u001b[0;34m.\u001b[0m\u001b[0mlinspace\u001b[0m\u001b[0;34m(\u001b[0m\u001b[0;36m5\u001b[0m\u001b[0;34m,\u001b[0m \u001b[0;36m8\u001b[0m\u001b[0;34m,\u001b[0m \u001b[0;36m5\u001b[0m\u001b[0;34m)\u001b[0m\u001b[0;34m:\u001b[0m\u001b[0;34m\u001b[0m\u001b[0m\n\u001b[0;32m----> 3\u001b[0;31m         \u001b[0mscores\u001b[0m \u001b[0;34m=\u001b[0m \u001b[0mcross_validate_precision_k\u001b[0m\u001b[0;34m(\u001b[0m\u001b[0mn_splits\u001b[0m\u001b[0;34m=\u001b[0m\u001b[0;36m3\u001b[0m\u001b[0;34m,\u001b[0m \u001b[0mk\u001b[0m\u001b[0;34m=\u001b[0m\u001b[0;36m10\u001b[0m\u001b[0;34m,\u001b[0m \u001b[0mfactors\u001b[0m\u001b[0;34m=\u001b[0m\u001b[0mfactors\u001b[0m\u001b[0;34m,\u001b[0m \u001b[0mregularization\u001b[0m\u001b[0;34m=\u001b[0m\u001b[0mregularization\u001b[0m\u001b[0;34m)\u001b[0m\u001b[0;34m\u001b[0m\u001b[0m\n\u001b[0m\u001b[1;32m      4\u001b[0m         \u001b[0mprint\u001b[0m\u001b[0;34m(\u001b[0m\u001b[0;34m\"======================\"\u001b[0m\u001b[0;34m)\u001b[0m\u001b[0;34m\u001b[0m\u001b[0m\n\u001b[1;32m      5\u001b[0m         \u001b[0mprint\u001b[0m\u001b[0;34m(\u001b[0m\u001b[0;34m\"{}, {}, {}\"\u001b[0m\u001b[0;34m.\u001b[0m\u001b[0mformat\u001b[0m\u001b[0;34m(\u001b[0m\u001b[0mfactors\u001b[0m\u001b[0;34m,\u001b[0m \u001b[0mregularization\u001b[0m\u001b[0;34m,\u001b[0m \u001b[0mnp\u001b[0m\u001b[0;34m.\u001b[0m\u001b[0mmean\u001b[0m\u001b[0;34m(\u001b[0m\u001b[0mscores\u001b[0m\u001b[0;34m)\u001b[0m\u001b[0;34m)\u001b[0m\u001b[0;34m)\u001b[0m\u001b[0;34m\u001b[0m\u001b[0m\n",
        "\u001b[0;32m<ipython-input-33-c32a362535cc>\u001b[0m in \u001b[0;36mcross_validate_precision_k\u001b[0;34m(n_splits, k, **kwargs)\u001b[0m\n\u001b[1;32m     13\u001b[0m         \u001b[0mmodel\u001b[0m\u001b[0;34m.\u001b[0m\u001b[0mfit\u001b[0m\u001b[0;34m(\u001b[0m\u001b[0mtrain_matrix\u001b[0m\u001b[0;34m)\u001b[0m\u001b[0;34m\u001b[0m\u001b[0m\n\u001b[1;32m     14\u001b[0m         \u001b[0mprint\u001b[0m\u001b[0;34m(\u001b[0m\u001b[0;34m\"Prepared model\"\u001b[0m\u001b[0;34m)\u001b[0m\u001b[0;34m\u001b[0m\u001b[0m\n\u001b[0;32m---> 15\u001b[0;31m         \u001b[0mscores\u001b[0m\u001b[0;34m.\u001b[0m\u001b[0mappend\u001b[0m\u001b[0;34m(\u001b[0m\u001b[0maverage_precision_k\u001b[0m\u001b[0;34m(\u001b[0m\u001b[0mmodel\u001b[0m\u001b[0;34m,\u001b[0m \u001b[0mtrain_matrix\u001b[0m\u001b[0;34m,\u001b[0m \u001b[0mtest_dataset\u001b[0m\u001b[0;34m,\u001b[0m \u001b[0mk\u001b[0m\u001b[0;34m)\u001b[0m\u001b[0;34m)\u001b[0m\u001b[0;34m\u001b[0m\u001b[0m\n\u001b[0m\u001b[1;32m     16\u001b[0m         \u001b[0mprint\u001b[0m\u001b[0;34m(\u001b[0m\u001b[0;34m\"Prepared score\"\u001b[0m\u001b[0;34m)\u001b[0m\u001b[0;34m\u001b[0m\u001b[0m\n\u001b[1;32m     17\u001b[0m     \u001b[0;32mreturn\u001b[0m \u001b[0mscores\u001b[0m\u001b[0;34m\u001b[0m\u001b[0m\n",
        "\u001b[0;32m<ipython-input-30-4142a11e81ee>\u001b[0m in \u001b[0;36maverage_precision_k\u001b[0;34m(model, train_matrix, test, k)\u001b[0m\n\u001b[1;32m      2\u001b[0m     \u001b[0mprecisions\u001b[0m \u001b[0;34m=\u001b[0m \u001b[0;34m[\u001b[0m\u001b[0;34m]\u001b[0m\u001b[0;34m\u001b[0m\u001b[0m\n\u001b[1;32m      3\u001b[0m     \u001b[0;32mfor\u001b[0m \u001b[0muser\u001b[0m \u001b[0;32min\u001b[0m \u001b[0mtest\u001b[0m\u001b[0;34m[\u001b[0m\u001b[0;34m\"user_id\"\u001b[0m\u001b[0;34m]\u001b[0m\u001b[0;34m.\u001b[0m\u001b[0munique\u001b[0m\u001b[0;34m(\u001b[0m\u001b[0;34m)\u001b[0m\u001b[0;34m:\u001b[0m\u001b[0;34m\u001b[0m\u001b[0m\n\u001b[0;32m----> 4\u001b[0;31m         \u001b[0mpred_items\u001b[0m \u001b[0;34m=\u001b[0m \u001b[0;34m[\u001b[0m\u001b[0mitem\u001b[0m \u001b[0;32mfor\u001b[0m \u001b[0mitem\u001b[0m\u001b[0;34m,\u001b[0m \u001b[0m_\u001b[0m \u001b[0;32min\u001b[0m \u001b[0mmodel\u001b[0m\u001b[0;34m.\u001b[0m\u001b[0mrecommend\u001b[0m\u001b[0;34m(\u001b[0m\u001b[0muid_to_idx\u001b[0m\u001b[0;34m[\u001b[0m\u001b[0muser\u001b[0m\u001b[0;34m]\u001b[0m\u001b[0;34m,\u001b[0m \u001b[0mtrain_matrix\u001b[0m\u001b[0;34m.\u001b[0m\u001b[0mT\u001b[0m\u001b[0;34m,\u001b[0m \u001b[0mN\u001b[0m\u001b[0;34m=\u001b[0m\u001b[0mk\u001b[0m\u001b[0;34m)\u001b[0m\u001b[0;34m]\u001b[0m\u001b[0;34m\u001b[0m\u001b[0m\n\u001b[0m\u001b[1;32m      5\u001b[0m         \u001b[0mtrue_items\u001b[0m \u001b[0;34m=\u001b[0m \u001b[0mtest\u001b[0m\u001b[0;34m[\u001b[0m\u001b[0;34m(\u001b[0m\u001b[0mtest\u001b[0m\u001b[0;34m[\u001b[0m\u001b[0;34m\"user_id\"\u001b[0m\u001b[0;34m]\u001b[0m \u001b[0;34m==\u001b[0m \u001b[0muser\u001b[0m\u001b[0;34m)\u001b[0m \u001b[0;34m&\u001b[0m \u001b[0mtest\u001b[0m\u001b[0;34m[\u001b[0m\u001b[0;34m\"like\"\u001b[0m\u001b[0;34m]\u001b[0m\u001b[0;34m]\u001b[0m\u001b[0;34m[\u001b[0m\u001b[0;34m\"post_id\"\u001b[0m\u001b[0;34m]\u001b[0m\u001b[0;34m\u001b[0m\u001b[0m\n\u001b[1;32m      6\u001b[0m         \u001b[0mright_items\u001b[0m \u001b[0;34m=\u001b[0m \u001b[0;34m[\u001b[0m\u001b[0mx\u001b[0m \u001b[0;32mfor\u001b[0m \u001b[0mx\u001b[0m \u001b[0;32min\u001b[0m \u001b[0mtrue_items\u001b[0m \u001b[0;32mif\u001b[0m \u001b[0mx\u001b[0m \u001b[0;32min\u001b[0m \u001b[0mpred_items\u001b[0m\u001b[0;34m]\u001b[0m\u001b[0;34m\u001b[0m\u001b[0m\n",
        "\u001b[0;32m/usr/local/lib/python3.5/dist-packages/implicit/als.py\u001b[0m in \u001b[0;36mrecommend\u001b[0;34m(self, userid, user_items, N, filter_items, recalculate_user)\u001b[0m\n\u001b[1;32m    132\u001b[0m         \u001b[0;31m# calculate the top N items, removing the users own liked items from the results\u001b[0m\u001b[0;34m\u001b[0m\u001b[0;34m\u001b[0m\u001b[0m\n\u001b[1;32m    133\u001b[0m         \u001b[0mliked\u001b[0m \u001b[0;34m=\u001b[0m \u001b[0mset\u001b[0m\u001b[0;34m(\u001b[0m\u001b[0muser_items\u001b[0m\u001b[0;34m[\u001b[0m\u001b[0muserid\u001b[0m\u001b[0;34m]\u001b[0m\u001b[0;34m.\u001b[0m\u001b[0mindices\u001b[0m\u001b[0;34m)\u001b[0m\u001b[0;34m\u001b[0m\u001b[0m\n\u001b[0;32m--> 134\u001b[0;31m         \u001b[0mscores\u001b[0m \u001b[0;34m=\u001b[0m \u001b[0mself\u001b[0m\u001b[0;34m.\u001b[0m\u001b[0mitem_factors\u001b[0m\u001b[0;34m.\u001b[0m\u001b[0mdot\u001b[0m\u001b[0;34m(\u001b[0m\u001b[0muser\u001b[0m\u001b[0;34m)\u001b[0m\u001b[0;34m\u001b[0m\u001b[0m\n\u001b[0m\u001b[1;32m    135\u001b[0m         \u001b[0;32mif\u001b[0m \u001b[0mfilter_items\u001b[0m\u001b[0;34m:\u001b[0m\u001b[0;34m\u001b[0m\u001b[0m\n\u001b[1;32m    136\u001b[0m             \u001b[0mliked\u001b[0m\u001b[0;34m.\u001b[0m\u001b[0mupdate\u001b[0m\u001b[0;34m(\u001b[0m\u001b[0mfilter_items\u001b[0m\u001b[0;34m)\u001b[0m\u001b[0;34m\u001b[0m\u001b[0m\n",
        "\u001b[0;31mKeyboardInterrupt\u001b[0m: "
       ]
      }
     ],
     "prompt_number": 35
    },
    {
     "cell_type": "code",
     "collapsed": false,
     "input": [
      "def average_precision_k(dataset, result_matrix, mask, k):\n",
      "    result_matrix = result_matrix * mask\n",
      "    precisions = []\n",
      "    for voter in dataset[\"user_id\"].unique():\n",
      "        pred_items = np.argsort(-result_matrix[uid_to_idx[voter]])[0:k]\n",
      "        true_items = dataset[(dataset[\"user_id\"] == voter) & (dataset[\"like\"])][\"post_id\"]\n",
      "        right_items = [x for x in true_items if x in pred_items]\n",
      "        if (true_items.size == 0):\n",
      "            precisions.append(1)\n",
      "        else:\n",
      "            precisions.append(float(len(right_items) / min(k, true_items.size)))\n",
      "    return np.mean(precisions)"
     ],
     "language": "python",
     "metadata": {},
     "outputs": [],
     "prompt_number": 275
    },
    {
     "cell_type": "code",
     "collapsed": false,
     "input": [
      "def average_recall_k(dataset, result_matrix, mask, k):\n",
      "    result_matrix = result_matrix * mask\n",
      "    recalls = []\n",
      "    for voter in dataset[\"user_id\"].unique():\n",
      "        pred_items = np.argsort(-result_matrix[uid_to_idx[voter]])[0:k]\n",
      "        true_items = dataset[(dataset[\"user_id\"] == voter) & (dataset[\"like\"])][\"post_id\"]\n",
      "        right_items = [x for x in true_items if x in pred_items]\n",
      "        if (true_items.size == 0):\n",
      "            recalls.append(1)\n",
      "        else:\n",
      "            recalls.append(float(len(right_items) / true_items.size))\n",
      "    return np.mean(recalls)"
     ],
     "language": "python",
     "metadata": {},
     "outputs": [],
     "prompt_number": 276
    },
    {
     "cell_type": "code",
     "collapsed": false,
     "input": [
      "from sklearn.model_selection import ShuffleSplit\n",
      "from sklearn.metrics import roc_auc_score\n",
      "import implicit\n",
      "\n",
      "def cross_validate(n_splits, **kwargs):\n",
      "    precisions = []\n",
      "    recalls = []\n",
      "    generator = ShuffleSplit(n_splits=n_splits)\n",
      "    for train, test in generator.split(dataset):\n",
      "        train_matrix = create_matrix(dataset, train, alpha=40).T\n",
      "        model = implicit.als.AlternatingLeastSquares(**kwargs)\n",
      "        model.fit(train_matrix)\n",
      "        result_matrix = np.dot(model.user_factors, model.item_factors.T)\n",
      "        mask = (1 - train_matrix.T.toarray())\n",
      "        precision = average_precision_k(dataset.iloc[test], result_matrix, mask, 10)\n",
      "        precisions.append(precision)\n",
      "        recall = average_recall_k(dataset.iloc[test], result_matrix, mask, 10)\n",
      "        recalls.append(recall)\n",
      "    return precisions, recalls"
     ],
     "language": "python",
     "metadata": {},
     "outputs": [],
     "prompt_number": 287
    },
    {
     "cell_type": "markdown",
     "metadata": {},
     "source": [
      "## Save result to files for a server"
     ]
    },
    {
     "cell_type": "code",
     "collapsed": false,
     "input": [
      "dataset_matrix = create_matrix(dataset, dataset.index).T"
     ],
     "language": "python",
     "metadata": {},
     "outputs": [],
     "prompt_number": 40
    },
    {
     "cell_type": "code",
     "collapsed": false,
     "input": [
      "from sklearn.externals import joblib"
     ],
     "language": "python",
     "metadata": {},
     "outputs": [],
     "prompt_number": 41
    },
    {
     "cell_type": "code",
     "collapsed": false,
     "input": [
      "joblib.dump(dataset_matrix.T, \"matrix.pkl\")"
     ],
     "language": "python",
     "metadata": {},
     "outputs": [
      {
       "metadata": {},
       "output_type": "pyout",
       "prompt_number": 42,
       "text": [
        "['matrix.pkl']"
       ]
      }
     ],
     "prompt_number": 42
    },
    {
     "cell_type": "code",
     "collapsed": false,
     "input": [
      "uid_to_idx = {}\n",
      "mid_to_idx = {}\n",
      "for (idx, uid) in enumerate(dataset[\"user_id\"].unique().tolist()):\n",
      "    uid_to_idx[uid] = idx\n",
      "    \n",
      "for (idx, mid) in enumerate(dataset[\"post_permlink\"].unique().tolist()):\n",
      "    mid_to_idx[mid] = idx\n",
      "    \n",
      "idx_to_uid = {v: k for k, v in uid_to_idx.items()}\n",
      "idx_to_mid = {v: k for k, v in mid_to_idx.items()}"
     ],
     "language": "python",
     "metadata": {},
     "outputs": [],
     "prompt_number": 43
    },
    {
     "cell_type": "code",
     "collapsed": false,
     "input": [
      "joblib.dump(uid_to_idx, \"uid_to_idx.pkl\")\n",
      "joblib.dump(idx_to_mid, \"idx_to_mid.pkl\")"
     ],
     "language": "python",
     "metadata": {},
     "outputs": [
      {
       "metadata": {},
       "output_type": "pyout",
       "prompt_number": 44,
       "text": [
        "['idx_to_mid.pkl']"
       ]
      }
     ],
     "prompt_number": 44
    },
    {
     "cell_type": "code",
     "collapsed": false,
     "input": [
      "import implicit\n",
      "model = implicit.als.AlternatingLeastSquares(factors=250, regularization=6)\n",
      "model.fit(dataset_matrix)"
     ],
     "language": "python",
     "metadata": {},
     "outputs": [
      {
       "output_type": "stream",
       "stream": "stderr",
       "text": [
        "WARNING:root:OpenBLAS detected. Its highly recommend to set the environment variable 'export OPENBLAS_NUM_THREADS=1' to disable its internal multithreading\n"
       ]
      }
     ],
     "prompt_number": 45
    },
    {
     "cell_type": "code",
     "collapsed": false,
     "input": [
      "joblib.dump(model, \"model.pkl\")"
     ],
     "language": "python",
     "metadata": {},
     "outputs": [
      {
       "metadata": {},
       "output_type": "pyout",
       "prompt_number": 46,
       "text": [
        "['model.pkl']"
       ]
      }
     ],
     "prompt_number": 46
    },
    {
     "cell_type": "code",
     "collapsed": false,
     "input": [
      "dataset_matrix.shape"
     ],
     "language": "python",
     "metadata": {},
     "outputs": [
      {
       "metadata": {},
       "output_type": "pyout",
       "prompt_number": 296,
       "text": [
        "(37410, 4935)"
       ]
      }
     ],
     "prompt_number": 296
    },
    {
     "cell_type": "markdown",
     "metadata": {},
     "source": [
      "## Create a new model with explicit and implicit features"
     ]
    },
    {
     "cell_type": "markdown",
     "metadata": {},
     "source": [
      "Implicit features and an error for each item"
     ]
    },
    {
     "cell_type": "code",
     "collapsed": false,
     "input": [
      "from sklearn.model_selection import train_test_split\n",
      "import seaborn as sns\n",
      "import implicit\n",
      "dataset_matrix = create_matrix(dataset, dataset.index).T\n",
      "train, test = train_test_split(dataset, test_size=0.5) \n",
      "train_matrix = create_matrix(dataset, train.index).T\n",
      "model = implicit.als.AlternatingLeastSquares(factors=250, regularization=6)\n",
      "model.fit(train_matrix)"
     ],
     "language": "python",
     "metadata": {},
     "outputs": [
      {
       "output_type": "stream",
       "stream": "stderr",
       "text": [
        "WARNING:root:OpenBLAS detected. Its highly recommend to set the environment variable 'export OPENBLAS_NUM_THREADS=1' to disable its internal multithreading\n"
       ]
      }
     ],
     "prompt_number": 13
    },
    {
     "cell_type": "code",
     "collapsed": false,
     "input": [
      "result_matrix = model.user_factors.dot(model.item_factors.T)\n",
      "delta_matrix = dataset_matrix - result_matrix.T"
     ],
     "language": "python",
     "metadata": {},
     "outputs": [],
     "prompt_number": 14
    },
    {
     "cell_type": "code",
     "collapsed": false,
     "input": [
      "bins = np.linspace(-1, 1, 100)*10"
     ],
     "language": "python",
     "metadata": {},
     "outputs": [],
     "prompt_number": 17
    },
    {
     "cell_type": "code",
     "collapsed": false,
     "input": [
      "delta_matrix[0:10].reshape(-1)"
     ],
     "language": "python",
     "metadata": {},
     "outputs": []
    },
    {
     "cell_type": "code",
     "collapsed": false,
     "input": [
      "%matplotlib inline\n",
      "import matplotlib.pyplot as plt\n",
      "import seaborn as sns\n",
      "plt.hist(delta_matrix[0:10].reshape(-1), bins=bins)"
     ],
     "language": "python",
     "metadata": {},
     "outputs": [
      {
       "output_type": "stream",
       "stream": "stderr",
       "text": [
        "/home/earth/.local/lib/python3.5/site-packages/matplotlib/axes/_axes.py:6097: UserWarning: 2D hist input should be nsamples x nvariables;\n",
        " this looks transposed (shape is 1 x 80310)\n",
        "  '(shape is %d x %d)' % inp.shape[::-1])\n"
       ]
      },
      {
       "ename": "KeyboardInterrupt",
       "evalue": "",
       "output_type": "pyerr",
       "traceback": [
        "\u001b[0;31m---------------------------------------------------------------------------\u001b[0m\n\u001b[0;31mKeyboardInterrupt\u001b[0m                         Traceback (most recent call last)",
        "\u001b[0;32m<ipython-input-18-1b7ffcac486a>\u001b[0m in \u001b[0;36m<module>\u001b[0;34m()\u001b[0m\n\u001b[1;32m      1\u001b[0m \u001b[0mget_ipython\u001b[0m\u001b[0;34m(\u001b[0m\u001b[0;34m)\u001b[0m\u001b[0;34m.\u001b[0m\u001b[0mmagic\u001b[0m\u001b[0;34m(\u001b[0m\u001b[0;34m'matplotlib inline'\u001b[0m\u001b[0;34m)\u001b[0m\u001b[0;34m\u001b[0m\u001b[0m\n\u001b[1;32m      2\u001b[0m \u001b[0;32mimport\u001b[0m \u001b[0mmatplotlib\u001b[0m\u001b[0;34m.\u001b[0m\u001b[0mpyplot\u001b[0m \u001b[0;32mas\u001b[0m \u001b[0mplt\u001b[0m\u001b[0;34m\u001b[0m\u001b[0m\n\u001b[0;32m----> 3\u001b[0;31m \u001b[0mplt\u001b[0m\u001b[0;34m.\u001b[0m\u001b[0mhist\u001b[0m\u001b[0;34m(\u001b[0m\u001b[0mdelta_matrix\u001b[0m\u001b[0;34m[\u001b[0m\u001b[0;36m0\u001b[0m\u001b[0;34m:\u001b[0m\u001b[0;36m10\u001b[0m\u001b[0;34m]\u001b[0m\u001b[0;34m.\u001b[0m\u001b[0mreshape\u001b[0m\u001b[0;34m(\u001b[0m\u001b[0;34m-\u001b[0m\u001b[0;36m1\u001b[0m\u001b[0;34m)\u001b[0m\u001b[0;34m,\u001b[0m \u001b[0mbins\u001b[0m\u001b[0;34m=\u001b[0m\u001b[0mbins\u001b[0m\u001b[0;34m)\u001b[0m\u001b[0;34m\u001b[0m\u001b[0m\n\u001b[0m",
        "\u001b[0;32m/home/earth/.local/lib/python3.5/site-packages/matplotlib/pyplot.py\u001b[0m in \u001b[0;36mhist\u001b[0;34m(x, bins, range, normed, weights, cumulative, bottom, histtype, align, orientation, rwidth, log, color, label, stacked, hold, data, **kwargs)\u001b[0m\n\u001b[1;32m   3079\u001b[0m                       \u001b[0mhisttype\u001b[0m\u001b[0;34m=\u001b[0m\u001b[0mhisttype\u001b[0m\u001b[0;34m,\u001b[0m \u001b[0malign\u001b[0m\u001b[0;34m=\u001b[0m\u001b[0malign\u001b[0m\u001b[0;34m,\u001b[0m \u001b[0morientation\u001b[0m\u001b[0;34m=\u001b[0m\u001b[0morientation\u001b[0m\u001b[0;34m,\u001b[0m\u001b[0;34m\u001b[0m\u001b[0m\n\u001b[1;32m   3080\u001b[0m                       \u001b[0mrwidth\u001b[0m\u001b[0;34m=\u001b[0m\u001b[0mrwidth\u001b[0m\u001b[0;34m,\u001b[0m \u001b[0mlog\u001b[0m\u001b[0;34m=\u001b[0m\u001b[0mlog\u001b[0m\u001b[0;34m,\u001b[0m \u001b[0mcolor\u001b[0m\u001b[0;34m=\u001b[0m\u001b[0mcolor\u001b[0m\u001b[0;34m,\u001b[0m \u001b[0mlabel\u001b[0m\u001b[0;34m=\u001b[0m\u001b[0mlabel\u001b[0m\u001b[0;34m,\u001b[0m\u001b[0;34m\u001b[0m\u001b[0m\n\u001b[0;32m-> 3081\u001b[0;31m                       stacked=stacked, data=data, **kwargs)\n\u001b[0m\u001b[1;32m   3082\u001b[0m     \u001b[0;32mfinally\u001b[0m\u001b[0;34m:\u001b[0m\u001b[0;34m\u001b[0m\u001b[0m\n\u001b[1;32m   3083\u001b[0m         \u001b[0max\u001b[0m\u001b[0;34m.\u001b[0m\u001b[0m_hold\u001b[0m \u001b[0;34m=\u001b[0m \u001b[0mwashold\u001b[0m\u001b[0;34m\u001b[0m\u001b[0m\n",
        "\u001b[0;32m/home/earth/.local/lib/python3.5/site-packages/matplotlib/__init__.py\u001b[0m in \u001b[0;36minner\u001b[0;34m(ax, *args, **kwargs)\u001b[0m\n\u001b[1;32m   1896\u001b[0m                     warnings.warn(msg % (label_namer, func.__name__),\n\u001b[1;32m   1897\u001b[0m                                   RuntimeWarning, stacklevel=2)\n\u001b[0;32m-> 1898\u001b[0;31m             \u001b[0;32mreturn\u001b[0m \u001b[0mfunc\u001b[0m\u001b[0;34m(\u001b[0m\u001b[0max\u001b[0m\u001b[0;34m,\u001b[0m \u001b[0;34m*\u001b[0m\u001b[0margs\u001b[0m\u001b[0;34m,\u001b[0m \u001b[0;34m**\u001b[0m\u001b[0mkwargs\u001b[0m\u001b[0;34m)\u001b[0m\u001b[0;34m\u001b[0m\u001b[0m\n\u001b[0m\u001b[1;32m   1899\u001b[0m         \u001b[0mpre_doc\u001b[0m \u001b[0;34m=\u001b[0m \u001b[0minner\u001b[0m\u001b[0;34m.\u001b[0m\u001b[0m__doc__\u001b[0m\u001b[0;34m\u001b[0m\u001b[0m\n\u001b[1;32m   1900\u001b[0m         \u001b[0;32mif\u001b[0m \u001b[0mpre_doc\u001b[0m \u001b[0;32mis\u001b[0m \u001b[0;32mNone\u001b[0m\u001b[0;34m:\u001b[0m\u001b[0;34m\u001b[0m\u001b[0m\n",
        "\u001b[0;32m/home/earth/.local/lib/python3.5/site-packages/matplotlib/axes/_axes.py\u001b[0m in \u001b[0;36mhist\u001b[0;34m(***failed resolving arguments***)\u001b[0m\n\u001b[1;32m   6277\u001b[0m                 patch = _barfunc(bins[:-1]+boffset, height, width,\n\u001b[1;32m   6278\u001b[0m                                  \u001b[0malign\u001b[0m\u001b[0;34m=\u001b[0m\u001b[0;34m'center'\u001b[0m\u001b[0;34m,\u001b[0m \u001b[0mlog\u001b[0m\u001b[0;34m=\u001b[0m\u001b[0mlog\u001b[0m\u001b[0;34m,\u001b[0m\u001b[0;34m\u001b[0m\u001b[0m\n\u001b[0;32m-> 6279\u001b[0;31m                                  color=c, **{bottom_kwarg: bottom})\n\u001b[0m\u001b[1;32m   6280\u001b[0m                 \u001b[0mpatches\u001b[0m\u001b[0;34m.\u001b[0m\u001b[0mappend\u001b[0m\u001b[0;34m(\u001b[0m\u001b[0mpatch\u001b[0m\u001b[0;34m)\u001b[0m\u001b[0;34m\u001b[0m\u001b[0m\n\u001b[1;32m   6281\u001b[0m                 \u001b[0;32mif\u001b[0m \u001b[0mstacked\u001b[0m\u001b[0;34m:\u001b[0m\u001b[0;34m\u001b[0m\u001b[0m\n",
        "\u001b[0;32m/home/earth/.local/lib/python3.5/site-packages/matplotlib/__init__.py\u001b[0m in \u001b[0;36minner\u001b[0;34m(ax, *args, **kwargs)\u001b[0m\n\u001b[1;32m   1896\u001b[0m                     warnings.warn(msg % (label_namer, func.__name__),\n\u001b[1;32m   1897\u001b[0m                                   RuntimeWarning, stacklevel=2)\n\u001b[0;32m-> 1898\u001b[0;31m             \u001b[0;32mreturn\u001b[0m \u001b[0mfunc\u001b[0m\u001b[0;34m(\u001b[0m\u001b[0max\u001b[0m\u001b[0;34m,\u001b[0m \u001b[0;34m*\u001b[0m\u001b[0margs\u001b[0m\u001b[0;34m,\u001b[0m \u001b[0;34m**\u001b[0m\u001b[0mkwargs\u001b[0m\u001b[0;34m)\u001b[0m\u001b[0;34m\u001b[0m\u001b[0m\n\u001b[0m\u001b[1;32m   1899\u001b[0m         \u001b[0mpre_doc\u001b[0m \u001b[0;34m=\u001b[0m \u001b[0minner\u001b[0m\u001b[0;34m.\u001b[0m\u001b[0m__doc__\u001b[0m\u001b[0;34m\u001b[0m\u001b[0m\n\u001b[1;32m   1900\u001b[0m         \u001b[0;32mif\u001b[0m \u001b[0mpre_doc\u001b[0m \u001b[0;32mis\u001b[0m \u001b[0;32mNone\u001b[0m\u001b[0;34m:\u001b[0m\u001b[0;34m\u001b[0m\u001b[0m\n",
        "\u001b[0;32m/home/earth/.local/lib/python3.5/site-packages/matplotlib/axes/_axes.py\u001b[0m in \u001b[0;36mbar\u001b[0;34m(self, left, height, width, bottom, **kwargs)\u001b[0m\n\u001b[1;32m   2169\u001b[0m             \u001b[0mymin\u001b[0m \u001b[0;34m=\u001b[0m \u001b[0mmax\u001b[0m\u001b[0;34m(\u001b[0m\u001b[0mymin\u001b[0m \u001b[0;34m*\u001b[0m \u001b[0;36m0.9\u001b[0m\u001b[0;34m,\u001b[0m \u001b[0;36m1e-100\u001b[0m\u001b[0;34m)\u001b[0m\u001b[0;34m\u001b[0m\u001b[0m\n\u001b[1;32m   2170\u001b[0m             \u001b[0mself\u001b[0m\u001b[0;34m.\u001b[0m\u001b[0mdataLim\u001b[0m\u001b[0;34m.\u001b[0m\u001b[0mintervaly\u001b[0m \u001b[0;34m=\u001b[0m \u001b[0;34m(\u001b[0m\u001b[0mymin\u001b[0m\u001b[0;34m,\u001b[0m \u001b[0mymax\u001b[0m\u001b[0;34m)\u001b[0m\u001b[0;34m\u001b[0m\u001b[0m\n\u001b[0;32m-> 2171\u001b[0;31m         \u001b[0mself\u001b[0m\u001b[0;34m.\u001b[0m\u001b[0mautoscale_view\u001b[0m\u001b[0;34m(\u001b[0m\u001b[0;34m)\u001b[0m\u001b[0;34m\u001b[0m\u001b[0m\n\u001b[0m\u001b[1;32m   2172\u001b[0m \u001b[0;34m\u001b[0m\u001b[0m\n\u001b[1;32m   2173\u001b[0m         \u001b[0mbar_container\u001b[0m \u001b[0;34m=\u001b[0m \u001b[0mBarContainer\u001b[0m\u001b[0;34m(\u001b[0m\u001b[0mpatches\u001b[0m\u001b[0;34m,\u001b[0m \u001b[0merrorbar\u001b[0m\u001b[0;34m,\u001b[0m \u001b[0mlabel\u001b[0m\u001b[0;34m=\u001b[0m\u001b[0mlabel\u001b[0m\u001b[0;34m)\u001b[0m\u001b[0;34m\u001b[0m\u001b[0m\n",
        "\u001b[0;32m/home/earth/.local/lib/python3.5/site-packages/matplotlib/axes/_base.py\u001b[0m in \u001b[0;36mautoscale_view\u001b[0;34m(self, tight, scalex, scaley)\u001b[0m\n\u001b[1;32m   2266\u001b[0m             \u001b[0mstickies\u001b[0m \u001b[0;34m=\u001b[0m \u001b[0;34m[\u001b[0m\u001b[0martist\u001b[0m\u001b[0;34m.\u001b[0m\u001b[0msticky_edges\u001b[0m \u001b[0;32mfor\u001b[0m \u001b[0martist\u001b[0m \u001b[0;32min\u001b[0m \u001b[0mself\u001b[0m\u001b[0;34m.\u001b[0m\u001b[0mget_children\u001b[0m\u001b[0;34m(\u001b[0m\u001b[0;34m)\u001b[0m\u001b[0;34m]\u001b[0m\u001b[0;34m\u001b[0m\u001b[0m\n\u001b[1;32m   2267\u001b[0m             \u001b[0mx_stickies\u001b[0m \u001b[0;34m=\u001b[0m \u001b[0msum\u001b[0m\u001b[0;34m(\u001b[0m\u001b[0;34m[\u001b[0m\u001b[0msticky\u001b[0m\u001b[0;34m.\u001b[0m\u001b[0mx\u001b[0m \u001b[0;32mfor\u001b[0m \u001b[0msticky\u001b[0m \u001b[0;32min\u001b[0m \u001b[0mstickies\u001b[0m\u001b[0;34m]\u001b[0m\u001b[0;34m,\u001b[0m \u001b[0;34m[\u001b[0m\u001b[0;34m]\u001b[0m\u001b[0;34m)\u001b[0m\u001b[0;34m\u001b[0m\u001b[0m\n\u001b[0;32m-> 2268\u001b[0;31m             \u001b[0my_stickies\u001b[0m \u001b[0;34m=\u001b[0m \u001b[0msum\u001b[0m\u001b[0;34m(\u001b[0m\u001b[0;34m[\u001b[0m\u001b[0msticky\u001b[0m\u001b[0;34m.\u001b[0m\u001b[0my\u001b[0m \u001b[0;32mfor\u001b[0m \u001b[0msticky\u001b[0m \u001b[0;32min\u001b[0m \u001b[0mstickies\u001b[0m\u001b[0;34m]\u001b[0m\u001b[0;34m,\u001b[0m \u001b[0;34m[\u001b[0m\u001b[0;34m]\u001b[0m\u001b[0;34m)\u001b[0m\u001b[0;34m\u001b[0m\u001b[0m\n\u001b[0m\u001b[1;32m   2269\u001b[0m             \u001b[0;32mif\u001b[0m \u001b[0mself\u001b[0m\u001b[0;34m.\u001b[0m\u001b[0mget_xscale\u001b[0m\u001b[0;34m(\u001b[0m\u001b[0;34m)\u001b[0m\u001b[0;34m.\u001b[0m\u001b[0mlower\u001b[0m\u001b[0;34m(\u001b[0m\u001b[0;34m)\u001b[0m \u001b[0;34m==\u001b[0m \u001b[0;34m'log'\u001b[0m\u001b[0;34m:\u001b[0m\u001b[0;34m\u001b[0m\u001b[0m\n\u001b[1;32m   2270\u001b[0m                 \u001b[0mx_stickies\u001b[0m \u001b[0;34m=\u001b[0m \u001b[0;34m[\u001b[0m\u001b[0mxs\u001b[0m \u001b[0;32mfor\u001b[0m \u001b[0mxs\u001b[0m \u001b[0;32min\u001b[0m \u001b[0mx_stickies\u001b[0m \u001b[0;32mif\u001b[0m \u001b[0mxs\u001b[0m \u001b[0;34m>\u001b[0m \u001b[0;36m0\u001b[0m\u001b[0;34m]\u001b[0m\u001b[0;34m\u001b[0m\u001b[0m\n",
        "\u001b[0;31mKeyboardInterrupt\u001b[0m: "
       ]
      },
      {
       "ename": "KeyboardInterrupt",
       "evalue": "",
       "output_type": "pyerr",
       "traceback": [
        "Traceback (most recent call last):\n",
        "  File \"/usr/lib/python3/dist-packages/IPython/kernel/zmq/pylab/backend_inline.py\", line 43, in show\n    display(figure_manager.canvas.figure)\n",
        "  File \"/usr/lib/python3/dist-packages/IPython/core/display.py\", line 131, in display\n    format_dict, md_dict = format(obj, include=include, exclude=exclude)\n",
        "  File \"/usr/lib/python3/dist-packages/IPython/core/formatters.py\", line 200, in format\n    data = formatter(obj)\n",
        "  File \"<decorator-gen-10>\", line 2, in __call__\n",
        "  File \"/usr/lib/python3/dist-packages/IPython/core/formatters.py\", line 233, in warn_format_error\n    r = method(self, *args, **kwargs)\n",
        "  File \"/usr/lib/python3/dist-packages/IPython/core/formatters.py\", line 350, in __call__\n    return printer(obj)\n",
        "  File \"/usr/lib/python3/dist-packages/IPython/core/pylabtools.py\", line 222, in <lambda>\n    png_formatter.for_type(Figure, lambda fig: print_figure(fig, 'png', **kwargs))\n",
        "  File \"/usr/lib/python3/dist-packages/IPython/core/pylabtools.py\", line 132, in print_figure\n    fig.canvas.print_figure(bytes_io, **kw)\n",
        "  File \"/home/earth/.local/lib/python3.5/site-packages/matplotlib/backend_bases.py\", line 2200, in print_figure\n    **kwargs)\n",
        "  File \"/home/earth/.local/lib/python3.5/site-packages/matplotlib/backends/backend_agg.py\", line 545, in print_png\n    FigureCanvasAgg.draw(self)\n",
        "  File \"/home/earth/.local/lib/python3.5/site-packages/matplotlib/backends/backend_agg.py\", line 464, in draw\n    self.figure.draw(self.renderer)\n",
        "  File \"/home/earth/.local/lib/python3.5/site-packages/matplotlib/artist.py\", line 63, in draw_wrapper\n    draw(artist, renderer, *args, **kwargs)\n",
        "  File \"/home/earth/.local/lib/python3.5/site-packages/matplotlib/figure.py\", line 1144, in draw\n    renderer, self, dsu, self.suppressComposite)\n",
        "  File \"/home/earth/.local/lib/python3.5/site-packages/matplotlib/image.py\", line 139, in _draw_list_compositing_images\n    a.draw(renderer)\n",
        "  File \"/home/earth/.local/lib/python3.5/site-packages/matplotlib/artist.py\", line 63, in draw_wrapper\n    draw(artist, renderer, *args, **kwargs)\n",
        "  File \"/home/earth/.local/lib/python3.5/site-packages/matplotlib/axes/_base.py\", line 2426, in draw\n    mimage._draw_list_compositing_images(renderer, self, dsu)\n",
        "  File \"/home/earth/.local/lib/python3.5/site-packages/matplotlib/image.py\", line 139, in _draw_list_compositing_images\n    a.draw(renderer)\n",
        "  File \"/home/earth/.local/lib/python3.5/site-packages/matplotlib/artist.py\", line 63, in draw_wrapper\n    draw(artist, renderer, *args, **kwargs)\n",
        "  File \"/home/earth/.local/lib/python3.5/site-packages/matplotlib/patches.py\", line 535, in draw\n    if self._edgecolor[3] == 0:\n",
        "KeyboardInterrupt\n",
        "\nDuring handling of the above exception, another exception occurred:\n\n",
        "Traceback (most recent call last):\n",
        "  File \"/usr/lib/python3/dist-packages/IPython/kernel/zmq/ipkernel.py\", line 389, in execute_request\n    shell.run_cell(code, store_history=store_history, silent=silent)\n",
        "  File \"/usr/lib/python3/dist-packages/IPython/core/interactiveshell.py\", line 2743, in run_cell\n    self.events.trigger('post_execute')\n",
        "  File \"/usr/lib/python3/dist-packages/IPython/core/events.py\", line 82, in trigger\n    func(*args, **kwargs)\n",
        "  File \"/usr/lib/python3/dist-packages/IPython/kernel/zmq/pylab/backend_inline.py\", line 118, in flush_figures\n    return show(True)\n",
        "  File \"/usr/lib/python3/dist-packages/IPython/kernel/zmq/pylab/backend_inline.py\", line 47, in show\n    matplotlib.pyplot.close('all')\n",
        "  File \"/home/earth/.local/lib/python3.5/site-packages/matplotlib/pyplot.py\", line 649, in close\n    _pylab_helpers.Gcf.destroy_all()\n",
        "  File \"/home/earth/.local/lib/python3.5/site-packages/matplotlib/_pylab_helpers.py\", line 96, in destroy_all\n    gc.collect(1)\n",
        "KeyboardInterrupt\n"
       ]
      }
     ],
     "prompt_number": 17
    },
    {
     "cell_type": "markdown",
     "metadata": {},
     "source": [
      "Implicit features - "
     ]
    },
    {
     "cell_type": "markdown",
     "metadata": {},
     "source": [
      "Explicit features - TF-IDF, LDA topics"
     ]
    },
    {
     "cell_type": "code",
     "collapsed": false,
     "input": [
      "# Load LDA model\n",
      "# Load dictionary\n",
      "# Get bow for each post\n",
      "# Get vector for each post"
     ],
     "language": "python",
     "metadata": {},
     "outputs": [],
     "prompt_number": 4
    },
    {
     "cell_type": "code",
     "collapsed": false,
     "input": [
      "posts = pd.read_csv(\"posts.csv\").set_index(\"permlink\")"
     ],
     "language": "python",
     "metadata": {},
     "outputs": [],
     "prompt_number": 57
    },
    {
     "cell_type": "code",
     "collapsed": false,
     "input": [
      "dataset[\"post\"] = posts.loc[dataset[\"post_permlink\"]].reset_index()[\"text\"]"
     ],
     "language": "python",
     "metadata": {},
     "outputs": [],
     "prompt_number": 67
    },
    {
     "cell_type": "code",
     "collapsed": false,
     "input": [
      "from sklearn.model_selection import train_test_split\n",
      "\n",
      "train, test = train_test_split(dataset, test_size=0.3)\n",
      "train_matrix = create_matrix(dataset, train.index).T"
     ],
     "language": "python",
     "metadata": {},
     "outputs": [],
     "prompt_number": 68
    },
    {
     "cell_type": "code",
     "collapsed": false,
     "input": [
      "import implicit\n",
      "implicit_model = implicit.als.AlternatingLeastSquares(factors=250, regularization=6)\n",
      "implicit_model.fit(train_matrix)\n",
      "dataset_users = pd.DataFrame([implicit_model.user_factors[uid_to_idx[x]] for x in dataset[\"user_id\"]])\n",
      "dataset_users.columns = [str(column) + '_user_factor' for column in dataset_users.columns]\n",
      "dataset_posts = pd.DataFrame([implicit_model.item_factors[mid_to_idx[x]] for x in dataset[\"post_permlink\"]])\n",
      "dataset_posts.columns = [str(column) + '_post_factor' for column in dataset_posts.columns]"
     ],
     "language": "python",
     "metadata": {},
     "outputs": [
      {
       "output_type": "stream",
       "stream": "stderr",
       "text": [
        "WARNING:root:OpenBLAS detected. Its highly recommend to set the environment variable 'export OPENBLAS_NUM_THREADS=1' to disable its internal multithreading\n"
       ]
      }
     ],
     "prompt_number": 74
    },
    {
     "cell_type": "code",
     "collapsed": false,
     "input": [
      "from gensim import corpora\n",
      "from gensim import models\n",
      "from nltk.tokenize import TweetTokenizer\n",
      "dictionary = corpora.Dictionary.load('golos-corpora.dict')\n",
      "topic_model = models.ldamodel.LdaModel.load('golos-corpora.lda_model', mmap='r')\n",
      "tokenizer = TweetTokenizer()"
     ],
     "language": "python",
     "metadata": {},
     "outputs": [],
     "prompt_number": 87
    },
    {
     "cell_type": "code",
     "collapsed": false,
     "input": [
      "a = topic_model.get_document_topics(dictionary.doc2bow(tokenizer.tokenize(str(dataset[\"post\"][109]))))"
     ],
     "language": "python",
     "metadata": {},
     "outputs": [],
     "prompt_number": 106
    },
    {
     "cell_type": "code",
     "collapsed": false,
     "input": [
      "tokenizer.tokenize(str(dataset[\"post\"][109]).lower())"
     ],
     "language": "python",
     "metadata": {},
     "outputs": [
      {
       "metadata": {},
       "output_type": "pyout",
       "prompt_number": 101,
       "text": [
        "['http://i.imgsafe.org/76084bc999.jpg',\n",
        " '#',\n",
        " '#',\n",
        " '#',\n",
        " '\u0434\u043e\u0431\u0440\u043e',\n",
        " '\u043f\u043e\u0436\u0430\u043b\u043e\u0432\u0430\u0442\u044c',\n",
        " '\u0432',\n",
        " '\u0445\u0438\u0442-\u043f\u0430\u0440\u0430\u0434',\n",
        " '\u0434\u043b\u044f',\n",
        " '\u043d\u0430\u0447\u0438\u043d\u0430\u044e\u0449\u0438\u0445',\n",
        " '!',\n",
        " '\u043b\u044e\u0434\u0438',\n",
        " '\u0447\u0443\u0432\u0441\u0442\u0432\u0443\u044e\u0442',\n",
        " '\u0441\u0435\u0431\u044f',\n",
        " '\u0441\u0447\u0430\u0441\u0442\u043b\u0438\u0432\u044b\u043c\u0438',\n",
        " ',',\n",
        " '\u043a\u043e\u0433\u0434\u0430',\n",
        " '\u0438\u0445',\n",
        " '\u043f\u043e\u0441\u0442',\n",
        " '\u043f\u043e\u044f\u0432\u043b\u044f\u0435\u0442\u0441\u044f',\n",
        " '\u0432',\n",
        " '\u043c\u043e\u0435\u043c',\n",
        " '\u0435\u0436\u0435\u0434\u043d\u0435\u0432\u043d\u043e\u043c',\n",
        " '\u0445\u0438\u0442-\u043f\u0430\u0440\u0430\u0434\u0435',\n",
        " '.',\n",
        " '\u043a\u0440\u043e\u043c\u0435',\n",
        " '\u0442\u043e\u0433\u043e',\n",
        " ',',\n",
        " '\u043e\u043d\u0438',\n",
        " '\u043c\u043e\u0433\u0443\u0442',\n",
        " '\u043f\u043e\u043b\u0443\u0447\u0438\u0442\u044c',\n",
        " '\u043a\u0440\u0430\u0441\u0438\u0432\u0443\u044e',\n",
        " '\u043c\u0435\u0434\u0430\u043b\u044c',\n",
        " '\u043d\u0430',\n",
        " '\u0434\u043e\u0441\u043a\u0435',\n",
        " '\u043f\u043e\u0447\u0435\u0442\u0430',\n",
        " ',',\n",
        " '\u0435\u0441\u043b\u0438',\n",
        " '\u0437\u0430\u043d\u0438\u043c\u0430\u044e\u0442',\n",
        " '\u0432\u0435\u0440\u0445\u043d\u044e\u044e',\n",
        " '\u043f\u043e\u0437\u0438\u0446\u0438\u044e',\n",
        " '.',\n",
        " '\u043d\u043e',\n",
        " ',',\n",
        " '\u044f',\n",
        " '\u0434\u0443\u043c\u0430\u044e',\n",
        " ',',\n",
        " '\u0432\u044b',\n",
        " '\u0442\u0430\u043a\u0436\u0435',\n",
        " '\u0437\u0430\u043c\u0435\u0442\u0438\u043b\u0438',\n",
        " ',',\n",
        " '\u0447\u0442\u043e',\n",
        " '\u044d\u0442\u0438',\n",
        " '\u0437\u0430\u0432\u0438\u0434\u043d\u044b\u0435',\n",
        " '\u0438',\n",
        " '\u0436\u0435\u043b\u0430\u043d\u043d\u044b\u0435',\n",
        " '\u043f\u043e\u0437\u0438\u0446\u0438\u0438',\n",
        " '\u0447\u0430\u0441\u0442\u043e',\n",
        " '\u0437\u0430\u043d\u0438\u043c\u0430\u044e\u0442',\n",
        " '\u0431\u043b\u043e\u0433\u0433\u0435\u0440\u044b',\n",
        " ',',\n",
        " '\u043a\u043e\u0442\u043e\u0440\u044b\u0435',\n",
        " '\u0443\u0436\u0435',\n",
        " '\u0437\u0430\u0440\u0430\u0431\u043e\u0442\u0430\u043b\u0438',\n",
        " '\u0445\u043e\u0440\u043e\u0448\u0443\u044e',\n",
        " '\u0440\u0435\u043f\u0443\u0442\u0430\u0446\u0438\u044e',\n",
        " '.',\n",
        " '\u0441\u0442\u0430\u043d\u043e\u0432\u0438\u0442\u0441\u044f',\n",
        " '\u0432\u0441\u0451',\n",
        " '\u0441\u043b\u043e\u0436\u043d\u0435\u0435',\n",
        " '\u0431\u044b\u0442\u044c',\n",
        " '\u0437\u0430\u043c\u0435\u0447\u0435\u043d\u043d\u044b\u043c',\n",
        " '\u0438',\n",
        " '\u043f\u043e\u044f\u0432\u0438\u0442\u044c\u0441\u044f',\n",
        " '\u0432',\n",
        " '\u0442\u043e\u043f\u0435',\n",
        " '.',\n",
        " '\u044d\u0442\u043e',\n",
        " '\u043c\u043e\u0436\u0435\u0442',\n",
        " '\u0432\u044b\u0437\u0432\u0430\u0442\u044c',\n",
        " '\u0441\u0438\u043b\u044c\u043d\u043e\u0435',\n",
        " '\u0440\u0430\u0437\u043e\u0447\u0430\u0440\u043e\u0432\u0430\u043d\u0438\u0435',\n",
        " '\u0443',\n",
        " '\u043d\u043e\u0432\u0438\u0447\u043a\u043e\u0432',\n",
        " ',',\n",
        " '\u043a\u043e\u0442\u043e\u0440\u044b\u0435',\n",
        " '\u043f\u0438\u0448\u0443\u0442',\n",
        " '\u0445\u043e\u0440\u043e\u0448\u0438\u0435',\n",
        " '\u043f\u043e\u0441\u0442\u044b',\n",
        " ',',\n",
        " '\u043d\u043e',\n",
        " '\u0442\u0435\u0440\u044f\u044e\u0442\u0441\u044f',\n",
        " '\u0432',\n",
        " '\u0442\u043e\u043b\u043f\u0435',\n",
        " '\u0441\u0435\u0431\u0435',\n",
        " '\u043f\u043e\u0434\u043e\u0431\u043d\u044b\u0445',\n",
        " '.',\n",
        " '#',\n",
        " '#',\n",
        " '#',\n",
        " '\u0432\u043e\u0442',\n",
        " '\u0437\u0434\u0435\u0441\u044c',\n",
        " '\u0438',\n",
        " '\u043f\u043e\u044f\u0432\u043b\u044f\u0435\u0442\u0441\u044f',\n",
        " '\u0445\u0438\u0442-\u043f\u0430\u0440\u0430\u0434',\n",
        " '\u0434\u043b\u044f',\n",
        " '\u043d\u043e\u0432\u0438\u0447\u043a\u043e\u0432',\n",
        " '.',\n",
        " '\u0447\u0442\u043e\u0431\u044b',\n",
        " '\u043f\u043e\u043f\u0430\u0441\u0442\u044c',\n",
        " '\u0432',\n",
        " '\u044d\u0442\u043e\u0442',\n",
        " '\u0445\u0438\u0442-\u043f\u0430\u0440\u0430\u0434',\n",
        " ',',\n",
        " '\u043a\u043e\u043d\u0435\u0447\u043d\u043e',\n",
        " ',',\n",
        " '\u043d\u0435\u043e\u0431\u0445\u043e\u0434\u0438\u043c\u043e',\n",
        " '\u043f\u043e\u043b\u0443\u0447\u0438\u0442\u044c',\n",
        " '\u0434\u043e\u0441\u0442\u0430\u0442\u043e\u0447\u043d\u043e',\n",
        " '\u0445\u043e\u0440\u043e\u0448\u0435\u0435',\n",
        " '\u043a\u043e\u043b\u0438\u0447\u0435\u0441\u0442\u0432\u043e',\n",
        " '\u0433\u043e\u043b\u043e\u0441\u043e\u0432',\n",
        " ',',\n",
        " '\u043a\u043e\u043c\u043c\u0435\u043d\u0442\u0430\u0440\u0438\u0435\u0432',\n",
        " ',',\n",
        " '\u0438\u043b\u0438',\n",
        " '\u0432\u044b\u043f\u043b\u0430\u0442\u044b',\n",
        " '.',\n",
        " '\u0430',\n",
        " '\u0442\u0430\u043a\u0436\u0435',\n",
        " '\u0432\u044b',\n",
        " '\u043d\u0435',\n",
        " '\u0434\u043e\u043b\u0436\u043d\u044b',\n",
        " '\u0431\u044b\u0442\u044c',\n",
        " '\u0432\u043a\u043b\u044e\u0447\u0435\u043d\u044b',\n",
        " '\u043d\u0438',\n",
        " '\u0432',\n",
        " '\u043e\u0434\u0438\u043d',\n",
        " '\u0438\u0437',\n",
        " '\u043c\u043e\u0438\u0445',\n",
        " '\u043f\u0440\u0435\u0434\u044b\u0434\u0443\u0449\u0438\u0445',\n",
        " '\u0445\u0438\u0442-\u043f\u0430\u0440\u0430\u0434\u043e\u0432',\n",
        " '.',\n",
        " '\u0434\u0443\u043c\u0430\u044e',\n",
        " ',',\n",
        " '\u0432\u044b',\n",
        " '\u043f\u043e\u043d\u044f\u043b\u0438',\n",
        " ',',\n",
        " '\u0447\u0442\u043e',\n",
        " '\u0442\u043e\u043b\u044c\u043a\u043e',\n",
        " '\u043d\u043e\u0432\u0438\u0447\u043a\u0438',\n",
        " '\u0441\u043c\u043e\u0433\u0443\u0442',\n",
        " '\u043f\u043e\u043f\u0430\u0441\u0442\u044c',\n",
        " '\u0432',\n",
        " '\u044d\u0442\u043e\u0442',\n",
        " '\u0445\u0438\u0442-\u043f\u0430\u0440\u0430\u0434',\n",
        " '\u0438',\n",
        " '\u0442\u0435\u043c',\n",
        " '\u0441\u0430\u043c\u044b\u043c',\n",
        " '\u0441\u043e\u0437\u0434\u0430\u0442\u044c',\n",
        " '\u043d\u043e\u0432\u0443\u044e',\n",
        " '\u0440\u0435\u043f\u0443\u0442\u0430\u0446\u0438\u044e',\n",
        " '.',\n",
        " '#',\n",
        " '#',\n",
        " '\u0443\u0434\u0430\u0447\u0438',\n",
        " '\u0432\u0441\u0435\u043c',\n",
        " '!',\n",
        " '-',\n",
        " '-',\n",
        " '-',\n",
        " '#',\n",
        " '#',\n",
        " '#',\n",
        " '\u0442\u043e\u043f',\n",
        " '10',\n",
        " '\u043f\u043e\u0441\u0442\u043e\u0432',\n",
        " '\u043f\u043e',\n",
        " '\u043a\u043e\u043b\u0438\u0447\u0435\u0441\u0442\u0432\u0443',\n",
        " '\u0433\u043e\u043b\u043e\u0441\u043e\u0432',\n",
        " '|',\n",
        " '\u0433\u043e\u043b\u043e\u0441\u043e\u0432',\n",
        " '|',\n",
        " '\u0430\u0432\u0442\u043e\u0440',\n",
        " '|',\n",
        " '\u043f\u043e\u0441\u0442',\n",
        " '|',\n",
        " '|',\n",
        " '-',\n",
        " '|',\n",
        " '-',\n",
        " '|',\n",
        " '-',\n",
        " '|',\n",
        " '|',\n",
        " '64',\n",
        " '|',\n",
        " 'https://imgp.golos.io/48x48/https://i.imgur.com/08mqabd.jpg',\n",
        " '@amikphoto',\n",
        " '|',\n",
        " '[',\n",
        " '\u0434\u0430\u043b\u044c\u0448\u0435',\n",
        " '\u043a\u0430\u0434\u0438\u0441\u0430',\n",
        " '\u0438',\n",
        " '\u043f\u0443\u0442\u0438',\n",
        " '\u043d\u0435\u0442',\n",
        " ']',\n",
        " '(',\n",
        " 'https://golos.io/mapala/@amikphoto/dalxshe-kadisa-i-puti-net',\n",
        " ')',\n",
        " '|',\n",
        " '|',\n",
        " '62',\n",
        " '|',\n",
        " 'https://imgp.golos.io/48x48/http://ixbt.photo/photo/1252210/59439d5grvx5jnj/1170935.jpg',\n",
        " '@nezaigor',\n",
        " '|',\n",
        " '[',\n",
        " '\u044d\u0441\u0442\u0430\u0444\u0435\u0442\u0430',\n",
        " '\u0446\u0432\u0435\u0442\u0430',\n",
        " '.',\n",
        " '\u0441\u0438\u043d\u044f\u044f',\n",
        " '\u0441\u0443\u0431\u0431\u043e\u0442\u0430',\n",
        " '.',\n",
        " '\u043f\u043e\u043b\u0435\u0437\u043d\u044b\u0439',\n",
        " '\u0437\u0430\u0432\u0442\u0440\u0430\u043a',\n",
        " ']',\n",
        " '(',\n",
        " 'https://golos.io/ru--yestafetaczveta/@nezaigor/estafeta-cveta-sinyaya-subbota-poleznyi-zavtrak',\n",
        " ')',\n",
        " '|',\n",
        " '|',\n",
        " '59',\n",
        " '|',\n",
        " 'https://imgp.golos.io/48x48/https://pp.userapi.com/c638216/v638216418/6eea/_3-dwlpftpy.jpg',\n",
        " '@fafnur',\n",
        " '|',\n",
        " '[',\n",
        " '#\u043f\u0440\u043e\u0449\u0435-\u043f\u0440\u043e\u0441\u0442\u043e\u0433\u043e',\n",
        " '\u2116',\n",
        " '1',\n",
        " '.',\n",
        " '\u0430\u0441\u0442\u0440\u043e\u0444\u0438\u0437\u0438\u043a\u0430',\n",
        " '\u0438',\n",
        " '\u0432\u044b\u0447\u0438\u0441\u043b\u0438\u0442\u0435\u043b\u044c\u043d\u0430\u044f',\n",
        " '\u043c\u0430\u0442\u0435\u043c\u0430\u0442\u0438\u043a\u0430',\n",
        " '\u0434\u043b\u044f',\n",
        " '\u043e\u0431\u044b\u0447\u043d\u044b\u0445',\n",
        " '\u043b\u044e\u0434\u0435\u0439',\n",
        " '.',\n",
        " ']',\n",
        " '(',\n",
        " 'https://golos.io/ru--matematika/@fafnur/proshe-prostogo-1-astrofizika-i-vychislitelnaya-matematika-dlya-obychnykh-lyudei',\n",
        " ')',\n",
        " '|',\n",
        " '|',\n",
        " '56',\n",
        " '|',\n",
        " 'https://imgp.golos.io/48x48/http://i12.pixs.ru/storage/8/9/3/win2017041_9882826_26365893.jpg',\n",
        " '@igor66',\n",
        " '|',\n",
        " '[',\n",
        " '\u043d\u0435\u043c\u043d\u043e\u0433\u043e',\n",
        " '\u043e',\n",
        " '\u0441\u0435\u0431\u0435',\n",
        " '!',\n",
        " ']',\n",
        " '(',\n",
        " 'https://golos.io/ru--obomne/@igor66/nemnogo-o-sebe',\n",
        " ')',\n",
        " '|',\n",
        " '|',\n",
        " '55',\n",
        " '|',\n",
        " 'https://imgp.golos.io/48x48/http://ic.pics.livejournal.com/cergey_p/12298679/98717/98717_original.jpg',\n",
        " '@cergey',\n",
        " '-',\n",
        " 'p',\n",
        " '|',\n",
        " '[',\n",
        " '\u0441\u0442\u0430\u0440\u044b\u0439',\n",
        " '\u0442\u043e\u043f\u043e\u0440',\n",
        " ']',\n",
        " '(',\n",
        " 'https://golos.io/handmade/@cergey-p/staryi-topor',\n",
        " ')',\n",
        " '|',\n",
        " '|',\n",
        " '53',\n",
        " '|',\n",
        " 'https://imgp.golos.io/48x48/https://img-fotki.yandex.ru/get/96333/74866602.147/0_a4e5a_b2b427a9_xs.jpg',\n",
        " '@shkiper',\n",
        " '|',\n",
        " '[',\n",
        " '\u0442\u0430\u0448\u043a\u0435\u043d\u0442',\n",
        " '70',\n",
        " '-',\n",
        " '\u0445',\n",
        " '\u0432',\n",
        " '\u043e\u0442\u043a\u0440\u044b\u0442\u043a\u0430\u0445',\n",
        " ']',\n",
        " '(',\n",
        " 'https://golos.io/mapala/@shkiper/tashkent-70-kh-v-otkrytkakh',\n",
        " ')',\n",
        " '|',\n",
        " '|',\n",
        " '51',\n",
        " '|',\n",
        " 'https://imgp.golos.io/48x48/https://upload.wikimedia.org/wikipedia/commons/thumb/3/31/r-bromo-dragonfly.svg/220px-r-bromo-dragonfly.svg.png',\n",
        " '@mommo',\n",
        " '|',\n",
        " '[',\n",
        " '\u043a\u0430\u043a',\n",
        " '\u043f\u0440\u0430\u0432\u0438\u043b\u044c\u043d\u043e',\n",
        " '\u0441\u043f\u0430\u0442\u044c',\n",
        " ',',\n",
        " '\u0438',\n",
        " '\u043f\u043e\u043b\u0443\u0447\u0430\u0442\u044c',\n",
        " '\u043f\u043e\u043b\u044c\u0437\u0443',\n",
        " ']',\n",
        " '(',\n",
        " 'https://golos.io/ru--zdorovxe/@mommo/kak-pravilno-spat-i-poluchat-polzu',\n",
        " ')',\n",
        " '|',\n",
        " '|',\n",
        " '51',\n",
        " '|',\n",
        " 'https://imgp.golos.io/48x48/https://i.ytimg.com/vi/z3vjaxkzi_q/hqdefault.jpg',\n",
        " '@anri',\n",
        " '|',\n",
        " '[',\n",
        " '\"',\n",
        " '\u0447\u0435\u0440\u043d\u043e\u0441\u043b\u0438\u0432',\n",
        " '\"',\n",
        " '\u0445\u043e\u0440\u043e\u0448\u0435\u0435',\n",
        " '\u043c\u0435\u0441\u0442\u043e',\n",
        " '\u0434\u043b\u044f',\n",
        " '\u043e\u0431\u0435\u0434\u0430',\n",
        " ',',\n",
        " '\u0435\u0441\u043b\u0438',\n",
        " '\u0432\u044b',\n",
        " '\u0432',\n",
        " '\u043e\u0434\u0435\u0441\u0441\u0435',\n",
        " '\u0432',\n",
        " '\u0441\u0430\u043c\u043e\u043c',\n",
        " '\u0446\u0435\u043d\u0442\u0440\u0435',\n",
        " '\u0440\u044f\u0434\u043e\u043c',\n",
        " '\u0441',\n",
        " '\u0432\u0430\u0436\u043d\u044b\u043c\u0438',\n",
        " '\u0434\u043e\u0441\u0442\u043e\u043f\u0440\u0438\u043c\u0435\u0447\u0430\u0442\u0435\u043b\u044c\u043d\u043e\u0441\u0442\u044f\u043c\u0438',\n",
        " '\u0433\u043e\u0440\u043e\u0434\u0430',\n",
        " '.',\n",
        " ']',\n",
        " '(',\n",
        " 'https://golos.io/mapala/@anri/chernosliv-khoroshee-mesto-dlya-obeda-esli-vy-v-odesse-v-samom-czentre-ryadom-s-vazhnymi-dostoprimechatelxnostyami-goroda-',\n",
        " ')',\n",
        " '|',\n",
        " '|',\n",
        " '51',\n",
        " '|',\n",
        " 'https://imgp.golos.io/48x48/https://pbs.twimg.com/profile_images/870667300139094016/gn_2i0xw_400x400.jpg',\n",
        " '@vladya',\n",
        " '|',\n",
        " '[',\n",
        " '\u043f\u0430\u043c\u044f\u0442\u043d\u0438\u043a',\n",
        " '\u0430\u0444\u043e\u043d\u0435',\n",
        " '\u0438',\n",
        " '\u0448\u0442\u0443\u043a\u0430\u0442\u0443\u0440\u0443',\n",
        " '\u043a\u043e\u043b\u0435',\n",
        " '\u0432',\n",
        " '\u044f\u0440\u043e\u0441\u043b\u0430\u0432\u043b\u0435',\n",
        " ']',\n",
        " '(',\n",
        " 'https://golos.io/mapala/@vladya/pamyatnik-afone-i-shtukaturu-kole-v-yaroslavle',\n",
        " ')',\n",
        " '|',\n",
        " '|',\n",
        " '49',\n",
        " '|',\n",
        " 'https://imgp.golos.io/48x48/https://golos.io/images/user.png',\n",
        " '@elpal',\n",
        " '|',\n",
        " '[',\n",
        " '\u043a\u043e\u043d\u043a\u0443\u0440\u0441',\n",
        " '\u00ab',\n",
        " '\u044f',\n",
        " '\u043c\u0430\u043c\u0430',\n",
        " '\u00bb',\n",
        " '.',\n",
        " '\u044f',\n",
        " '\u043e\u0447\u0435\u043d\u044c',\n",
        " '\u043b\u0435\u043d\u0438\u0432\u0430\u044f',\n",
        " '\u043c\u0430\u043c\u0430',\n",
        " ']',\n",
        " '(',\n",
        " 'https://golos.io/ru--zayaviosebe/@elpal/konkurs-ya-mama-ya-ochen-lenivaya-mama',\n",
        " ')',\n",
        " '|',\n",
        " '#',\n",
        " '#',\n",
        " '#',\n",
        " '\u0442\u043e\u043f',\n",
        " '10',\n",
        " '\u0441\u0430\u043c\u044b\u0445',\n",
        " '\u043a\u043e\u043c\u043c\u0435\u043d\u0442\u0438\u0440\u0443\u0435\u043c\u044b\u0445',\n",
        " '\u043f\u043e\u0441\u0442\u043e\u0432',\n",
        " '|',\n",
        " '\u043a\u043e\u043c\u043c\u0435\u043d\u0442\u0430\u0440\u0438\u0438',\n",
        " '|',\n",
        " '\u0430\u0432\u0442\u043e\u0440',\n",
        " '|',\n",
        " '\u043f\u043e\u0441\u0442',\n",
        " '|',\n",
        " '|',\n",
        " '-',\n",
        " '|',\n",
        " '-',\n",
        " '|',\n",
        " '-',\n",
        " '|',\n",
        " '|',\n",
        " '34',\n",
        " '|',\n",
        " 'https://imgp.golos.io/48x48/https://pp.userapi.com/c636930/v636930350/167f1/_cvwpj9vrsu.jpg',\n",
        " '@ivantutynin',\n",
        " '|',\n",
        " '[',\n",
        " '\u0448\u043e\u043a',\n",
        " '!',\n",
        " '\u0447\u0442\u043e',\n",
        " '\u0441\u043a\u0440\u044b\u0432\u0430\u044e\u0442',\n",
        " '\u044e\u043d\u044b\u0435',\n",
        " '\u0434\u0435\u0432\u0443\u0448\u043a\u0438',\n",
        " '?',\n",
        " ']',\n",
        " '(',\n",
        " 'https://golos.io/pin-up/@ivantutynin/shok-chto-skryvayut-yunye-devushki',\n",
        " ')',\n",
        " '|',\n",
        " '|',\n",
        " '33',\n",
        " '|',\n",
        " 'https://imgp.golos.io/48x48/http://i12.pixs.ru/storage/8/9/3/win2017041_9882826_26365893.jpg',\n",
        " '@igor66',\n",
        " '|',\n",
        " '[',\n",
        " '\u043d\u0435\u043c\u043d\u043e\u0433\u043e',\n",
        " '\u043e',\n",
        " '\u0441\u0435\u0431\u0435',\n",
        " '!',\n",
        " ']',\n",
        " '(',\n",
        " 'https://golos.io/ru--obomne/@igor66/nemnogo-o-sebe',\n",
        " ')',\n",
        " '|',\n",
        " '|',\n",
        " '29',\n",
        " '|',\n",
        " 'https://imgp.golos.io/48x48/http://ic.pics.livejournal.com/natabelu/13470447/249021/249021_original.jpg',\n",
        " '@natabelu',\n",
        " '|',\n",
        " '[',\n",
        " '\u043f\u0435\u0440\u0432\u044b\u0439',\n",
        " '\u043f\u043e\u0441\u0442',\n",
        " ']',\n",
        " '(',\n",
        " 'https://golos.io/ru--foto/@natabelu/pervyi-post',\n",
        " ')',\n",
        " '|',\n",
        " '|',\n",
        " '29',\n",
        " '|',\n",
        " 'https://imgp.golos.io/48x48/https://golos.io/images/user.png',\n",
        " '@alextrade',\n",
        " '|',\n",
        " '[',\n",
        " '\u043f\u043e\u043c\u043e\u0433\u0438\u0442\u0435',\n",
        " '\u0431\u0440\u043e\u0441\u0438\u0442\u044c',\n",
        " '\u043a\u0443\u0440\u0438\u0442\u044c',\n",
        " '!',\n",
        " ']',\n",
        " '(',\n",
        " 'https://golos.io/ru--kurenie/@alextrade/pomogite-brosit-kurit',\n",
        " ')',\n",
        " '|',\n",
        " '|',\n",
        " '28',\n",
        " '|',\n",
        " 'https://imgp.golos.io/48x48/https://golos.io/images/user.png',\n",
        " '@lenalove',\n",
        " '|',\n",
        " '[',\n",
        " 'golos',\n",
        " '.',\n",
        " '\u043f\u0440\u0438\u0432\u0435\u0442',\n",
        " 'golos',\n",
        " ']',\n",
        " '(',\n",
        " 'https://golos.io/ru--idunavzlyot/@lenalove/golos-privet-golos-201763t144054795z',\n",
        " ')',\n",
        " '|',\n",
        " '|',\n",
        " '27',\n",
        " '|',\n",
        " 'https://imgp.golos.io/48x48/https://pp.userapi.com/c4464/u140097774/-6/w_8a2146c3.jpg',\n",
        " '@lenutsa',\n",
        " '|',\n",
        " '[',\n",
        " '\u0440\u0435\u0430\u043b\u044c\u043d\u043e',\n",
        " '\u043b\u0438',\n",
        " '\u0437\u0430\u0440\u0430\u0431\u043e\u0442\u0430\u0442\u044c',\n",
        " '\u043d\u0430',\n",
        " '\u0433\u043e\u043b\u043e\u0441',\n",
        " '\u043d\u043e\u0432\u0438\u0447\u043a\u0443',\n",
        " '?',\n",
        " ']',\n",
        " '(',\n",
        " 'https://golos.io/ru--golos/@lenutsa/realno-li-zarabotat-na-golos-novichku',\n",
        " ')',\n",
        " '|',\n",
        " '|',\n",
        " '27',\n",
        " '|',\n",
        " 'https://imgp.golos.io/48x48/https://golos.io/images/user.png',\n",
        " '@galinka',\n",
        " '|',\n",
        " '[',\n",
        " '\u043f\u0440\u0438\u0432\u0435\u0442\u0441\u0442\u0432\u0438\u0435',\n",
        " '!',\n",
        " ']',\n",
        " '(',\n",
        " 'https://golos.io/ru--idunavzlyot/@galinka/privetstvie',\n",
        " ')',\n",
        " '|',\n",
        " '|',\n",
        " '26',\n",
        " '|',\n",
        " 'https://imgp.golos.io/48x48/http://s011.radikal.ru/i315/1706/60/af907768e868.jpg',\n",
        " '@matilda88',\n",
        " '|',\n",
        " '[',\n",
        " '\u043f\u0440\u0438\u0438\u0438\u0432\u0435\u0442',\n",
        " ',',\n",
        " '\u0433\u043e\u043b\u043e\u0441',\n",
        " '!',\n",
        " '!',\n",
        " '\u043f\u043e\u0437\u043d\u0430\u043a\u043e\u043c\u0438\u043c\u0441\u044f',\n",
        " '?',\n",
        " ')',\n",
        " ']',\n",
        " '(',\n",
        " 'https://golos.io/ru--znakomstvo/@matilda88/priiiivet-golos-poznakomimsya',\n",
        " ')',\n",
        " '|',\n",
        " '|',\n",
        " '26',\n",
        " '|',\n",
        " 'https://imgp.golos.io/48x48/https://pp.userapi.com/c837726/v837726815/6ecfd/bdx2exaas8y.jpg',\n",
        " '@cysik1946',\n",
        " '|',\n",
        " '[',\n",
        " '\u043e',\n",
        " '\u0433\u0440\u0430\u043f\u043f\u0435',\n",
        " '/',\n",
        " '\u0447\u0430\u0447\u0435',\n",
        " '\u0438',\n",
        " '\u0438\u0442\u0430\u043b\u044c\u044f\u043d\u0441\u043a\u043e\u0439',\n",
        " '\u043a\u0443\u043b\u044c\u0442\u0443\u0440\u0435',\n",
        " '\u0432\u044b\u043f\u0438\u0432\u043a\u0438',\n",
        " ']',\n",
        " '(',\n",
        " 'https://golos.io/mapala/@cysik1946/o-grappe-chache-i-italyanskoi-kulture-vypivki',\n",
        " ')',\n",
        " '|',\n",
        " '|',\n",
        " '24',\n",
        " '|',\n",
        " 'https://imgp.golos.io/48x48/http://storage4.static.itmages.ru/i/17/0211/h_1486835518_6990569_0823e3e550.jpg',\n",
        " '@zlata777',\n",
        " '|',\n",
        " '[',\n",
        " '\u043f\u0430\u0440\u043e\u043b\u044c',\n",
        " '\u043e\u0442',\n",
        " '\u0433\u043e\u043b\u043e\u0441\u0430',\n",
        " ']',\n",
        " '(',\n",
        " 'https://golos.io/ru--golos/@zlata777/parol-ot-golosa',\n",
        " ')',\n",
        " '|',\n",
        " '#',\n",
        " '#',\n",
        " '#',\n",
        " '\u0442\u043e\u043f',\n",
        " '-',\n",
        " '10',\n",
        " '\u043b\u0443\u0447\u0448\u0438\u0445',\n",
        " '\u0432\u044b\u043f\u043b\u0430\u0442\u044b',\n",
        " '\u0437\u0430',\n",
        " '\u043f\u043e\u0441\u0442',\n",
        " '|',\n",
        " 'gbg',\n",
        " '|',\n",
        " '\u0430\u0432\u0442\u043e\u0440',\n",
        " '|',\n",
        " '\u043f\u043e\u0441\u0442',\n",
        " '|',\n",
        " '|',\n",
        " '-',\n",
        " '|',\n",
        " '-',\n",
        " '|',\n",
        " '-',\n",
        " '|',\n",
        " '|',\n",
        " '577.60',\n",
        " '|',\n",
        " 'https://imgp.golos.io/48x48/https://pp.userapi.com/c836226/v836226958/2a1b4/pznlfyyxllq.jpg',\n",
        " '@galina1',\n",
        " '|',\n",
        " '[',\n",
        " '\u0433\u0434\u0435',\n",
        " '\u0434\u0435\u043d\u044c\u0433\u0438',\n",
        " '\u0437\u0438\u043d',\n",
        " '?',\n",
        " '\u0434\u0435\u043d\u0435\u0433',\n",
        " '\u043d\u0435\u0442\u0443',\n",
        " '\u0438',\n",
        " '\u043d\u0435',\n",
        " '\u0431\u0443\u0434\u0435\u0442',\n",
        " ']',\n",
        " '(',\n",
        " 'https://golos.io/psk/@galina1/gde-dengi-zin-deneg-netu-i-ne-budet',\n",
        " ')',\n",
        " '|',\n",
        " '|',\n",
        " '460.25',\n",
        " '|',\n",
        " 'https://imgp.golos.io/48x48/https://pp.userapi.com/c638216/v638216418/6eea/_3-dwlpftpy.jpg',\n",
        " '@fafnur',\n",
        " '|',\n",
        " '[',\n",
        " '#\u043f\u0440\u043e\u0449\u0435-\u043f\u0440\u043e\u0441\u0442\u043e\u0433\u043e',\n",
        " '\u2116',\n",
        " '1',\n",
        " '.',\n",
        " '\u0430\u0441\u0442\u0440\u043e\u0444\u0438\u0437\u0438\u043a\u0430',\n",
        " '\u0438',\n",
        " '\u0432\u044b\u0447\u0438\u0441\u043b\u0438\u0442\u0435\u043b\u044c\u043d\u0430\u044f',\n",
        " '\u043c\u0430\u0442\u0435\u043c\u0430\u0442\u0438\u043a\u0430',\n",
        " '\u0434\u043b\u044f',\n",
        " '\u043e\u0431\u044b\u0447\u043d\u044b\u0445',\n",
        " '\u043b\u044e\u0434\u0435\u0439',\n",
        " '.',\n",
        " ']',\n",
        " '(',\n",
        " 'https://golos.io/ru--matematika/@fafnur/proshe-prostogo-1-astrofizika-i-vychislitelnaya-matematika-dlya-obychnykh-lyudei',\n",
        " ')',\n",
        " '|',\n",
        " '|',\n",
        " '370.97',\n",
        " '|',\n",
        " 'https://imgp.golos.io/48x48/https://i.imgur.com/08mqabd.jpg',\n",
        " '@amikphoto',\n",
        " '|',\n",
        " '[',\n",
        " '\u0434\u0430\u043b\u044c\u0448\u0435',\n",
        " '\u043a\u0430\u0434\u0438\u0441\u0430',\n",
        " '\u0438',\n",
        " '\u043f\u0443\u0442\u0438',\n",
        " '\u043d\u0435\u0442',\n",
        " ']',\n",
        " '(',\n",
        " 'https://golos.io/mapala/@amikphoto/dalxshe-kadisa-i-puti-net',\n",
        " ')',\n",
        " '|',\n",
        " '|',\n",
        " '326.85',\n",
        " '|',\n",
        " 'https://imgp.golos.io/48x48/https://pp.userapi.com/c624021/v624021527/1545b/m0_7sveey8k.jpg',\n",
        " '@thebug',\n",
        " '|',\n",
        " '[',\n",
        " '\u043d\u0435\u043b\u044c\u0437\u044f',\n",
        " '\u043d\u0435\u0434\u043e\u043e\u0446\u0435\u043d\u0438\u0432\u0430\u0442\u044c',\n",
        " '\u0436\u0435\u043d\u0449\u0438\u043d\u0443',\n",
        " ']',\n",
        " '(',\n",
        " 'https://golos.io/ru--zhiznx/@thebug/nelzya-nedoocenivat-zhenshinu',\n",
        " ')',\n",
        " '|',\n",
        " '|',\n",
        " '220.44',\n",
        " '|',\n",
        " 'https://imgp.golos.io/48x48/https://pp.userapi.com/c4464/u140097774/-6/w_8a2146c3.jpg',\n",
        " '@lenutsa',\n",
        " '|',\n",
        " '[',\n",
        " '\u0440\u0435\u0430\u043b\u044c\u043d\u043e',\n",
        " '\u043b\u0438',\n",
        " '\u0437\u0430\u0440\u0430\u0431\u043e\u0442\u0430\u0442\u044c',\n",
        " '\u043d\u0430',\n",
        " '\u0433\u043e\u043b\u043e\u0441',\n",
        " '\u043d\u043e\u0432\u0438\u0447\u043a\u0443',\n",
        " '?',\n",
        " ']',\n",
        " '(',\n",
        " 'https://golos.io/ru--golos/@lenutsa/realno-li-zarabotat-na-golos-novichku',\n",
        " ')',\n",
        " '|',\n",
        " '|',\n",
        " '213.21',\n",
        " '|',\n",
        " 'https://imgp.golos.io/48x48/https://golos.io/images/user.png',\n",
        " '@karioka',\n",
        " '|',\n",
        " '[',\n",
        " '\u0433\u043e\u0440\u043e\u0434\u0441\u043a\u0430\u044f',\n",
        " '\u043f\u0440\u043e\u0437\u0430',\n",
        " '.',\n",
        " 'blondinko.by',\n",
        " '25',\n",
        " '\u0433\u043b\u0430\u0432\u0430',\n",
        " ']',\n",
        " '(',\n",
        " 'https://golos.io/ru--mechta/@karioka/gorodskaya-proza-blondinko-by-25-glava',\n",
        " ')',\n",
        " '|',\n",
        " '|',\n",
        " '213.09',\n",
        " '|',\n",
        " 'https://imgp.golos.io/48x48/https://upload.wikimedia.org/wikipedia/commons/thumb/3/31/r-bromo-dragonfly.svg/220px-r-bromo-dragonfly.svg.png',\n",
        " '@mommo',\n",
        " '|',\n",
        " '[',\n",
        " '\u043a\u0430\u043a',\n",
        " '\u043f\u0440\u0430\u0432\u0438\u043b\u044c\u043d\u043e',\n",
        " '\u0441\u043f\u0430\u0442\u044c',\n",
        " ',',\n",
        " '\u0438',\n",
        " '\u043f\u043e\u043b\u0443\u0447\u0430\u0442\u044c',\n",
        " '\u043f\u043e\u043b\u044c\u0437\u0443',\n",
        " ']',\n",
        " '(',\n",
        " 'https://golos.io/ru--zdorovxe/@mommo/kak-pravilno-spat-i-poluchat-polzu',\n",
        " ')',\n",
        " '|',\n",
        " '|',\n",
        " '171.33',\n",
        " '|',\n",
        " 'https://imgp.golos.io/48x48/https://golos.io/images/user.png',\n",
        " '@lenalove',\n",
        " '|',\n",
        " '[',\n",
        " 'golos',\n",
        " '.',\n",
        " '\u043f\u0440\u0438\u0432\u0435\u0442',\n",
        " 'golos',\n",
        " ']',\n",
        " '(',\n",
        " 'https://golos.io/ru--idunavzlyot/@lenalove/golos-privet-golos-201763t144054795z',\n",
        " ')',\n",
        " '|',\n",
        " '|',\n",
        " '161.42',\n",
        " '|',\n",
        " 'https://imgp.golos.io/48x48/http://orig03.deviantart.net/e8d1/f/2017/152/4/d/___by_akbulatova-dbb5ud8.png',\n",
        " '@salochki',\n",
        " '|',\n",
        " '[',\n",
        " '\u0432\u0435\u0440\u0438\u0444\u0438\u043a\u0430\u0446\u0438\u044f',\n",
        " '.',\n",
        " ']',\n",
        " '(',\n",
        " 'https://golos.io/ru--verifikacziya/@salochki/verifikaciya',\n",
        " ')',\n",
        " '|',\n",
        " '|',\n",
        " '160.68',\n",
        " '|',\n",
        " 'https://imgp.golos.io/48x48/https://golos.io/images/user.png',\n",
        " '@lenalove',\n",
        " '|',\n",
        " '[',\n",
        " 'golos',\n",
        " '.',\n",
        " '\u043f\u0440\u0438\u0432\u0435\u0442',\n",
        " 'golos',\n",
        " ']',\n",
        " '(',\n",
        " 'https://golos.io/ru--idunavzlyot/@lenalove/golos-privet-golos-201763t17340558z',\n",
        " ')',\n",
        " '|',\n",
        " '-',\n",
        " '-',\n",
        " '-',\n",
        " '[',\n",
        " '!',\n",
        " '[',\n",
        " ']',\n",
        " '(',\n",
        " 'https://imgp.golos.io/50x60t0/http://golosboard.com/@arcange/votes.png',\n",
        " ')',\n",
        " ']',\n",
        " '(',\n",
        " 'http://golosboard.com/@arcange',\n",
        " ')',\n",
        " '[',\n",
        " '!',\n",
        " '[',\n",
        " ']',\n",
        " '(',\n",
        " 'https://imgp.golos.io/60x70t0/http://golosboard.com/@arcange/commented.png',\n",
        " ')',\n",
        " ']',\n",
        " '(',\n",
        " 'http://golosboard.com/@arcange',\n",
        " ')',\n",
        " '[',\n",
        " '!',\n",
        " '[',\n",
        " ']',\n",
        " '(',\n",
        " 'https://imgp.golos.io/70x80t0/http://golosboard.com/@arcange/posts.png',\n",
        " ')',\n",
        " ']',\n",
        " '(',\n",
        " 'http://golosboard.com/@arcange',\n",
        " ')',\n",
        " '[',\n",
        " '!',\n",
        " '[',\n",
        " ']',\n",
        " '(',\n",
        " 'https://imgp.golos.io/100x80t600/http://golosboard.com/@arcange/level.png',\n",
        " ')',\n",
        " ']',\n",
        " '(',\n",
        " 'http://golosboard.com/@arcange',\n",
        " ')',\n",
        " '[',\n",
        " '!',\n",
        " '[',\n",
        " ']',\n",
        " '(',\n",
        " 'https://imgp.golos.io/70x80t0/http://golosboard.com/@arcange/comments.png',\n",
        " ')',\n",
        " ']',\n",
        " '(',\n",
        " 'http://golosboard.com/@arcange',\n",
        " ')',\n",
        " '[',\n",
        " '!',\n",
        " '[',\n",
        " ']',\n",
        " '(',\n",
        " 'https://imgp.golos.io/60x70t0/http://golosboard.com/@arcange/voted.png',\n",
        " ')',\n",
        " ']',\n",
        " '(',\n",
        " 'http://golosboard.com/@arcange',\n",
        " ')',\n",
        " '[',\n",
        " '!',\n",
        " '[',\n",
        " ']',\n",
        " '(',\n",
        " 'https://imgp.golos.io/50x60t0/http://golosboard.com/@arcange/payout.png',\n",
        " ')',\n",
        " ']',\n",
        " '(',\n",
        " 'http://golosboard.com/@arcange',\n",
        " ')',\n",
        " '#',\n",
        " '#',\n",
        " '#',\n",
        " '\u0433\u043e\u043b\u043e\u0441\u0443\u0439\u0442\u0435',\n",
        " '\u0437\u0430',\n",
        " '\u043c\u0435\u043d\u044f',\n",
        " '\u0432',\n",
        " '\u043a\u0430\u0447\u0435\u0441\u0442\u0432\u0435',\n",
        " '\u0434\u0435\u043b\u0435\u0433\u0430\u0442\u0430',\n",
        " '\u0432\u044b',\n",
        " '\u0442\u0430\u043a\u0436\u0435',\n",
        " '\u043c\u043e\u0436\u0435\u0442\u0435',\n",
        " '\u043f\u0440\u043e\u0433\u043e\u043b\u043e\u0441\u043e\u0432\u0430\u0442\u044c',\n",
        " '\u043f\u0440\u044f\u043c\u043e',\n",
        " '\u0441',\n",
        " '\u043f\u043b\u0430\u0442\u0444\u043e\u0440\u043c\u044b',\n",
        " '\u0433\u043e\u043b\u043e\u0441',\n",
        " '[',\n",
        " '__\u0437\u0434\u0435\u0441\u044c__',\n",
        " ']',\n",
        " '(',\n",
        " 'https://golos.io/~witnesses',\n",
        " ')',\n",
        " '.',\n",
        " '\u0434\u043b\u044f',\n",
        " '\u044d\u0442\u043e\u0433\u043e',\n",
        " '\u043d\u0443\u0436\u043d\u043e',\n",
        " '\u043f\u0440\u043e\u0434\u0435\u043b\u0430\u0442\u044c',\n",
        " '\u0441\u043b\u0435\u0434\u0443\u044e\u0449\u0435\u0435',\n",
        " '.',\n",
        " '__\u043a\u0430\u0436\u0434\u044b\u0439',\n",
        " '\u0433\u043e\u043b\u043e\u0441',\n",
        " '\u0432\u0430\u0436\u0435\u043d',\n",
        " '.',\n",
        " '\u0441\u043f\u0430\u0441\u0438\u0431\u043e',\n",
        " '!',\n",
        " '__',\n",
        " '[',\n",
        " '!',\n",
        " '[',\n",
        " ']',\n",
        " '(',\n",
        " 'https://i.imgsafe.org/f3324cf4b0.png',\n",
        " ')',\n",
        " ']',\n",
        " '(',\n",
        " 'https://golos.io/~witnesses',\n",
        " ')',\n",
        " '-',\n",
        " '-',\n",
        " '-',\n",
        " '\u0435\u0441\u043b\u0438',\n",
        " '\u0432\u0430\u043c',\n",
        " '\u043f\u043e\u043d\u0440\u0430\u0432\u0438\u043b\u0441\u044f',\n",
        " '\u044d\u0442\u043e\u0442',\n",
        " '\u043f\u043e\u0441\u0442',\n",
        " ',',\n",
        " '\u043d\u0435',\n",
        " '\u0437\u0430\u0431\u0443\u0434\u044c\u0442\u0435',\n",
        " '!',\n",
        " '[',\n",
        " ']',\n",
        " '(',\n",
        " 'https://s22.postimg.org/n01rpphmp/pointing_fingers.gif',\n",
        " ')',\n",
        " '*',\n",
        " '*',\n",
        " '\u043f\u0440\u043e\u0433\u043e\u043b\u043e\u0441\u043e\u0432\u0430\u0442\u044c',\n",
        " '*',\n",
        " '*',\n",
        " ',',\n",
        " '*',\n",
        " '*',\n",
        " '[',\n",
        " '\u043f\u043e\u0434\u043f\u0438\u0441\u0430\u0442\u044c\u0441\u044f',\n",
        " '\u043d\u0430',\n",
        " '\u043c\u0435\u043d\u044f',\n",
        " ']',\n",
        " '(',\n",
        " 'https://golos.io/@arcange',\n",
        " ')',\n",
        " '*',\n",
        " '*',\n",
        " '\u0438\u043b\u0438',\n",
        " '*',\n",
        " '*',\n",
        " '\u043f\u043e\u0434\u0435\u043b\u0438\u0442\u044c\u0441\u044f',\n",
        " '*',\n",
        " '*']"
       ]
      }
     ],
     "prompt_number": 101
    },
    {
     "cell_type": "code",
     "collapsed": false,
     "input": [
      "dataset_topics = [topic_model.get_document_topics(dictionary.doc2bow(tokenizer.tokenize(str(x).lower()))) for x in dataset[\"post\"]]"
     ],
     "language": "python",
     "metadata": {},
     "outputs": []
    },
    {
     "cell_type": "code",
     "collapsed": false,
     "input": [
      "vectors_dataset_topics = []\n",
      "length = len(dataset_topics)\n",
      "for index, topic in enumerate(dataset_topics):\n",
      "    print(float(index *100 / length), end=\"\\r\")\n",
      "    data = [i for _, i in topic]\n",
      "    coordinates = ([i for i, _ in topic], np.zeros(len(topic)))\n",
      "    vector = sparse.coo_matrix((data, coordinates), shape=(100, 1)).toarray().reshape(-1)\n",
      "    vectors_dataset_topics.append(vector)"
     ],
     "language": "python",
     "metadata": {},
     "outputs": []
    },
    {
     "cell_type": "code",
     "collapsed": false,
     "input": [
      "vectors_dataset_topics = pd.DataFrame(vectors_dataset_topics)\n",
      "vectors_dataset_topics.columns = [str(column) + '_topic' for column in vectors_dataset_topics.columns]"
     ],
     "language": "python",
     "metadata": {},
     "outputs": [],
     "prompt_number": 152
    },
    {
     "cell_type": "code",
     "collapsed": false,
     "input": [
      "full_dataset = pd.concat([dataset, dataset_users, dataset_posts, vectors_dataset_topics], axis=1)"
     ],
     "language": "python",
     "metadata": {},
     "outputs": [],
     "prompt_number": 155
    },
    {
     "cell_type": "code",
     "collapsed": false,
     "input": [
      "full_dataset[\"rating\"] = [np.dot(implicit_model.user_factors[uid_to_idx[row[\"user_id\"]]], implicit_model.item_factors[mid_to_idx[row[\"post_permlink\"]]]) for _, row in full_dataset.iterrows()]"
     ],
     "language": "python",
     "metadata": {},
     "outputs": [],
     "prompt_number": 156
    },
    {
     "cell_type": "code",
     "collapsed": false,
     "input": [
      "list(full_dataset.columns)"
     ],
     "language": "python",
     "metadata": {},
     "outputs": [
      {
       "metadata": {},
       "output_type": "pyout",
       "prompt_number": 158,
       "text": [
        "['level_0',\n",
        " 'index',\n",
        " 'Unnamed: 0',\n",
        " 'user_id',\n",
        " 'post_permlink',\n",
        " 'like',\n",
        " 'post_id',\n",
        " 'post',\n",
        " '0_user_factor',\n",
        " '1_user_factor',\n",
        " '2_user_factor',\n",
        " '3_user_factor',\n",
        " '4_user_factor',\n",
        " '5_user_factor',\n",
        " '6_user_factor',\n",
        " '7_user_factor',\n",
        " '8_user_factor',\n",
        " '9_user_factor',\n",
        " '10_user_factor',\n",
        " '11_user_factor',\n",
        " '12_user_factor',\n",
        " '13_user_factor',\n",
        " '14_user_factor',\n",
        " '15_user_factor',\n",
        " '16_user_factor',\n",
        " '17_user_factor',\n",
        " '18_user_factor',\n",
        " '19_user_factor',\n",
        " '20_user_factor',\n",
        " '21_user_factor',\n",
        " '22_user_factor',\n",
        " '23_user_factor',\n",
        " '24_user_factor',\n",
        " '25_user_factor',\n",
        " '26_user_factor',\n",
        " '27_user_factor',\n",
        " '28_user_factor',\n",
        " '29_user_factor',\n",
        " '30_user_factor',\n",
        " '31_user_factor',\n",
        " '32_user_factor',\n",
        " '33_user_factor',\n",
        " '34_user_factor',\n",
        " '35_user_factor',\n",
        " '36_user_factor',\n",
        " '37_user_factor',\n",
        " '38_user_factor',\n",
        " '39_user_factor',\n",
        " '40_user_factor',\n",
        " '41_user_factor',\n",
        " '42_user_factor',\n",
        " '43_user_factor',\n",
        " '44_user_factor',\n",
        " '45_user_factor',\n",
        " '46_user_factor',\n",
        " '47_user_factor',\n",
        " '48_user_factor',\n",
        " '49_user_factor',\n",
        " '50_user_factor',\n",
        " '51_user_factor',\n",
        " '52_user_factor',\n",
        " '53_user_factor',\n",
        " '54_user_factor',\n",
        " '55_user_factor',\n",
        " '56_user_factor',\n",
        " '57_user_factor',\n",
        " '58_user_factor',\n",
        " '59_user_factor',\n",
        " '60_user_factor',\n",
        " '61_user_factor',\n",
        " '62_user_factor',\n",
        " '63_user_factor',\n",
        " '64_user_factor',\n",
        " '65_user_factor',\n",
        " '66_user_factor',\n",
        " '67_user_factor',\n",
        " '68_user_factor',\n",
        " '69_user_factor',\n",
        " '70_user_factor',\n",
        " '71_user_factor',\n",
        " '72_user_factor',\n",
        " '73_user_factor',\n",
        " '74_user_factor',\n",
        " '75_user_factor',\n",
        " '76_user_factor',\n",
        " '77_user_factor',\n",
        " '78_user_factor',\n",
        " '79_user_factor',\n",
        " '80_user_factor',\n",
        " '81_user_factor',\n",
        " '82_user_factor',\n",
        " '83_user_factor',\n",
        " '84_user_factor',\n",
        " '85_user_factor',\n",
        " '86_user_factor',\n",
        " '87_user_factor',\n",
        " '88_user_factor',\n",
        " '89_user_factor',\n",
        " '90_user_factor',\n",
        " '91_user_factor',\n",
        " '92_user_factor',\n",
        " '93_user_factor',\n",
        " '94_user_factor',\n",
        " '95_user_factor',\n",
        " '96_user_factor',\n",
        " '97_user_factor',\n",
        " '98_user_factor',\n",
        " '99_user_factor',\n",
        " '100_user_factor',\n",
        " '101_user_factor',\n",
        " '102_user_factor',\n",
        " '103_user_factor',\n",
        " '104_user_factor',\n",
        " '105_user_factor',\n",
        " '106_user_factor',\n",
        " '107_user_factor',\n",
        " '108_user_factor',\n",
        " '109_user_factor',\n",
        " '110_user_factor',\n",
        " '111_user_factor',\n",
        " '112_user_factor',\n",
        " '113_user_factor',\n",
        " '114_user_factor',\n",
        " '115_user_factor',\n",
        " '116_user_factor',\n",
        " '117_user_factor',\n",
        " '118_user_factor',\n",
        " '119_user_factor',\n",
        " '120_user_factor',\n",
        " '121_user_factor',\n",
        " '122_user_factor',\n",
        " '123_user_factor',\n",
        " '124_user_factor',\n",
        " '125_user_factor',\n",
        " '126_user_factor',\n",
        " '127_user_factor',\n",
        " '128_user_factor',\n",
        " '129_user_factor',\n",
        " '130_user_factor',\n",
        " '131_user_factor',\n",
        " '132_user_factor',\n",
        " '133_user_factor',\n",
        " '134_user_factor',\n",
        " '135_user_factor',\n",
        " '136_user_factor',\n",
        " '137_user_factor',\n",
        " '138_user_factor',\n",
        " '139_user_factor',\n",
        " '140_user_factor',\n",
        " '141_user_factor',\n",
        " '142_user_factor',\n",
        " '143_user_factor',\n",
        " '144_user_factor',\n",
        " '145_user_factor',\n",
        " '146_user_factor',\n",
        " '147_user_factor',\n",
        " '148_user_factor',\n",
        " '149_user_factor',\n",
        " '150_user_factor',\n",
        " '151_user_factor',\n",
        " '152_user_factor',\n",
        " '153_user_factor',\n",
        " '154_user_factor',\n",
        " '155_user_factor',\n",
        " '156_user_factor',\n",
        " '157_user_factor',\n",
        " '158_user_factor',\n",
        " '159_user_factor',\n",
        " '160_user_factor',\n",
        " '161_user_factor',\n",
        " '162_user_factor',\n",
        " '163_user_factor',\n",
        " '164_user_factor',\n",
        " '165_user_factor',\n",
        " '166_user_factor',\n",
        " '167_user_factor',\n",
        " '168_user_factor',\n",
        " '169_user_factor',\n",
        " '170_user_factor',\n",
        " '171_user_factor',\n",
        " '172_user_factor',\n",
        " '173_user_factor',\n",
        " '174_user_factor',\n",
        " '175_user_factor',\n",
        " '176_user_factor',\n",
        " '177_user_factor',\n",
        " '178_user_factor',\n",
        " '179_user_factor',\n",
        " '180_user_factor',\n",
        " '181_user_factor',\n",
        " '182_user_factor',\n",
        " '183_user_factor',\n",
        " '184_user_factor',\n",
        " '185_user_factor',\n",
        " '186_user_factor',\n",
        " '187_user_factor',\n",
        " '188_user_factor',\n",
        " '189_user_factor',\n",
        " '190_user_factor',\n",
        " '191_user_factor',\n",
        " '192_user_factor',\n",
        " '193_user_factor',\n",
        " '194_user_factor',\n",
        " '195_user_factor',\n",
        " '196_user_factor',\n",
        " '197_user_factor',\n",
        " '198_user_factor',\n",
        " '199_user_factor',\n",
        " '200_user_factor',\n",
        " '201_user_factor',\n",
        " '202_user_factor',\n",
        " '203_user_factor',\n",
        " '204_user_factor',\n",
        " '205_user_factor',\n",
        " '206_user_factor',\n",
        " '207_user_factor',\n",
        " '208_user_factor',\n",
        " '209_user_factor',\n",
        " '210_user_factor',\n",
        " '211_user_factor',\n",
        " '212_user_factor',\n",
        " '213_user_factor',\n",
        " '214_user_factor',\n",
        " '215_user_factor',\n",
        " '216_user_factor',\n",
        " '217_user_factor',\n",
        " '218_user_factor',\n",
        " '219_user_factor',\n",
        " '220_user_factor',\n",
        " '221_user_factor',\n",
        " '222_user_factor',\n",
        " '223_user_factor',\n",
        " '224_user_factor',\n",
        " '225_user_factor',\n",
        " '226_user_factor',\n",
        " '227_user_factor',\n",
        " '228_user_factor',\n",
        " '229_user_factor',\n",
        " '230_user_factor',\n",
        " '231_user_factor',\n",
        " '232_user_factor',\n",
        " '233_user_factor',\n",
        " '234_user_factor',\n",
        " '235_user_factor',\n",
        " '236_user_factor',\n",
        " '237_user_factor',\n",
        " '238_user_factor',\n",
        " '239_user_factor',\n",
        " '240_user_factor',\n",
        " '241_user_factor',\n",
        " '242_user_factor',\n",
        " '243_user_factor',\n",
        " '244_user_factor',\n",
        " '245_user_factor',\n",
        " '246_user_factor',\n",
        " '247_user_factor',\n",
        " '248_user_factor',\n",
        " '249_user_factor',\n",
        " '0_post_factor',\n",
        " '1_post_factor',\n",
        " '2_post_factor',\n",
        " '3_post_factor',\n",
        " '4_post_factor',\n",
        " '5_post_factor',\n",
        " '6_post_factor',\n",
        " '7_post_factor',\n",
        " '8_post_factor',\n",
        " '9_post_factor',\n",
        " '10_post_factor',\n",
        " '11_post_factor',\n",
        " '12_post_factor',\n",
        " '13_post_factor',\n",
        " '14_post_factor',\n",
        " '15_post_factor',\n",
        " '16_post_factor',\n",
        " '17_post_factor',\n",
        " '18_post_factor',\n",
        " '19_post_factor',\n",
        " '20_post_factor',\n",
        " '21_post_factor',\n",
        " '22_post_factor',\n",
        " '23_post_factor',\n",
        " '24_post_factor',\n",
        " '25_post_factor',\n",
        " '26_post_factor',\n",
        " '27_post_factor',\n",
        " '28_post_factor',\n",
        " '29_post_factor',\n",
        " '30_post_factor',\n",
        " '31_post_factor',\n",
        " '32_post_factor',\n",
        " '33_post_factor',\n",
        " '34_post_factor',\n",
        " '35_post_factor',\n",
        " '36_post_factor',\n",
        " '37_post_factor',\n",
        " '38_post_factor',\n",
        " '39_post_factor',\n",
        " '40_post_factor',\n",
        " '41_post_factor',\n",
        " '42_post_factor',\n",
        " '43_post_factor',\n",
        " '44_post_factor',\n",
        " '45_post_factor',\n",
        " '46_post_factor',\n",
        " '47_post_factor',\n",
        " '48_post_factor',\n",
        " '49_post_factor',\n",
        " '50_post_factor',\n",
        " '51_post_factor',\n",
        " '52_post_factor',\n",
        " '53_post_factor',\n",
        " '54_post_factor',\n",
        " '55_post_factor',\n",
        " '56_post_factor',\n",
        " '57_post_factor',\n",
        " '58_post_factor',\n",
        " '59_post_factor',\n",
        " '60_post_factor',\n",
        " '61_post_factor',\n",
        " '62_post_factor',\n",
        " '63_post_factor',\n",
        " '64_post_factor',\n",
        " '65_post_factor',\n",
        " '66_post_factor',\n",
        " '67_post_factor',\n",
        " '68_post_factor',\n",
        " '69_post_factor',\n",
        " '70_post_factor',\n",
        " '71_post_factor',\n",
        " '72_post_factor',\n",
        " '73_post_factor',\n",
        " '74_post_factor',\n",
        " '75_post_factor',\n",
        " '76_post_factor',\n",
        " '77_post_factor',\n",
        " '78_post_factor',\n",
        " '79_post_factor',\n",
        " '80_post_factor',\n",
        " '81_post_factor',\n",
        " '82_post_factor',\n",
        " '83_post_factor',\n",
        " '84_post_factor',\n",
        " '85_post_factor',\n",
        " '86_post_factor',\n",
        " '87_post_factor',\n",
        " '88_post_factor',\n",
        " '89_post_factor',\n",
        " '90_post_factor',\n",
        " '91_post_factor',\n",
        " '92_post_factor',\n",
        " '93_post_factor',\n",
        " '94_post_factor',\n",
        " '95_post_factor',\n",
        " '96_post_factor',\n",
        " '97_post_factor',\n",
        " '98_post_factor',\n",
        " '99_post_factor',\n",
        " '100_post_factor',\n",
        " '101_post_factor',\n",
        " '102_post_factor',\n",
        " '103_post_factor',\n",
        " '104_post_factor',\n",
        " '105_post_factor',\n",
        " '106_post_factor',\n",
        " '107_post_factor',\n",
        " '108_post_factor',\n",
        " '109_post_factor',\n",
        " '110_post_factor',\n",
        " '111_post_factor',\n",
        " '112_post_factor',\n",
        " '113_post_factor',\n",
        " '114_post_factor',\n",
        " '115_post_factor',\n",
        " '116_post_factor',\n",
        " '117_post_factor',\n",
        " '118_post_factor',\n",
        " '119_post_factor',\n",
        " '120_post_factor',\n",
        " '121_post_factor',\n",
        " '122_post_factor',\n",
        " '123_post_factor',\n",
        " '124_post_factor',\n",
        " '125_post_factor',\n",
        " '126_post_factor',\n",
        " '127_post_factor',\n",
        " '128_post_factor',\n",
        " '129_post_factor',\n",
        " '130_post_factor',\n",
        " '131_post_factor',\n",
        " '132_post_factor',\n",
        " '133_post_factor',\n",
        " '134_post_factor',\n",
        " '135_post_factor',\n",
        " '136_post_factor',\n",
        " '137_post_factor',\n",
        " '138_post_factor',\n",
        " '139_post_factor',\n",
        " '140_post_factor',\n",
        " '141_post_factor',\n",
        " '142_post_factor',\n",
        " '143_post_factor',\n",
        " '144_post_factor',\n",
        " '145_post_factor',\n",
        " '146_post_factor',\n",
        " '147_post_factor',\n",
        " '148_post_factor',\n",
        " '149_post_factor',\n",
        " '150_post_factor',\n",
        " '151_post_factor',\n",
        " '152_post_factor',\n",
        " '153_post_factor',\n",
        " '154_post_factor',\n",
        " '155_post_factor',\n",
        " '156_post_factor',\n",
        " '157_post_factor',\n",
        " '158_post_factor',\n",
        " '159_post_factor',\n",
        " '160_post_factor',\n",
        " '161_post_factor',\n",
        " '162_post_factor',\n",
        " '163_post_factor',\n",
        " '164_post_factor',\n",
        " '165_post_factor',\n",
        " '166_post_factor',\n",
        " '167_post_factor',\n",
        " '168_post_factor',\n",
        " '169_post_factor',\n",
        " '170_post_factor',\n",
        " '171_post_factor',\n",
        " '172_post_factor',\n",
        " '173_post_factor',\n",
        " '174_post_factor',\n",
        " '175_post_factor',\n",
        " '176_post_factor',\n",
        " '177_post_factor',\n",
        " '178_post_factor',\n",
        " '179_post_factor',\n",
        " '180_post_factor',\n",
        " '181_post_factor',\n",
        " '182_post_factor',\n",
        " '183_post_factor',\n",
        " '184_post_factor',\n",
        " '185_post_factor',\n",
        " '186_post_factor',\n",
        " '187_post_factor',\n",
        " '188_post_factor',\n",
        " '189_post_factor',\n",
        " '190_post_factor',\n",
        " '191_post_factor',\n",
        " '192_post_factor',\n",
        " '193_post_factor',\n",
        " '194_post_factor',\n",
        " '195_post_factor',\n",
        " '196_post_factor',\n",
        " '197_post_factor',\n",
        " '198_post_factor',\n",
        " '199_post_factor',\n",
        " '200_post_factor',\n",
        " '201_post_factor',\n",
        " '202_post_factor',\n",
        " '203_post_factor',\n",
        " '204_post_factor',\n",
        " '205_post_factor',\n",
        " '206_post_factor',\n",
        " '207_post_factor',\n",
        " '208_post_factor',\n",
        " '209_post_factor',\n",
        " '210_post_factor',\n",
        " '211_post_factor',\n",
        " '212_post_factor',\n",
        " '213_post_factor',\n",
        " '214_post_factor',\n",
        " '215_post_factor',\n",
        " '216_post_factor',\n",
        " '217_post_factor',\n",
        " '218_post_factor',\n",
        " '219_post_factor',\n",
        " '220_post_factor',\n",
        " '221_post_factor',\n",
        " '222_post_factor',\n",
        " '223_post_factor',\n",
        " '224_post_factor',\n",
        " '225_post_factor',\n",
        " '226_post_factor',\n",
        " '227_post_factor',\n",
        " '228_post_factor',\n",
        " '229_post_factor',\n",
        " '230_post_factor',\n",
        " '231_post_factor',\n",
        " '232_post_factor',\n",
        " '233_post_factor',\n",
        " '234_post_factor',\n",
        " '235_post_factor',\n",
        " '236_post_factor',\n",
        " '237_post_factor',\n",
        " '238_post_factor',\n",
        " '239_post_factor',\n",
        " '240_post_factor',\n",
        " '241_post_factor',\n",
        " '242_post_factor',\n",
        " '243_post_factor',\n",
        " '244_post_factor',\n",
        " '245_post_factor',\n",
        " '246_post_factor',\n",
        " '247_post_factor',\n",
        " '248_post_factor',\n",
        " '249_post_factor',\n",
        " '0_topic',\n",
        " '1_topic',\n",
        " '2_topic',\n",
        " '3_topic',\n",
        " '4_topic',\n",
        " '5_topic',\n",
        " '6_topic',\n",
        " '7_topic',\n",
        " '8_topic',\n",
        " '9_topic',\n",
        " '10_topic',\n",
        " '11_topic',\n",
        " '12_topic',\n",
        " '13_topic',\n",
        " '14_topic',\n",
        " '15_topic',\n",
        " '16_topic',\n",
        " '17_topic',\n",
        " '18_topic',\n",
        " '19_topic',\n",
        " '20_topic',\n",
        " '21_topic',\n",
        " '22_topic',\n",
        " '23_topic',\n",
        " '24_topic',\n",
        " '25_topic',\n",
        " '26_topic',\n",
        " '27_topic',\n",
        " '28_topic',\n",
        " '29_topic',\n",
        " '30_topic',\n",
        " '31_topic',\n",
        " '32_topic',\n",
        " '33_topic',\n",
        " '34_topic',\n",
        " '35_topic',\n",
        " '36_topic',\n",
        " '37_topic',\n",
        " '38_topic',\n",
        " '39_topic',\n",
        " '40_topic',\n",
        " '41_topic',\n",
        " '42_topic',\n",
        " '43_topic',\n",
        " '44_topic',\n",
        " '45_topic',\n",
        " '46_topic',\n",
        " '47_topic',\n",
        " '48_topic',\n",
        " '49_topic',\n",
        " '50_topic',\n",
        " '51_topic',\n",
        " '52_topic',\n",
        " '53_topic',\n",
        " '54_topic',\n",
        " '55_topic',\n",
        " '56_topic',\n",
        " '57_topic',\n",
        " '58_topic',\n",
        " '59_topic',\n",
        " '60_topic',\n",
        " '61_topic',\n",
        " '62_topic',\n",
        " '63_topic',\n",
        " '64_topic',\n",
        " '65_topic',\n",
        " '66_topic',\n",
        " '67_topic',\n",
        " '68_topic',\n",
        " '69_topic',\n",
        " '70_topic',\n",
        " '71_topic',\n",
        " '72_topic',\n",
        " '73_topic',\n",
        " '74_topic',\n",
        " '75_topic',\n",
        " '76_topic',\n",
        " '77_topic',\n",
        " '78_topic',\n",
        " '79_topic',\n",
        " '80_topic',\n",
        " '81_topic',\n",
        " '82_topic',\n",
        " '83_topic',\n",
        " '84_topic',\n",
        " '85_topic',\n",
        " '86_topic',\n",
        " '87_topic',\n",
        " '88_topic',\n",
        " '89_topic',\n",
        " '90_topic',\n",
        " '91_topic',\n",
        " '92_topic',\n",
        " '93_topic',\n",
        " '94_topic',\n",
        " '95_topic',\n",
        " '96_topic',\n",
        " '97_topic',\n",
        " '98_topic',\n",
        " '99_topic',\n",
        " 'rating']"
       ]
      }
     ],
     "prompt_number": 158
    },
    {
     "cell_type": "code",
     "collapsed": false,
     "input": [
      "full_dataset.drop(['level_0', 'index', 'Unnamed: 0', 'post'], axis=1, inplace=True)"
     ],
     "language": "python",
     "metadata": {},
     "outputs": [],
     "prompt_number": 159
    },
    {
     "cell_type": "code",
     "collapsed": false,
     "input": [
      "full_dataset.to_csv(\"./full_dataset.csv\")"
     ],
     "language": "python",
     "metadata": {},
     "outputs": [],
     "prompt_number": 166
    },
    {
     "cell_type": "code",
     "collapsed": false,
     "input": [
      "train_X = full_dataset.loc[train.index].drop([\"like\", \"user_id\", \"post_permlink\"], axis=1)\n",
      "train_y = full_dataset.loc[train.index][\"like\"]\n",
      "\n",
      "test_X = full_dataset.loc[test.index].drop([\"like\", \"user_id\", \"post_permlink\"], axis=1)\n",
      "test_y = full_dataset.loc[test.index][\"like\"]"
     ],
     "language": "python",
     "metadata": {},
     "outputs": [],
     "prompt_number": 173
    },
    {
     "cell_type": "code",
     "collapsed": false,
     "input": [
      "from xgboost import XGBClassifier\n",
      "from sklearn.metrics import roc_auc_score\n",
      "\n",
      "for i in range(10, 100, 20):\n",
      "    model = XGBClassifier(n_estimators=i).fit(train_X, train_y, verbose=True)\n",
      "    print(i)\n",
      "    print(roc_auc_score(train_y, model.predict(train_X)))\n",
      "    print(roc_auc_score(test_y, model.predict(test_X)))"
     ],
     "language": "python",
     "metadata": {},
     "outputs": [
      {
       "output_type": "stream",
       "stream": "stdout",
       "text": [
        "10\n",
        "0.872846601093"
       ]
      },
      {
       "output_type": "stream",
       "stream": "stdout",
       "text": [
        "\n",
        "0.677636761426"
       ]
      },
      {
       "output_type": "stream",
       "stream": "stdout",
       "text": [
        "\n",
        "30"
       ]
      },
      {
       "output_type": "stream",
       "stream": "stdout",
       "text": [
        "\n",
        "0.883961147981"
       ]
      },
      {
       "output_type": "stream",
       "stream": "stdout",
       "text": [
        "\n",
        "0.678878907096"
       ]
      },
      {
       "output_type": "stream",
       "stream": "stdout",
       "text": [
        "\n",
        "50"
       ]
      },
      {
       "output_type": "stream",
       "stream": "stdout",
       "text": [
        "\n",
        "0.88824558306"
       ]
      },
      {
       "output_type": "stream",
       "stream": "stdout",
       "text": [
        "\n",
        "0.680971484498"
       ]
      },
      {
       "output_type": "stream",
       "stream": "stdout",
       "text": [
        "\n",
        "70"
       ]
      },
      {
       "output_type": "stream",
       "stream": "stdout",
       "text": [
        "\n",
        "0.892937504358"
       ]
      },
      {
       "output_type": "stream",
       "stream": "stdout",
       "text": [
        "\n",
        "0.68730768426"
       ]
      },
      {
       "output_type": "stream",
       "stream": "stdout",
       "text": [
        "\n",
        "90"
       ]
      },
      {
       "output_type": "stream",
       "stream": "stdout",
       "text": [
        "\n",
        "0.895146377148"
       ]
      },
      {
       "output_type": "stream",
       "stream": "stdout",
       "text": [
        "\n",
        "0.689892470653"
       ]
      },
      {
       "output_type": "stream",
       "stream": "stdout",
       "text": [
        "\n"
       ]
      }
     ],
     "prompt_number": 179
    },
    {
     "cell_type": "code",
     "collapsed": false,
     "input": [
      "from xgboost import XGBClassifier\n",
      "from sklearn.metrics import roc_auc_score\n",
      "\n",
      "for i in np.linspace(0.01, 1, 10):\n",
      "    model = XGBClassifier(n_estimators=200, learning_rate=i).fit(train_X, train_y, verbose=True)\n",
      "    print(i)\n",
      "    print(roc_auc_score(train_y, model.predict(train_X)))\n",
      "    print(roc_auc_score(test_y, model.predict(test_X)))"
     ],
     "language": "python",
     "metadata": {},
     "outputs": [
      {
       "output_type": "stream",
       "stream": "stdout",
       "text": [
        "0.01\n",
        "0.880717357321"
       ]
      },
      {
       "output_type": "stream",
       "stream": "stdout",
       "text": [
        "\n",
        "0.678572598198"
       ]
      },
      {
       "output_type": "stream",
       "stream": "stdout",
       "text": [
        "\n"
       ]
      },
      {
       "ename": "KeyboardInterrupt",
       "evalue": "",
       "output_type": "pyerr",
       "traceback": [
        "\u001b[0;31m---------------------------------------------------------------------------\u001b[0m\n\u001b[0;31mKeyboardInterrupt\u001b[0m                         Traceback (most recent call last)",
        "\u001b[0;32m<ipython-input-178-d6daf7af4e98>\u001b[0m in \u001b[0;36m<module>\u001b[0;34m()\u001b[0m\n\u001b[1;32m      3\u001b[0m \u001b[0;34m\u001b[0m\u001b[0m\n\u001b[1;32m      4\u001b[0m \u001b[0;32mfor\u001b[0m \u001b[0mi\u001b[0m \u001b[0;32min\u001b[0m \u001b[0mnp\u001b[0m\u001b[0;34m.\u001b[0m\u001b[0mlinspace\u001b[0m\u001b[0;34m(\u001b[0m\u001b[0;36m0.01\u001b[0m\u001b[0;34m,\u001b[0m \u001b[0;36m1\u001b[0m\u001b[0;34m,\u001b[0m \u001b[0;36m10\u001b[0m\u001b[0;34m)\u001b[0m\u001b[0;34m:\u001b[0m\u001b[0;34m\u001b[0m\u001b[0m\n\u001b[0;32m----> 5\u001b[0;31m     \u001b[0mmodel\u001b[0m \u001b[0;34m=\u001b[0m \u001b[0mXGBClassifier\u001b[0m\u001b[0;34m(\u001b[0m\u001b[0mn_estimators\u001b[0m\u001b[0;34m=\u001b[0m\u001b[0;36m200\u001b[0m\u001b[0;34m,\u001b[0m \u001b[0mlearning_rate\u001b[0m\u001b[0;34m=\u001b[0m\u001b[0mi\u001b[0m\u001b[0;34m)\u001b[0m\u001b[0;34m.\u001b[0m\u001b[0mfit\u001b[0m\u001b[0;34m(\u001b[0m\u001b[0mtrain_X\u001b[0m\u001b[0;34m,\u001b[0m \u001b[0mtrain_y\u001b[0m\u001b[0;34m,\u001b[0m \u001b[0mverbose\u001b[0m\u001b[0;34m=\u001b[0m\u001b[0;32mTrue\u001b[0m\u001b[0;34m)\u001b[0m\u001b[0;34m\u001b[0m\u001b[0m\n\u001b[0m\u001b[1;32m      6\u001b[0m     \u001b[0mprint\u001b[0m\u001b[0;34m(\u001b[0m\u001b[0mi\u001b[0m\u001b[0;34m)\u001b[0m\u001b[0;34m\u001b[0m\u001b[0m\n\u001b[1;32m      7\u001b[0m     \u001b[0mprint\u001b[0m\u001b[0;34m(\u001b[0m\u001b[0mroc_auc_score\u001b[0m\u001b[0;34m(\u001b[0m\u001b[0mtrain_y\u001b[0m\u001b[0;34m,\u001b[0m \u001b[0mmodel\u001b[0m\u001b[0;34m.\u001b[0m\u001b[0mpredict\u001b[0m\u001b[0;34m(\u001b[0m\u001b[0mtrain_X\u001b[0m\u001b[0;34m)\u001b[0m\u001b[0;34m)\u001b[0m\u001b[0;34m)\u001b[0m\u001b[0;34m\u001b[0m\u001b[0m\n",
        "\u001b[0;32m/usr/local/lib/python3.5/dist-packages/xgboost/sklearn.py\u001b[0m in \u001b[0;36mfit\u001b[0;34m(self, X, y, sample_weight, eval_set, eval_metric, early_stopping_rounds, verbose)\u001b[0m\n\u001b[1;32m    443\u001b[0m                               \u001b[0mearly_stopping_rounds\u001b[0m\u001b[0;34m=\u001b[0m\u001b[0mearly_stopping_rounds\u001b[0m\u001b[0;34m,\u001b[0m\u001b[0;34m\u001b[0m\u001b[0m\n\u001b[1;32m    444\u001b[0m                               \u001b[0mevals_result\u001b[0m\u001b[0;34m=\u001b[0m\u001b[0mevals_result\u001b[0m\u001b[0;34m,\u001b[0m \u001b[0mobj\u001b[0m\u001b[0;34m=\u001b[0m\u001b[0mobj\u001b[0m\u001b[0;34m,\u001b[0m \u001b[0mfeval\u001b[0m\u001b[0;34m=\u001b[0m\u001b[0mfeval\u001b[0m\u001b[0;34m,\u001b[0m\u001b[0;34m\u001b[0m\u001b[0m\n\u001b[0;32m--> 445\u001b[0;31m                               verbose_eval=verbose)\n\u001b[0m\u001b[1;32m    446\u001b[0m \u001b[0;34m\u001b[0m\u001b[0m\n\u001b[1;32m    447\u001b[0m         \u001b[0mself\u001b[0m\u001b[0;34m.\u001b[0m\u001b[0mobjective\u001b[0m \u001b[0;34m=\u001b[0m \u001b[0mxgb_options\u001b[0m\u001b[0;34m[\u001b[0m\u001b[0;34m\"objective\"\u001b[0m\u001b[0;34m]\u001b[0m\u001b[0;34m\u001b[0m\u001b[0m\n",
        "\u001b[0;32m/usr/local/lib/python3.5/dist-packages/xgboost/training.py\u001b[0m in \u001b[0;36mtrain\u001b[0;34m(params, dtrain, num_boost_round, evals, obj, feval, maximize, early_stopping_rounds, evals_result, verbose_eval, learning_rates, xgb_model, callbacks)\u001b[0m\n\u001b[1;32m    203\u001b[0m                            \u001b[0mevals\u001b[0m\u001b[0;34m=\u001b[0m\u001b[0mevals\u001b[0m\u001b[0;34m,\u001b[0m\u001b[0;34m\u001b[0m\u001b[0m\n\u001b[1;32m    204\u001b[0m                            \u001b[0mobj\u001b[0m\u001b[0;34m=\u001b[0m\u001b[0mobj\u001b[0m\u001b[0;34m,\u001b[0m \u001b[0mfeval\u001b[0m\u001b[0;34m=\u001b[0m\u001b[0mfeval\u001b[0m\u001b[0;34m,\u001b[0m\u001b[0;34m\u001b[0m\u001b[0m\n\u001b[0;32m--> 205\u001b[0;31m                            xgb_model=xgb_model, callbacks=callbacks)\n\u001b[0m\u001b[1;32m    206\u001b[0m \u001b[0;34m\u001b[0m\u001b[0m\n\u001b[1;32m    207\u001b[0m \u001b[0;34m\u001b[0m\u001b[0m\n",
        "\u001b[0;32m/usr/local/lib/python3.5/dist-packages/xgboost/training.py\u001b[0m in \u001b[0;36m_train_internal\u001b[0;34m(params, dtrain, num_boost_round, evals, obj, feval, xgb_model, callbacks)\u001b[0m\n\u001b[1;32m     74\u001b[0m         \u001b[0;31m# Skip the first update if it is a recovery step.\u001b[0m\u001b[0;34m\u001b[0m\u001b[0;34m\u001b[0m\u001b[0m\n\u001b[1;32m     75\u001b[0m         \u001b[0;32mif\u001b[0m \u001b[0mversion\u001b[0m \u001b[0;34m%\u001b[0m \u001b[0;36m2\u001b[0m \u001b[0;34m==\u001b[0m \u001b[0;36m0\u001b[0m\u001b[0;34m:\u001b[0m\u001b[0;34m\u001b[0m\u001b[0m\n\u001b[0;32m---> 76\u001b[0;31m             \u001b[0mbst\u001b[0m\u001b[0;34m.\u001b[0m\u001b[0mupdate\u001b[0m\u001b[0;34m(\u001b[0m\u001b[0mdtrain\u001b[0m\u001b[0;34m,\u001b[0m \u001b[0mi\u001b[0m\u001b[0;34m,\u001b[0m \u001b[0mobj\u001b[0m\u001b[0;34m)\u001b[0m\u001b[0;34m\u001b[0m\u001b[0m\n\u001b[0m\u001b[1;32m     77\u001b[0m             \u001b[0mbst\u001b[0m\u001b[0;34m.\u001b[0m\u001b[0msave_rabit_checkpoint\u001b[0m\u001b[0;34m(\u001b[0m\u001b[0;34m)\u001b[0m\u001b[0;34m\u001b[0m\u001b[0m\n\u001b[1;32m     78\u001b[0m             \u001b[0mversion\u001b[0m \u001b[0;34m+=\u001b[0m \u001b[0;36m1\u001b[0m\u001b[0;34m\u001b[0m\u001b[0m\n",
        "\u001b[0;32m/usr/local/lib/python3.5/dist-packages/xgboost/core.py\u001b[0m in \u001b[0;36mupdate\u001b[0;34m(self, dtrain, iteration, fobj)\u001b[0m\n\u001b[1;32m    804\u001b[0m \u001b[0;34m\u001b[0m\u001b[0m\n\u001b[1;32m    805\u001b[0m         \u001b[0;32mif\u001b[0m \u001b[0mfobj\u001b[0m \u001b[0;32mis\u001b[0m \u001b[0;32mNone\u001b[0m\u001b[0;34m:\u001b[0m\u001b[0;34m\u001b[0m\u001b[0m\n\u001b[0;32m--> 806\u001b[0;31m             \u001b[0m_check_call\u001b[0m\u001b[0;34m(\u001b[0m\u001b[0m_LIB\u001b[0m\u001b[0;34m.\u001b[0m\u001b[0mXGBoosterUpdateOneIter\u001b[0m\u001b[0;34m(\u001b[0m\u001b[0mself\u001b[0m\u001b[0;34m.\u001b[0m\u001b[0mhandle\u001b[0m\u001b[0;34m,\u001b[0m \u001b[0miteration\u001b[0m\u001b[0;34m,\u001b[0m \u001b[0mdtrain\u001b[0m\u001b[0;34m.\u001b[0m\u001b[0mhandle\u001b[0m\u001b[0;34m)\u001b[0m\u001b[0;34m)\u001b[0m\u001b[0;34m\u001b[0m\u001b[0m\n\u001b[0m\u001b[1;32m    807\u001b[0m         \u001b[0;32melse\u001b[0m\u001b[0;34m:\u001b[0m\u001b[0;34m\u001b[0m\u001b[0m\n\u001b[1;32m    808\u001b[0m             \u001b[0mpred\u001b[0m \u001b[0;34m=\u001b[0m \u001b[0mself\u001b[0m\u001b[0;34m.\u001b[0m\u001b[0mpredict\u001b[0m\u001b[0;34m(\u001b[0m\u001b[0mdtrain\u001b[0m\u001b[0;34m)\u001b[0m\u001b[0;34m\u001b[0m\u001b[0m\n",
        "\u001b[0;31mKeyboardInterrupt\u001b[0m: "
       ]
      }
     ],
     "prompt_number": 178
    },
    {
     "cell_type": "code",
     "collapsed": false,
     "input": [
      "from xgboost import XGBClassifier\n",
      "from sklearn.metrics import roc_auc_score\n",
      "\n",
      "for i in np.linspace(0.01, 1, 10):\n",
      "    model = XGBClassifier(n_estimators=80, learning_rate=0.1, subsample=i).fit(train_X, train_y, verbose=True)\n",
      "    print(i)\n",
      "    print(roc_auc_score(train_y, model.predict(train_X)))\n",
      "    print(roc_auc_score(test_y, model.predict(test_X)))"
     ],
     "language": "python",
     "metadata": {},
     "outputs": [
      {
       "output_type": "stream",
       "stream": "stdout",
       "text": [
        "0.01\n",
        "0.892582127432"
       ]
      },
      {
       "output_type": "stream",
       "stream": "stdout",
       "text": [
        "\n",
        "0.688848958048"
       ]
      },
      {
       "output_type": "stream",
       "stream": "stdout",
       "text": [
        "\n",
        "0.12"
       ]
      },
      {
       "output_type": "stream",
       "stream": "stdout",
       "text": [
        "\n",
        "0.894277909547"
       ]
      },
      {
       "output_type": "stream",
       "stream": "stdout",
       "text": [
        "\n",
        "0.688289780186"
       ]
      },
      {
       "output_type": "stream",
       "stream": "stdout",
       "text": [
        "\n",
        "0.23"
       ]
      },
      {
       "output_type": "stream",
       "stream": "stdout",
       "text": [
        "\n",
        "0.894543165105"
       ]
      },
      {
       "output_type": "stream",
       "stream": "stdout",
       "text": [
        "\n",
        "0.689182055655"
       ]
      },
      {
       "output_type": "stream",
       "stream": "stdout",
       "text": [
        "\n",
        "0.34"
       ]
      },
      {
       "output_type": "stream",
       "stream": "stdout",
       "text": [
        "\n",
        "0.893308998519"
       ]
      },
      {
       "output_type": "stream",
       "stream": "stdout",
       "text": [
        "\n",
        "0.688241654133"
       ]
      },
      {
       "output_type": "stream",
       "stream": "stdout",
       "text": [
        "\n",
        "0.45"
       ]
      },
      {
       "output_type": "stream",
       "stream": "stdout",
       "text": [
        "\n",
        "0.894007529869"
       ]
      },
      {
       "output_type": "stream",
       "stream": "stdout",
       "text": [
        "\n",
        "0.689064058441"
       ]
      },
      {
       "output_type": "stream",
       "stream": "stdout",
       "text": [
        "\n",
        "0.56"
       ]
      },
      {
       "output_type": "stream",
       "stream": "stdout",
       "text": [
        "\n",
        "0.893950459044"
       ]
      },
      {
       "output_type": "stream",
       "stream": "stdout",
       "text": [
        "\n",
        "0.688381208556"
       ]
      },
      {
       "output_type": "stream",
       "stream": "stdout",
       "text": [
        "\n",
        "0.67"
       ]
      },
      {
       "output_type": "stream",
       "stream": "stdout",
       "text": [
        "\n",
        "0.893434445623"
       ]
      },
      {
       "output_type": "stream",
       "stream": "stdout",
       "text": [
        "\n",
        "0.687945027698"
       ]
      },
      {
       "output_type": "stream",
       "stream": "stdout",
       "text": [
        "\n",
        "0.78"
       ]
      },
      {
       "output_type": "stream",
       "stream": "stdout",
       "text": [
        "\n",
        "0.893682214849"
       ]
      },
      {
       "output_type": "stream",
       "stream": "stdout",
       "text": [
        "\n",
        "0.689149059295"
       ]
      },
      {
       "output_type": "stream",
       "stream": "stdout",
       "text": [
        "\n",
        "0.89"
       ]
      },
      {
       "output_type": "stream",
       "stream": "stdout",
       "text": [
        "\n",
        "0.892355710119"
       ]
      },
      {
       "output_type": "stream",
       "stream": "stdout",
       "text": [
        "\n",
        "0.688772926071"
       ]
      },
      {
       "output_type": "stream",
       "stream": "stdout",
       "text": [
        "\n",
        "1.0"
       ]
      },
      {
       "output_type": "stream",
       "stream": "stdout",
       "text": [
        "\n",
        "0.893725270833"
       ]
      },
      {
       "output_type": "stream",
       "stream": "stdout",
       "text": [
        "\n",
        "0.688966049644"
       ]
      },
      {
       "output_type": "stream",
       "stream": "stdout",
       "text": [
        "\n"
       ]
      }
     ],
     "prompt_number": 180
    },
    {
     "cell_type": "code",
     "collapsed": false,
     "input": [
      "from keras.utils import np_utils\n",
      "categorical_train_y = np_utils.to_categorical(train_y)\n",
      "categorical_test_y = np_utils.to_categorical(test_y)"
     ],
     "language": "python",
     "metadata": {},
     "outputs": [],
     "prompt_number": 186
    },
    {
     "cell_type": "code",
     "collapsed": false,
     "input": [
      "from keras.models import Model\n",
      "from keras.layers import Input, Dense\n",
      "\n",
      "input_layer = Input(shape=(train_X.shape[1],))\n",
      "x = Dense(100)(input_layer)\n",
      "x = Dense(100)(x)\n",
      "x = Dense(2)(x)\n",
      "model = Model(inputs=input_layer, outputs=x)\n",
      "model.compile('adam', 'categorical_crossentropy', metrics=[\"accuracy\"])\n",
      "model.fit(train_X.as_matrix(), categorical_train_y, batch_size=64, epochs=100, validation_data=(test_X.as_matrix(), categorical_test_y))"
     ],
     "language": "python",
     "metadata": {},
     "outputs": [
      {
       "output_type": "stream",
       "stream": "stdout",
       "text": [
        "Train on 645108 samples, validate on 276476 samples\n",
        "Epoch 1/100\n",
        "\n"
       ]
      },
      {
       "output_type": "stream",
       "stream": "stdout",
       "text": [
        "    64/645108 [..............................] - ETA: 30:40 - loss: 2.5185 - acc: 0.8438"
       ]
      },
      {
       "output_type": "stream",
       "stream": "stdout",
       "text": [
        "\n",
        "  1152/645108 [..............................] - ETA: 2:10 - loss: 3.3622 - acc: 0.5469 "
       ]
      },
      {
       "output_type": "stream",
       "stream": "stdout",
       "text": [
        "\n",
        "  2176/645108 [..............................] - ETA: 1:24 - loss: 2.0288 - acc: 0.3892"
       ]
      },
      {
       "output_type": "stream",
       "stream": "stdout",
       "text": [
        "\n",
        "  3328/645108 [..............................] - ETA: 1:05 - loss: 1.5040 - acc: 0.3263"
       ]
      },
      {
       "output_type": "stream",
       "stream": "stdout",
       "text": [
        "\n",
        "  4544/645108 [..............................] - ETA: 55s - loss: 1.2424 - acc: 0.2927 "
       ]
      },
      {
       "output_type": "stream",
       "stream": "stdout",
       "text": [
        "\n",
        "  5888/645108 [..............................] - ETA: 47s - loss: 1.0982 - acc: 0.2711"
       ]
      },
      {
       "output_type": "stream",
       "stream": "stdout",
       "text": [
        "\n",
        "  7296/645108 [..............................] - ETA: 43s - loss: 1.0021 - acc: 0.2584"
       ]
      },
      {
       "output_type": "stream",
       "stream": "stdout",
       "text": [
        "\n",
        "  8640/645108 [..............................] - ETA: 40s - loss: 0.9343 - acc: 0.2510"
       ]
      },
      {
       "output_type": "stream",
       "stream": "stdout",
       "text": [
        "\n",
        " 10112/645108 [..............................] - ETA: 37s - loss: 0.8763 - acc: 0.2443"
       ]
      },
      {
       "output_type": "stream",
       "stream": "stdout",
       "text": [
        "\n",
        " 11776/645108 [..............................] - ETA: 34s - loss: 0.8265 - acc: 0.2397"
       ]
      },
      {
       "output_type": "stream",
       "stream": "stdout",
       "text": [
        "\n",
        " 13504/645108 [..............................] - ETA: 32s - loss: 0.7879 - acc: 0.2370"
       ]
      },
      {
       "output_type": "stream",
       "stream": "stdout",
       "text": [
        "\n",
        " 15168/645108 [..............................] - ETA: 31s - loss: 0.7565 - acc: 0.2330"
       ]
      },
      {
       "output_type": "stream",
       "stream": "stdout",
       "text": [
        "\n",
        " 16704/645108 [..............................] - ETA: 30s - loss: 0.7344 - acc: 0.2311"
       ]
      },
      {
       "output_type": "stream",
       "stream": "stdout",
       "text": [
        "\n",
        " 18432/645108 [..............................] - ETA: 28s - loss: 0.7117 - acc: 0.2276"
       ]
      },
      {
       "output_type": "stream",
       "stream": "stdout",
       "text": [
        "\n",
        " 20224/645108 [..............................] - ETA: 27s - loss: 0.6948 - acc: 0.2259"
       ]
      },
      {
       "output_type": "stream",
       "stream": "stdout",
       "text": [
        "\n",
        " 21952/645108 [>.............................] - ETA: 27s - loss: 0.6827 - acc: 0.2263"
       ]
      },
      {
       "output_type": "stream",
       "stream": "stdout",
       "text": [
        "\n",
        " 23488/645108 [>.............................] - ETA: 26s - loss: 0.6721 - acc: 0.2256"
       ]
      },
      {
       "output_type": "stream",
       "stream": "stdout",
       "text": [
        "\n",
        " 25088/645108 [>.............................] - ETA: 26s - loss: 0.6627 - acc: 0.2246"
       ]
      },
      {
       "output_type": "stream",
       "stream": "stdout",
       "text": [
        "\n",
        " 26624/645108 [>.............................] - ETA: 25s - loss: 0.6555 - acc: 0.2248"
       ]
      },
      {
       "output_type": "stream",
       "stream": "stdout",
       "text": [
        "\n",
        " 28160/645108 [>.............................] - ETA: 25s - loss: 0.6470 - acc: 0.2234"
       ]
      },
      {
       "output_type": "stream",
       "stream": "stdout",
       "text": [
        "\n",
        " 29568/645108 [>.............................] - ETA: 25s - loss: 0.6420 - acc: 0.2237"
       ]
      },
      {
       "output_type": "stream",
       "stream": "stdout",
       "text": [
        "\n",
        " 30912/645108 [>.............................] - ETA: 25s - loss: 0.6367 - acc: 0.2233"
       ]
      },
      {
       "output_type": "stream",
       "stream": "stdout",
       "text": [
        "\n",
        " 32256/645108 [>.............................] - ETA: 24s - loss: 0.6325 - acc: 0.2228"
       ]
      },
      {
       "output_type": "stream",
       "stream": "stdout",
       "text": [
        "\n",
        " 33536/645108 [>.............................] - ETA: 24s - loss: 0.6288 - acc: 0.2229"
       ]
      },
      {
       "output_type": "stream",
       "stream": "stdout",
       "text": [
        "\n",
        " 34880/645108 [>.............................] - ETA: 24s - loss: 0.6244 - acc: 0.2224"
       ]
      },
      {
       "output_type": "stream",
       "stream": "stdout",
       "text": [
        "\n",
        " 36096/645108 [>.............................] - ETA: 24s - loss: 0.6204 - acc: 0.2219"
       ]
      },
      {
       "output_type": "stream",
       "stream": "stdout",
       "text": [
        "\n",
        " 37376/645108 [>.............................] - ETA: 24s - loss: 0.6174 - acc: 0.2216"
       ]
      },
      {
       "output_type": "stream",
       "stream": "stdout",
       "text": [
        "\n",
        " 38656/645108 [>.............................] - ETA: 24s - loss: 0.6134 - acc: 0.2208"
       ]
      },
      {
       "output_type": "stream",
       "stream": "stdout",
       "text": [
        "\n",
        " 40064/645108 [>.............................] - ETA: 24s - loss: 0.6106 - acc: 0.2209"
       ]
      },
      {
       "output_type": "stream",
       "stream": "stdout",
       "text": [
        "\n",
        " 41472/645108 [>.............................] - ETA: 24s - loss: 0.6061 - acc: 0.2197"
       ]
      },
      {
       "output_type": "stream",
       "stream": "stdout",
       "text": [
        "\n",
        " 42944/645108 [>.............................] - ETA: 24s - loss: 0.6032 - acc: 0.2195"
       ]
      },
      {
       "output_type": "stream",
       "stream": "stdout",
       "text": [
        "\n",
        " 44416/645108 [=>............................] - ETA: 24s - loss: 0.5996 - acc: 0.2188"
       ]
      },
      {
       "output_type": "stream",
       "stream": "stdout",
       "text": [
        "\n",
        " 45888/645108 [=>............................] - ETA: 23s - loss: 0.5963 - acc: 0.2180"
       ]
      },
      {
       "output_type": "stream",
       "stream": "stdout",
       "text": [
        "\n",
        " 47232/645108 [=>............................] - ETA: 23s - loss: 0.5942 - acc: 0.2177"
       ]
      },
      {
       "output_type": "stream",
       "stream": "stdout",
       "text": [
        "\n",
        " 48640/645108 [=>............................] - ETA: 23s - loss: 0.5925 - acc: 0.2181"
       ]
      },
      {
       "output_type": "stream",
       "stream": "stdout",
       "text": [
        "\n",
        " 50048/645108 [=>............................] - ETA: 23s - loss: 0.5907 - acc: 0.2179"
       ]
      },
      {
       "output_type": "stream",
       "stream": "stdout",
       "text": [
        "\n",
        " 51456/645108 [=>............................] - ETA: 23s - loss: 0.5886 - acc: 0.2177"
       ]
      },
      {
       "output_type": "stream",
       "stream": "stdout",
       "text": [
        "\n",
        " 52736/645108 [=>............................] - ETA: 23s - loss: 0.5873 - acc: 0.2179"
       ]
      },
      {
       "output_type": "stream",
       "stream": "stdout",
       "text": [
        "\n",
        " 54080/645108 [=>............................] - ETA: 23s - loss: 0.5857 - acc: 0.2179"
       ]
      },
      {
       "output_type": "stream",
       "stream": "stdout",
       "text": [
        "\n",
        " 55360/645108 [=>............................] - ETA: 23s - loss: 0.5842 - acc: 0.2178"
       ]
      },
      {
       "output_type": "stream",
       "stream": "stdout",
       "text": [
        "\n",
        " 56704/645108 [=>............................] - ETA: 23s - loss: 0.5828 - acc: 0.2179"
       ]
      },
      {
       "output_type": "stream",
       "stream": "stdout",
       "text": [
        "\n",
        " 57792/645108 [=>............................] - ETA: 23s - loss: 0.5823 - acc: 0.2184"
       ]
      },
      {
       "output_type": "stream",
       "stream": "stdout",
       "text": [
        "\n",
        " 59072/645108 [=>............................] - ETA: 23s - loss: 0.5811 - acc: 0.2181"
       ]
      },
      {
       "output_type": "stream",
       "stream": "stdout",
       "text": [
        "\n",
        " 60480/645108 [=>............................] - ETA: 23s - loss: 0.5789 - acc: 0.2175"
       ]
      },
      {
       "output_type": "stream",
       "stream": "stdout",
       "text": [
        "\n",
        " 61888/645108 [=>............................] - ETA: 23s - loss: 0.5777 - acc: 0.2174"
       ]
      },
      {
       "output_type": "stream",
       "stream": "stdout",
       "text": [
        "\n",
        " 63168/645108 [=>............................] - ETA: 22s - loss: 0.5768 - acc: 0.2173"
       ]
      },
      {
       "output_type": "stream",
       "stream": "stdout",
       "text": [
        "\n",
        " 64448/645108 [=>............................] - ETA: 22s - loss: 0.5754 - acc: 0.2171"
       ]
      },
      {
       "output_type": "stream",
       "stream": "stdout",
       "text": [
        "\n",
        " 65856/645108 [==>...........................] - ETA: 22s - loss: 0.5742 - acc: 0.2168"
       ]
      },
      {
       "output_type": "stream",
       "stream": "stdout",
       "text": [
        "\n",
        " 67328/645108 [==>...........................] - ETA: 22s - loss: 0.5731 - acc: 0.2168"
       ]
      },
      {
       "output_type": "stream",
       "stream": "stdout",
       "text": [
        "\n",
        " 68800/645108 [==>...........................] - ETA: 22s - loss: 0.5718 - acc: 0.2167"
       ]
      },
      {
       "output_type": "stream",
       "stream": "stdout",
       "text": [
        "\n",
        " 70208/645108 [==>...........................] - ETA: 22s - loss: 0.5708 - acc: 0.2166"
       ]
      },
      {
       "output_type": "stream",
       "stream": "stdout",
       "text": [
        "\n",
        " 71552/645108 [==>...........................] - ETA: 22s - loss: 0.5699 - acc: 0.2165"
       ]
      },
      {
       "output_type": "stream",
       "stream": "stdout",
       "text": [
        "\n",
        " 72960/645108 [==>...........................] - ETA: 22s - loss: 0.5686 - acc: 0.2162"
       ]
      },
      {
       "output_type": "stream",
       "stream": "stdout",
       "text": [
        "\n",
        " 74368/645108 [==>...........................] - ETA: 22s - loss: 0.5675 - acc: 0.2161"
       ]
      },
      {
       "output_type": "stream",
       "stream": "stdout",
       "text": [
        "\n",
        " 75776/645108 [==>...........................] - ETA: 22s - loss: 0.5666 - acc: 0.2160"
       ]
      },
      {
       "output_type": "stream",
       "stream": "stdout",
       "text": [
        "\n",
        " 77120/645108 [==>...........................] - ETA: 22s - loss: 0.5660 - acc: 0.2162"
       ]
      },
      {
       "output_type": "stream",
       "stream": "stdout",
       "text": [
        "\n",
        " 78528/645108 [==>...........................] - ETA: 22s - loss: 0.5653 - acc: 0.2162"
       ]
      },
      {
       "output_type": "stream",
       "stream": "stdout",
       "text": [
        "\n",
        " 80000/645108 [==>...........................] - ETA: 21s - loss: 0.5644 - acc: 0.2162"
       ]
      },
      {
       "output_type": "stream",
       "stream": "stdout",
       "text": [
        "\n",
        " 81472/645108 [==>...........................] - ETA: 21s - loss: 0.5629 - acc: 0.2156"
       ]
      },
      {
       "output_type": "stream",
       "stream": "stdout",
       "text": [
        "\n",
        " 82944/645108 [==>...........................] - ETA: 21s - loss: 0.5621 - acc: 0.2156"
       ]
      },
      {
       "output_type": "stream",
       "stream": "stdout",
       "text": [
        "\n",
        " 84480/645108 [==>...........................] - ETA: 21s - loss: 0.5620 - acc: 0.2160"
       ]
      },
      {
       "output_type": "stream",
       "stream": "stdout",
       "text": [
        "\n",
        " 85952/645108 [==>...........................] - ETA: 21s - loss: 0.5614 - acc: 0.2161"
       ]
      },
      {
       "output_type": "stream",
       "stream": "stdout",
       "text": [
        "\n",
        " 87488/645108 [===>..........................] - ETA: 21s - loss: 0.5603 - acc: 0.2157"
       ]
      },
      {
       "output_type": "stream",
       "stream": "stdout",
       "text": [
        "\n",
        " 88832/645108 [===>..........................] - ETA: 21s - loss: 0.5595 - acc: 0.2156"
       ]
      },
      {
       "output_type": "stream",
       "stream": "stdout",
       "text": [
        "\n",
        " 90304/645108 [===>..........................] - ETA: 21s - loss: 0.5583 - acc: 0.2152"
       ]
      },
      {
       "output_type": "stream",
       "stream": "stdout",
       "text": [
        "\n",
        " 91712/645108 [===>..........................] - ETA: 21s - loss: 0.5579 - acc: 0.2153"
       ]
      },
      {
       "output_type": "stream",
       "stream": "stdout",
       "text": [
        "\n",
        " 93120/645108 [===>..........................] - ETA: 21s - loss: 0.5570 - acc: 0.2150"
       ]
      },
      {
       "output_type": "stream",
       "stream": "stdout",
       "text": [
        "\n",
        " 94400/645108 [===>..........................] - ETA: 21s - loss: 0.5564 - acc: 0.2150"
       ]
      },
      {
       "output_type": "stream",
       "stream": "stdout",
       "text": [
        "\n",
        " 95808/645108 [===>..........................] - ETA: 21s - loss: 0.5558 - acc: 0.2149"
       ]
      },
      {
       "output_type": "stream",
       "stream": "stdout",
       "text": [
        "\n",
        " 97280/645108 [===>..........................] - ETA: 20s - loss: 0.5551 - acc: 0.2148"
       ]
      },
      {
       "output_type": "stream",
       "stream": "stdout",
       "text": [
        "\n",
        " 98752/645108 [===>..........................] - ETA: 20s - loss: 0.5545 - acc: 0.2147"
       ]
      },
      {
       "output_type": "stream",
       "stream": "stdout",
       "text": [
        "\n",
        "100224/645108 [===>..........................] - ETA: 20s - loss: 0.5542 - acc: 0.2149"
       ]
      },
      {
       "output_type": "stream",
       "stream": "stdout",
       "text": [
        "\n",
        "101760/645108 [===>..........................] - ETA: 20s - loss: 0.5535 - acc: 0.2147"
       ]
      },
      {
       "output_type": "stream",
       "stream": "stdout",
       "text": [
        "\n",
        "103296/645108 [===>..........................] - ETA: 20s - loss: 0.5526 - acc: 0.2144"
       ]
      },
      {
       "output_type": "stream",
       "stream": "stdout",
       "text": [
        "\n",
        "104768/645108 [===>..........................] - ETA: 20s - loss: 0.5519 - acc: 0.2142"
       ]
      },
      {
       "output_type": "stream",
       "stream": "stdout",
       "text": [
        "\n",
        "106240/645108 [===>..........................] - ETA: 20s - loss: 0.5513 - acc: 0.2141"
       ]
      },
      {
       "output_type": "stream",
       "stream": "stdout",
       "text": [
        "\n",
        "107712/645108 [====>.........................] - ETA: 20s - loss: 0.5505 - acc: 0.2139"
       ]
      },
      {
       "output_type": "stream",
       "stream": "stdout",
       "text": [
        "\n",
        "109248/645108 [====>.........................] - ETA: 20s - loss: 0.5498 - acc: 0.2137"
       ]
      },
      {
       "output_type": "stream",
       "stream": "stdout",
       "text": [
        "\n",
        "110784/645108 [====>.........................] - ETA: 20s - loss: 0.5494 - acc: 0.2136"
       ]
      },
      {
       "output_type": "stream",
       "stream": "stdout",
       "text": [
        "\n",
        "112320/645108 [====>.........................] - ETA: 20s - loss: 0.5489 - acc: 0.2136"
       ]
      },
      {
       "output_type": "stream",
       "stream": "stdout",
       "text": [
        "\n",
        "113792/645108 [====>.........................] - ETA: 19s - loss: 0.5488 - acc: 0.2138"
       ]
      },
      {
       "output_type": "stream",
       "stream": "stdout",
       "text": [
        "\n",
        "115136/645108 [====>.........................] - ETA: 19s - loss: 0.5484 - acc: 0.2137"
       ]
      },
      {
       "output_type": "stream",
       "stream": "stdout",
       "text": [
        "\n",
        "116224/645108 [====>.........................] - ETA: 19s - loss: 0.5481 - acc: 0.2136"
       ]
      },
      {
       "output_type": "stream",
       "stream": "stdout",
       "text": [
        "\n",
        "117632/645108 [====>.........................] - ETA: 19s - loss: 0.5477 - acc: 0.2135"
       ]
      },
      {
       "output_type": "stream",
       "stream": "stdout",
       "text": [
        "\n",
        "119104/645108 [====>.........................] - ETA: 19s - loss: 0.5471 - acc: 0.2133"
       ]
      },
      {
       "output_type": "stream",
       "stream": "stdout",
       "text": [
        "\n",
        "120512/645108 [====>.........................] - ETA: 19s - loss: 0.5469 - acc: 0.2134"
       ]
      },
      {
       "output_type": "stream",
       "stream": "stdout",
       "text": [
        "\n",
        "121984/645108 [====>.........................] - ETA: 19s - loss: 0.5463 - acc: 0.2131"
       ]
      },
      {
       "output_type": "stream",
       "stream": "stdout",
       "text": [
        "\n",
        "123456/645108 [====>.........................] - ETA: 19s - loss: 0.5461 - acc: 0.2133"
       ]
      },
      {
       "output_type": "stream",
       "stream": "stdout",
       "text": [
        "\n",
        "124864/645108 [====>.........................] - ETA: 19s - loss: 0.5457 - acc: 0.2132"
       ]
      },
      {
       "output_type": "stream",
       "stream": "stdout",
       "text": [
        "\n",
        "126336/645108 [====>.........................] - ETA: 19s - loss: 0.5452 - acc: 0.2131"
       ]
      },
      {
       "output_type": "stream",
       "stream": "stdout",
       "text": [
        "\n",
        "127680/645108 [====>.........................] - ETA: 19s - loss: 0.5450 - acc: 0.2132"
       ]
      },
      {
       "output_type": "stream",
       "stream": "stdout",
       "text": [
        "\n",
        "129088/645108 [=====>........................] - ETA: 19s - loss: 0.5445 - acc: 0.2130"
       ]
      },
      {
       "output_type": "stream",
       "stream": "stdout",
       "text": [
        "\n",
        "130496/645108 [=====>........................] - ETA: 19s - loss: 0.5441 - acc: 0.2129"
       ]
      },
      {
       "output_type": "stream",
       "stream": "stdout",
       "text": [
        "\n",
        "131840/645108 [=====>........................] - ETA: 19s - loss: 0.5441 - acc: 0.2131"
       ]
      },
      {
       "output_type": "stream",
       "stream": "stdout",
       "text": [
        "\n",
        "133056/645108 [=====>........................] - ETA: 19s - loss: 0.5437 - acc: 0.2130"
       ]
      },
      {
       "output_type": "stream",
       "stream": "stdout",
       "text": [
        "\n",
        "134528/645108 [=====>........................] - ETA: 19s - loss: 0.5434 - acc: 0.2130"
       ]
      },
      {
       "output_type": "stream",
       "stream": "stdout",
       "text": [
        "\n",
        "136000/645108 [=====>........................] - ETA: 19s - loss: 0.5433 - acc: 0.2131"
       ]
      },
      {
       "output_type": "stream",
       "stream": "stdout",
       "text": [
        "\n",
        "137408/645108 [=====>........................] - ETA: 19s - loss: 0.5431 - acc: 0.2132"
       ]
      },
      {
       "output_type": "stream",
       "stream": "stdout",
       "text": [
        "\n",
        "138752/645108 [=====>........................] - ETA: 18s - loss: 0.5426 - acc: 0.2130"
       ]
      },
      {
       "output_type": "stream",
       "stream": "stdout",
       "text": [
        "\n",
        "140032/645108 [=====>........................] - ETA: 18s - loss: 0.5424 - acc: 0.2130"
       ]
      },
      {
       "output_type": "stream",
       "stream": "stdout",
       "text": [
        "\n",
        "141248/645108 [=====>........................] - ETA: 18s - loss: 0.5421 - acc: 0.2129"
       ]
      },
      {
       "output_type": "stream",
       "stream": "stdout",
       "text": [
        "\n",
        "142400/645108 [=====>........................] - ETA: 18s - loss: 0.5421 - acc: 0.2130"
       ]
      },
      {
       "output_type": "stream",
       "stream": "stdout",
       "text": [
        "\n",
        "143616/645108 [=====>........................] - ETA: 18s - loss: 0.5417 - acc: 0.2129"
       ]
      },
      {
       "output_type": "stream",
       "stream": "stdout",
       "text": [
        "\n",
        "144896/645108 [=====>........................] - ETA: 18s - loss: 0.5414 - acc: 0.2128"
       ]
      },
      {
       "output_type": "stream",
       "stream": "stdout",
       "text": [
        "\n",
        "146176/645108 [=====>........................] - ETA: 18s - loss: 0.5411 - acc: 0.2128"
       ]
      },
      {
       "output_type": "stream",
       "stream": "stdout",
       "text": [
        "\n",
        "147264/645108 [=====>........................] - ETA: 18s - loss: 0.5409 - acc: 0.2127"
       ]
      },
      {
       "output_type": "stream",
       "stream": "stdout",
       "text": [
        "\n",
        "148480/645108 [=====>........................] - ETA: 18s - loss: 0.5409 - acc: 0.2128"
       ]
      },
      {
       "output_type": "stream",
       "stream": "stdout",
       "text": [
        "\n",
        "149696/645108 [=====>........................] - ETA: 18s - loss: 0.5407 - acc: 0.2128"
       ]
      },
      {
       "output_type": "stream",
       "stream": "stdout",
       "text": [
        "\n",
        "150784/645108 [======>.......................] - ETA: 18s - loss: 0.5406 - acc: 0.2128"
       ]
      },
      {
       "output_type": "stream",
       "stream": "stdout",
       "text": [
        "\n",
        "151808/645108 [======>.......................] - ETA: 18s - loss: 0.5404 - acc: 0.2129"
       ]
      },
      {
       "output_type": "stream",
       "stream": "stdout",
       "text": [
        "\n",
        "152768/645108 [======>.......................] - ETA: 18s - loss: 0.5402 - acc: 0.2128"
       ]
      },
      {
       "output_type": "stream",
       "stream": "stdout",
       "text": [
        "\n",
        "153920/645108 [======>.......................] - ETA: 18s - loss: 0.5401 - acc: 0.2129"
       ]
      },
      {
       "output_type": "stream",
       "stream": "stdout",
       "text": [
        "\n",
        "155200/645108 [======>.......................] - ETA: 18s - loss: 0.5400 - acc: 0.2129"
       ]
      },
      {
       "output_type": "stream",
       "stream": "stdout",
       "text": [
        "\n",
        "156544/645108 [======>.......................] - ETA: 18s - loss: 0.5399 - acc: 0.2129"
       ]
      },
      {
       "output_type": "stream",
       "stream": "stdout",
       "text": [
        "\n",
        "157824/645108 [======>.......................] - ETA: 18s - loss: 0.5398 - acc: 0.2129"
       ]
      },
      {
       "output_type": "stream",
       "stream": "stdout",
       "text": [
        "\n",
        "159104/645108 [======>.......................] - ETA: 18s - loss: 0.5396 - acc: 0.2129"
       ]
      },
      {
       "output_type": "stream",
       "stream": "stdout",
       "text": [
        "\n",
        "160448/645108 [======>.......................] - ETA: 18s - loss: 0.5394 - acc: 0.2129"
       ]
      },
      {
       "output_type": "stream",
       "stream": "stdout",
       "text": [
        "\n",
        "161792/645108 [======>.......................] - ETA: 18s - loss: 0.5392 - acc: 0.2128"
       ]
      },
      {
       "output_type": "stream",
       "stream": "stdout",
       "text": [
        "\n",
        "163072/645108 [======>.......................] - ETA: 18s - loss: 0.5390 - acc: 0.2128"
       ]
      },
      {
       "output_type": "stream",
       "stream": "stdout",
       "text": [
        "\n",
        "164352/645108 [======>.......................] - ETA: 18s - loss: 0.5388 - acc: 0.2128"
       ]
      },
      {
       "output_type": "stream",
       "stream": "stdout",
       "text": [
        "\n",
        "165632/645108 [======>.......................] - ETA: 18s - loss: 0.5385 - acc: 0.2127"
       ]
      },
      {
       "ename": "KeyboardInterrupt",
       "evalue": "",
       "output_type": "pyerr",
       "traceback": [
        "\u001b[0;31m---------------------------------------------------------------------------\u001b[0m\n\u001b[0;31mKeyboardInterrupt\u001b[0m                         Traceback (most recent call last)",
        "\u001b[0;32m<ipython-input-194-26a5943fb64c>\u001b[0m in \u001b[0;36m<module>\u001b[0;34m()\u001b[0m\n\u001b[1;32m      8\u001b[0m \u001b[0mmodel\u001b[0m \u001b[0;34m=\u001b[0m \u001b[0mModel\u001b[0m\u001b[0;34m(\u001b[0m\u001b[0minputs\u001b[0m\u001b[0;34m=\u001b[0m\u001b[0minput_layer\u001b[0m\u001b[0;34m,\u001b[0m \u001b[0moutputs\u001b[0m\u001b[0;34m=\u001b[0m\u001b[0mx\u001b[0m\u001b[0;34m)\u001b[0m\u001b[0;34m\u001b[0m\u001b[0m\n\u001b[1;32m      9\u001b[0m \u001b[0mmodel\u001b[0m\u001b[0;34m.\u001b[0m\u001b[0mcompile\u001b[0m\u001b[0;34m(\u001b[0m\u001b[0;34m'adam'\u001b[0m\u001b[0;34m,\u001b[0m \u001b[0;34m'categorical_crossentropy'\u001b[0m\u001b[0;34m,\u001b[0m \u001b[0mmetrics\u001b[0m\u001b[0;34m=\u001b[0m\u001b[0;34m[\u001b[0m\u001b[0;34m\"accuracy\"\u001b[0m\u001b[0;34m]\u001b[0m\u001b[0;34m)\u001b[0m\u001b[0;34m\u001b[0m\u001b[0m\n\u001b[0;32m---> 10\u001b[0;31m \u001b[0mmodel\u001b[0m\u001b[0;34m.\u001b[0m\u001b[0mfit\u001b[0m\u001b[0;34m(\u001b[0m\u001b[0mtrain_X\u001b[0m\u001b[0;34m.\u001b[0m\u001b[0mas_matrix\u001b[0m\u001b[0;34m(\u001b[0m\u001b[0;34m)\u001b[0m\u001b[0;34m,\u001b[0m \u001b[0mcategorical_train_y\u001b[0m\u001b[0;34m,\u001b[0m \u001b[0mbatch_size\u001b[0m\u001b[0;34m=\u001b[0m\u001b[0;36m64\u001b[0m\u001b[0;34m,\u001b[0m \u001b[0mepochs\u001b[0m\u001b[0;34m=\u001b[0m\u001b[0;36m100\u001b[0m\u001b[0;34m,\u001b[0m \u001b[0mvalidation_data\u001b[0m\u001b[0;34m=\u001b[0m\u001b[0;34m(\u001b[0m\u001b[0mtest_X\u001b[0m\u001b[0;34m.\u001b[0m\u001b[0mas_matrix\u001b[0m\u001b[0;34m(\u001b[0m\u001b[0;34m)\u001b[0m\u001b[0;34m,\u001b[0m \u001b[0mcategorical_test_y\u001b[0m\u001b[0;34m)\u001b[0m\u001b[0;34m)\u001b[0m\u001b[0;34m\u001b[0m\u001b[0m\n\u001b[0m",
        "\u001b[0;32m/usr/local/lib/python3.5/dist-packages/keras/engine/training.py\u001b[0m in \u001b[0;36mfit\u001b[0;34m(self, x, y, batch_size, epochs, verbose, callbacks, validation_split, validation_data, shuffle, class_weight, sample_weight, initial_epoch, steps_per_epoch, validation_steps, **kwargs)\u001b[0m\n\u001b[1;32m   1648\u001b[0m                               \u001b[0minitial_epoch\u001b[0m\u001b[0;34m=\u001b[0m\u001b[0minitial_epoch\u001b[0m\u001b[0;34m,\u001b[0m\u001b[0;34m\u001b[0m\u001b[0m\n\u001b[1;32m   1649\u001b[0m                               \u001b[0msteps_per_epoch\u001b[0m\u001b[0;34m=\u001b[0m\u001b[0msteps_per_epoch\u001b[0m\u001b[0;34m,\u001b[0m\u001b[0;34m\u001b[0m\u001b[0m\n\u001b[0;32m-> 1650\u001b[0;31m                               validation_steps=validation_steps)\n\u001b[0m\u001b[1;32m   1651\u001b[0m \u001b[0;34m\u001b[0m\u001b[0m\n\u001b[1;32m   1652\u001b[0m     def evaluate(self, x=None, y=None,\n",
        "\u001b[0;32m/usr/local/lib/python3.5/dist-packages/keras/engine/training.py\u001b[0m in \u001b[0;36m_fit_loop\u001b[0;34m(self, f, ins, out_labels, batch_size, epochs, verbose, callbacks, val_f, val_ins, shuffle, callback_metrics, initial_epoch, steps_per_epoch, validation_steps)\u001b[0m\n\u001b[1;32m   1217\u001b[0m                         \u001b[0mbatch_logs\u001b[0m\u001b[0;34m[\u001b[0m\u001b[0ml\u001b[0m\u001b[0;34m]\u001b[0m \u001b[0;34m=\u001b[0m \u001b[0mo\u001b[0m\u001b[0;34m\u001b[0m\u001b[0m\n\u001b[1;32m   1218\u001b[0m \u001b[0;34m\u001b[0m\u001b[0m\n\u001b[0;32m-> 1219\u001b[0;31m                     \u001b[0mcallbacks\u001b[0m\u001b[0;34m.\u001b[0m\u001b[0mon_batch_end\u001b[0m\u001b[0;34m(\u001b[0m\u001b[0mbatch_index\u001b[0m\u001b[0;34m,\u001b[0m \u001b[0mbatch_logs\u001b[0m\u001b[0;34m)\u001b[0m\u001b[0;34m\u001b[0m\u001b[0m\n\u001b[0m\u001b[1;32m   1220\u001b[0m                     \u001b[0;32mif\u001b[0m \u001b[0mcallback_model\u001b[0m\u001b[0;34m.\u001b[0m\u001b[0mstop_training\u001b[0m\u001b[0;34m:\u001b[0m\u001b[0;34m\u001b[0m\u001b[0m\n\u001b[1;32m   1221\u001b[0m                         \u001b[0;32mbreak\u001b[0m\u001b[0;34m\u001b[0m\u001b[0m\n",
        "\u001b[0;32m/usr/local/lib/python3.5/dist-packages/keras/callbacks.py\u001b[0m in \u001b[0;36mon_batch_end\u001b[0;34m(self, batch, logs)\u001b[0m\n\u001b[1;32m    109\u001b[0m             \u001b[0mcallback\u001b[0m\u001b[0;34m.\u001b[0m\u001b[0mon_batch_end\u001b[0m\u001b[0;34m(\u001b[0m\u001b[0mbatch\u001b[0m\u001b[0;34m,\u001b[0m \u001b[0mlogs\u001b[0m\u001b[0;34m)\u001b[0m\u001b[0;34m\u001b[0m\u001b[0m\n\u001b[1;32m    110\u001b[0m         \u001b[0mself\u001b[0m\u001b[0;34m.\u001b[0m\u001b[0m_delta_ts_batch_end\u001b[0m\u001b[0;34m.\u001b[0m\u001b[0mappend\u001b[0m\u001b[0;34m(\u001b[0m\u001b[0mtime\u001b[0m\u001b[0;34m.\u001b[0m\u001b[0mtime\u001b[0m\u001b[0;34m(\u001b[0m\u001b[0;34m)\u001b[0m \u001b[0;34m-\u001b[0m \u001b[0mt_before_callbacks\u001b[0m\u001b[0;34m)\u001b[0m\u001b[0;34m\u001b[0m\u001b[0m\n\u001b[0;32m--> 111\u001b[0;31m         \u001b[0mdelta_t_median\u001b[0m \u001b[0;34m=\u001b[0m \u001b[0mnp\u001b[0m\u001b[0;34m.\u001b[0m\u001b[0mmedian\u001b[0m\u001b[0;34m(\u001b[0m\u001b[0mself\u001b[0m\u001b[0;34m.\u001b[0m\u001b[0m_delta_ts_batch_end\u001b[0m\u001b[0;34m)\u001b[0m\u001b[0;34m\u001b[0m\u001b[0m\n\u001b[0m\u001b[1;32m    112\u001b[0m         if (self._delta_t_batch > 0. and\n\u001b[1;32m    113\u001b[0m            (delta_t_median > 0.95 * self._delta_t_batch and delta_t_median > 0.1)):\n",
        "\u001b[0;32m/home/earth/.local/lib/python3.5/site-packages/numpy/lib/function_base.py\u001b[0m in \u001b[0;36mmedian\u001b[0;34m(a, axis, out, overwrite_input, keepdims)\u001b[0m\n\u001b[1;32m   4100\u001b[0m     \"\"\"\n\u001b[1;32m   4101\u001b[0m     r, k = _ureduce(a, func=_median, axis=axis, out=out,\n\u001b[0;32m-> 4102\u001b[0;31m                     overwrite_input=overwrite_input)\n\u001b[0m\u001b[1;32m   4103\u001b[0m     \u001b[0;32mif\u001b[0m \u001b[0mkeepdims\u001b[0m\u001b[0;34m:\u001b[0m\u001b[0;34m\u001b[0m\u001b[0m\n\u001b[1;32m   4104\u001b[0m         \u001b[0;32mreturn\u001b[0m \u001b[0mr\u001b[0m\u001b[0;34m.\u001b[0m\u001b[0mreshape\u001b[0m\u001b[0;34m(\u001b[0m\u001b[0mk\u001b[0m\u001b[0;34m)\u001b[0m\u001b[0;34m\u001b[0m\u001b[0m\n",
        "\u001b[0;32m/home/earth/.local/lib/python3.5/site-packages/numpy/lib/function_base.py\u001b[0m in \u001b[0;36m_ureduce\u001b[0;34m(a, func, **kwargs)\u001b[0m\n\u001b[1;32m   4014\u001b[0m         \u001b[0mkeepdim\u001b[0m \u001b[0;34m=\u001b[0m \u001b[0;34m[\u001b[0m\u001b[0;36m1\u001b[0m\u001b[0;34m]\u001b[0m \u001b[0;34m*\u001b[0m \u001b[0ma\u001b[0m\u001b[0;34m.\u001b[0m\u001b[0mndim\u001b[0m\u001b[0;34m\u001b[0m\u001b[0m\n\u001b[1;32m   4015\u001b[0m \u001b[0;34m\u001b[0m\u001b[0m\n\u001b[0;32m-> 4016\u001b[0;31m     \u001b[0mr\u001b[0m \u001b[0;34m=\u001b[0m \u001b[0mfunc\u001b[0m\u001b[0;34m(\u001b[0m\u001b[0ma\u001b[0m\u001b[0;34m,\u001b[0m \u001b[0;34m**\u001b[0m\u001b[0mkwargs\u001b[0m\u001b[0;34m)\u001b[0m\u001b[0;34m\u001b[0m\u001b[0m\n\u001b[0m\u001b[1;32m   4017\u001b[0m     \u001b[0;32mreturn\u001b[0m \u001b[0mr\u001b[0m\u001b[0;34m,\u001b[0m \u001b[0mkeepdim\u001b[0m\u001b[0;34m\u001b[0m\u001b[0m\n\u001b[1;32m   4018\u001b[0m \u001b[0;34m\u001b[0m\u001b[0m\n",
        "\u001b[0;32m/home/earth/.local/lib/python3.5/site-packages/numpy/lib/function_base.py\u001b[0m in \u001b[0;36m_median\u001b[0;34m(a, axis, out, overwrite_input)\u001b[0m\n\u001b[1;32m   4133\u001b[0m             \u001b[0mpart\u001b[0m \u001b[0;34m=\u001b[0m \u001b[0ma\u001b[0m\u001b[0;34m\u001b[0m\u001b[0m\n\u001b[1;32m   4134\u001b[0m     \u001b[0;32melse\u001b[0m\u001b[0;34m:\u001b[0m\u001b[0;34m\u001b[0m\u001b[0m\n\u001b[0;32m-> 4135\u001b[0;31m         \u001b[0mpart\u001b[0m \u001b[0;34m=\u001b[0m \u001b[0mpartition\u001b[0m\u001b[0;34m(\u001b[0m\u001b[0ma\u001b[0m\u001b[0;34m,\u001b[0m \u001b[0mkth\u001b[0m\u001b[0;34m,\u001b[0m \u001b[0maxis\u001b[0m\u001b[0;34m=\u001b[0m\u001b[0maxis\u001b[0m\u001b[0;34m)\u001b[0m\u001b[0;34m\u001b[0m\u001b[0m\n\u001b[0m\u001b[1;32m   4136\u001b[0m \u001b[0;34m\u001b[0m\u001b[0m\n\u001b[1;32m   4137\u001b[0m     \u001b[0;32mif\u001b[0m \u001b[0mpart\u001b[0m\u001b[0;34m.\u001b[0m\u001b[0mshape\u001b[0m \u001b[0;34m==\u001b[0m \u001b[0;34m(\u001b[0m\u001b[0;34m)\u001b[0m\u001b[0;34m:\u001b[0m\u001b[0;34m\u001b[0m\u001b[0m\n",
        "\u001b[0;32m/home/earth/.local/lib/python3.5/site-packages/numpy/core/fromnumeric.py\u001b[0m in \u001b[0;36mpartition\u001b[0;34m(a, kth, axis, kind, order)\u001b[0m\n\u001b[1;32m    637\u001b[0m     \u001b[0;32melse\u001b[0m\u001b[0;34m:\u001b[0m\u001b[0;34m\u001b[0m\u001b[0m\n\u001b[1;32m    638\u001b[0m         \u001b[0ma\u001b[0m \u001b[0;34m=\u001b[0m \u001b[0masanyarray\u001b[0m\u001b[0;34m(\u001b[0m\u001b[0ma\u001b[0m\u001b[0;34m)\u001b[0m\u001b[0;34m.\u001b[0m\u001b[0mcopy\u001b[0m\u001b[0;34m(\u001b[0m\u001b[0morder\u001b[0m\u001b[0;34m=\u001b[0m\u001b[0;34m\"K\"\u001b[0m\u001b[0;34m)\u001b[0m\u001b[0;34m\u001b[0m\u001b[0m\n\u001b[0;32m--> 639\u001b[0;31m     \u001b[0ma\u001b[0m\u001b[0;34m.\u001b[0m\u001b[0mpartition\u001b[0m\u001b[0;34m(\u001b[0m\u001b[0mkth\u001b[0m\u001b[0;34m,\u001b[0m \u001b[0maxis\u001b[0m\u001b[0;34m=\u001b[0m\u001b[0maxis\u001b[0m\u001b[0;34m,\u001b[0m \u001b[0mkind\u001b[0m\u001b[0;34m=\u001b[0m\u001b[0mkind\u001b[0m\u001b[0;34m,\u001b[0m \u001b[0morder\u001b[0m\u001b[0;34m=\u001b[0m\u001b[0morder\u001b[0m\u001b[0;34m)\u001b[0m\u001b[0;34m\u001b[0m\u001b[0m\n\u001b[0m\u001b[1;32m    640\u001b[0m     \u001b[0;32mreturn\u001b[0m \u001b[0ma\u001b[0m\u001b[0;34m\u001b[0m\u001b[0m\n\u001b[1;32m    641\u001b[0m \u001b[0;34m\u001b[0m\u001b[0m\n",
        "\u001b[0;31mKeyboardInterrupt\u001b[0m: "
       ]
      }
     ],
     "prompt_number": 194
    },
    {
     "cell_type": "markdown",
     "metadata": {},
     "source": [
      "Create model with fit and recommend method, use standard methods\n",
      "- A model predict rating for user i and pose j by a formula:\n",
      "$$ r_{ij} = \\alpha t_j + \\beta f_i + u_ip_j $$\n",
      "- Predict:\n",
      "    Predict all ratings for an user, then add some post-dependent rating to it\n",
      "    "
     ]
    },
    {
     "cell_type": "markdown",
     "metadata": {},
     "source": [
      "fLDA:\n",
      "$$r_ij = \\alpha u_i + \\beta p_j + s_i t_j$$"
     ]
    }
   ],
   "metadata": {}
  }
 ]
}