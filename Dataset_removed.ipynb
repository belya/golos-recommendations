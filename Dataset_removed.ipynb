{
 "metadata": {
  "name": "",
  "signature": "sha256:eae8ed889530242c61ecbe960132d2dc980c0549138c3e537d9c3061a05b7c93"
 },
 "nbformat": 3,
 "nbformat_minor": 0,
 "worksheets": [
  {
   "cells": [
    {
     "cell_type": "code",
     "collapsed": false,
     "input": [
      "import pymongo\n",
      "from pymongo import MongoClient\n",
      "client = MongoClient()"
     ],
     "language": "python",
     "metadata": {},
     "outputs": [],
     "prompt_number": 1
    },
    {
     "cell_type": "code",
     "collapsed": false,
     "input": [
      "db = client.steemdb_1\n",
      "\n",
      "db.collection_names()"
     ],
     "language": "python",
     "metadata": {},
     "outputs": [],
     "prompt_number": 2
    },
    {
     "cell_type": "code",
     "collapsed": false,
     "input": [
      "for collection in db.collection_names():\n",
      "    print(collection)\n",
      "    print(db[collection].find_one())\n",
      "    print(\"====\")"
     ],
     "language": "python",
     "metadata": {},
     "outputs": [],
     "prompt_number": 3
    },
    {
     "cell_type": "markdown",
     "metadata": {},
     "source": [
      "Create first dataset containing \n",
      "1. Text of blogs\n",
      "2. Text-user mapping (votes)\n",
      "\n",
      "- Find all votes, find unique users, find unique posts, save to a csv file (voter_id, voter_name, post_id, post_permlink)\n",
      "\n",
      "Then do the same thing for reblogs, comments and views"
     ]
    },
    {
     "cell_type": "code",
     "collapsed": false,
     "input": [
      "import pandas as pd\n",
      "max = db.vote.count()\n",
      "dataset = pd.DataFrame()\n",
      "names = []\n",
      "links = []\n",
      "classes = []\n",
      "index = 0\n",
      "for vote in db.vote.find():\n",
      "    index += 1\n",
      "    print(float(index / db.vote.count()) * 100, end=\"\\r\")\n",
      "    names.append(vote[\"voter\"])\n",
      "    links.append(\"http://golos.io/@{}/{}\".format(vote[\"author\"], vote[\"permlink\"]))\n",
      "    classes.append(vote[\"weight\"] > 0)\n",
      "dataset[\"voter_name\"] = names\n",
      "dataset[\"post_permlink\"] = links\n",
      "dataset[\"like\"] = classes"
     ],
     "language": "python",
     "metadata": {},
     "outputs": [],
     "prompt_number": 10
    },
    {
     "cell_type": "code",
     "collapsed": false,
     "input": [
      "dataset.to_csv(\"./dataset.csv\")"
     ],
     "language": "python",
     "metadata": {},
     "outputs": [],
     "prompt_number": 11
    },
    {
     "cell_type": "markdown",
     "metadata": {},
     "source": [
      "Get a text"
     ]
    },
    {
     "cell_type": "code",
     "collapsed": false,
     "input": [
      "import pandas as pd\n",
      "posts = pd.DataFrame()\n",
      "\n",
      "links = []\n",
      "texts = []\n",
      "index = 0\n",
      "for post in db.comment.find():\n",
      "    index += 1\n",
      "    print(float(index / db.comment.count()) * 100, end=\"\\r\")\n",
      "    links.append(\"http://golos.io/@{}/{}\".format(post[\"author\"], post[\"permlink\"]))\n",
      "    texts.append(post[\"body\"])\n",
      "posts[\"permlink\"] = links\n",
      "posts[\"text\"] = texts"
     ],
     "language": "python",
     "metadata": {},
     "outputs": [],
     "prompt_number": 6
    },
    {
     "cell_type": "code",
     "collapsed": false,
     "input": [
      "posts.to_csv(\"./posts.csv\")"
     ],
     "language": "python",
     "metadata": {},
     "outputs": [],
     "prompt_number": 7
    },
    {
     "cell_type": "code",
     "collapsed": false,
     "input": [
      "posts"
     ],
     "language": "python",
     "metadata": {},
     "outputs": [],
     "prompt_number": 8
    }
   ],
   "metadata": {}
  }
 ]
}