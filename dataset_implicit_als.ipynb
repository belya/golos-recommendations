{
 "metadata": {
  "name": "",
  "signature": "sha256:d3b25e5415a1faa9239ed2fff6f7ef085c3008f08da7400232b40cc9bead8a6f"
 },
 "nbformat": 3,
 "nbformat_minor": 0,
 "worksheets": [
  {
   "cells": [
    {
     "cell_type": "code",
     "collapsed": false,
     "input": [
      "import pymongo\n",
      "from pymongo import MongoClient\n",
      "client = MongoClient()"
     ],
     "language": "python",
     "metadata": {},
     "outputs": [],
     "prompt_number": 1
    },
    {
     "cell_type": "code",
     "collapsed": false,
     "input": [
      "db = client.steemdb_1\n",
      "\n",
      "db.collection_names()"
     ],
     "language": "python",
     "metadata": {},
     "outputs": [
      {
       "metadata": {},
       "output_type": "pyout",
       "prompt_number": 3,
       "text": [
        "['author_reward',\n",
        " 'vote',\n",
        " 'transfer',\n",
        " 'witness_vote',\n",
        " 'reblog',\n",
        " 'vesting_withdraw',\n",
        " 'curation_reward',\n",
        " 'account',\n",
        " 'vesting_deposit',\n",
        " 'status',\n",
        " 'pow',\n",
        " 'block_30d',\n",
        " 'comment',\n",
        " 'block',\n",
        " 'follow']"
       ]
      }
     ],
     "prompt_number": 3
    },
    {
     "cell_type": "code",
     "collapsed": false,
     "input": [
      "for collection in db.collection_names():\n",
      "    print(collection)\n",
      "    print(db[collection].find_one())\n",
      "    print(\"====\")"
     ],
     "language": "python",
     "metadata": {},
     "outputs": [
      {
       "output_type": "stream",
       "stream": "stdout",
       "text": [
        "author_reward\n",
        "{'permlink': 'steemychicken1-witness-cv', 'steem_payout': 0.0, '_id': '2558657/steemychicken1/steemychicken1-witness-cv', 'author': 'steemychicken1', 'vesting_payout': 188157087.628, 'sbd_payout': 8.127, '_ts': datetime.datetime(2017, 1, 15, 11, 0, 6)}\n",
        "====\n",
        "vote\n",
        "{'weight': 10000, 'author': 'primus', '_ts': datetime.datetime(2016, 10, 18, 11, 49, 39), 'voter': 'primus', '_id': '900/primus/primus/nastroika-nod-mainera-i-delegata-dlya-raboty-v-golose-rabochie-konfigi-i-poyasneniya-po-ustanovke', 'permlink': 'nastroika-nod-mainera-i-delegata-dlya-raboty-v-golose-rabochie-konfigi-i-poyasneniya-po-ustanovke'}\n",
        "====\n",
        "transfer\n",
        "{'to': 'cyberdrop', 'from': 'cyberfounder', 'memo': '', '_id': '286/cyberfounder/cyberdrop', '_ts': datetime.datetime(2016, 10, 18, 11, 17, 36), 'amount': 4512000.0, 'type': 'GOLOS'}\n",
        "====\n",
        "witness_vote\n",
        "{'account': 'testz', 'approve': True, '_ts': datetime.datetime(2016, 10, 18, 11, 10, 54), '_id': ObjectId('59fcdb553f33f4c8b83ee356'), 'witness': 'testz'}\n",
        "====\n",
        "reblog\n",
        "{'permlink': 'komanda-golos-nastoyashie-kosmonavty', '_id': ObjectId('59fcdb603f33f4c8b83f1695'), 'author': 'lehard', 'account': 'hipster', '_block': 3261, '_ts': datetime.datetime(2016, 10, 18, 13, 48, 6)}\n",
        "====\n",
        "vesting_withdraw\n",
        "{'to_account': 'phenom', 'withdrawn': 1730.76923, 'deposited': 0.173, '_id': '202782/phenom/phenom', 'from_account': 'phenom', '_ts': datetime.datetime(2016, 10, 25, 12, 32, 21)}\n",
        "====\n",
        "curation_reward\n",
        "{'curator': 'hipster', 'reward': 124376158.769, '_ts': datetime.datetime(2017, 1, 15, 11, 0, 6), 'comment_permlink': 'steemychicken1-witness-cv', '_id': '2558657/hipster/steemychicken1/steemychicken1-witness-cv', 'comment_author': 'steemychicken1'}\n",
        "====\n",
        "account\n",
        "{'_dirty': True, '_id': 'testzcrypto-04'}\n",
        "====\n",
        "vesting_deposit\n",
        "{'to': 'testz', 'from': 'testzcrypto-04', 'amount': 1.0, '_ts': datetime.datetime(2016, 10, 18, 11, 7, 36), '_id': '111/testzcrypto-04/testz'}\n",
        "====\n",
        "status\n",
        "{'value': 7886768, '_id': 'height'}\n",
        "====\n",
        "pow\n",
        "{'props': {'account_creation_fee': '3.000 GOLOS', 'sbd_interest_rate': 1000, 'maximum_block_size': 131072}, '_id': '26-initfounder', 'new_owner_key': 'GLS6hhoECYq2yxgJLUsoUDDU6TeqWDtUmG45rvNuYANWaZpmk1JCN', 'work': [0, {'input': {'prev_block': '00000019c11cc0b431626637cc2e5896473ecead', 'nonce': '14618240069569735498', 'worker_account': 'initfounder'}, 'pow_summary': 4194738265}], 'block': 26, '_ts': datetime.datetime(2016, 10, 18, 11, 3, 3)}\n",
        "====\n",
        "block_30d\n",
        "{'timestamp': '2016-10-18T11:01:51', '_ts': datetime.datetime(2016, 10, 18, 11, 1, 51), '_id': 2, 'transaction_merkle_root': '0000000000000000000000000000000000000000', 'witness_signature': '205b4e25f261c9fb4b66607007be4fdead9b98ba06371627c071218a0ec9e1356e0b39237bff40e46d0263696fa5276ea347fc784813df25c97d9ff72d3ca83fef', 'transactions': [], 'witness': 'cyberfounder', 'previous': '0000000124e9a697d13b4b133b9d4048a631e952', 'extensions': [[1, '0.14.2'], [2, {'hf_version': '0.6.0', 'hf_time': '2016-10-18T11:02:00'}]]}\n",
        "====\n",
        "comment\n",
        "{'total_vote_weight': 0, 'max_accepted_payout': 1000000.0, 'body': '\u0412\u0441\u0435\u043c \u0434\u043e\u0431\u0440\u0430', 'percent_steem_dollars': 10000, 'net_rshares': 0.0, 'body_length': 0, 'reblogged_by': [], 'author': 'hipster', 'reward_weight': 10000, 'max_cashout_time': datetime.datetime(1969, 12, 31, 23, 59, 59), 'last_update': datetime.datetime(2016, 10, 18, 11, 46, 3), 'last_payout': datetime.datetime(2017, 2, 14, 11, 0, 6), 'depth': 0, 'parent_permlink': 'ru--vpered', 'replies': [], 'allow_curation_rewards': True, 'cashout_time': datetime.datetime(1969, 12, 31, 23, 59, 59), 'children_rshares2': 0.0, 'json_metadata': {'tags': ['ru--vpered', 'ru--golos']}, 'beneficiaries': [], 'root_comment': 0, 'active': datetime.datetime(2016, 11, 1, 4, 16, 42), 'category': 'ru--vpered', 'url': '/ru--vpered/@hipster/post-dobra', 'children_abs_rshares': 0.0, 'root_title': '\u041f\u043e\u0441\u0442 \u0434\u043e\u0431\u0440\u0430', 'author_reputation': 57839098574841.0, 'id': 0, 'last_reply_by': 'smailer', '_id': 'hipster/post-dobra', 'allow_votes': True, 'abs_rshares': 0.0, 'scanned': datetime.datetime(2017, 11, 4, 21, 22, 59, 50000), 'last_reply': datetime.datetime(2016, 11, 1, 4, 16, 42), 'total_pending_payout_value': 0.0, 'permlink': 'post-dobra', 'parent_author': '', 'children': 5, 'allow_replies': True, 'author_rewards': 0, 'promoted': '0.000 GBG', 'created': datetime.datetime(2016, 10, 18, 11, 46, 3), 'pending_payout_value': 0.0, 'title': '\u041f\u043e\u0441\u0442 \u0434\u043e\u0431\u0440\u0430', 'curator_payout_value': 0.0, 'active_votes': [{'rshares': 4300000000.0, 'weight': 1.9789616566371484e+16, 'voter': 'pfunk', 'time': datetime.datetime(2016, 10, 18, 12, 29, 18), 'reputation': '8384654052423', 'percent': 10000}, {'rshares': 0.0, 'weight': 0.0, 'voter': 'hipster', 'time': datetime.datetime(2017, 10, 19, 1, 30, 6), 'reputation': '57839098574841', 'percent': 8500}, {'rshares': 1955000000.0, 'weight': 9011441823834144.0, 'voter': 'lehard', 'time': datetime.datetime(2016, 10, 18, 12, 18, 24), 'reputation': '88363536501615', 'percent': 10000}, {'rshares': 1950000000.0, 'weight': 8960367266612542.0, 'voter': 'on0tole', 'time': datetime.datetime(2016, 10, 18, 12, 30, 39), 'reputation': '51385944733833', 'percent': 10000}, {'rshares': 250000000.0, 'weight': 1145769371535190.0, 'voter': 'mrgreen', 'time': datetime.datetime(2016, 10, 19, 7, 54, 54), 'reputation': '49715395568664', 'percent': 10000}, {'rshares': 2950000000.0, 'weight': 1.3538868184289952e+16, 'voter': 'jesta', 'time': datetime.datetime(2016, 10, 18, 12, 39, 33), 'reputation': '1177822741105', 'percent': 10000}, {'rshares': 0.0, 'weight': 0.0, 'voter': 'litvintech', 'time': datetime.datetime(2017, 9, 9, 20, 50, 57), 'reputation': '31910532064100', 'percent': 10000}, {'rshares': 245000000.0, 'weight': 1123101684710461.0, 'voter': 'kibela', 'time': datetime.datetime(2016, 10, 19, 2, 20, 3), 'reputation': '35924518865755', 'percent': 10000}, {'rshares': 245000000.0, 'weight': 1123238864957892.0, 'voter': 'numberone', 'time': datetime.datetime(2016, 10, 18, 16, 30), 'reputation': '36312226335', 'percent': 10000}, {'rshares': 195000000.0, 'weight': 893799232971924.0, 'voter': 'stepanoff', 'time': datetime.datetime(2016, 10, 19, 6, 39, 18), 'reputation': '1865260106486', 'percent': 10000}, {'rshares': 250000000.0, 'weight': 1146446430855800.0, 'voter': 'wanker', 'time': datetime.datetime(2016, 10, 18, 13, 29, 42), 'reputation': '911566240353', 'percent': 10000}, {'rshares': 250000000.0, 'weight': 1146303541396107.0, 'voter': 'dionis', 'time': datetime.datetime(2016, 10, 18, 15, 44, 18), 'reputation': '167545076702', 'percent': 10000}, {'rshares': 245000000.0, 'weight': 1122715475363875.0, 'voter': 'visitor', 'time': datetime.datetime(2016, 10, 20, 13, 56, 57), 'reputation': '932884847910', 'percent': 10000}, {'rshares': 0.0, 'weight': 0.0, 'voter': 'rusldv', 'time': datetime.datetime(2017, 9, 9, 20, 51, 3), 'reputation': '51798231358588', 'percent': 2000}, {'rshares': 0.0, 'weight': 0.0, 'voter': 'dmitriu', 'time': datetime.datetime(2017, 10, 19, 1, 30, 30), 'reputation': '6163868007350', 'percent': 1500}, {'rshares': 0.0, 'weight': 0.0, 'voter': 'zaxar', 'time': datetime.datetime(2017, 6, 10, 16, 17, 12), 'reputation': '84911253819872', 'percent': 10000}, {'rshares': 0.0, 'weight': 0.0, 'voter': 'seriy', 'time': datetime.datetime(2017, 3, 25, 20, 47, 45), 'reputation': '7557310192392', 'percent': 10000}, {'rshares': 0.0, 'weight': 0.0, 'voter': 'gryph0n', 'time': datetime.datetime(2017, 10, 18, 18, 34, 51), 'reputation': '17590463372822', 'percent': 100}, {'rshares': 0.0, 'weight': 0.0, 'voter': 'urri', 'time': datetime.datetime(2017, 10, 18, 11, 25, 12), 'reputation': '20288155193368', 'percent': 10000}, {'rshares': 0.0, 'weight': 0.0, 'voter': 'vika-teplo', 'time': datetime.datetime(2017, 9, 9, 20, 51, 48), 'reputation': '10355663269728', 'percent': 500}, {'rshares': 0.0, 'weight': 0.0, 'voter': 'pros', 'time': datetime.datetime(2017, 10, 20, 7, 4, 33), 'reputation': '181803116782', 'percent': 10000}, {'rshares': 0.0, 'weight': 0.0, 'voter': 'djomushka', 'time': datetime.datetime(2017, 7, 26, 13, 27, 54), 'reputation': 0, 'percent': 10000}], 'vote_rshares': 0.0, 'total_payout_value': 0.0, 'net_votes': 11}\n",
        "====\n",
        "block\n",
        "{'timestamp': '2016-10-18T11:01:51', '_ts': datetime.datetime(2016, 10, 18, 11, 1, 51), '_id': 2, 'transaction_merkle_root': '0000000000000000000000000000000000000000', 'witness_signature': '205b4e25f261c9fb4b66607007be4fdead9b98ba06371627c071218a0ec9e1356e0b39237bff40e46d0263696fa5276ea347fc784813df25c97d9ff72d3ca83fef', 'transactions': [], 'witness': 'cyberfounder', 'previous': '0000000124e9a697d13b4b133b9d4048a631e952', 'extensions': [[1, '0.14.2'], [2, {'hf_version': '0.6.0', 'hf_time': '2016-10-18T11:02:00'}]]}\n",
        "====\n",
        "follow\n",
        "{'what': [], '_id': ObjectId('59fcdb593f33f4c8b83efcde'), '_ts': datetime.datetime(2016, 10, 18, 12, 28, 51), 'follower': 'on0tole', '_block': 1677, 'following': 'lehard'}\n",
        "====\n"
       ]
      }
     ],
     "prompt_number": 4
    },
    {
     "cell_type": "markdown",
     "metadata": {},
     "source": [
      "Create first dataset containing \n",
      "1. Text of blogs\n",
      "2. Text-user mapping (votes)\n",
      "\n",
      "- Find all votes, find unique users, find unique posts, save to a csv file (voter_id, voter_name, post_id, post_permlink)\n",
      "\n",
      "Then do the same thing for reblogs, comments and views"
     ]
    },
    {
     "cell_type": "code",
     "collapsed": false,
     "input": [
      "import pandas as pd\n",
      "max = db.vote.count()\n",
      "dataset = pd.DataFrame()\n",
      "names = []\n",
      "links = []\n",
      "classes = []\n",
      "index = 0\n",
      "for vote in db.vote.find():\n",
      "    index += 1\n",
      "    print(float(index / db.vote.count()) * 100, end=\"\\r\")\n",
      "    names.append(vote[\"voter\"])\n",
      "    links.append(\"http://golos.io/@{}/{}\".format(vote[\"author\"], vote[\"permlink\"]))\n",
      "    classes.append(vote[\"weight\"] > 0)\n",
      "dataset[\"voter_name\"] = names\n",
      "dataset[\"post_permlink\"] = links\n",
      "dataset[\"like\"] = classes"
     ],
     "language": "python",
     "metadata": {},
     "outputs": []
    },
    {
     "cell_type": "code",
     "collapsed": false,
     "input": [
      "dataset.to_csv(\"./dataset.csv\")"
     ],
     "language": "python",
     "metadata": {},
     "outputs": []
    },
    {
     "cell_type": "markdown",
     "metadata": {},
     "source": [
      "Get a text"
     ]
    },
    {
     "cell_type": "code",
     "collapsed": false,
     "input": [
      "import pandas as pd\n",
      "from bs4 import BeautifulSoup\n",
      "import warnings\n",
      "warnings.filterwarnings(\"ignore\", category=UserWarning, module='bs4')\n",
      "\n",
      "posts = pd.DataFrame()\n",
      "\n",
      "links = []\n",
      "texts = []\n",
      "index = 0\n",
      "for post in db.comment.find():\n",
      "    index += 1\n",
      "    print(float(index / db.comment.count()) * 100, end=\"\\r\")\n",
      "    links.append(\"http://golos.io/@{}/{}\".format(post[\"author\"], post[\"permlink\"]))\n",
      "    texts.append(BeautifulSoup(post[\"body\"], 'html.parser').get_text())\n",
      "posts[\"permlink\"] = links\n",
      "posts[\"text\"] = texts"
     ],
     "language": "python",
     "metadata": {},
     "outputs": []
    },
    {
     "cell_type": "code",
     "collapsed": false,
     "input": [
      "posts.to_csv(\"./posts.csv\")"
     ],
     "language": "python",
     "metadata": {},
     "outputs": []
    },
    {
     "cell_type": "code",
     "collapsed": false,
     "input": [
      "import pandas as pd\n",
      "events = pd.read_csv(\"./datasets/events_golos3.csv\") # There is small error in this file, and it can't be read fully"
     ],
     "language": "python",
     "metadata": {},
     "outputs": [],
     "prompt_number": 9
    },
    {
     "cell_type": "code",
     "collapsed": false,
     "input": [
      "events.shape"
     ],
     "language": "python",
     "metadata": {},
     "outputs": [
      {
       "metadata": {},
       "output_type": "pyout",
       "prompt_number": 10,
       "text": [
        "(3708202, 7)"
       ]
      }
     ],
     "prompt_number": 10
    },
    {
     "cell_type": "code",
     "collapsed": false,
     "input": [
      "events.shape"
     ],
     "language": "python",
     "metadata": {},
     "outputs": [
      {
       "metadata": {},
       "output_type": "pyout",
       "prompt_number": 11,
       "text": [
        "(3708202, 7)"
       ]
      }
     ],
     "prompt_number": 11
    },
    {
     "cell_type": "code",
     "collapsed": false,
     "input": [
      "user = events[events[\"event_type\"] == \"PageView\"].iloc[10][\"user_id\"]"
     ],
     "language": "python",
     "metadata": {},
     "outputs": [],
     "prompt_number": 12
    },
    {
     "cell_type": "code",
     "collapsed": false,
     "input": [
      "for _, event in events[events[\"user_id\"] == user][0:1000].iterrows():\n",
      "#     if (event[\"event_type\"] != \"Comment\"):\n",
      "    print(event[\"event_type\"], event[\"value\"], event[\"refurl\"])"
     ],
     "language": "python",
     "metadata": {},
     "outputs": [
      {
       "output_type": "stream",
       "stream": "stdout",
       "text": [
        "Vote @zazazum/kak-ya-uchu-kitaiskii-chast-2-ty-khorosho-ili-nikhao https://golos.io/created\n",
        "Vote @kcn/kcn-vydumannyi-mir-s-realnoi-kriptovalyutoi https://golos.io/created\n",
        "Vote @may2015/effekt-cveta-krasnyi-ponedelnik https://golos.io/created\n",
        "Vote @kubvi/khames-rodriges-v-milane https://golos.io/created\n",
        "Vote @cucaracha/estafeta-cveta-krasnyi-ponedelnik https://golos.io/@avgur\n",
        "Vote @optimist/zachem-ekhat-v-indiyu https://golos.io/@avgur/feed\n",
        "Vote @zaria/skoro-stishki-dlya-nego https://golos.io/ru--poyeziya/@zaria/skoro-stishki-dlya-nego\n",
        "Vote @alex-anv/pyat https://golos.io/created\n",
        "Vote @dany2323/estafeta-cveta-krasnyi-ponedelnik https://golos.io/created\n",
        "Vote @alex-anv/a-u-nas-segodnya-koshka-rodila-vchera-kotyat https://golos.io/created\n",
        "Vote @eduard/estafeta-sirenevykh-cvetov-ot-strecoza-pion https://golos.io/created\n",
        "Vote @stranniksenya/vzletaem https://golos.io/created\n",
        "Vote @antonkostroma/grecziya-meteory-monastyri-vnutri https://golos.io/@avgur/feed\n",
        "Vote @natasmr/pokupka-zhilya-v-novostroike-nyuansy-priobreteniya-i-lichnyi-opyt https://golos.io/@avgur/feed\n",
        "Vote @singa/yekskursiya-v-park-dinozavrov---travoyadnye https://golos.io/@avgur/feed\n",
        "Vote @optimist/a-vy-gotovy-k-eksperimentu https://golos.io/@avgur/feed\n",
        "Vote @demid333/prezident-rossii https://golos.io/created\n",
        "Vote @seagull15/osennee-chaepitie https://golos.io/created\n",
        "Vote @singa/effekt-fokusirovki-ili-kak-manipuliruyut-nashim-vospriyatiem https://golos.io/created\n",
        "Vote @chernyy-povar/krema-dlya-eklerov-master-klass-davaite-sdelaem-eto-vkusno https://golos.io/@avgur/feed\n",
        "Vote @tandemus/dozhd-doneck-fotografiya https://golos.io/@avgur/feed\n",
        "Vote @optimist/ne-khodite-deti-v-afriku-gulyat https://golos.io/ru--fotografiya/@prosto-veter/istaf-2016-berlin-fotografii\n",
        "Vote @slon21veka/kvestoriya-v-reabilitacionnom-centre-i-imennye-podarki-1 https://golos.io/@avgur/feed\n",
        "Vote @slon21veka/estafeta-fraktalnyi-risunok-slon21veka https://golos.io/@avgur/feed\n",
        "Vote @greenday/master-klass-v-mafia-tc-karavan-g-kiev https://golos.io/created\n",
        "Vote @stranniksenya/vyzov-prinyat-etap-klimaticheskii-2 https://golos.io/@stranniksenya\n",
        "Vote @lady-in-red/vyzov-prinyat-etap-klimaticheskii-5 https://golos.io/created\n",
        "Vote @slon21veka/estafeta-fraktalnyi-risunok-slon21veka https://golos.io/@avgur/feed\n",
        "Vote @erikkartmen/psikhologicheskii-vypusk-20-agressiya-chast-vii-detskaya-agressiya https://golos.io/@avgur/feed\n",
        "Vote @ami/smeyatsya-razresheno-2-ya-chast-5-letnyaya-doch-smeshno-peredelala-poslovicy https://golos.io/created\n",
        "Vote @nims55/o-podpiske-lente-i-filtrakh https://golos.io/created\n",
        "Vote @orcish/veera https://golos.io/@avgur/feed\n",
        "Vote @golosfund/belaya-bumaga-golos-fonda-golos-fund-white-paper-in-russian https://golos.io/created\n",
        "Vote @piranya/odnim-kholodnym-letnim-vecherom https://golos.io/@avgur/feed\n",
        "Vote @invy11/samoe-glavnoe-perestupit-barer-i-nachat-govorit https://golos.io/ru--razvitie/@invy11/samoe-glavnoe-perestupit-barer-i-nachat-govorit\n",
        "Vote @vasyl73/delaem-prostoe-slaid-shou-v-lightroom-slaid-shou https://golos.io/ru--fotoshkola/@vasyl73/delaem-prostoe-slaid-shou-v-lightroom-slaid-shou\n",
        "Vote @albina1/chasovnya-sen-mishel-d-eguil-vo-francii https://golos.io/created\n",
        "Vote @golos.loto/5x36-golos-lottery-299-6783 https://golos.io/created\n",
        "Vote @glasnost/glasnost-realtime-v0-11-teper-s-vebsoketami-i-prototipom-front-end-klienta https://golos.io/trending/ru--otkrytyij-kod\n",
        "Vote @ropox/steemjsgui https://golos.io/created/ru--otkrytyij-kod\n",
        "Vote @ivannikov/kak-ustanovit-na-sait-google-recaptcha-v2-jquery-validate-v1-16-bootstrap-4-primer-forma-oformleniya-podpiski-na-email-rassylku https://golos.io/created/ru--otkrytyij-kod\n",
        "Vote @golos/nam-nuzhen-ty-vakansii-golosa https://golos.io/created/ru--otkrytyij-kod\n",
        "Vote @slon21veka/kvestoriya-v-reabilitacionnom-centre-i-imennye-podarki-2 https://golos.io/created/ru--golos\n",
        "Vote @avgur/napitok-bogov-protiv-pilyul-ili-znanie-protiv-nevezhestva https://golos.io/@avgur\n",
        "Comment /api/v1/record_event https://golos.io/ru--zhiznx/@avgur/napitok-bogov-protiv-pilyul-ili-znanie-protiv-nevezhestva\n",
        "Vote @alexada/kulinarnaya-estafeta-etap-1-blyuda-s-zelenyu-na-vashem-stole https://golos.io/@avgur\n",
        "Vote @alternativamira/ya-khochu-kupit-druga-mne-odinoko https://golos.io/@naminutku\n",
        "Vote @naminutku/ezhednevnyi-otchet-o-kuratorstve-11-iyunya-2017 https://golos.io/@naminutku\n",
        "Vote @zlata777/rifmomarafon-etap-klimaticheskii-10 https://golos.io/@zlata777\n",
        "Vote @zlata777/ya-veryu-v-veshie-sny-i-oni-sbyvayutsya-a-vy https://golos.io/@zlata777\n",
        "Comment /api/v1/record_event https://golos.io/ru--pulxsoksimetr/@avgur/poleznye-ustroistva-prishla-posylka-ot-kitov\n",
        "Comment /api/v1/record_event https://golos.io/ru--pulxsoksimetr/@avgur/poleznye-ustroistva-prishla-posylka-ot-kitov\n",
        "Vote @tatiana-goodkova/barometr-schastya https://golos.io/@tatiana-goodkova\n",
        "Vote @tatiana-goodkova/zakon-pareto https://golos.io/@tatiana-goodkova\n",
        "Vote @tatiana-goodkova/razgovor-o-vazhnom https://golos.io/@tatiana-goodkova\n",
        "Vote @antonkostroma/khitraya-matematika-postroenie-pryamogo-ugla-s-pomoshyu-odnoi-veryovki https://golos.io/@avgur/feed\n",
        "Vote @slon21veka/nabrosok-pro-religiyu https://golos.io/@avgur/feed\n",
        "Vote @archibald116/socialnoe-nablyudenie-krugi-monitoringa-na-golose https://golos.io/@avgur/feed\n",
        "Vote @piranya/belaya-noch-okno-i-voronii-rebenysh https://golos.io/@avgur/feed\n",
        "Vote @piranya/belaya-noch-okno-i-voronii-rebenysh https://golos.io/@avgur/feed\n",
        "Comment /api/v1/record_event https://golos.io/ru--zhiznx/@avgur/kniga-mysli-analitika-pravda-lechitsya-ili-zhit\n",
        "Comment /api/v1/record_event https://golos.io/ru--pulxsoksimetr/@avgur/poleznye-ustroistva-prishla-posylka-ot-kitov\n",
        "Vote @stil555/obzor-proekta-open-anx https://golos.io/@stil555\n",
        "Comment /api/v1/record_event https://golos.io/ru--pulxsoksimetr/@avgur/poleznye-ustroistva-prishla-posylka-ot-kitov\n",
        "Vote @avgur/chto-takoe-asd-2-ili-podarok-ot-dorokhova https://golos.io/@avgur\n",
        "Vote @optimist/ruanda-strana-posle-genocida https://golos.io/@avgur/feed\n",
        "Vote @slon21veka/tema-nedeli-pochemu-mnogie-lyudi-lyubyat-vsyo-uslozhnyat https://golos.io/@avgur/feed\n",
        "Vote @slon21veka/tema-nedeli-pochemu-mnogie-lyudi-lyubyat-vsyo-uslozhnyat https://golos.io/@avgur/feed\n",
        "Vote @erikkartmen/psikhologicheskii-vypusk-24-detskii-suicid-chast-iii https://golos.io/@avgur/feed\n",
        "Vote @svinsent/svezhaishii-kompromat-dose-na-rizhaya-vorona-svinni-provodit-rassledovanie https://golos.io/@avgur/feed\n",
        "Vote @antonkostroma/mysli-o-kapuste https://golos.io/@avgur/feed\n",
        "Vote @slon21veka/estafeta-cveta-zheltaya-sreda https://golos.io/@avgur/feed\n",
        "Vote @kcn/kcn-reguliruyushie-organy-fondovogo-rynka-gonkonga-i-avstralii-vstupyat-v https://golos.io/created\n",
        "Vote @dlina-v-metrah/konkurs-kakie-u-tebya-plany-na-leto-blizhaishie-otprazdnovat-ligo https://golos.io/created\n",
        "Vote @andreyprosto/remont-stiralnoi-mashiny-svoimi-rukami-zamena-tena https://golos.io/@avgur/feed\n",
        "Vote @svinsent/svinni-ne-boitsya-popast-v-banku-s-tushyonkoi-ili-pochemu-seichas-nelzya-prodavat-gbg https://golos.io/@avgur/feed\n",
        "Vote @svinsent/svinni-ne-boitsya-popast-v-banku-s-tushyonkoi-ili-pochemu-seichas-nelzya-prodavat-gbg https://golos.io/@avgur/feed\n",
        "Vote @nikalaich/sverdlovsk-ekaterinburgvnutri-chernogo-tyulxpanarasskaz-ochevidcza https://golos.io/mapala/@nikalaich/sverdlovsk-ekaterinburgvnutri-chernogo-tyulxpanarasskaz-ochevidcza\n",
        "Comment /api/v1/record_event https://golos.io/mapala/@nikalaich/sverdlovsk-ekaterinburgvnutri-chernogo-tyulxpanarasskaz-ochevidcza\n",
        "Vote @zaria/spinoi-k-spine-stikhi-dlya-nego https://golos.io/@avgur/feed\n",
        "Vote @singa/zagadki-zhaka-paganelya-zagadka-21-chto-eto-za-zhivotnoe https://golos.io/@avgur/feed\n",
        "Vote @is-pain/pustosh https://golos.io/ru--istoriya/@ladyzarulem/avtomobilizm-i-formirovanie-gruppy-avtomobilistov-v-rossii-specializirovannye-gazety-zhurnaly-i-kluby-istoricheskoe-issledovanie\n",
        "Vote @zaria/dremuchest-eto-v-nas-samikh-stikhi-dlya-nego https://golos.io/@avgur/feed\n",
        "Vote @avgur/agarik https://golos.io/@avgur\n",
        "Vote @antonkostroma/golos-photography-awards-pervyi-raz-uvidela-maki https://golos.io/@avgur/feed\n",
        "Vote @valera-lemeshko/budushie https://golos.io/created\n",
        "Vote @gothy/dva-mesyaca-na-golose-pervye-itogi https://golos.io/created\n",
        "Vote @vict0r/otgadka-akula-v-nebe https://golos.io/ru--zagadka/@vict0r/otgadka-akula-v-nebe\n",
        "Vote @prabhatchugh/zapushen-pulsiruyushaya-blokirovka-vlasti-yaponii-tailand-bankovskie-perevody-cherez-2-5-sekund https://golos.io/created/ru--zhiznx\n",
        "Comment /api/v1/record_event https://golos.io/ru--zhiznx/@horror/zachem-szhigali-vedem\n",
        "Comment /api/v1/record_event https://golos.io/ru--zhiznx/@horror/zachem-szhigali-vedem\n",
        "Comment /api/v1/record_event https://golos.io/ru--zhiznx/@horror/zachem-szhigali-vedem\n",
        "Vote @avgur/turist-otdykh-dikarem https://golos.io/ru--zhiznx/@avgur/turist-otdykh-dikarem\n",
        "Vote @tunguska/re-avgur-o-kakoe-chudo-skazala-mariya-2-20170630t125828088z https://golos.io/ru--zhiznx/@avgur/o-kakoe-chudo-skazala-mariya-2\n",
        "Vote @avgur/o-kakoe-chudo-skazala-mariya-2 https://golos.io/ru--zhiznx/@avgur/o-kakoe-chudo-skazala-mariya-2\n",
        "Vote @zaria/zagadaite-zhelanie-i-ono-ispolnitsya-i-da-budet-tak https://golos.io/ru--fotografiya/@zaria/zagadaite-zhelanie-i-ono-ispolnitsya-i-da-budet-tak\n",
        "Vote @antonkostroma/kurinaya-slepota-i-ivan-da-marya https://golos.io/created\n",
        "Vote @drac59/foto-progulka-na-katere-elena-gorod-nikolaev-reka-yuzhnyi-bug https://golos.io/@drac59\n",
        "Vote @yavaprint/izgotovlenie-obemnykh-bukv https://golos.io/@yavaprint\n",
        "Vote @avgur/podarki-s-podvokhom https://golos.io/ru--zhiznx/@avgur/podarki-s-podvokhom\n",
        "Vote @polyideic/neobkhodimost-kontrolya-startapov https://golos.io/created\n",
        "Vote @avgur/eksperiment-robinzon https://golos.io/ru--zhiznx/@avgur/eksperiment-robinzon\n",
        "Vote @taxibloger/passazhir-neftyannik https://golos.io/@taxibloger\n",
        "Vote @marieta/jimik-kafyan-vanadzor https://golos.io/@marieta\n",
        "Vote @osincevata/moi-lyubimki-v-golubom-i-na-rolikakh https://golos.io/@osincevata\n",
        "Vote @blondinka/chto-to-muzyki-na-noch-zakhotelos-romantishshshnoi https://golos.io/created/ru--zhiznx\n",
        "Vote @aurica/nepopravimyi-vred-mobilnogo-telefona-teper-ty-budesh-bolee-ostorozhen https://golos.io/created\n",
        "Vote @olga-fink/zachem-roditeli-eto-delayut https://golos.io/created\n",
        "Vote @rodham/est-u-letchika-mechta-vysota https://golos.io/created/mapala\n",
        "Vote @mo-cuishle/avtostopom-k-beregam-baijkala-zaklyuchitelxnaya-chastx-4 https://golos.io/mapala/@mo-cuishle/avtostopom-k-beregam-baijkala-zaklyuchitelxnaya-chastx-4\n",
        "Comment /api/v1/record_event https://golos.io/ru--zhiznx/@avgur/podarki-s-podvokhom\n",
        "Vote @andreyprosto/neobychnyi-posetitel https://golos.io/@andreyprosto\n",
        "Comment /api/v1/record_event https://golos.io/ru--obratnaya-svyazx/@yagolos/khochu-smenit-svoi-login\n",
        "Vote @yagolos/khochu-smenit-svoi-login https://golos.io/ru--obratnaya-svyazx/@yagolos/khochu-smenit-svoi-login\n",
        "Vote @nikalaich/vozlyubi-blizhnego-svoego https://golos.io/created\n",
        "PageView /@avgur https://golos.io/@avgur\n",
        "PageView /ru--lokhotron/@avgur/zarabotok-na-oblachnom-maininge-ot-6000-rublei-v-sutki-pokazyvayu-kak-zarabotat-na-maininge-kriptovalyut-eto-bystro-i-ochen https://golos.io/ru--lokhotron/@avgur/zarabotok-na-oblachnom-maininge-ot-6000-rublei-v-sutki-pokazyvayu-kak-zarabotat-na-maininge-kriptovalyut-eto-bystro-i-ochen\n",
        "PageView /@avgur/transfers https://golos.io/@avgur/transfers\n",
        "PageView /@avgur/settings https://golos.io/@avgur/settings\n",
        "PageView /@avgur https://golos.io/@avgur\n",
        "PageView /@avgur/transfers https://golos.io/@avgur/transfers\n",
        "PageView /created/ru--golos https://golos.io/created/ru--golos\n",
        "PageView /@avgur https://golos.io/@avgur\n",
        "PageView /submit.html https://golos.io/submit.html\n",
        "PageView /created https://golos.io/created\n",
        "PageView /@avgur https://golos.io/@avgur\n",
        "PageView /life/@avgur/ekranizaciya-romana-stivena-kinga-gerald-s-game https://golos.io/life/@avgur/ekranizaciya-romana-stivena-kinga-gerald-s-game\n",
        "PageView /@avgur/transfers https://golos.io/@avgur/transfers\n",
        "PageView /@avgur https://golos.io/@avgur\n",
        "PageView /life/@avgur/ekranizaciya-romana-stivena-kinga-gerald-s-game https://golos.io/life/@avgur/ekranizaciya-romana-stivena-kinga-gerald-s-game\n",
        "PageView /@koss87 https://golos.io/@koss87\n",
        "PageView /ru--zhiznx/@koss87/domashnie-tarantuly https://golos.io/ru--zhiznx/@koss87/domashnie-tarantuly\n",
        "PageView /@avgur https://golos.io/@avgur\n",
        "PageView /@avgur/transfers https://golos.io/@avgur/transfers\n",
        "PageView /@avgur https://golos.io/@avgur\n",
        "PageView /created https://golos.io/created\n",
        "PageView /created/life https://golos.io/created/life\n",
        "PageView /life/@avgur/ekranizaciya-romana-stivena-kinga-gerald-s-game https://golos.io/life/@avgur/ekranizaciya-romana-stivena-kinga-gerald-s-game\n",
        "PageView /@avgur https://golos.io/@avgur\n",
        "PageView /life/@avgur/ekranizaciya-romana-stivena-kinga-gerald-s-game https://golos.io/life/@avgur/ekranizaciya-romana-stivena-kinga-gerald-s-game\n",
        "PageView /@avgur/transfers https://golos.io/@avgur/transfers\n",
        "PageView /@avgur https://golos.io/@avgur\n",
        "PageView /@avgur/transfers https://golos.io/@avgur/transfers\n",
        "PageView /@avgur https://golos.io/@avgur\n",
        "PageView /life/@avgur/ekranizaciya-romana-stivena-kinga-gerald-s-game https://golos.io/life/@avgur/ekranizaciya-romana-stivena-kinga-gerald-s-game\n",
        "PageView /@avgur/transfers https://golos.io/@avgur/transfers\n",
        "PageView /@avgur https://golos.io/@avgur\n",
        "PageView /@avgur/transfers https://golos.io/@avgur/transfers\n",
        "PageView /@avgur https://golos.io/@avgur\n",
        "PageView /@avgur/transfers https://golos.io/@avgur/transfers\n",
        "PageView /@avgur https://golos.io/@avgur\n",
        "PageView /@avgur/transfers https://golos.io/@avgur/transfers\n",
        "PageView /@avgur https://golos.io/@avgur\n",
        "PageView /@avgur/transfers https://golos.io/@avgur/transfers\n",
        "PageView /@avgur https://golos.io/@avgur\n",
        "PageView /@avgur/transfers https://golos.io/@avgur/transfers\n",
        "PageView /@avgur https://golos.io/@avgur\n",
        "PageView /hot https://golos.io/hot\n",
        "PageView /trending https://golos.io/trending\n",
        "Vote @golosmedia/psk05102 https://golos.io/trending\n",
        "Vote @golosmedia/psk05103 https://golos.io/trending\n",
        "Vote @econmag/silversea https://golos.io/trending\n",
        "Vote @econmag/silkroad https://golos.io/trending\n",
        "Vote @econmag/gfcapital https://golos.io/trending\n",
        "Vote @nanibanani/or-akademiya-or-dizain-proektov-zaklyuchitelnyi-konspekt-kursa-taim-menedzhment https://golos.io/trending\n",
        "Vote @kertar/g-factor-kak-poschitat-mozg https://golos.io/trending\n",
        "Vote @vp-golos-tv/novosti-vox-populi-ot-elena-singer-na-kanale-golostv https://golos.io/trending\n",
        "Vote @jupiter.zeus/kak-vklyuchit-dvukhfaktornuyu-autentifikaciyu-na-bittrex-com-50-50 https://golos.io/trending\n",
        "PageView /ru--mir-kino/@vp-mir-kino/kasting-nedeli-klassicheskaya-literatura-i-yaponskaya-nechist https://golos.io/ru--mir-kino/@vp-mir-kino/kasting-nedeli-klassicheskaya-literatura-i-yaponskaya-nechist\n",
        "PageView /@avgur https://golos.io/@avgur\n",
        "PageView /life/@avgur/ekranizaciya-romana-stivena-kinga-gerald-s-game https://golos.io/life/@avgur/ekranizaciya-romana-stivena-kinga-gerald-s-game\n",
        "PageView /@avgur/transfers https://golos.io/@avgur/transfers\n",
        "PageView /@avgur https://golos.io/@avgur\n",
        "PageView /hot https://golos.io/hot\n",
        "PageView /trending https://golos.io/trending\n",
        "PageView /ru--mir-kino/@vp-mir-kino/kasting-nedeli-klassicheskaya-literatura-i-yaponskaya-nechist https://golos.io/ru--mir-kino/@vp-mir-kino/kasting-nedeli-klassicheskaya-literatura-i-yaponskaya-nechist\n",
        "PageView /@avgur https://golos.io/@avgur\n",
        "PageView /life/@avgur/ekranizaciya-romana-stivena-kinga-gerald-s-game https://golos.io/life/@avgur/ekranizaciya-romana-stivena-kinga-gerald-s-game\n",
        "PageView /trending/ru--mir-kino https://golos.io/trending/ru--mir-kino\n",
        "PageView /created/ru--mir-kino https://golos.io/created/ru--mir-kino\n",
        "PageView /created/ru--mir-kino https://golos.io/created/ru--mir-kino\n",
        "PageView /@avgur https://golos.io/@avgur\n",
        "PageView /@avgur/transfers https://golos.io/@avgur/transfers\n",
        "PageView /@avgur https://golos.io/@avgur\n",
        "PageView /life/@avgur/ekranizaciya-romana-stivena-kinga-gerald-s-game https://golos.io/life/@avgur/ekranizaciya-romana-stivena-kinga-gerald-s-game\n",
        "PageView /ru--kriptopirozhok/@optimist/pirozhkovaya-kriptopoema https://golos.io/ru--kriptopirozhok/@optimist/pirozhkovaya-kriptopoema\n",
        "PageView /@avgur https://golos.io/@avgur\n",
        "PageView /@avgur/transfers https://golos.io/@avgur/transfers\n",
        "PageView /@avgur https://golos.io/@avgur\n",
        "PageView /life/@avgur/ekranizaciya-romana-stivena-kinga-gerald-s-game https://golos.io/life/@avgur/ekranizaciya-romana-stivena-kinga-gerald-s-game\n",
        "PageView /@avgur/transfers https://golos.io/@avgur/transfers\n",
        "PageView /@avgur https://golos.io/@avgur\n",
        "PageView /created/ru--golos https://golos.io/created/ru--golos\n",
        "PageView /@avgur https://golos.io/@avgur\n",
        "PageView /@avgur/transfers https://golos.io/@avgur/transfers\n",
        "PageView /@avgur/author-rewards https://golos.io/@avgur/author-rewards\n",
        "PageView /@avgur/curation-rewards https://golos.io/@avgur/curation-rewards\n",
        "PageView /@avgur https://golos.io/@avgur\n",
        "PageView /@avgur/transfers https://golos.io/@avgur/transfers\n",
        "PageView /@avgur https://golos.io/@avgur\n",
        "PageView /life/@avgur/ekranizaciya-romana-stivena-kinga-gerald-s-game https://golos.io/life/@avgur/ekranizaciya-romana-stivena-kinga-gerald-s-game\n",
        "PageView /created https://golos.io/created\n",
        "PageView /ru--internet/@aleos/roskomnadzor-zateyal-chto-to-neladnoe https://golos.io/ru--internet/@aleos/roskomnadzor-zateyal-chto-to-neladnoe\n",
        "PageView /ru--ukraina/@dimachesta/popytka-vzyat-pod-kryshu-maining-v-ukraine https://golos.io/ru--ukraina/@dimachesta/popytka-vzyat-pod-kryshu-maining-v-ukraine\n",
        "PageView /@avgur https://golos.io/@avgur\n",
        "PageView /@avgur/transfers https://golos.io/@avgur/transfers\n",
        "PageView /@avgur https://golos.io/@avgur\n",
        "PageView /created/ru--golos https://golos.io/created/ru--golos\n",
        "PageView /@avgur https://golos.io/@avgur\n",
        "PageView /ru--zhiznx/@avgur/ne-realnaya-realnost-posledovateli https://golos.io/ru--zhiznx/@avgur/ne-realnaya-realnost-posledovateli\n",
        "PageView /created/ru--golos https://golos.io/created/ru--golos\n",
        "PageView /@avgur https://golos.io/@avgur\n",
        "PageView /@avgur/transfers https://golos.io/@avgur/transfers\n",
        "PageView /created/ru--golos https://golos.io/created/ru--golos\n",
        "PageView /submit.html https://golos.io/submit.html\n",
        "PageView /@avgur https://golos.io/@avgur\n",
        "PageView /created/ru--golos https://golos.io/created/ru--golos\n",
        "PageView /@avgur https://golos.io/@avgur\n",
        "PageView /created/ru--golos https://golos.io/created/ru--golos\n",
        "PageView /@avgur https://golos.io/@avgur\n",
        "PageView /created/ru--golos https://golos.io/created/ru--golos\n",
        "PageView /submit.html https://golos.io/submit.html\n",
        "PageView /created https://golos.io/created\n",
        "PageView /ru--lyubovx/@avgur/kak-nachinaetsya-noch https://golos.io/ru--lyubovx/@avgur/kak-nachinaetsya-noch\n",
        "PageView /@avgur https://golos.io/@avgur\n",
        "PageView /ru--lyubovx/@avgur/kak-nachinaetsya-noch https://golos.io/ru--lyubovx/@avgur/kak-nachinaetsya-noch\n",
        "PageView /created/ru--lyubovx https://golos.io/created/ru--lyubovx\n",
        "PageView /ru--lyubovx/@avgur/kak-nachinaetsya-noch https://golos.io/ru--lyubovx/@avgur/kak-nachinaetsya-noch\n",
        "PageView /@netfriend https://golos.io/@netfriend\n",
        "PageView /@avgur https://golos.io/@avgur\n",
        "PageView /@avgur/transfers https://golos.io/@avgur/transfers\n",
        "PageView /@avgur https://golos.io/@avgur\n",
        "PageView /ru--lyubovx/@avgur/kak-nachinaetsya-noch https://golos.io/ru--lyubovx/@avgur/kak-nachinaetsya-noch\n",
        "PageView /created https://golos.io/created\n",
        "PageView /@avgur https://golos.io/@avgur\n",
        "PageView /@avgur/transfers https://golos.io/@avgur/transfers\n",
        "PageView /@avgur https://golos.io/@avgur\n",
        "PageView /ru--lyubovx/@avgur/kak-nachinaetsya-noch https://golos.io/ru--lyubovx/@avgur/kak-nachinaetsya-noch\n",
        "PageView /created https://golos.io/created\n",
        "PageView /trending https://golos.io/trending\n",
        "PageView /@avgur https://golos.io/@avgur\n",
        "PageView /@avgur/transfers https://golos.io/@avgur/transfers\n",
        "PageView /@avgur https://golos.io/@avgur\n",
        "PageView /ru--lyubovx/@avgur/kak-nachinaetsya-noch https://golos.io/ru--lyubovx/@avgur/kak-nachinaetsya-noch\n",
        "PageView /@avgur/transfers https://golos.io/@avgur/transfers\n",
        "PageView /@avgur https://golos.io/@avgur\n",
        "PageView /@avgur/transfers https://golos.io/@avgur/transfers\n",
        "PageView /@avgur https://golos.io/@avgur\n",
        "PageView /ru--lyubovx/@avgur/kak-nachinaetsya-noch https://golos.io/ru--lyubovx/@avgur/kak-nachinaetsya-noch\n",
        "PageView /@avgur/transfers https://golos.io/@avgur/transfers\n",
        "PageView /@avgur https://golos.io/@avgur\n",
        "PageView /ru--lyubovx/@avgur/kak-nachinaetsya-noch https://golos.io/ru--lyubovx/@avgur/kak-nachinaetsya-noch\n",
        "PageView /@avgur/transfers https://golos.io/@avgur/transfers\n",
        "PageView /@avgur https://golos.io/@avgur\n",
        "PageView /created https://golos.io/created\n",
        "PageView /ru--lyubovx/@avgur/kak-nachinaetsya-noch https://golos.io/ru--lyubovx/@avgur/kak-nachinaetsya-noch\n",
        "PageView /created/ru--lyubovx https://golos.io/created/ru--lyubovx\n",
        "PageView /ru--lyubovx/@avgur/kak-nachinaetsya-noch https://golos.io/ru--lyubovx/@avgur/kak-nachinaetsya-noch\n",
        "PageView /@avgur https://golos.io/@avgur\n",
        "PageView /ru--lyubovx/@avgur/kak-nachinaetsya-noch https://golos.io/ru--lyubovx/@avgur/kak-nachinaetsya-noch\n",
        "PageView /@avgur/transfers https://golos.io/@avgur/transfers\n",
        "PageView /@avgur https://golos.io/@avgur\n",
        "PageView /ru--lyubovx/@avgur/kak-nachinaetsya-noch https://golos.io/ru--lyubovx/@avgur/kak-nachinaetsya-noch\n",
        "PageView /@avgur/transfers https://golos.io/@avgur/transfers\n",
        "PageView /@avgur https://golos.io/@avgur\n",
        "PageView /ru--lyubovx/@avgur/kak-nachinaetsya-noch https://golos.io/ru--lyubovx/@avgur/kak-nachinaetsya-noch\n",
        "PageView /ru--lyubovx/@avgur/kak-nachinaetsya-noch https://golos.io/ru--lyubovx/@avgur/kak-nachinaetsya-noch\n",
        "PageView /@avgur https://golos.io/@avgur\n",
        "PageView /@avgur/transfers https://golos.io/@avgur/transfers\n",
        "PageView /@avgur https://golos.io/@avgur\n",
        "PageView /ru--lyubovx/@avgur/kak-nachinaetsya-noch https://golos.io/ru--lyubovx/@avgur/kak-nachinaetsya-noch\n",
        "PageView /ru--lyubovx/@avgur/kak-nachinaetsya-noch https://golos.io/ru--lyubovx/@avgur/kak-nachinaetsya-noch\n",
        "PageView /created https://golos.io/created\n",
        "PageView /@avgur https://golos.io/@avgur\n",
        "PageView /ru--lyubovx/@avgur/kak-nachinaetsya-noch https://golos.io/ru--lyubovx/@avgur/kak-nachinaetsya-noch\n",
        "PageView /@avgur/transfers https://golos.io/@avgur/transfers\n",
        "PageView /@avgur https://golos.io/@avgur\n",
        "PageView /ru--lyubovx/@avgur/kak-nachinaetsya-noch https://golos.io/ru--lyubovx/@avgur/kak-nachinaetsya-noch\n",
        "PageView /@avgur/transfers https://golos.io/@avgur/transfers\n",
        "PageView /@avgur https://golos.io/@avgur\n",
        "PageView /ru--lyubovx/@avgur/kak-nachinaetsya-noch https://golos.io/ru--lyubovx/@avgur/kak-nachinaetsya-noch\n",
        "PageView /@avgur/transfers https://golos.io/@avgur/transfers\n",
        "PageView /@avgur https://golos.io/@avgur\n",
        "PageView /@avgur/transfers https://golos.io/@avgur/transfers\n",
        "PageView /@avgur https://golos.io/@avgur\n",
        "PageView /ru--lyubovx/@avgur/kak-nachinaetsya-noch https://golos.io/ru--lyubovx/@avgur/kak-nachinaetsya-noch\n",
        "PageView /@avgur/transfers https://golos.io/@avgur/transfers\n",
        "PageView /@avgur https://golos.io/@avgur\n",
        "PageView /ru--lyubovx/@avgur/kak-nachinaetsya-noch https://golos.io/ru--lyubovx/@avgur/kak-nachinaetsya-noch\n",
        "PageView /@avgur/transfers https://golos.io/@avgur/transfers\n",
        "PageView /@avgur https://golos.io/@avgur\n",
        "PageView /ru--lyubovx/@avgur/kak-nachinaetsya-noch https://golos.io/ru--lyubovx/@avgur/kak-nachinaetsya-noch\n",
        "PageView /@avgur/transfers https://golos.io/@avgur/transfers\n",
        "PageView /@avgur https://golos.io/@avgur\n",
        "PageView /ru--lyubovx/@avgur/kak-nachinaetsya-noch https://golos.io/ru--lyubovx/@avgur/kak-nachinaetsya-noch\n",
        "PageView /@coinbank https://golos.io/@coinbank\n",
        "PageView /@avgur https://golos.io/@avgur\n",
        "PageView /@avgur/transfers https://golos.io/@avgur/transfers\n",
        "PageView /@avgur https://golos.io/@avgur\n",
        "PageView /@avgur/transfers https://golos.io/@avgur/transfers\n",
        "PageView /@avgur https://golos.io/@avgur\n",
        "PageView /ru--lyubovx/@avgur/kak-nachinaetsya-noch https://golos.io/ru--lyubovx/@avgur/kak-nachinaetsya-noch\n",
        "PageView /@avgur/transfers https://golos.io/@avgur/transfers\n",
        "PageView /@avgur https://golos.io/@avgur\n",
        "PageView /@avgur/transfers https://golos.io/@avgur/transfers\n",
        "PageView /@avgur https://golos.io/@avgur\n",
        "PageView"
       ]
      },
      {
       "output_type": "stream",
       "stream": "stdout",
       "text": [
        " /created/ru--lyubovx https://golos.io/created/ru--lyubovx\n",
        "PageView /created/ru--golos https://golos.io/created/ru--golos\n",
        "PageView /@avgur https://golos.io/@avgur\n",
        "PageView /ru--lyubovx/@avgur/kak-nachinaetsya-noch https://golos.io/ru--lyubovx/@avgur/kak-nachinaetsya-noch\n",
        "PageView /created/ru--lyubovx https://golos.io/created/ru--lyubovx\n",
        "PageView /created/ru--golos https://golos.io/created/ru--golos\n",
        "PageView /ru--lyubovx/@avgur/kak-nachinaetsya-noch https://golos.io/ru--lyubovx/@avgur/kak-nachinaetsya-noch\n",
        "PageView /@journalist https://golos.io/@journalist\n",
        "PageView /@journalist/transfers https://golos.io/@journalist/transfers\n",
        "PageView /@avgur https://golos.io/@avgur\n",
        "PageView /@avgur/transfers https://golos.io/@avgur/transfers\n",
        "PageView /@avgur https://golos.io/@avgur\n",
        "PageView /ru--lyubovx/@avgur/kak-nachinaetsya-noch https://golos.io/ru--lyubovx/@avgur/kak-nachinaetsya-noch\n",
        "PageView /@avgur/transfers https://golos.io/@avgur/transfers\n",
        "PageView /@avgur https://golos.io/@avgur\n",
        "PageView /ru--lyubovx/@avgur/kak-nachinaetsya-noch https://golos.io/ru--lyubovx/@avgur/kak-nachinaetsya-noch\n",
        "PageView /@avgur/transfers https://golos.io/@avgur/transfers\n",
        "PageView /@avgur https://golos.io/@avgur\n",
        "PageView /@avgur/settings https://golos.io/@avgur/settings\n",
        "PageView /submit.html https://golos.io/submit.html\n",
        "PageView /created https://golos.io/created\n",
        "PageView /@avgur https://golos.io/@avgur\n",
        "PageView /ru--lyubovx/@avgur/kak-nachinaetsya-noch https://golos.io/ru--lyubovx/@avgur/kak-nachinaetsya-noch\n",
        "PageView /created/ru--golos https://golos.io/created/ru--golos\n",
        "PageView /@avgur https://golos.io/@avgur\n",
        "PageView /@avgur/transfers https://golos.io/@avgur/transfers\n",
        "PageView /@avgur https://golos.io/@avgur\n",
        "PageView /created https://golos.io/created\n",
        "Vote @vvs81/5m3npt-elina-sidorenko-nikto-ne-mozhet-predskazat-dinamiku-kursa-bitkoina https://golos.io/created\n",
        "Vote @raldin/investirovanie-golos-piar-i-prodvizhenie https://golos.io/created\n",
        "PageView /golos/@raldin/investirovanie-golos-piar-i-prodvizhenie https://golos.io/golos/@raldin/investirovanie-golos-piar-i-prodvizhenie\n",
        "Comment /api/v1/record_event https://golos.io/golos/@raldin/investirovanie-golos-piar-i-prodvizhenie\n",
        "PageView /@avgur https://golos.io/@avgur\n",
        "PageView /ru--lyubovx/@avgur/kak-nachinaetsya-noch https://golos.io/ru--lyubovx/@avgur/kak-nachinaetsya-noch\n",
        "PageView /created https://golos.io/created\n",
        "PageView /@avgur https://golos.io/@avgur\n",
        "PageView /submit.html https://golos.io/submit.html\n",
        "PageView /created https://golos.io/created\n",
        "PageView /@avgur https://golos.io/@avgur\n",
        "PageView /ru--gaz/@avgur/okhota-na-botov-chast-pervaya https://golos.io/ru--gaz/@avgur/okhota-na-botov-chast-pervaya\n",
        "PageView /created https://golos.io/created\n",
        "PageView /@avgur https://golos.io/@avgur\n",
        "PageView /ru--gaz/@avgur/okhota-na-botov-chast-pervaya https://golos.io/ru--gaz/@avgur/okhota-na-botov-chast-pervaya\n",
        "PageView /@avgur/transfers https://golos.io/@avgur/transfers\n",
        "PageView /@avgur https://golos.io/@avgur\n",
        "PageView /ru--gaz/@avgur/okhota-na-botov-chast-pervaya https://golos.io/ru--gaz/@avgur/okhota-na-botov-chast-pervaya\n",
        "PageView /@avgur/transfers https://golos.io/@avgur/transfers\n",
        "PageView /@avgur https://golos.io/@avgur\n",
        "PageView /ru--gaz/@avgur/okhota-na-botov-chast-pervaya https://golos.io/ru--gaz/@avgur/okhota-na-botov-chast-pervaya\n",
        "PageView /@avgur/transfers https://golos.io/@avgur/transfers\n",
        "PageView /@avgur https://golos.io/@avgur\n",
        "PageView /ru--gaz/@avgur/okhota-na-botov-chast-pervaya https://golos.io/ru--gaz/@avgur/okhota-na-botov-chast-pervaya\n",
        "PageView /created/ru--gaz https://golos.io/created/ru--gaz\n",
        "PageView /@avgur https://golos.io/@avgur\n",
        "PageView /@avgur/transfers https://golos.io/@avgur/transfers\n",
        "PageView /@avgur https://golos.io/@avgur\n",
        "PageView /ru--gaz/@avgur/okhota-na-botov-chast-pervaya https://golos.io/ru--gaz/@avgur/okhota-na-botov-chast-pervaya\n",
        "PageView /@avgur/transfers https://golos.io/@avgur/transfers\n",
        "PageView /@avgur https://golos.io/@avgur\n",
        "PageView /ru--gaz/@avgur/okhota-na-botov-chast-pervaya https://golos.io/ru--gaz/@avgur/okhota-na-botov-chast-pervaya\n",
        "PageView /@avgur/transfers https://golos.io/@avgur/transfers\n",
        "PageView /@avgur https://golos.io/@avgur\n",
        "PageView /created https://golos.io/created\n",
        "PageView /ru--politika/@veronamei/boikot-vyboram-prezidenta https://golos.io/ru--politika/@veronamei/boikot-vyboram-prezidenta\n",
        "PageView /ru--yekonomika/@tigrra/pogovorim-o-karmannykh-dengakh https://golos.io/ru--yekonomika/@tigrra/pogovorim-o-karmannykh-dengakh\n",
        "PageView /ru--gaz/@avgur/okhota-na-botov-chast-pervaya https://golos.io/ru--gaz/@avgur/okhota-na-botov-chast-pervaya\n",
        "PageView /@avgur https://golos.io/@avgur\n",
        "PageView /ru--gaz/@avgur/okhota-na-botov-chast-pervaya https://golos.io/ru--gaz/@avgur/okhota-na-botov-chast-pervaya\n",
        "PageView /@avgur/transfers https://golos.io/@avgur/transfers\n",
        "PageView /@avgur https://golos.io/@avgur\n",
        "PageView /ru--gaz/@avgur/okhota-na-botov-chast-pervaya https://golos.io/ru--gaz/@avgur/okhota-na-botov-chast-pervaya\n",
        "PageView /@avgur/comments https://golos.io/@avgur/comments\n",
        "PageView /@avgur/recent-replies https://golos.io/@avgur/recent-replies\n",
        "PageView /@avgur/comments https://golos.io/@avgur/comments\n",
        "PageView /golos/@raldin/investirovanie-golos-piar-i-prodvizhenie https://golos.io/golos/@raldin/investirovanie-golos-piar-i-prodvizhenie\n",
        "PageView /@raldin https://golos.io/@raldin\n",
        "PageView /created https://golos.io/created\n",
        "PageView /ru--blokcheijn/@blockchainportal/blokchein-privlekaet-vse-bolshe-muzykantov https://golos.io/ru--blokcheijn/@blockchainportal/blokchein-privlekaet-vse-bolshe-muzykantov\n",
        "PageView /ru--gaz/@avgur/okhota-na-botov-chast-pervaya https://golos.io/ru--gaz/@avgur/okhota-na-botov-chast-pervaya\n",
        "PageView /ru--pesnx/@angus/io-kho-kho-i-butylka-romu https://golos.io/ru--pesnx/@angus/io-kho-kho-i-butylka-romu\n",
        "PageView /@avgur https://golos.io/@avgur\n",
        "PageView /ru--gaz/@avgur/okhota-na-botov-chast-pervaya https://golos.io/ru--gaz/@avgur/okhota-na-botov-chast-pervaya\n",
        "PageView /@avgur/transfers https://golos.io/@avgur/transfers\n",
        "PageView /@avgur https://golos.io/@avgur\n",
        "PageView /ru--gaz/@avgur/okhota-na-botov-chast-pervaya https://golos.io/ru--gaz/@avgur/okhota-na-botov-chast-pervaya\n",
        "PageView /@avgur/transfers https://golos.io/@avgur/transfers\n",
        "PageView /@avgur https://golos.io/@avgur\n",
        "PageView /ru--gaz/@avgur/okhota-na-botov-chast-pervaya https://golos.io/ru--gaz/@avgur/okhota-na-botov-chast-pervaya\n",
        "PageView /@avgur/transfers https://golos.io/@avgur/transfers\n",
        "PageView /created https://golos.io/created\n",
        "PageView /ru--gaz/@avgur/okhota-na-botov-chast-pervaya https://golos.io/ru--gaz/@avgur/okhota-na-botov-chast-pervaya\n",
        "PageView /@avgur https://golos.io/@avgur\n",
        "PageView /@avgur/transfers https://golos.io/@avgur/transfers\n",
        "PageView /@avgur https://golos.io/@avgur\n",
        "PageView /ru--gaz/@avgur/okhota-na-botov-chast-pervaya https://golos.io/ru--gaz/@avgur/okhota-na-botov-chast-pervaya\n",
        "PageView /ru--gaz/@avgur/okhota-na-botov-chast-pervaya https://golos.io/ru--gaz/@avgur/okhota-na-botov-chast-pervaya\n",
        "PageView /@avgur/transfers https://golos.io/@avgur/transfers\n",
        "PageView /@avgur https://golos.io/@avgur\n",
        "PageView /ru--gaz/@avgur/okhota-na-botov-chast-pervaya https://golos.io/ru--gaz/@avgur/okhota-na-botov-chast-pervaya\n",
        "PageView /created/ru--sberbank https://golos.io/created/ru--sberbank\n",
        "PageView /created/ru--apvot50-50 https://golos.io/created/ru--apvot50-50\n",
        "PageView /@avgur https://golos.io/@avgur\n",
        "PageView /ru--gaz/@avgur/okhota-na-botov-chast-pervaya https://golos.io/ru--gaz/@avgur/okhota-na-botov-chast-pervaya\n",
        "PageView /@avgur/transfers https://golos.io/@avgur/transfers\n",
        "PageView /@avgur https://golos.io/@avgur\n",
        "PageView /ru--gaz/@avgur/okhota-na-botov-chast-pervaya https://golos.io/ru--gaz/@avgur/okhota-na-botov-chast-pervaya\n",
        "PageView /@avgur/transfers https://golos.io/@avgur/transfers\n",
        "PageView /@avgur https://golos.io/@avgur\n",
        "PageView /ru--gaz/@avgur/okhota-na-botov-chast-pervaya https://golos.io/ru--gaz/@avgur/okhota-na-botov-chast-pervaya\n",
        "PageView /@avgur/transfers https://golos.io/@avgur/transfers\n",
        "PageView /@avgur https://golos.io/@avgur\n",
        "PageView /@avgur/comments https://golos.io/@avgur/comments\n",
        "PageView /@avgur/recent-replies https://golos.io/@avgur/recent-replies\n",
        "PageView /@avgur/comments https://golos.io/@avgur/comments\n",
        "PageView /golos/@raldin/investirovanie-golos-piar-i-prodvizhenie https://golos.io/golos/@raldin/investirovanie-golos-piar-i-prodvizhenie\n",
        "Comment /api/v1/record_event https://golos.io/golos/@raldin/investirovanie-golos-piar-i-prodvizhenie\n",
        "PageView /@eee https://golos.io/@eee\n",
        "PageView /ru--golos/@eee/golos-budet-pereimenovan-nakonec-to https://golos.io/ru--golos/@eee/golos-budet-pereimenovan-nakonec-to\n",
        "PageView /@avgur https://golos.io/@avgur\n",
        "PageView /ru--gaz/@avgur/okhota-na-botov-chast-pervaya https://golos.io/ru--gaz/@avgur/okhota-na-botov-chast-pervaya\n",
        "PageView /@avgur/transfers https://golos.io/@avgur/transfers\n",
        "PageView /@avgur https://golos.io/@avgur\n",
        "PageView /ru--gaz/@avgur/okhota-na-botov-chast-pervaya https://golos.io/ru--gaz/@avgur/okhota-na-botov-chast-pervaya\n",
        "PageView /@avgur/transfers https://golos.io/@avgur/transfers\n",
        "PageView /@avgur https://golos.io/@avgur\n",
        "PageView /@avgur/transfers https://golos.io/@avgur/transfers\n",
        "PageView /@avgur https://golos.io/@avgur\n",
        "PageView /ru--gaz/@avgur/okhota-na-botov-chast-pervaya https://golos.io/ru--gaz/@avgur/okhota-na-botov-chast-pervaya\n",
        "PageView /created https://golos.io/created\n",
        "PageView /trending https://golos.io/trending\n",
        "PageView /hot https://golos.io/hot\n",
        "PageView /ru--gaz/@avgur/okhota-na-botov-chast-pervaya https://golos.io/ru--gaz/@avgur/okhota-na-botov-chast-pervaya\n",
        "PageView /ru--golos/@eee/golos-budet-pereimenovan-nakonec-to https://golos.io/ru--golos/@eee/golos-budet-pereimenovan-nakonec-to\n",
        "PageView /@avgur https://golos.io/@avgur\n",
        "PageView /@avgur/transfers https://golos.io/@avgur/transfers\n",
        "PageView /@avgur https://golos.io/@avgur\n",
        "PageView /ru--gaz/@avgur/okhota-na-botov-chast-pervaya https://golos.io/ru--gaz/@avgur/okhota-na-botov-chast-pervaya\n",
        "PageView /@avgur/transfers https://golos.io/@avgur/transfers\n",
        "PageView /@avgur https://golos.io/@avgur\n",
        "PageView /ru--gaz/@avgur/okhota-na-botov-chast-pervaya https://golos.io/ru--gaz/@avgur/okhota-na-botov-chast-pervaya\n",
        "PageView /@avgur/transfers https://golos.io/@avgur/transfers\n",
        "PageView /@avgur https://golos.io/@avgur\n",
        "PageView /@avgur/transfers https://golos.io/@avgur/transfers\n",
        "PageView /@avgur https://golos.io/@avgur\n",
        "PageView /ru--gaz/@avgur/okhota-na-botov-chast-pervaya https://golos.io/ru--gaz/@avgur/okhota-na-botov-chast-pervaya\n",
        "PageView /@avgur/transfers https://golos.io/@avgur/transfers\n",
        "PageView /@avgur https://golos.io/@avgur\n",
        "PageView /@avgur/comments https://golos.io/@avgur/comments\n",
        "PageView /golos/@raldin/investirovanie-golos-piar-i-prodvizhenie https://golos.io/golos/@raldin/investirovanie-golos-piar-i-prodvizhenie\n",
        "PageView /@eee https://golos.io/@eee\n",
        "PageView /golosmedia/@golosmedia/psknewauth https://golos.io/golosmedia/@golosmedia/psknewauth\n",
        "PageView /@avgur https://golos.io/@avgur\n",
        "PageView /@avgur/transfers https://golos.io/@avgur/transfers\n",
        "PageView /@avgur https://golos.io/@avgur\n",
        "PageView /ru--gaz/@avgur/okhota-na-botov-chast-pervaya https://golos.io/ru--gaz/@avgur/okhota-na-botov-chast-pervaya\n",
        "PageView /@avgur/comments https://golos.io/@avgur/comments\n",
        "PageView /golos/@raldin/investirovanie-golos-piar-i-prodvizhenie https://golos.io/golos/@raldin/investirovanie-golos-piar-i-prodvizhenie\n",
        "PageView /@raldin https://golos.io/@raldin\n",
        "PageView /ru--apvot50na50/@raldin/poigraem-v-shakhmaty https://golos.io/ru--apvot50na50/@raldin/poigraem-v-shakhmaty\n",
        "PageView /@avgur https://golos.io/@avgur\n",
        "PageView /@avgur/transfers https://golos.io/@avgur/transfers\n",
        "PageView /@avgur https://golos.io/@avgur\n",
        "PageView /@avgur/transfers https://golos.io/@avgur/transfers\n",
        "PageView /@avgur https://golos.io/@avgur\n",
        "PageView /@avgur/transfers https://golos.io/@avgur/transfers\n",
        "PageView /@avgur https://golos.io/@avgur\n",
        "PageView /ru--gaz/@avgur/okhota-na-botov-chast-pervaya https://golos.io/ru--gaz/@avgur/okhota-na-botov-chast-pervaya\n",
        "PageView /@avgur/transfers https://golos.io/@avgur/transfers\n",
        "PageView /@avgur https://golos.io/@avgur\n",
        "PageView /ru--gaz/@avgur/okhota-na-botov-chast-pervaya https://golos.io/ru--gaz/@avgur/okhota-na-botov-chast-pervaya\n",
        "PageView /@avgur/transfers https://golos.io/@avgur/transfers\n",
        "PageView /@avgur https://golos.io/@avgur\n",
        "PageView /ru--gaz/@avgur/okhota-na-botov-chast-pervaya https://golos.io/ru--gaz/@avgur/okhota-na-botov-chast-pervaya\n",
        "PageView /@avgur/comments https://golos.io/@avgur/comments\n",
        "PageView /golos/@raldin/investirovanie-golos-piar-i-prodvizhenie https://golos.io/golos/@raldin/investirovanie-golos-piar-i-prodvizhenie\n",
        "PageView /submit.html https://golos.io/submit.html\n",
        "PageView /@avgur https://golos.io/@avgur\n",
        "PageView /ru--gaz/@avgur/okhota-na-botov-chast-pervaya https://golos.io/ru--gaz/@avgur/okhota-na-botov-chast-pervaya\n",
        "PageView /@avgur/comments https://golos.io/@avgur/comments\n",
        "PageView /golos/@raldin/investirovanie-golos-piar-i-prodvizhenie https://golos.io/golos/@raldin/investirovanie-golos-piar-i-prodvizhenie\n",
        "PageView /@avgur https://golos.io/@avgur\n",
        "PageView /ru--gaz/@avgur/okhota-na-botov-chast-pervaya https://golos.io/ru--gaz/@avgur/okhota-na-botov-chast-pervaya\n",
        "PageView /@avgur/comments https://golos.io/@avgur/comments\n",
        "PageView /golos/@raldin/investirovanie-golos-piar-i-prodvizhenie https://golos.io/golos/@raldin/investirovanie-golos-piar-i-prodvizhenie\n",
        "PageView /@avgur https://golos.io/@avgur\n",
        "PageView /@avgur/transfers https://golos.io/@avgur/transfers\n",
        "PageView /@avgur https://golos.io/@avgur\n",
        "PageView /hot https://golos.io/hot\n",
        "PageView /trending https://golos.io/trending\n",
        "PageView /ru--tekhnologii/@konstantin/iskusstvennyi-intellekt-mozhet-byt-ispolzovan-v-kachestve-instrumenta-dlya-podbora-parolei https://golos.io/ru--tekhnologii/@konstantin/iskusstvennyi-intellekt-mozhet-byt-ispolzovan-v-kachestve-instrumenta-dlya-podbora-parolei\n",
        "PageView /submit.html https://golos.io/submit.html\n",
        "PageView /@avgur https://golos.io/@avgur\n",
        "PageView /ru--gaz/@avgur/okhota-na-botov-chast-pervaya https://golos.io/ru--gaz/@avgur/okhota-na-botov-chast-pervaya\n",
        "PageView /submit.html https://golos.io/submit.html\n",
        "PageView /@avgur https://golos.io/@avgur\n",
        "PageView /@avgur/comments https://golos.io/@avgur/comments\n",
        "PageView /golos/@raldin/investirovanie-golos-piar-i-prodvizhenie https://golos.io/golos/@raldin/investirovanie-golos-piar-i-prodvizhenie\n",
        "PageView /@eee https://golos.io/@eee\n",
        "PageView /ru--golos/@eee/golos-budet-pereimenovan-nakonec-to https://golos.io/ru--golos/@eee/golos-budet-pereimenovan-nakonec-to\n",
        "PageView /@avgur https://golos.io/@avgur\n",
        "PageView /submit.html https://golos.io/submit.html\n",
        "PageView /created https://golos.io/created\n",
        "PageView /@avgur https://golos.io/@avgur\n",
        "PageView /ru--golos/@avgur/okhota-na-botov-otchet https://golos.io/ru--golos/@avgur/okhota-na-botov-otchet\n",
        "PageView /@avgur/transfers https://golos.io/@avgur/transfers\n",
        "PageView /@avgur https://golos.io/@avgur\n",
        "PageView /ru--golos/@avgur/okhota-na-botov-otchet https://golos.io/ru--golos/@avgur/okhota-na-botov-otchet\n",
        "PageView /created https://golos.io/created\n",
        "PageView /ru--golos/@avgur/okhota-na-botov-otchet https://golos.io/ru--golos/@avgur/okhota-na-botov-otchet\n",
        "PageView /@avgur https://golos.io/@avgur\n",
        "PageView /@avgur/comments https://golos.io/@avgur/comments\n",
        "PageView /golos/@raldin/investirovanie-golos-piar-i-prodvizhenie https://golos.io/golos/@raldin/investirovanie-golos-piar-i-prodvizhenie\n",
        "PageView /@avgur https://golos.io/@avgur\n",
        "PageView /ru--golos/@avgur/okhota-na-botov-otchet https://golos.io/ru--golos/@avgur/okhota-na-botov-otchet\n",
        "PageView /@avgur/transfers https://golos.io/@avgur/transfers\n",
        "PageView /@avgur https://golos.io/@avgur\n",
        "PageView /ru--golos/@avgur/okhota-na-botov-otchet https://golos.io/ru--golos/@avgur/okhota-na-botov-otchet\n",
        "PageView /@avgur/transfers https://golos.io/@avgur/transfers\n",
        "PageView /@avgur https://golos.io/@avgur\n",
        "PageView /ru--golos/@avgur/okhota-na-botov-otchet https://golos.io/ru--golos/@avgur/okhota-na-botov-otchet\n",
        "PageView /ru--lyubovx/@avgur/kak-nachinaetsya-noch https://golos.io/ru--lyubovx/@avgur/kak-nachinaetsya-noch\n",
        "PageView /@avgur/transfers https://golos.io/@avgur/transfers\n",
        "PageView /@avgur https://golos.io/@avgur\n",
        "PageView /ru--golos/@avgur/okhota-na-botov-otchet https://golos.io/ru--golos/@avgur/okhota-na-botov-otchet\n",
        "PageView /created https://golos.io/created\n",
        "PageView /hot https://golos.io/hot\n",
        "PageView /ru--kriptonovosti/@mir/v-ukraine-gotovyat-zakon-pro-oborot-kriptovalyut-molniya-07-10-17-kriptonovosti-ot-mir https://golos.io/ru--kriptonovosti/@mir/v-ukraine-gotovyat-zakon-pro-oborot-kriptovalyut-molniya-07-10-17-kriptonovosti-ot-mir\n",
        "PageView /trending https://golos.io/trending\n",
        "PageView /ru--mir-kino/@vp-mir-kino/tikha-ukrainskaya-noch-gogol-nachalo-egora-baranova https://golos.io/ru--mir-kino/@vp-mir-kino/tikha-ukrainskaya-noch-gogol-nachalo-egora-baranova\n",
        "PageView /@avgur https://golos.io/@avgur\n",
        "PageView /@avgur/transfers https://golos.io/@avgur/transfers\n",
        "PageView /@avgur https://golos.io/@avgur\n",
        "PageView /ru--golos/@avgur/okhota-na-botov-otchet https://golos.io/ru--golos/@avgur/okhota-na-botov-otchet\n",
        "PageView /@seriy https://golos.io/@seriy\n",
        "PageView /@avgur https://golos.io/@avgur\n",
        "PageView /ru--gaz/@avgur/okhota-na-botov-chast-pervaya https://golos.io/ru--gaz/@avgur/okhota-na-botov-chast-pervaya\n",
        "PageView /@avgur/transfers https://golos.io/@avgur/transfers\n",
        "PageView /@avgur https://golos.io/@avgur\n",
        "PageView /@avgur/transfers https://golos.io/@avgur/transfers\n",
        "PageView /@now https://golos.io/@now\n",
        "Vote @now/kak-na-samom-dele-rabotayut-kvadratichnye-nachisleniya-golosa-2kh-50-50 https://golos.io/@now\n",
        "PageView /@now/transfers https://golos.io/@now/transfers\n",
        "PageView /@now https://golos.io/@now\n",
        "PageView /ru--apvot50-50/@now/kak-na-samom-dele-rabotayut-kvadratichnye-nachisleniya-golosa-2kh-50-50 https://golos.io/ru--apvot50-50/@now/kak-na-samom-dele-rabotayut-kvadratichnye-nachisleniya-golosa-2kh-50-50\n",
        "PageView /@avgur https://golos.io/@avgur\n",
        "PageView /ru--golos/@avgur/okhota-na-botov-otchet https://golos.io/ru--golos/@avgur/okhota-na-botov-otchet\n",
        "PageView /@us5maq2 https://golos.io/@us5maq2\n",
        "Vote @us5maq2/moe-uvlechenie https://golos.io/@us5maq2\n",
        "PageView /ru--uvlechenie/@us5maq2/moe-uvlechenie https://golos.io/ru--uvlechenie/@us5maq2/moe-uvlechenie\n",
        "PageView /@avgur https://golos.io/@avgur\n",
        "PageView /@avgur/transfers https://golos.io/@avgur/transfers\n",
        "PageView /@avgur https://golos.io/@avgur\n",
        "PageView /ru--gaz/@avgur/okhota-na-botov-chast-pervaya https://golos.io/ru--gaz/@avgur/okhota-na-botov-chast-pervaya\n",
        "PageView /created https://golos.io/created\n",
        "PageView /hot https://golos.io/hot\n",
        "PageView /ru--gaz/@avgur/okhota-na-botov-chast-pervaya https://golos.io/ru--gaz/@avgur/okhota-na-botov-chast-pervaya\n",
        "PageView /@avgur https://golos.io/@avgur\n",
        "PageView /ru--golos/@avgur/okhota-na-botov-otchet https://golos.io/ru--golos/@avgur/okhota-na-botov-otchet\n",
        "PageView /ru--gaz/@avgur/okhota-na-botov-chast-pervaya https://golos.io/ru--gaz/@avgur/okhota-na-botov-chast-pervaya\n",
        "PageView /@avgur https://golos.io/@avgur\n",
        "PageView /hot https://golos.io/hot\n",
        "PageView /ru--golos/@gloriya/khakery-dobyvayut-kriptovalyutu-cherez-brauzery-rossiiskikh-polzovatelei https://golos.io/ru--golos/@gloriya/khakery-dobyvayut-kriptovalyutu-cherez-brauzery-rossiiskikh-polzovatelei\n",
        "PageView /@avgur https://golos.io/@avgur\n",
        "PageView /@avgur/transfers https://golos.io/@avgur/transfers\n",
        "PageView /@avgur https://golos.io/@avgur\n",
        "PageView /@avgur/transfers https://golos.io/@avgur/transfers\n",
        "PageView /@avgur https://golos.io/@avgur\n",
        "PageView /ru--golos/@avgur/okhota-na-botov-otchet https://golos.io/ru--golos/@avgur/okhota-na-botov-otchet\n",
        "PageView /@avgur/transfers https://golos.io/@avgur/transfers\n",
        "PageView /@avgur https://golos.io/@avgur\n",
        "PageView /submit.html https://golos.io/submit.html\n",
        "PageView /@avgur https://golos.io/@avgur\n",
        "PageView /ru--gaz/@avgur/okhota-na-botov-chast-pervaya https://golos.io/ru--gaz/@avgur/okhota-na-botov-chast-pervaya\n",
        "PageView /submit.html https://golos.io/submit.html\n",
        "PageView /created https://golos.io/created\n",
        "PageView /@avgur https://golos.io/@avgur\n",
        "PageView /created https://golos.io/created\n",
        "PageView /hot https://golos.io/hot\n",
        "PageView /created https://golos.io/created\n",
        "PageView /ru--golos/@avgur/okhota-na-botov-konkurs-100 https://golos.io/ru--golos/@avgur/okhota-na-botov-konkurs-100\n",
        "PageView /@avgur https://golos.io/@avgur\n",
        "PageView /@avgur/transfers https://golos.io/@avgur/transfers\n",
        "PageView /@avgur https://golos.io/@avgur\n",
        "PageView /ru--golos/@avgur/okhota-na-botov-konkurs-100 https://golos.io/ru--golos/@avgur/okhota-na-botov-konkurs-100\n",
        "PageView /@avgur/transfers https://golos.io/@avgur/transfers\n",
        "PageView /@avgur https://golos.io/@avgur\n",
        "PageView /ru--golos/@avgur/okhota-na-botov-konkurs-100 https://golos.io/ru--golos/@avgur/okhota-na-botov-konkurs-100\n",
        "PageView /created https://golos.io/created\n",
        "PageView /ru--golos/@avgur/okhota-na-botov-konkurs-100 https://golos.io/ru--golos/@avgur/okhota-na-botov-konkurs-100\n",
        "PageView /@avgur https://golos.io/@avgur\n",
        "PageView /ru--lyubovx/@avgur/kak-nachinaetsya-noch https://golos.io/ru--lyubovx/@avgur/kak-nachinaetsya-noch\n",
        "PageView /@avgur/transfers https://golos.io/@avgur/transfers\n",
        "PageView /@avgur https://golos.io/@avgur\n",
        "PageView /ru--golos/@avgur/okhota-na-botov-otchet https://golos.io/ru--golos/@avgur/okhota-na-botov-otchet\n",
        "PageView /@avgur/transfers https://golos.io/@avgur/transfers\n",
        "PageView /@avgur https://golos.io/@avgur\n",
        "PageView /ru--golos/@avgur/okhota-na-botov-konkurs-100 https://golos.io/ru--golos/@avgur/okhota-na-botov-konkurs-100\n",
        "PageView /created https://golos.io/created\n",
        "PageView /ru--golos/@avgur/okhota-na-botov-konkurs-100 https://golos.io/ru--golos/@avgur/okhota-na-botov-konkurs-100\n",
        "PageView /@avgur https://golos.io/@avgur\n",
        "PageView /@avgur/transfers https://golos.io/@avgur/transfers\n",
        "PageView /hot https://golos.io/hot\n",
        "PageView /ru--blokcheijn/@blockchained/nachalas-prodazha-tokenov-bitspark-zephyr https://golos.io/ru--blokcheijn/@blockchained/nachalas-prodazha-tokenov-bitspark-zephyr\n",
        "PageView /@avgur/transfers https://golos.io/@avgur/transfers\n",
        "PageView /@avgur https://golos.io/@avgur\n",
        "PageView /ru--golos/@avgur/okhota-na-botov-konkurs-100 https://golos.io/ru--golos/@avgur/okhota-na-botov-konkurs-100\n",
        "PageView /@nimogsm https://golos.io/@nimogsm\n",
        "PageView /@avgur https://golos.io/@avgur\n",
        "PageView /ru--golos/@avgur/okhota-na-botov-konkurs-100 https://golos.io/ru--golos/@avgur/okhota-na-botov-konkurs-100\n",
        "PageView /@golosboard https://golos.io/@golosboard\n",
        "PageView /@avgur https://golos.io/@avgur\n",
        "PageView /ru--golos/@avgur/okhota-na-botov-konkurs-100 https://golos.io/ru--golos/@avgur/okhota-na-botov-konkurs-100\n",
        "PageView /@avgur/transfers https://golos.io/@avgur/transfers\n",
        "PageView /@avgur https://golos.io/@avgur\n",
        "PageView /created https://golos.io/created\n",
        "PageView /hot https://golos.io/hot\n",
        "PageView /@avgur https://golos.io/@avgur\n",
        "PageView /ru--golos/@avgur/okhota-na-botov-konkurs-100 https://golos.io/ru--golos/@avgur/okhota-na-botov-konkurs-100\n",
        "PageView /ru--golos/@avgur/okhota-na-botov-otchet https://golos.io/ru--golos/@avgur/okhota-na-botov-otchet\n",
        "PageView /created https://golos.io/created\n",
        "PageView /ru--tvorchestvo/@grisha-danunaher/moi-vtoroi-vernisazh https://golos.io/ru--tvorchestvo/@grisha-danunaher/moi-vtoroi-vernisazh\n",
        "Vote @grisha-danunaher/moi-vtoroi-vernisazh https://golos.io/ru--tvorchestvo/@grisha-danunaher/moi-vtoroi-vernisazh\n",
        "Comment /api/v1/record_event https://golos.io/ru--tvorchestvo/@grisha-danunaher/moi-vtoroi-vernisazh\n",
        "PageView /@grisha-danunaher https://golos.io/@grisha-danunaher\n",
        "PageView /@grisha-danunaher/transfers https://golos.io/@grisha-danunaher/transfers\n",
        "PageView /@avgur https://golos.io/@avgur\n",
        "PageView /created https://golos.io/created\n",
        "PageView /@avgur https://golos.io/@avgur\n",
        "PageView /@avgur/transfers https://golos.io/@avgur/transfers\n",
        "PageView /@avgur https://golos.io/@avgur\n",
        "PageView /created https://golos.io/created\n",
        "PageView /ru--gaz/@avgur/okhota-na-botov-chast-pervaya https://golos.io/ru--gaz/@avgur/okhota-na-botov-chast-pervaya\n",
        "PageView /@avgur https://golos.io/@avgur\n",
        "PageView /ru--golos/@avgur/okhota-na-botov-konkurs-100 https://golos.io/ru--golos/@avgur/okhota-na-botov-konkurs-100\n",
        "PageView /trending https://golos.io/trending\n",
        "PageView /ru--tekhnologii/@konstantin/iskusstvennyi-intellekt-mozhet-byt-ispolzovan-v-kachestve-instrumenta-dlya-podbora-parolei https://golos.io/ru--tekhnologii/@konstantin/iskusstvennyi-intellekt-mozhet-byt-ispolzovan-v-kachestve-instrumenta-dlya-podbora-parolei\n",
        "PageView /trending/ai https://golos.io/trending/ai\n",
        "PageView /@avgur https://golos.io/@avgur\n",
        "PageView /@avgur/transfers https://golos.io/@avgur/transfers\n",
        "PageView /@avgur https://golos.io/@avgur\n",
        "PageView /@avgur/transfers https://golos.io/@avgur/transfers\n",
        "PageView /@avgur https://golos.io/@avgur\n",
        "PageView /ru--golos/@avgur/okhota-na-botov-konkurs-100 https://golos.io/ru--golos/@avgur/okhota-na-botov-konkurs-100\n",
        "PageView /hot https://golos.io/hot\n",
        "Vote @aleco/skoro-budet-rovno-god-kak-proizoshel-start-mediablokcheina-golos https://golos.io/hot\n",
        "PageView /ru--golos/@aleco/skoro-budet-rovno-god-kak-proizoshel-start-mediablokcheina-golos https://golos.io/ru--golos/@aleco/skoro-budet-rovno-god-kak-proizoshel-start-mediablokcheina-golos\n",
        "Comment /api/v1/record_event https://golos.io/ru--golos/@aleco/skoro-budet-rovno-god-kak-proizoshel-start-mediablokcheina-golos\n",
        "PageView /@avgur https://golos.io/@avgur\n",
        "PageView /@avgur/transfers https://golos.io/@avgur/transfers\n",
        "PageView /@avgur https://golos.io/@avgur\n",
        "PageView /created https://golos.io/created\n",
        "PageView /ru--denxgi/@larks500/providenve-ico-maltiiskogo-kripto-kazino https://golos.io/ru--denxgi/@larks500/providenve-ico-maltiiskogo-kripto-kazino\n",
        "Vote @larks500/providenve-ico-maltiiskogo-kripto-kazino https://golos.io/ru--denxgi/@larks500/providenve-ico-maltiiskogo-kripto-kazino\n",
        "Comment /api/v1/record_event https://golos.io/ru--denxgi/@larks500/providenve-ico-maltiiskogo-kripto-kazino\n",
        "PageView /@avgur https://golos.io/@avgur\n",
        "PageView /@avgur/transfers https://golos.io/@avgur/transfers\n",
        "PageView /@avgur https://golos.io/@avgur\n",
        "PageView /ru--obrazovanie/@smotritelmayaka/literaturnyi-kalendar-7-oktyabrya https://golos.io/ru--obrazovanie/@smotritelmayaka/literaturnyi-kalendar-7-oktyabrya\n",
        "PageView /@avgur https://golos.io/@avgur\n",
        "PageView /ru--golos/@avgur/okhota-na-botov-konkurs-100 https://golos.io/ru--golos/@avgur/okhota-na-botov-konkurs-100\n",
        "PageView /@avgur/transfers https://golos.io/@avgur/transfers\n",
        "PageView /@avgur https://golos.io/@avgur\n",
        "PageView /ru--golos/@avgur/okhota-na-botov-otchet https://golos.io/ru--golos/@avgur/okhota-na-botov-otchet\n",
        "PageView /ru--gaz/@avgur/okhota-na-botov-chast-pervaya https://golos.io/ru--gaz/@avgur/okhota-na-botov-chast-pervaya\n",
        "PageView /@avgur/transfers https://golos.io/@avgur/transfers\n",
        "PageView /@avgur https://golos.io/@avgur\n",
        "PageView /ru--zhiznx/@avgur/arkhangel-mikhail https://golos.io/ru--zhiznx/@avgur/arkhangel-mikhail\n",
        "PageView /@avgur/transfers https://golos.io/@avgur/transfers\n",
        "PageView"
       ]
      },
      {
       "output_type": "stream",
       "stream": "stdout",
       "text": [
        " /@avgur https://golos.io/@avgur\n",
        "PageView /created https://golos.io/created\n",
        "PageView /ru--fotografiya/@romanskv/zontik-grib https://golos.io/ru--fotografiya/@romanskv/zontik-grib\n",
        "PageView /trending https://golos.io/trending\n",
        "PageView /betterenglish/@santa-barbara/govorim-po-angliiski-o-schastlivom-chase-chyornykh-russkikh-i-moskovskom-mule https://golos.io/betterenglish/@santa-barbara/govorim-po-angliiski-o-schastlivom-chase-chyornykh-russkikh-i-moskovskom-mule\n",
        "PageView /ru--golos/@wealthycat/predprinimatelstvo-na-golos-uchites-na-chuzhikh-oshibkakh https://golos.io/ru--golos/@wealthycat/predprinimatelstvo-na-golos-uchites-na-chuzhikh-oshibkakh\n",
        "PageView /@studychain https://golos.io/@studychain\n",
        "PageView /@studychain/transfers https://golos.io/@studychain/transfers\n",
        "PageView /@avgur https://golos.io/@avgur\n",
        "PageView /@avgur/transfers https://golos.io/@avgur/transfers\n",
        "PageView /@avgur https://golos.io/@avgur\n",
        "PageView /@avgur https://golos.io/@avgur\n",
        "PageView /ru--gaz/@avgur/okhota-na-botov-chast-pervaya https://golos.io/ru--gaz/@avgur/okhota-na-botov-chast-pervaya\n",
        "PageView /created https://golos.io/created\n",
        "PageView /ru--tvorchestvo/@grisha-danunaher/moi-vtoroi-vernisazh https://golos.io/ru--tvorchestvo/@grisha-danunaher/moi-vtoroi-vernisazh\n",
        "PageView /@grisha-danunaher https://golos.io/@grisha-danunaher\n",
        "PageView /ru--yumor/@grisha-danunaher/berlinskaya-osen https://golos.io/ru--yumor/@grisha-danunaher/berlinskaya-osen\n",
        "PageView /ru--tvorchestvo/@grisha-danunaher/moya-berlinskaya-vystavka-chast-2 https://golos.io/ru--tvorchestvo/@grisha-danunaher/moya-berlinskaya-vystavka-chast-2\n",
        "PageView /@avgur https://golos.io/@avgur\n",
        "PageView /submit.html https://golos.io/submit.html\n",
        "PageView /@avgur https://golos.io/@avgur\n",
        "PageView /submit.html https://golos.io/submit.html\n",
        "PageView /created https://golos.io/created\n",
        "PageView /ru--golos/@avgur/okhota-na-botov https://golos.io/ru--golos/@avgur/okhota-na-botov\n",
        "PageView /@avgur https://golos.io/@avgur\n",
        "PageView /ru--golos/@avgur/okhota-na-botov https://golos.io/ru--golos/@avgur/okhota-na-botov\n",
        "PageView /@avgur/transfers https://golos.io/@avgur/transfers\n",
        "PageView /@avgur https://golos.io/@avgur\n",
        "PageView /created https://golos.io/created\n",
        "PageView /ru--golos/@avgur/okhota-na-botov https://golos.io/ru--golos/@avgur/okhota-na-botov\n",
        "PageView /@avgur https://golos.io/@avgur\n",
        "PageView /ru--golos/@avgur/okhota-na-botov-konkurs-100 https://golos.io/ru--golos/@avgur/okhota-na-botov-konkurs-100\n",
        "PageView /@avgur/transfers https://golos.io/@avgur/transfers\n",
        "PageView /@avgur https://golos.io/@avgur\n",
        "PageView /created/ru--golos https://golos.io/created/ru--golos\n",
        "PageView /@avgur https://golos.io/@avgur\n",
        "PageView /hot https://golos.io/hot\n",
        "PageView /@avgur https://golos.io/@avgur\n",
        "PageView /ru--golos/@avgur/okhota-na-botov-konkurs-100 https://golos.io/ru--golos/@avgur/okhota-na-botov-konkurs-100\n",
        "PageView /ru--gaz/@avgur/okhota-na-botov-chast-pervaya https://golos.io/ru--gaz/@avgur/okhota-na-botov-chast-pervaya\n",
        "PageView /ru--golos/@avgur/okhota-na-botov https://golos.io/ru--golos/@avgur/okhota-na-botov\n",
        "PageView /created/ru--golos https://golos.io/created/ru--golos\n",
        "PageView /@avgur https://golos.io/@avgur\n",
        "PageView /@avgur/transfers https://golos.io/@avgur/transfers\n",
        "PageView /@robot https://golos.io/@robot\n",
        "PageView /@robot/transfers https://golos.io/@robot/transfers\n",
        "PageView /@robot https://golos.io/@robot\n",
        "PageView /ru--golos/@vik/reblogger-js-skript-dlya-avtomaticheskogo-rebloga-podpischikov-s-uchetom-vybrannykh-tegov-iskhodnyi-kod-urok https://golos.io/ru--golos/@vik/reblogger-js-skript-dlya-avtomaticheskogo-rebloga-podpischikov-s-uchetom-vybrannykh-tegov-iskhodnyi-kod-urok\n",
        "PageView /@siberianshamen https://golos.io/@siberianshamen\n",
        "PageView /ru--apvot50-50/@mike2mike/na-perepute-50-50 https://golos.io/ru--apvot50-50/@mike2mike/na-perepute-50-50\n",
        "PageView /ru--apvot50-50/@elviento/obozrevatel-vyplat-proekta-50-50-period-s-27-09-2017-po-04-10-2017 https://golos.io/ru--apvot50-50/@elviento/obozrevatel-vyplat-proekta-50-50-period-s-27-09-2017-po-04-10-2017\n",
        "PageView /ru--apvot50-50/@siberianshamen/napominanie-po-50-50 https://golos.io/ru--apvot50-50/@siberianshamen/napominanie-po-50-50\n",
        "PageView /ru--apvot50-50/@siberianshamen/stop-list-i-chto-s-nim-delat-50-50 https://golos.io/ru--apvot50-50/@siberianshamen/stop-list-i-chto-s-nim-delat-50-50\n",
        "PageView /ru--apvot50-50/@siberianshamen/kak-podklyuchitsya-k-proektu-50-50 https://golos.io/ru--apvot50-50/@siberianshamen/kak-podklyuchitsya-k-proektu-50-50\n",
        "PageView /@avgur https://golos.io/@avgur\n",
        "PageView /submit.html https://golos.io/submit.html\n",
        "PageView /@avgur https://golos.io/@avgur\n",
        "PageView /submit.html https://golos.io/submit.html\n",
        "PageView /@avgur https://golos.io/@avgur\n",
        "PageView /@avgur/transfers https://golos.io/@avgur/transfers\n",
        "PageView /@azarovskiy https://golos.io/@azarovskiy\n",
        "PageView /submit.html https://golos.io/submit.html\n",
        "PageView /created https://golos.io/created\n",
        "PageView /@avgur https://golos.io/@avgur\n",
        "PageView /@avgur/transfers https://golos.io/@avgur/transfers\n",
        "PageView /ru--golos/@avgur/okhota-na-botov https://golos.io/ru--golos/@avgur/okhota-na-botov\n",
        "PageView /@avgur https://golos.io/@avgur\n",
        "PageView /ru--apvot50-50/@avgur/3rjbul-okhota-na-botov https://golos.io/ru--apvot50-50/@avgur/3rjbul-okhota-na-botov\n",
        "PageView /ru--apvot50-50/@avgur/3rjbul-okhota-na-botov https://golos.io/ru--apvot50-50/@avgur/3rjbul-okhota-na-botov\n",
        "PageView /@avgur https://golos.io/@avgur\n",
        "PageView /ru--apvot50-50/@avgur/3rjbul-okhota-na-botov https://golos.io/ru--apvot50-50/@avgur/3rjbul-okhota-na-botov\n",
        "PageView /@avgur/transfers https://golos.io/@avgur/transfers\n",
        "PageView /@avgur https://golos.io/@avgur\n",
        "PageView /created https://golos.io/created\n",
        "PageView /ru--apvot50-50/@avgur/3rjbul-okhota-na-botov https://golos.io/ru--apvot50-50/@avgur/3rjbul-okhota-na-botov\n",
        "PageView /@avgur https://golos.io/@avgur\n",
        "PageView /@avgur/transfers https://golos.io/@avgur/transfers\n",
        "PageView /@avgur https://golos.io/@avgur\n",
        "PageView /@avgur/transfers https://golos.io/@avgur/transfers\n",
        "PageView /@avgur https://golos.io/@avgur\n",
        "PageView /created https://golos.io/created\n",
        "PageView /ru--reijting/@t3ran13/29-09-2017-05-10-2017-luchshee-za-nedelyu-ili-dlya-tekh-kto-propustil-samoe-interesnoe-na-osnove-reputacii-po-tegam https://golos.io/ru--reijting/@t3ran13/29-09-2017-05-10-2017-luchshee-za-nedelyu-ili-dlya-tekh-kto-propustil-samoe-interesnoe-na-osnove-reputacii-po-tegam\n",
        "PageView /@avgur https://golos.io/@avgur\n",
        "PageView /@avgur/transfers https://golos.io/@avgur/transfers\n",
        "PageView /@avgur https://golos.io/@avgur\n",
        "PageView /ru--apvot50-50/@avgur/3rjbul-okhota-na-botov https://golos.io/ru--apvot50-50/@avgur/3rjbul-okhota-na-botov\n",
        "PageView /@anyx https://golos.io/@anyx\n",
        "PageView /@anyx/transfers https://golos.io/@anyx/transfers\n",
        "PageView /@anyx https://golos.io/@anyx\n",
        "PageView /@anyx/followed https://golos.io/@anyx/followed\n",
        "PageView /@aleksandraz https://golos.io/@aleksandraz\n",
        "PageView /@anyx/followed https://golos.io/@anyx/followed\n",
        "PageView /@ausbitbank https://golos.io/@ausbitbank\n",
        "PageView /@anyx/followed https://golos.io/@anyx/followed\n",
        "PageView /@dr2073 https://golos.io/@dr2073\n",
        "PageView /@anyx/followed https://golos.io/@anyx/followed\n",
        "PageView /@good-karma https://golos.io/@good-karma\n",
        "PageView /@anyx/followed https://golos.io/@anyx/followed\n",
        "PageView /@avgur https://golos.io/@avgur\n",
        "PageView /@avgur/transfers https://golos.io/@avgur/transfers\n",
        "PageView /@avgur https://golos.io/@avgur\n",
        "PageView /created https://golos.io/created\n",
        "PageView /vox-populi/@just-life/bez-kornei https://golos.io/vox-populi/@just-life/bez-kornei\n",
        "PageView /@avgur https://golos.io/@avgur\n",
        "PageView /@avgur/transfers https://golos.io/@avgur/transfers\n",
        "PageView /@avgur https://golos.io/@avgur\n",
        "PageView /@avgur/transfers https://golos.io/@avgur/transfers\n",
        "PageView /@avgur https://golos.io/@avgur\n",
        "PageView /@avgur/transfers https://golos.io/@avgur/transfers\n",
        "PageView /@avgur https://golos.io/@avgur\n",
        "PageView /@avgur/transfers https://golos.io/@avgur/transfers\n",
        "PageView /@avgur https://golos.io/@avgur\n",
        "PageView /@avgur/transfers https://golos.io/@avgur/transfers\n",
        "PageView /@avgur https://golos.io/@avgur\n",
        "PageView /@avgur/transfers https://golos.io/@avgur/transfers\n",
        "PageView /@avgur https://golos.io/@avgur\n",
        "PageView /@avgur/transfers https://golos.io/@avgur/transfers\n",
        "PageView /ru--apvot50-50/@avgur/3rjbul-okhota-na-botov https://golos.io/ru--apvot50-50/@avgur/3rjbul-okhota-na-botov\n",
        "PageView /@avgur https://golos.io/@avgur\n",
        "PageView /@avgur/transfers https://golos.io/@avgur/transfers\n",
        "PageView /@avgur https://golos.io/@avgur\n",
        "PageView /@avgur/transfers https://golos.io/@avgur/transfers\n",
        "PageView /@avgur https://golos.io/@avgur\n",
        "PageView /created https://golos.io/created\n",
        "PageView /@avgur https://golos.io/@avgur\n",
        "PageView /@avgur/transfers https://golos.io/@avgur/transfers\n",
        "PageView /@avgur https://golos.io/@avgur\n",
        "PageView /ru--apvot50-50/@avgur/3rjbul-okhota-na-botov https://golos.io/ru--apvot50-50/@avgur/3rjbul-okhota-na-botov\n",
        "PageView /@avgur/transfers https://golos.io/@avgur/transfers\n",
        "PageView /@avgur https://golos.io/@avgur\n",
        "PageView /@avgur/transfers https://golos.io/@avgur/transfers\n",
        "PageView /@avgur https://golos.io/@avgur\n",
        "PageView /created https://golos.io/created\n",
        "PageView /hot https://golos.io/hot\n",
        "PageView /ru--khit-parad/@arcange/ezhednevnyi-khit-parad-20171006 https://golos.io/ru--khit-parad/@arcange/ezhednevnyi-khit-parad-20171006\n",
        "PageView /@avgur https://golos.io/@avgur\n",
        "PageView /@avgur/transfers https://golos.io/@avgur/transfers\n",
        "PageView /@avgur https://golos.io/@avgur\n",
        "PageView /ru--apvot50-50/@avgur/3rjbul-okhota-na-botov https://golos.io/ru--apvot50-50/@avgur/3rjbul-okhota-na-botov\n",
        "PageView /@avgur/transfers https://golos.io/@avgur/transfers\n",
        "PageView /@avgur https://golos.io/@avgur\n",
        "PageView /@avgur/transfers https://golos.io/@avgur/transfers\n",
        "PageView /@avgur https://golos.io/@avgur\n",
        "PageView /@avgur/transfers https://golos.io/@avgur/transfers\n",
        "PageView /@avgur https://golos.io/@avgur\n",
        "PageView /created https://golos.io/created\n",
        "PageView /hot https://golos.io/hot\n",
        "PageView /trending https://golos.io/trending\n",
        "PageView /@avgur https://golos.io/@avgur\n",
        "PageView /@avgur/transfers https://golos.io/@avgur/transfers\n",
        "PageView /@avgur https://golos.io/@avgur\n",
        "PageView /@avgur/transfers https://golos.io/@avgur/transfers\n",
        "PageView /@avgur https://golos.io/@avgur\n",
        "PageView /@avgur/transfers https://golos.io/@avgur/transfers\n",
        "PageView /@robot https://golos.io/@robot\n",
        "PageView /ru--golos/@vik/mgnovennaya-registraciya-akkauntov-na-golos-i-steem-bez-verifikacii-i-ogranichenii https://golos.io/ru--golos/@vik/mgnovennaya-registraciya-akkauntov-na-golos-i-steem-bez-verifikacii-i-ogranichenii\n",
        "PageView /@avgur https://golos.io/@avgur\n",
        "PageView /@avgur/transfers https://golos.io/@avgur/transfers\n",
        "PageView /@avgur https://golos.io/@avgur\n",
        "PageView /ru--golos/@avgur/okhota-na-botov-konkurs-100 https://golos.io/ru--golos/@avgur/okhota-na-botov-konkurs-100\n",
        "PageView /@avgur/transfers https://golos.io/@avgur/transfers\n",
        "PageView /@avgur https://golos.io/@avgur\n",
        "PageView /@avgur/transfers https://golos.io/@avgur/transfers\n",
        "PageView /@avgur https://golos.io/@avgur\n",
        "PageView /ru--apvot50-50/@avgur/3rjbul-okhota-na-botov https://golos.io/ru--apvot50-50/@avgur/3rjbul-okhota-na-botov\n",
        "PageView /@avgur/transfers https://golos.io/@avgur/transfers\n",
        "PageView /@avgur https://golos.io/@avgur\n",
        "PageView /@avgur/transfers https://golos.io/@avgur/transfers\n",
        "PageView /@avgur https://golos.io/@avgur\n",
        "PageView /@avgur/transfers https://golos.io/@avgur/transfers\n",
        "PageView /@avgur/comments https://golos.io/@avgur/comments\n",
        "PageView /golos/@raldin/investirovanie-golos-piar-i-prodvizhenie https://golos.io/golos/@raldin/investirovanie-golos-piar-i-prodvizhenie\n",
        "PageView /@student61 https://golos.io/@student61\n",
        "PageView /@avgur https://golos.io/@avgur\n",
        "PageView /@avgur/transfers https://golos.io/@avgur/transfers\n",
        "PageView /@avgur https://golos.io/@avgur\n",
        "PageView /@avgur/transfers https://golos.io/@avgur/transfers\n",
        "PageView /@avgur https://golos.io/@avgur\n",
        "PageView /trending https://golos.io/trending\n",
        "PageView /@avgur https://golos.io/@avgur\n",
        "PageView /@avgur/transfers https://golos.io/@avgur/transfers\n",
        "PageView /@avgur https://golos.io/@avgur\n",
        "PageView /@avgur/transfers https://golos.io/@avgur/transfers\n",
        "PageView /@avgur https://golos.io/@avgur\n",
        "PageView /created https://golos.io/created\n",
        "PageView /ru--apvot50-50/@ekaterinka/proekt-50-50-moya-proba https://golos.io/ru--apvot50-50/@ekaterinka/proekt-50-50-moya-proba\n",
        "PageView /@avgur https://golos.io/@avgur\n",
        "PageView /@avgur/transfers https://golos.io/@avgur/transfers\n",
        "PageView /@avgur https://golos.io/@avgur\n",
        "PageView /@avgur/transfers https://golos.io/@avgur/transfers\n",
        "PageView /@avgur https://golos.io/@avgur\n",
        "PageView /@avgur/comments https://golos.io/@avgur/comments\n",
        "PageView /golos/@raldin/investirovanie-golos-piar-i-prodvizhenie https://golos.io/golos/@raldin/investirovanie-golos-piar-i-prodvizhenie\n",
        "PageView /@raldin https://golos.io/@raldin\n",
        "PageView /ru--robot/@raldin/kuda-zhe-podevalis-uvedomleniya-na-golose https://golos.io/ru--robot/@raldin/kuda-zhe-podevalis-uvedomleniya-na-golose\n",
        "PageView /@raldin/transfers https://golos.io/@raldin/transfers\n",
        "PageView /@avgur https://golos.io/@avgur\n",
        "PageView /@avgur/transfers https://golos.io/@avgur/transfers\n",
        "PageView /@avgur https://golos.io/@avgur\n",
        "PageView /@avgur/transfers https://golos.io/@avgur/transfers\n",
        "PageView /@avgur https://golos.io/@avgur\n",
        "PageView /ru--poyeziya/@smotritelmayaka/podbirayu-slova https://golos.io/ru--poyeziya/@smotritelmayaka/podbirayu-slova\n",
        "PageView /@avgur https://golos.io/@avgur\n",
        "PageView /@avgur/transfers https://golos.io/@avgur/transfers\n",
        "PageView /@avgur https://golos.io/@avgur\n",
        "PageView /trending https://golos.io/trending\n",
        "PageView /@avgur https://golos.io/@avgur\n",
        "PageView /@avgur/transfers https://golos.io/@avgur/transfers\n",
        "PageView /@avgur https://golos.io/@avgur\n",
        "PageView /submit.html https://golos.io/submit.html\n",
        "PageView /created https://golos.io/created\n",
        "PageView /created https://golos.io/created\n",
        "PageView /ru--apvot50-50/@avgur/voennaya-razvedka-zadacha-i-sposoby-realizacii-1 https://golos.io/ru--apvot50-50/@avgur/voennaya-razvedka-zadacha-i-sposoby-realizacii-1\n",
        "PageView /@avgur https://golos.io/@avgur\n",
        "PageView /@avgur/transfers https://golos.io/@avgur/transfers\n",
        "PageView /@avgur https://golos.io/@avgur\n",
        "PageView /ru--apvot50-50/@avgur/3rjbul-okhota-na-botov https://golos.io/ru--apvot50-50/@avgur/3rjbul-okhota-na-botov\n",
        "PageView /ru--apvot50-50/@avgur/voennaya-razvedka-zadacha-i-sposoby-realizacii-1 https://golos.io/ru--apvot50-50/@avgur/voennaya-razvedka-zadacha-i-sposoby-realizacii-1\n",
        "PageView /@bydybogata https://golos.io/@bydybogata\n",
        "Vote @serfis/arkhitektura-goroda-apvot50-50 https://golos.io/@bydybogata\n",
        "PageView /@avgur https://golos.io/@avgur\n",
        "PageView /@avgur/transfers https://golos.io/@avgur/transfers\n",
        "PageView /@avgur https://golos.io/@avgur\n",
        "PageView /@avgur/transfers https://golos.io/@avgur/transfers\n",
        "PageView /@avgur https://golos.io/@avgur\n",
        "PageView /ru--apvot50-50/@avgur/voennaya-razvedka-zadacha-i-sposoby-realizacii-1 https://golos.io/ru--apvot50-50/@avgur/voennaya-razvedka-zadacha-i-sposoby-realizacii-1\n",
        "PageView /@avgur/transfers https://golos.io/@avgur/transfers\n",
        "PageView /@avgur https://golos.io/@avgur\n",
        "PageView /@avgur/transfers https://golos.io/@avgur/transfers\n",
        "PageView /@avgur https://golos.io/@avgur\n",
        "PageView /@avgur/transfers https://golos.io/@avgur/transfers\n",
        "PageView /@avgur https://golos.io/@avgur\n",
        "PageView /ru--apvot50-50/@avgur/3rjbul-okhota-na-botov https://golos.io/ru--apvot50-50/@avgur/3rjbul-okhota-na-botov\n",
        "PageView /@avgur/transfers https://golos.io/@avgur/transfers\n",
        "PageView /@avgur https://golos.io/@avgur\n",
        "PageView /ru--bergeny/@avgur/chto-my-znaem-o-bergenakh https://golos.io/ru--bergeny/@avgur/chto-my-znaem-o-bergenakh\n",
        "PageView /@avgur/transfers https://golos.io/@avgur/transfers\n",
        "PageView /@avgur https://golos.io/@avgur\n",
        "PageView /@avgur/transfers https://golos.io/@avgur/transfers\n",
        "PageView /@avgur https://golos.io/@avgur\n",
        "PageView /ru--apvot50-50/@avgur/voennaya-razvedka-zadacha-i-sposoby-realizacii-1 https://golos.io/ru--apvot50-50/@avgur/voennaya-razvedka-zadacha-i-sposoby-realizacii-1\n",
        "PageView /@avgur/transfers https://golos.io/@avgur/transfers\n",
        "PageView /@avgur https://golos.io/@avgur\n",
        "PageView /created/ru--apvot50-50 https://golos.io/created/ru--apvot50-50\n",
        "PageView /@avgur https://golos.io/@avgur\n",
        "PageView /@avgur/transfers https://golos.io/@avgur/transfers\n",
        "PageView /@avgur https://golos.io/@avgur\n",
        "PageView /@avgur/transfers https://golos.io/@avgur/transfers\n",
        "PageView /@avgur https://golos.io/@avgur\n",
        "PageView /ru--apvot50-50/@avgur/3rjbul-okhota-na-botov https://golos.io/ru--apvot50-50/@avgur/3rjbul-okhota-na-botov\n",
        "PageView /ru--apvot50-50/@avgur/voennaya-razvedka-zadacha-i-sposoby-realizacii-1 https://golos.io/ru--apvot50-50/@avgur/voennaya-razvedka-zadacha-i-sposoby-realizacii-1\n",
        "PageView /created/ru--apvot50-50 https://golos.io/created/ru--apvot50-50\n",
        "PageView /ru--apvot50-50/@avgur/voennaya-razvedka-zadacha-i-sposoby-realizacii-1 https://golos.io/ru--apvot50-50/@avgur/voennaya-razvedka-zadacha-i-sposoby-realizacii-1\n",
        "PageView /@avgur https://golos.io/@avgur\n",
        "PageView /@avgur/transfers https://golos.io/@avgur/transfers\n",
        "PageView /@avgur https://golos.io/@avgur\n",
        "PageView /@avgur/transfers https://golos.io/@avgur/transfers\n",
        "PageView /@avgur https://golos.io/@avgur\n",
        "PageView /@avgur/transfers https://golos.io/@avgur/transfers\n",
        "PageView /@avgur https://golos.io/@avgur\n",
        "PageView /@avgur/transfers https://golos.io/@avgur/transfers\n",
        "PageView /@avgur https://golos.io/@avgur\n",
        "PageView /@avgur/transfers https://golos.io/@avgur/transfers\n",
        "PageView /@avgur https://golos.io/@avgur\n",
        "PageView /@avgur/transfers https://golos.io/@avgur/transfers\n",
        "PageView /@avgur/transfers https://golos.io/@avgur/transfers\n",
        "PageView /@avgur https://golos.io/@avgur\n",
        "PageView /@avgur https://golos.io/@avgur\n",
        "PageView /trending https://golos.io/trending\n",
        "PageView /promoted https://golos.io/promoted\n",
        "PageView /ai/@aigents/poboltaem-o-botakh https://golos.io/ai/@aigents/poboltaem-o-botakh\n",
        "PageView /created https://golos.io/created\n",
        "PageView /hot https://golos.io/hot\n",
        "PageView /@avgur https://golos.io/@avgur\n",
        "PageView /@avgur/transfers https://golos.io/@avgur/transfers\n",
        "PageView /@avgur https://golos.io/@avgur\n",
        "PageView /created https://golos.io/created\n",
        "PageView /ru--trend/@khmerus/obshezhitie-2-0 https://golos.io/ru--trend/@khmerus/obshezhitie-2-0\n",
        "PageView /created https://golos.io/created\n",
        "PageView /hot https://golos.io/hot\n",
        "PageView /ru--statistika/@dmilash/otchet-po-flagam-7-oktyabrya-2017 https://golos.io/ru--statistika/@dmilash/otchet-po-flagam-7-oktyabrya-2017\n",
        "PageView /@avgur https://golos.io/@avgur\n",
        "PageView /@avgur/transfers https://golos.io/@avgur/transfers\n",
        "PageView /@avgur https://golos.io/@avgur\n",
        "PageView /@avgur/transfers https://golos.io/@avgur/transfers\n",
        "PageView /@avgur https://golos.io/@avgur\n",
        "PageView /@avgur/transfers https://golos.io/@avgur/transfers\n",
        "PageView /@azarovskiy https://golos.io/@azarovskiy\n",
        "PageView /ru--poyeziya/@azarovskiy/grafika https://golos.io/ru--poyeziya/@azarovskiy/grafika\n",
        "PageView /@avgur/transfers https://golos.io/@avgur/transfers\n",
        "PageView /@avgur https://golos.io/@avgur\n",
        "PageView /created https://golos.io/created\n",
        "PageView /submit.html https://golos.io/submit.html\n",
        "PageView /@avgur https://golos.io/@avgur\n",
        "PageView /submit.html https://golos.io/submit.html\n",
        "PageView /created https://golos.io/created\n",
        "PageView /@avgur https://golos.io/@avgur\n",
        "PageView /@avgur/transfers https://golos.io/@avgur/transfers\n",
        "PageView /@avgur https://golos.io/@avgur\n",
        "PageView /created https://golos.io/created\n",
        "PageView /ru--apvot50-50/@avgur/voennaya-razvedka-zadacha-i-sposoby-realizacii-2 https://golos.io/ru--apvot50-50/@avgur/voennaya-razvedka-zadacha-i-sposoby-realizacii-2\n",
        "PageView /@avgur/recent-replies https://golos.io/@avgur/recent-replies\n",
        "PageView /ru--apvot50-50/@avgur/3rjbul-okhota-na-botov https://golos.io/ru--apvot50-50/@avgur/3rjbul-okhota-na-botov\n",
        "PageView /ru--apvot50-50/@avgur/3rjbul-okhota-na-botov https://golos.io/ru--apvot50-50/@avgur/3rjbul-okhota-na-botov\n",
        "PageView /@avgur https://golos.io/@avgur\n",
        "PageView /@avgur/transfers https://golos.io/@avgur/transfers\n",
        "PageView /@avgur https://golos.io/@avgur\n",
        "PageView /created https://golos.io/created\n",
        "PageView /vox-populi/@vp-handmade/obnovlennoe-rukovodstvo-dlya-avtorov-soobshestva-gildiya-masterov-po-napisaniyu-statei https://golos.io/vox-populi/@vp-handmade/obnovlennoe-rukovodstvo-dlya-avtorov-soobshestva-gildiya-masterov-po-napisaniyu-statei\n",
        "PageView /@avgur https://golos.io/@avgur\n",
        "PageView /created https://golos.io/created\n",
        "PageView /vox-populi/@vp-handmade/obnovlennoe-rukovodstvo-dlya-avtorov-soobshestva-gildiya-masterov-po-napisaniyu-statei https://golos.io/vox-populi/@vp-handmade/obnovlennoe-rukovodstvo-dlya-avtorov-soobshestva-gildiya-masterov-po-napisaniyu-statei\n",
        "PageView /@avgur https://golos.io/@avgur\n",
        "PageView /@avgur/transfers https://golos.io/@avgur/transfers\n",
        "PageView /@avgur https://golos.io/@avgur\n",
        "PageView /created https://golos.io/created\n",
        "PageView /submit.html https://golos.io/submit.html\n",
        "PageView /created https://golos.io/created\n",
        "PageView /created https://golos.io/created\n",
        "PageView /ru--kriptopirozhok/@optimist/kriptopoema-o-golose-chast-2 https://golos.io/ru--kriptopirozhok/@optimist/kriptopoema-o-golose-chast-2\n",
        "PageView /@avgur https://golos.io/@avgur\n",
        "PageView /vox-populi/@avgur/2k87cy-voennaya-razvedka-zadacha-i-sposoby-realizacii-2 https://golos.io/vox-populi/@avgur/2k87cy-voennaya-razvedka-zadacha-i-sposoby-realizacii-2\n",
        "PageView /created https://golos.io/created\n",
        "PageView /ru--kriptopirozhok/@optimist/kriptopoema-o-golose-chast-2 https://golos.io/ru--kriptopirozhok/@optimist/kriptopoema-o-golose-chast-2\n",
        "PageView /created/ru--kriptopirozhki https://golos.io/created/ru--kriptopirozhki\n",
        "PageView /ru--kriptopirozhok/@optimist/kriptopoema-o-golose-chast-2 https://golos.io/ru--kriptopirozhok/@optimist/kriptopoema-o-golose-chast-2\n"
       ]
      }
     ],
     "prompt_number": 7
    },
    {
     "cell_type": "code",
     "collapsed": false,
     "input": [
      "import numpy as np\n",
      "import pandas as pd\n",
      "views = events[(events[\"event_type\"] == \"PageView\") & (~np.isnan(events[\"user_id\"]))]\n",
      "votes = events[(events[\"event_type\"] == \"Vote\") & (~np.isnan(events[\"user_id\"]))].set_index([\"user_id\", \"value\"])\n",
      "comments = events[(events[\"event_type\"] == \"Comment\") & (~np.isnan(events[\"user_id\"]))].set_index([\"user_id\", \"value\"])\n",
      "dataset = pd.DataFrame()\n",
      "ids = []\n",
      "links = []\n",
      "classes = []\n",
      "index = 0\n",
      "previous = 0\n",
      "\n",
      "for _, view in views.iterrows():\n",
      "    index += 1\n",
      "    current = float(index / views.shape[0]) * 100\n",
      "    if (previous + 0.5 < current):\n",
      "        previous = current\n",
      "        print(current, end=\"\\r\")\n",
      "    if (view[\"value\"].count('/') > 2):\n",
      "        ids.append(view[\"user_id\"])\n",
      "        links.append(\"http://golos.io/{}\".format(view[\"value\"]))\n",
      "        classes.append((view[\"user_id\"], view[\"value\"]) in votes.index or (view[\"user_id\"], view[\"value\"]) in comments.index)"
     ],
     "language": "python",
     "metadata": {},
     "outputs": [
      {
       "output_type": "stream",
       "stream": "stdout",
       "text": [
        "False\n",
        "False\n",
        "False\n",
        "False\n",
        "False\n",
        "False\n",
        "False\n",
        "False\n",
        "False\n",
        "False\n",
        "False\n",
        "False\n",
        "False\n",
        "False\n",
        "False\n",
        "False\n",
        "False\n",
        "False\n",
        "False\n",
        "False"
       ]
      },
      {
       "output_type": "stream",
       "stream": "stdout",
       "text": [
        "\n",
        "False\n",
        "False\n",
        "False\n",
        "False\n",
        "False\n",
        "False\n",
        "False\n",
        "False\n",
        "False\n",
        "False\n",
        "False\n",
        "False\n",
        "False\n",
        "False\n",
        "False\n",
        "False\n",
        "False\n",
        "False\n",
        "False"
       ]
      },
      {
       "output_type": "stream",
       "stream": "stdout",
       "text": [
        "\n",
        "False\n",
        "False\n",
        "False\n",
        "False\n",
        "False\n",
        "False\n",
        "False\n",
        "False\n",
        "False\n",
        "False\n",
        "False\n",
        "False\n",
        "False\n",
        "False\n",
        "False\n",
        "False\n",
        "False\n",
        "False\n",
        "False\n",
        "False"
       ]
      },
      {
       "output_type": "stream",
       "stream": "stdout",
       "text": [
        "\n",
        "False\n",
        "False\n",
        "False\n",
        "False\n",
        "False\n",
        "False\n",
        "False\n",
        "False\n",
        "False\n",
        "False\n",
        "False\n",
        "False\n",
        "False\n",
        "False\n",
        "False\n",
        "False\n",
        "False\n",
        "False\n",
        "False"
       ]
      },
      {
       "output_type": "stream",
       "stream": "stdout",
       "text": [
        "\n",
        "False\n",
        "False\n",
        "False\n",
        "False\n",
        "False\n",
        "False\n",
        "False\n",
        "False\n",
        "False\n",
        "False\n",
        "False\n",
        "False\n",
        "False\n",
        "False\n",
        "False\n",
        "False\n",
        "False\n",
        "False\n",
        "False\n",
        "False"
       ]
      },
      {
       "output_type": "stream",
       "stream": "stdout",
       "text": [
        "\n",
        "False\n",
        "False\n",
        "False\n",
        "False\n",
        "False\n",
        "False\n",
        "False\n",
        "False\n",
        "False\n",
        "False\n",
        "False\n",
        "False\n",
        "False\n",
        "False\n",
        "False\n",
        "False\n",
        "False\n",
        "False\n",
        "False\n",
        "False"
       ]
      },
      {
       "output_type": "stream",
       "stream": "stdout",
       "text": [
        "\n",
        "False\n",
        "False\n",
        "False\n",
        "False\n",
        "False\n",
        "False\n",
        "False\n",
        "False\n",
        "False\n",
        "False\n",
        "False\n",
        "False\n",
        "False\n",
        "False\n",
        "False\n",
        "False\n",
        "False\n",
        "False\n",
        "False\n",
        "False"
       ]
      },
      {
       "output_type": "stream",
       "stream": "stdout",
       "text": [
        "\n",
        "False\n",
        "False\n",
        "False\n",
        "False\n",
        "False\n",
        "False\n",
        "False\n",
        "False\n",
        "False\n",
        "False\n",
        "False\n",
        "False\n",
        "False\n",
        "False\n",
        "False\n",
        "False\n",
        "False\n",
        "False\n",
        "False"
       ]
      },
      {
       "output_type": "stream",
       "stream": "stdout",
       "text": [
        "\n",
        "False\n",
        "False\n",
        "False\n",
        "False\n",
        "False\n",
        "False\n",
        "False\n",
        "False\n",
        "False\n",
        "False\n",
        "False\n",
        "False\n",
        "False\n",
        "False\n",
        "False\n",
        "False\n",
        "False\n",
        "False\n",
        "False"
       ]
      },
      {
       "output_type": "stream",
       "stream": "stdout",
       "text": [
        "\n",
        "False\n",
        "False\n",
        "False\n",
        "False\n",
        "False\n",
        "False\n",
        "False\n",
        "False\n",
        "False\n",
        "False\n",
        "False\n",
        "False\n",
        "False\n",
        "False\n",
        "False\n",
        "False\n",
        "False\n",
        "False\n",
        "False"
       ]
      },
      {
       "output_type": "stream",
       "stream": "stdout",
       "text": [
        "\n",
        "False\n",
        "False\n",
        "False\n",
        "False\n",
        "False\n",
        "False\n",
        "False\n",
        "False\n",
        "False\n",
        "False\n",
        "False\n",
        "False\n",
        "False\n",
        "False\n",
        "False\n",
        "False\n",
        "False\n",
        "False\n",
        "False"
       ]
      },
      {
       "output_type": "stream",
       "stream": "stdout",
       "text": [
        "\n",
        "False\n",
        "False\n",
        "False\n",
        "False\n",
        "False\n",
        "False\n",
        "False\n",
        "False\n",
        "False\n",
        "False\n",
        "False\n",
        "False\n",
        "False\n",
        "False\n",
        "False\n",
        "False\n",
        "False\n",
        "False\n",
        "False"
       ]
      },
      {
       "output_type": "stream",
       "stream": "stdout",
       "text": [
        "\n",
        "False\n",
        "False\n",
        "False\n",
        "False\n",
        "False\n",
        "False\n",
        "False\n",
        "False\n",
        "False\n",
        "False\n",
        "False\n",
        "False\n",
        "False\n",
        "False\n",
        "False\n",
        "False\n",
        "False\n",
        "False\n",
        "False\n",
        "False"
       ]
      },
      {
       "output_type": "stream",
       "stream": "stdout",
       "text": [
        "\n",
        "False\n",
        "False\n",
        "False\n",
        "False\n",
        "False\n",
        "False\n",
        "False\n",
        "False\n",
        "False\n",
        "False\n",
        "False\n",
        "False\n",
        "False\n",
        "False\n",
        "False\n",
        "False\n",
        "False\n",
        "False\n",
        "False\n",
        "False"
       ]
      },
      {
       "output_type": "stream",
       "stream": "stdout",
       "text": [
        "\n",
        "False\n",
        "False\n",
        "False\n",
        "False\n",
        "False\n",
        "False\n",
        "False\n",
        "False\n",
        "False\n",
        "False\n",
        "False\n",
        "False\n",
        "False\n",
        "False\n",
        "False\n",
        "False\n",
        "False\n",
        "False\n",
        "False"
       ]
      },
      {
       "output_type": "stream",
       "stream": "stdout",
       "text": [
        "\n",
        "False\n",
        "False\n",
        "False\n",
        "False\n",
        "False\n",
        "False\n",
        "False\n",
        "False\n",
        "False\n",
        "False\n",
        "False\n",
        "False\n",
        "False\n",
        "False\n",
        "False\n",
        "False\n",
        "False\n",
        "False\n",
        "False"
       ]
      },
      {
       "output_type": "stream",
       "stream": "stdout",
       "text": [
        "\n",
        "False\n",
        "False\n",
        "False\n",
        "False\n",
        "False\n",
        "False\n",
        "False\n",
        "False\n",
        "False\n",
        "False\n",
        "False\n",
        "False\n",
        "False\n",
        "False\n",
        "False\n",
        "False\n",
        "False\n",
        "False\n",
        "False"
       ]
      },
      {
       "output_type": "stream",
       "stream": "stdout",
       "text": [
        "\n",
        "False\n",
        "False\n",
        "False\n",
        "False\n",
        "False\n",
        "False\n",
        "False\n",
        "False\n",
        "False\n",
        "False\n",
        "False\n",
        "False\n",
        "False\n",
        "False\n",
        "False\n",
        "False\n",
        "False\n",
        "False\n",
        "False"
       ]
      },
      {
       "output_type": "stream",
       "stream": "stdout",
       "text": [
        "\n",
        "False\n",
        "False\n",
        "False\n",
        "False\n",
        "False\n",
        "False\n",
        "False\n",
        "False\n",
        "False\n",
        "False\n",
        "False\n",
        "False\n",
        "False\n",
        "False\n",
        "False\n",
        "False\n",
        "False\n",
        "False\n",
        "False"
       ]
      },
      {
       "output_type": "stream",
       "stream": "stdout",
       "text": [
        "\n",
        "False\n",
        "False\n",
        "False\n",
        "False\n",
        "False\n",
        "False\n",
        "False\n",
        "False\n",
        "False\n",
        "False\n",
        "False\n",
        "False\n",
        "False\n",
        "False\n",
        "False\n",
        "False\n",
        "False\n",
        "False\n",
        "False"
       ]
      },
      {
       "output_type": "stream",
       "stream": "stdout",
       "text": [
        "\n",
        "False\n",
        "False\n",
        "False\n",
        "False\n",
        "False\n",
        "False\n",
        "False\n",
        "False\n",
        "False\n",
        "False\n",
        "False\n",
        "False\n",
        "False\n",
        "False\n",
        "False\n",
        "False\n",
        "False\n",
        "False\n",
        "False"
       ]
      },
      {
       "output_type": "stream",
       "stream": "stdout",
       "text": [
        "\n",
        "False\n",
        "False\n",
        "False\n",
        "False\n",
        "False\n",
        "False\n",
        "False\n",
        "False\n",
        "False\n",
        "False\n",
        "False\n",
        "False\n",
        "False\n",
        "False\n",
        "False\n",
        "False\n",
        "False\n",
        "False\n",
        "False"
       ]
      },
      {
       "output_type": "stream",
       "stream": "stdout",
       "text": [
        "\n",
        "False\n",
        "False\n",
        "False\n",
        "False\n",
        "False\n",
        "False\n",
        "False\n",
        "False\n",
        "False\n",
        "False\n",
        "False\n",
        "False\n",
        "False\n",
        "False\n",
        "False\n",
        "False\n",
        "False\n",
        "False\n",
        "False\n",
        "False"
       ]
      },
      {
       "output_type": "stream",
       "stream": "stdout",
       "text": [
        "\n",
        "False\n",
        "False\n",
        "False\n",
        "False\n",
        "False\n",
        "False\n",
        "False\n",
        "False\n",
        "False\n",
        "False\n",
        "False\n",
        "False\n",
        "False\n",
        "False\n",
        "False\n",
        "False\n",
        "False\n",
        "False\n",
        "False"
       ]
      },
      {
       "output_type": "stream",
       "stream": "stdout",
       "text": [
        "\n",
        "False\n",
        "False\n",
        "False\n",
        "False\n",
        "False\n",
        "False\n",
        "False\n",
        "False\n",
        "False\n",
        "False\n",
        "False\n",
        "False\n",
        "False\n",
        "False\n",
        "False\n",
        "False\n",
        "False\n",
        "False\n",
        "False\n",
        "False"
       ]
      },
      {
       "output_type": "stream",
       "stream": "stdout",
       "text": [
        "\n",
        "False\n",
        "False\n",
        "False\n",
        "False\n",
        "False\n",
        "False\n",
        "False\n",
        "False\n",
        "False\n",
        "False\n",
        "False\n",
        "False\n",
        "False\n",
        "False\n",
        "False\n",
        "False\n",
        "False\n",
        "False\n",
        "False"
       ]
      },
      {
       "output_type": "stream",
       "stream": "stdout",
       "text": [
        "\n",
        "False\n",
        "False\n",
        "False\n",
        "False\n",
        "False\n",
        "False\n",
        "False\n",
        "False\n",
        "False\n",
        "False\n",
        "False\n",
        "False\n",
        "False\n",
        "False\n",
        "False\n",
        "False\n",
        "False\n",
        "False\n",
        "False\n",
        "False"
       ]
      },
      {
       "output_type": "stream",
       "stream": "stdout",
       "text": [
        "\n",
        "False\n",
        "False\n",
        "False\n",
        "False\n",
        "False\n",
        "False\n",
        "False\n",
        "False\n",
        "False\n",
        "False\n",
        "False\n",
        "False\n",
        "False\n",
        "False\n",
        "False\n",
        "False\n",
        "False\n",
        "False\n",
        "False"
       ]
      },
      {
       "output_type": "stream",
       "stream": "stdout",
       "text": [
        "\n",
        "False\n",
        "False\n",
        "False\n",
        "False\n",
        "False\n",
        "False\n",
        "False\n",
        "False\n",
        "False\n",
        "False\n",
        "False\n",
        "False\n",
        "False\n",
        "False\n",
        "False\n",
        "False\n",
        "False\n",
        "False"
       ]
      },
      {
       "output_type": "stream",
       "stream": "stdout",
       "text": [
        "\n",
        "False\n",
        "False\n",
        "False\n",
        "False\n",
        "False\n",
        "False\n",
        "False\n",
        "False\n",
        "False\n",
        "False\n",
        "False\n",
        "False\n",
        "False\n",
        "False\n",
        "False\n",
        "False\n",
        "False\n",
        "False\n",
        "False"
       ]
      },
      {
       "output_type": "stream",
       "stream": "stdout",
       "text": [
        "\n",
        "False\n",
        "False\n",
        "False\n",
        "False\n",
        "False\n",
        "False\n",
        "False\n",
        "False\n",
        "False\n",
        "False\n",
        "False\n",
        "False\n",
        "False\n",
        "False\n",
        "False\n",
        "False\n",
        "False\n",
        "False\n",
        "False"
       ]
      },
      {
       "output_type": "stream",
       "stream": "stdout",
       "text": [
        "\n",
        "False\n",
        "False\n",
        "False\n",
        "False\n",
        "False\n",
        "False\n",
        "False\n",
        "False\n",
        "False\n",
        "False\n",
        "False\n",
        "False\n",
        "False\n",
        "False\n",
        "False\n",
        "False\n",
        "False\n",
        "False\n",
        "False"
       ]
      },
      {
       "output_type": "stream",
       "stream": "stdout",
       "text": [
        "\n",
        "False\n",
        "False\n",
        "False\n",
        "False\n",
        "False\n",
        "False\n",
        "False\n",
        "False\n",
        "False\n",
        "False\n",
        "False\n",
        "False\n",
        "False\n",
        "False\n",
        "False\n",
        "False\n",
        "False\n",
        "False\n",
        "False\n",
        "False"
       ]
      },
      {
       "output_type": "stream",
       "stream": "stdout",
       "text": [
        "\n",
        "False\n",
        "False\n",
        "False\n",
        "False\n",
        "False\n",
        "False\n",
        "False\n",
        "False\n",
        "False\n",
        "False\n",
        "False\n",
        "False\n",
        "False\n",
        "False\n",
        "False\n",
        "False\n",
        "False\n",
        "False\n",
        "False"
       ]
      },
      {
       "output_type": "stream",
       "stream": "stdout",
       "text": [
        "\n",
        "False\n",
        "False\n",
        "False\n",
        "False\n",
        "False\n",
        "False\n",
        "False\n",
        "False\n",
        "False\n",
        "False\n",
        "False\n",
        "False\n",
        "False\n",
        "False\n",
        "False\n",
        "False\n",
        "False\n",
        "False\n",
        "False"
       ]
      },
      {
       "output_type": "stream",
       "stream": "stdout",
       "text": [
        "\n",
        "False\n",
        "False\n",
        "False\n",
        "False\n",
        "False\n",
        "False\n",
        "False\n",
        "False\n",
        "False\n",
        "False\n",
        "False\n",
        "False\n",
        "False\n",
        "False\n",
        "False\n",
        "False\n",
        "False\n",
        "False"
       ]
      },
      {
       "output_type": "stream",
       "stream": "stdout",
       "text": [
        "\n",
        "False\n",
        "False\n",
        "False\n",
        "False\n",
        "False\n",
        "False\n",
        "False\n",
        "False\n",
        "False\n",
        "False\n",
        "False\n",
        "False\n",
        "False\n",
        "False\n",
        "False\n",
        "False\n",
        "False\n",
        "False\n",
        "False"
       ]
      },
      {
       "output_type": "stream",
       "stream": "stdout",
       "text": [
        "\n",
        "False\n",
        "False\n",
        "False\n",
        "False\n",
        "False\n",
        "False\n",
        "False\n",
        "False\n",
        "False\n",
        "False\n",
        "False\n",
        "False\n",
        "False\n",
        "False\n",
        "False\n",
        "False\n",
        "False\n",
        "False"
       ]
      },
      {
       "output_type": "stream",
       "stream": "stdout",
       "text": [
        "\n",
        "False\n",
        "False\n",
        "False\n",
        "False\n",
        "False\n",
        "False\n",
        "False\n",
        "False\n",
        "False\n",
        "False\n",
        "False\n",
        "False\n",
        "False\n",
        "False\n",
        "False\n",
        "False\n",
        "False\n",
        "False\n",
        "False"
       ]
      },
      {
       "output_type": "stream",
       "stream": "stdout",
       "text": [
        "\n",
        "False\n",
        "False\n",
        "False\n",
        "False\n",
        "False\n",
        "False\n",
        "False\n",
        "False\n",
        "False\n",
        "False\n",
        "False\n",
        "False\n",
        "False\n",
        "False\n",
        "False\n",
        "False\n",
        "False\n",
        "False\n",
        "False"
       ]
      },
      {
       "output_type": "stream",
       "stream": "stdout",
       "text": [
        "\n",
        "False\n",
        "False\n",
        "False\n",
        "False\n",
        "False\n",
        "False\n",
        "False\n",
        "False\n",
        "False\n",
        "False\n",
        "False\n",
        "False\n",
        "False\n",
        "False\n",
        "False\n",
        "False\n",
        "False\n",
        "False\n",
        "False"
       ]
      },
      {
       "output_type": "stream",
       "stream": "stdout",
       "text": [
        "\n",
        "False\n",
        "False\n",
        "False\n",
        "False\n",
        "False\n",
        "False\n",
        "False\n",
        "False\n",
        "False\n",
        "False\n",
        "False\n",
        "False\n",
        "False\n",
        "False\n",
        "False\n",
        "False\n",
        "False\n",
        "False\n",
        "False"
       ]
      },
      {
       "output_type": "stream",
       "stream": "stdout",
       "text": [
        "\n",
        "False\n",
        "False\n",
        "False\n",
        "False\n",
        "False\n",
        "False\n",
        "False\n",
        "False\n",
        "False\n",
        "False\n",
        "False\n",
        "False\n",
        "False\n",
        "False\n",
        "False\n",
        "False\n",
        "False\n",
        "False\n",
        "False"
       ]
      },
      {
       "output_type": "stream",
       "stream": "stdout",
       "text": [
        "\n",
        "False\n",
        "False\n",
        "False\n",
        "False\n",
        "False\n",
        "False\n",
        "False\n",
        "False\n",
        "False\n",
        "False\n",
        "False\n",
        "False\n",
        "False\n",
        "False\n",
        "False\n",
        "False\n",
        "False\n",
        "False\n",
        "False"
       ]
      },
      {
       "output_type": "stream",
       "stream": "stdout",
       "text": [
        "\n",
        "False\n",
        "False\n",
        "False\n",
        "False\n",
        "False\n",
        "False\n",
        "False\n",
        "False\n",
        "False\n",
        "False\n",
        "False\n",
        "False\n",
        "False\n",
        "False\n",
        "False\n",
        "False\n",
        "False\n",
        "False\n",
        "False\n",
        "False"
       ]
      },
      {
       "output_type": "stream",
       "stream": "stdout",
       "text": [
        "\n",
        "False\n",
        "False\n",
        "False\n",
        "False\n",
        "False\n",
        "False\n",
        "False\n",
        "False\n",
        "False\n",
        "False\n",
        "False\n",
        "False\n",
        "False\n",
        "False\n",
        "False\n",
        "False\n",
        "False\n",
        "False\n",
        "False\n",
        "False"
       ]
      },
      {
       "output_type": "stream",
       "stream": "stdout",
       "text": [
        "\n",
        "False\n",
        "False\n",
        "False\n",
        "False\n",
        "False\n",
        "False\n",
        "False\n",
        "False\n",
        "False\n",
        "False\n",
        "False\n",
        "False\n",
        "False\n",
        "False\n",
        "False\n",
        "False\n",
        "False\n",
        "False\n",
        "False"
       ]
      },
      {
       "output_type": "stream",
       "stream": "stdout",
       "text": [
        "\n",
        "False\n",
        "False\n",
        "False\n",
        "False\n",
        "False\n",
        "False\n",
        "False\n",
        "False\n",
        "False\n",
        "False\n",
        "False\n",
        "False\n",
        "False\n",
        "False\n",
        "False\n",
        "False\n",
        "False\n",
        "False\n",
        "False\n",
        "False"
       ]
      },
      {
       "output_type": "stream",
       "stream": "stdout",
       "text": [
        "\n",
        "False\n",
        "False\n",
        "False\n",
        "False\n",
        "False\n",
        "False\n"
       ]
      },
      {
       "output_type": "stream",
       "stream": "stderr",
       "text": [
        "/usr/lib/python3/dist-packages/tornado/stack_context.py:275: PerformanceWarning: indexing past lexsort depth may impact performance.\n",
        "  return fn(*args, **kwargs)\n"
       ]
      },
      {
       "ename": "KeyboardInterrupt",
       "evalue": "",
       "output_type": "pyerr",
       "traceback": [
        "\u001b[0;31m---------------------------------------------------------------------------\u001b[0m\n\u001b[0;31mKeyboardInterrupt\u001b[0m                         Traceback (most recent call last)",
        "\u001b[0;32m<ipython-input-6-1c16f8ba1201>\u001b[0m in \u001b[0;36m<module>\u001b[0;34m()\u001b[0m\n\u001b[1;32m     20\u001b[0m         \u001b[0mids\u001b[0m\u001b[0;34m.\u001b[0m\u001b[0mappend\u001b[0m\u001b[0;34m(\u001b[0m\u001b[0mview\u001b[0m\u001b[0;34m[\u001b[0m\u001b[0;34m\"user_id\"\u001b[0m\u001b[0;34m]\u001b[0m\u001b[0;34m)\u001b[0m\u001b[0;34m\u001b[0m\u001b[0m\n\u001b[1;32m     21\u001b[0m         \u001b[0mlinks\u001b[0m\u001b[0;34m.\u001b[0m\u001b[0mappend\u001b[0m\u001b[0;34m(\u001b[0m\u001b[0;34m\"http://golos.io/{}\"\u001b[0m\u001b[0;34m.\u001b[0m\u001b[0mformat\u001b[0m\u001b[0;34m(\u001b[0m\u001b[0mview\u001b[0m\u001b[0;34m[\u001b[0m\u001b[0;34m\"value\"\u001b[0m\u001b[0;34m]\u001b[0m\u001b[0;34m)\u001b[0m\u001b[0;34m)\u001b[0m\u001b[0;34m\u001b[0m\u001b[0m\n\u001b[0;32m---> 22\u001b[0;31m         \u001b[0mclasses\u001b[0m\u001b[0;34m.\u001b[0m\u001b[0mappend\u001b[0m\u001b[0;34m(\u001b[0m\u001b[0;34m(\u001b[0m\u001b[0mview\u001b[0m\u001b[0;34m[\u001b[0m\u001b[0;34m\"user_id\"\u001b[0m\u001b[0;34m]\u001b[0m\u001b[0;34m,\u001b[0m \u001b[0mview\u001b[0m\u001b[0;34m[\u001b[0m\u001b[0;34m\"value\"\u001b[0m\u001b[0;34m]\u001b[0m\u001b[0;34m)\u001b[0m \u001b[0;32min\u001b[0m \u001b[0mvotes\u001b[0m\u001b[0;34m.\u001b[0m\u001b[0mindex\u001b[0m \u001b[0;32mor\u001b[0m \u001b[0;34m(\u001b[0m\u001b[0mview\u001b[0m\u001b[0;34m[\u001b[0m\u001b[0;34m\"user_id\"\u001b[0m\u001b[0;34m]\u001b[0m\u001b[0;34m,\u001b[0m \u001b[0mview\u001b[0m\u001b[0;34m[\u001b[0m\u001b[0;34m\"value\"\u001b[0m\u001b[0;34m]\u001b[0m\u001b[0;34m)\u001b[0m \u001b[0;32min\u001b[0m \u001b[0mcomments\u001b[0m\u001b[0;34m.\u001b[0m\u001b[0mindex\u001b[0m\u001b[0;34m)\u001b[0m\u001b[0;34m\u001b[0m\u001b[0m\n\u001b[0m\u001b[1;32m     23\u001b[0m         \u001b[0mprint\u001b[0m\u001b[0;34m(\u001b[0m\u001b[0mclasses\u001b[0m\u001b[0;34m[\u001b[0m\u001b[0;34m-\u001b[0m\u001b[0;36m1\u001b[0m\u001b[0;34m]\u001b[0m\u001b[0;34m)\u001b[0m\u001b[0;34m\u001b[0m\u001b[0m\n",
        "\u001b[0;32m/usr/local/lib/python3.5/dist-packages/pandas/core/indexes/multi.py\u001b[0m in \u001b[0;36m__contains__\u001b[0;34m(self, key)\u001b[0m\n\u001b[1;32m   1337\u001b[0m         \u001b[0mhash\u001b[0m\u001b[0;34m(\u001b[0m\u001b[0mkey\u001b[0m\u001b[0;34m)\u001b[0m\u001b[0;34m\u001b[0m\u001b[0m\n\u001b[1;32m   1338\u001b[0m         \u001b[0;32mtry\u001b[0m\u001b[0;34m:\u001b[0m\u001b[0;34m\u001b[0m\u001b[0m\n\u001b[0;32m-> 1339\u001b[0;31m             \u001b[0mself\u001b[0m\u001b[0;34m.\u001b[0m\u001b[0mget_loc\u001b[0m\u001b[0;34m(\u001b[0m\u001b[0mkey\u001b[0m\u001b[0;34m)\u001b[0m\u001b[0;34m\u001b[0m\u001b[0m\n\u001b[0m\u001b[1;32m   1340\u001b[0m             \u001b[0;32mreturn\u001b[0m \u001b[0;32mTrue\u001b[0m\u001b[0;34m\u001b[0m\u001b[0m\n\u001b[1;32m   1341\u001b[0m         \u001b[0;32mexcept\u001b[0m \u001b[0mLookupError\u001b[0m\u001b[0;34m:\u001b[0m\u001b[0;34m\u001b[0m\u001b[0m\n",
        "\u001b[0;32m/usr/local/lib/python3.5/dist-packages/pandas/core/indexes/multi.py\u001b[0m in \u001b[0;36mget_loc\u001b[0;34m(self, key, method)\u001b[0m\n\u001b[1;32m   2018\u001b[0m                       PerformanceWarning, stacklevel=10)\n\u001b[1;32m   2019\u001b[0m \u001b[0;34m\u001b[0m\u001b[0m\n\u001b[0;32m-> 2020\u001b[0;31m         \u001b[0mloc\u001b[0m \u001b[0;34m=\u001b[0m \u001b[0mnp\u001b[0m\u001b[0;34m.\u001b[0m\u001b[0marange\u001b[0m\u001b[0;34m(\u001b[0m\u001b[0mstart\u001b[0m\u001b[0;34m,\u001b[0m \u001b[0mstop\u001b[0m\u001b[0;34m,\u001b[0m \u001b[0mdtype\u001b[0m\u001b[0;34m=\u001b[0m\u001b[0;34m'int64'\u001b[0m\u001b[0;34m)\u001b[0m\u001b[0;34m\u001b[0m\u001b[0m\n\u001b[0m\u001b[1;32m   2021\u001b[0m \u001b[0;34m\u001b[0m\u001b[0m\n\u001b[1;32m   2022\u001b[0m         \u001b[0;32mfor\u001b[0m \u001b[0mi\u001b[0m\u001b[0;34m,\u001b[0m \u001b[0mk\u001b[0m \u001b[0;32min\u001b[0m \u001b[0menumerate\u001b[0m\u001b[0;34m(\u001b[0m\u001b[0mfollow_key\u001b[0m\u001b[0;34m,\u001b[0m \u001b[0mlen\u001b[0m\u001b[0;34m(\u001b[0m\u001b[0mlead_key\u001b[0m\u001b[0;34m)\u001b[0m\u001b[0;34m)\u001b[0m\u001b[0;34m:\u001b[0m\u001b[0;34m\u001b[0m\u001b[0m\n",
        "\u001b[0;31mKeyboardInterrupt\u001b[0m: "
       ]
      }
     ],
     "prompt_number": 6
    },
    {
     "cell_type": "markdown",
     "metadata": {},
     "source": [
      "One hungred percent vote"
     ]
    },
    {
     "cell_type": "code",
     "collapsed": false,
     "input": [
      "import numpy as np\n",
      "import pandas as pd\n",
      "votes = events[(events[\"event_type\"] == \"Vote\") & (~np.isnan(events[\"user_id\"]))]\n",
      "dataset = pd.DataFrame()\n",
      "ids = []\n",
      "links = []\n",
      "classes = []\n",
      "index = 0\n",
      "previous = 0\n",
      "\n",
      "for _, vote in votes.iterrows():\n",
      "    index += 1\n",
      "    current = float(index / votes.shape[0]) * 100\n",
      "    if (previous + 0.5 < current):\n",
      "        previous = current\n",
      "        print(current, end=\"\\r\")\n",
      "    if (str(vote[\"value\"]) in str(vote[\"refurl\"])):\n",
      "        ids.append(vote[\"user_id\"])\n",
      "        links.append(\"http://golos.io/{}\".format(vote[\"value\"]))\n",
      "        classes.append(True)"
     ],
     "language": "python",
     "metadata": {},
     "outputs": [
      {
       "output_type": "stream",
       "stream": "stdout",
       "text": [
        "0.5001023633340012\r",
        "1.0002047266680023"
       ]
      },
      {
       "output_type": "stream",
       "stream": "stdout",
       "text": [
        "\r",
        "1.5003070900020035"
       ]
      },
      {
       "output_type": "stream",
       "stream": "stdout",
       "text": [
        "\r",
        "2.0004094533360046"
       ]
      },
      {
       "output_type": "stream",
       "stream": "stdout",
       "text": [
        "\r",
        "2.5005118166700058"
       ]
      },
      {
       "output_type": "stream",
       "stream": "stdout",
       "text": [
        "\r",
        "3.000614180004007"
       ]
      },
      {
       "output_type": "stream",
       "stream": "stdout",
       "text": [
        "\r",
        "3.500716543338008"
       ]
      },
      {
       "output_type": "stream",
       "stream": "stdout",
       "text": [
        "\r",
        "4.000818906672009"
       ]
      },
      {
       "output_type": "stream",
       "stream": "stdout",
       "text": [
        "\r",
        "4.50092127000601"
       ]
      },
      {
       "output_type": "stream",
       "stream": "stdout",
       "text": [
        "\r",
        "5.0010236333400115"
       ]
      },
      {
       "output_type": "stream",
       "stream": "stdout",
       "text": [
        "\r",
        "5.501125996674013"
       ]
      },
      {
       "output_type": "stream",
       "stream": "stdout",
       "text": [
        "\r",
        "6.001228360008014"
       ]
      },
      {
       "output_type": "stream",
       "stream": "stdout",
       "text": [
        "\r",
        "6.501330723342015"
       ]
      },
      {
       "output_type": "stream",
       "stream": "stdout",
       "text": [
        "\r",
        "7.001433086676016"
       ]
      },
      {
       "output_type": "stream",
       "stream": "stdout",
       "text": [
        "\r",
        "7.501535450010017"
       ]
      },
      {
       "output_type": "stream",
       "stream": "stdout",
       "text": [
        "\r",
        "8.001637813344018"
       ]
      },
      {
       "output_type": "stream",
       "stream": "stdout",
       "text": [
        "\r",
        "8.50174017667802"
       ]
      },
      {
       "output_type": "stream",
       "stream": "stdout",
       "text": [
        "\r",
        "9.00184254001202"
       ]
      },
      {
       "output_type": "stream",
       "stream": "stdout",
       "text": [
        "\r",
        "9.501944903346022"
       ]
      },
      {
       "output_type": "stream",
       "stream": "stdout",
       "text": [
        "\r",
        "10.002047266680023"
       ]
      },
      {
       "output_type": "stream",
       "stream": "stdout",
       "text": [
        "\r",
        "10.502149630014024"
       ]
      },
      {
       "output_type": "stream",
       "stream": "stdout",
       "text": [
        "\r",
        "11.002251993348025"
       ]
      },
      {
       "output_type": "stream",
       "stream": "stdout",
       "text": [
        "\r",
        "11.502354356682027"
       ]
      },
      {
       "output_type": "stream",
       "stream": "stdout",
       "text": [
        "\r",
        "12.002456720016028"
       ]
      },
      {
       "output_type": "stream",
       "stream": "stdout",
       "text": [
        "\r",
        "12.502559083350029"
       ]
      },
      {
       "output_type": "stream",
       "stream": "stdout",
       "text": [
        "\r",
        "13.00266144668403"
       ]
      },
      {
       "output_type": "stream",
       "stream": "stdout",
       "text": [
        "\r",
        "13.502763810018031"
       ]
      },
      {
       "output_type": "stream",
       "stream": "stdout",
       "text": [
        "\r",
        "14.002866173352032"
       ]
      },
      {
       "output_type": "stream",
       "stream": "stdout",
       "text": [
        "\r",
        "14.502968536686033"
       ]
      },
      {
       "output_type": "stream",
       "stream": "stdout",
       "text": [
        "\r",
        "15.003070900020035"
       ]
      },
      {
       "output_type": "stream",
       "stream": "stdout",
       "text": [
        "\r",
        "15.503173263354036"
       ]
      },
      {
       "output_type": "stream",
       "stream": "stdout",
       "text": [
        "\r",
        "16.003275626688037"
       ]
      },
      {
       "output_type": "stream",
       "stream": "stdout",
       "text": [
        "\r",
        "16.503377990022038"
       ]
      },
      {
       "output_type": "stream",
       "stream": "stdout",
       "text": [
        "\r",
        "17.00348035335604"
       ]
      },
      {
       "output_type": "stream",
       "stream": "stdout",
       "text": [
        "\r",
        "17.50358271669004"
       ]
      },
      {
       "output_type": "stream",
       "stream": "stdout",
       "text": [
        "\r",
        "18.00368508002404"
       ]
      },
      {
       "output_type": "stream",
       "stream": "stdout",
       "text": [
        "\r",
        "18.503787443358043"
       ]
      },
      {
       "output_type": "stream",
       "stream": "stdout",
       "text": [
        "\r",
        "19.003889806692044"
       ]
      },
      {
       "output_type": "stream",
       "stream": "stdout",
       "text": [
        "\r",
        "19.503992170026045"
       ]
      },
      {
       "output_type": "stream",
       "stream": "stdout",
       "text": [
        "\r",
        "20.004094533360046"
       ]
      },
      {
       "output_type": "stream",
       "stream": "stdout",
       "text": [
        "\r",
        "20.504196896694047"
       ]
      },
      {
       "output_type": "stream",
       "stream": "stdout",
       "text": [
        "\r",
        "21.00429926002805"
       ]
      },
      {
       "output_type": "stream",
       "stream": "stdout",
       "text": [
        "\r",
        "21.50440162336205"
       ]
      },
      {
       "output_type": "stream",
       "stream": "stdout",
       "text": [
        "\r",
        "22.00450398669605"
       ]
      },
      {
       "output_type": "stream",
       "stream": "stdout",
       "text": [
        "\r",
        "22.504606350030052"
       ]
      },
      {
       "output_type": "stream",
       "stream": "stdout",
       "text": [
        "\r",
        "23.004708713364053"
       ]
      },
      {
       "output_type": "stream",
       "stream": "stdout",
       "text": [
        "\r",
        "23.504811076698054"
       ]
      },
      {
       "output_type": "stream",
       "stream": "stdout",
       "text": [
        "\r",
        "24.004913440032055"
       ]
      },
      {
       "output_type": "stream",
       "stream": "stdout",
       "text": [
        "\r",
        "24.505015803366057"
       ]
      },
      {
       "output_type": "stream",
       "stream": "stdout",
       "text": [
        "\r",
        "25.005118166700058"
       ]
      },
      {
       "output_type": "stream",
       "stream": "stdout",
       "text": [
        "\r",
        "25.505220530034062"
       ]
      },
      {
       "output_type": "stream",
       "stream": "stdout",
       "text": [
        "\r",
        "26.00532289336806"
       ]
      },
      {
       "output_type": "stream",
       "stream": "stdout",
       "text": [
        "\r",
        "26.505425256702058"
       ]
      },
      {
       "output_type": "stream",
       "stream": "stdout",
       "text": [
        "\r",
        "27.005527620036062"
       ]
      },
      {
       "output_type": "stream",
       "stream": "stdout",
       "text": [
        "\r",
        "27.50562998337006"
       ]
      },
      {
       "output_type": "stream",
       "stream": "stdout",
       "text": [
        "\r",
        "28.005732346704065"
       ]
      },
      {
       "output_type": "stream",
       "stream": "stdout",
       "text": [
        "\r",
        "28.505834710038062"
       ]
      },
      {
       "output_type": "stream",
       "stream": "stdout",
       "text": [
        "\r",
        "29.005937073372067"
       ]
      },
      {
       "output_type": "stream",
       "stream": "stdout",
       "text": [
        "\r",
        "29.506039436706068"
       ]
      },
      {
       "output_type": "stream",
       "stream": "stdout",
       "text": [
        "\r",
        "30.00614180004007"
       ]
      },
      {
       "output_type": "stream",
       "stream": "stdout",
       "text": [
        "\r",
        "30.50624416337407"
       ]
      },
      {
       "output_type": "stream",
       "stream": "stdout",
       "text": [
        "\r",
        "31.00634652670807"
       ]
      },
      {
       "output_type": "stream",
       "stream": "stdout",
       "text": [
        "\r",
        "31.506448890042073"
       ]
      },
      {
       "output_type": "stream",
       "stream": "stdout",
       "text": [
        "\r",
        "32.006551253376074"
       ]
      },
      {
       "output_type": "stream",
       "stream": "stdout",
       "text": [
        "\r",
        "32.506653616710075"
       ]
      },
      {
       "output_type": "stream",
       "stream": "stdout",
       "text": [
        "\r",
        "33.006755980044076"
       ]
      },
      {
       "output_type": "stream",
       "stream": "stdout",
       "text": [
        "\r",
        "33.50685834337808"
       ]
      },
      {
       "output_type": "stream",
       "stream": "stdout",
       "text": [
        "\r",
        "34.00696070671208"
       ]
      },
      {
       "output_type": "stream",
       "stream": "stdout",
       "text": [
        "\r",
        "34.50706307004608"
       ]
      },
      {
       "output_type": "stream",
       "stream": "stdout",
       "text": [
        "\r",
        "35.00716543338008"
       ]
      },
      {
       "output_type": "stream",
       "stream": "stdout",
       "text": [
        "\r",
        "35.50726779671408"
       ]
      },
      {
       "output_type": "stream",
       "stream": "stdout",
       "text": [
        "\r",
        "36.00737016004808"
       ]
      },
      {
       "output_type": "stream",
       "stream": "stdout",
       "text": [
        "\r",
        "36.507472523382084"
       ]
      },
      {
       "output_type": "stream",
       "stream": "stdout",
       "text": [
        "\r",
        "37.007574886716085"
       ]
      },
      {
       "output_type": "stream",
       "stream": "stdout",
       "text": [
        "\r",
        "37.50767725005009"
       ]
      },
      {
       "output_type": "stream",
       "stream": "stdout",
       "text": [
        "\r",
        "38.00777961338409"
       ]
      },
      {
       "output_type": "stream",
       "stream": "stdout",
       "text": [
        "\r",
        "38.50788197671809"
       ]
      },
      {
       "output_type": "stream",
       "stream": "stdout",
       "text": [
        "\r",
        "39.00798434005209"
       ]
      },
      {
       "output_type": "stream",
       "stream": "stdout",
       "text": [
        "\r",
        "39.50808670338609"
       ]
      },
      {
       "output_type": "stream",
       "stream": "stdout",
       "text": [
        "\r",
        "40.00818906672009"
       ]
      },
      {
       "output_type": "stream",
       "stream": "stdout",
       "text": [
        "\r",
        "40.50829143005409"
       ]
      },
      {
       "output_type": "stream",
       "stream": "stdout",
       "text": [
        "\r",
        "41.008393793388095"
       ]
      },
      {
       "output_type": "stream",
       "stream": "stdout",
       "text": [
        "\r",
        "41.508496156722096"
       ]
      },
      {
       "output_type": "stream",
       "stream": "stdout",
       "text": [
        "\r",
        "42.0085985200561"
       ]
      },
      {
       "output_type": "stream",
       "stream": "stdout",
       "text": [
        "\r",
        "42.5087008833901"
       ]
      },
      {
       "output_type": "stream",
       "stream": "stdout",
       "text": [
        "\r",
        "43.0088032467241"
       ]
      },
      {
       "output_type": "stream",
       "stream": "stdout",
       "text": [
        "\r",
        "43.5089056100581"
       ]
      },
      {
       "output_type": "stream",
       "stream": "stdout",
       "text": [
        "\r",
        "44.0090079733921"
       ]
      },
      {
       "output_type": "stream",
       "stream": "stdout",
       "text": [
        "\r",
        "44.5091103367261"
       ]
      },
      {
       "output_type": "stream",
       "stream": "stdout",
       "text": [
        "\r",
        "45.009212700060104"
       ]
      },
      {
       "output_type": "stream",
       "stream": "stdout",
       "text": [
        "\r",
        "45.509315063394105"
       ]
      },
      {
       "output_type": "stream",
       "stream": "stdout",
       "text": [
        "\r",
        "46.009417426728106"
       ]
      },
      {
       "output_type": "stream",
       "stream": "stdout",
       "text": [
        "\r",
        "46.50951979006211"
       ]
      },
      {
       "output_type": "stream",
       "stream": "stdout",
       "text": [
        "\r",
        "47.00962215339611"
       ]
      },
      {
       "output_type": "stream",
       "stream": "stdout",
       "text": [
        "\r",
        "47.50972451673011"
       ]
      },
      {
       "output_type": "stream",
       "stream": "stdout",
       "text": [
        "\r",
        "48.00982688006411"
       ]
      },
      {
       "output_type": "stream",
       "stream": "stdout",
       "text": [
        "\r",
        "48.50992924339811"
       ]
      },
      {
       "output_type": "stream",
       "stream": "stdout",
       "text": [
        "\r",
        "49.01003160673211"
       ]
      },
      {
       "output_type": "stream",
       "stream": "stdout",
       "text": [
        "\r",
        "49.510133970066114"
       ]
      },
      {
       "output_type": "stream",
       "stream": "stdout",
       "text": [
        "\r",
        "50.010236333400115"
       ]
      },
      {
       "output_type": "stream",
       "stream": "stdout",
       "text": [
        "\r",
        "50.51033869673412"
       ]
      },
      {
       "output_type": "stream",
       "stream": "stdout",
       "text": [
        "\r",
        "51.010441060068125"
       ]
      },
      {
       "output_type": "stream",
       "stream": "stdout",
       "text": [
        "\r",
        "51.51054342340212"
       ]
      },
      {
       "output_type": "stream",
       "stream": "stdout",
       "text": [
        "\r",
        "52.01064578673612"
       ]
      },
      {
       "output_type": "stream",
       "stream": "stdout",
       "text": [
        "\r",
        "52.51074815007012"
       ]
      },
      {
       "output_type": "stream",
       "stream": "stdout",
       "text": [
        "\r",
        "53.010850513404115"
       ]
      },
      {
       "output_type": "stream",
       "stream": "stdout",
       "text": [
        "\r",
        "53.51095287673813"
       ]
      },
      {
       "output_type": "stream",
       "stream": "stdout",
       "text": [
        "\r",
        "54.011055240072125"
       ]
      },
      {
       "output_type": "stream",
       "stream": "stdout",
       "text": [
        "\r",
        "54.511157603406126"
       ]
      },
      {
       "output_type": "stream",
       "stream": "stdout",
       "text": [
        "\r",
        "55.01125996674012"
       ]
      },
      {
       "output_type": "stream",
       "stream": "stdout",
       "text": [
        "\r",
        "55.511362330074135"
       ]
      },
      {
       "output_type": "stream",
       "stream": "stdout",
       "text": [
        "\r",
        "56.01146469340813"
       ]
      },
      {
       "output_type": "stream",
       "stream": "stdout",
       "text": [
        "\r",
        "56.51156705674213"
       ]
      },
      {
       "output_type": "stream",
       "stream": "stdout",
       "text": [
        "\r",
        "57.011669420076124"
       ]
      },
      {
       "output_type": "stream",
       "stream": "stdout",
       "text": [
        "\r",
        "57.51177178341014"
       ]
      },
      {
       "output_type": "stream",
       "stream": "stdout",
       "text": [
        "\r",
        "58.011874146744134"
       ]
      },
      {
       "output_type": "stream",
       "stream": "stdout",
       "text": [
        "\r",
        "58.511976510078135"
       ]
      },
      {
       "output_type": "stream",
       "stream": "stdout",
       "text": [
        "\r",
        "59.012078873412136"
       ]
      },
      {
       "output_type": "stream",
       "stream": "stdout",
       "text": [
        "\r",
        "59.512181236746144"
       ]
      },
      {
       "output_type": "stream",
       "stream": "stdout",
       "text": [
        "\r",
        "60.01228360008014"
       ]
      },
      {
       "output_type": "stream",
       "stream": "stdout",
       "text": [
        "\r",
        "60.51238596341414"
       ]
      },
      {
       "output_type": "stream",
       "stream": "stdout",
       "text": [
        "\r",
        "61.01248832674814"
       ]
      },
      {
       "output_type": "stream",
       "stream": "stdout",
       "text": [
        "\r",
        "61.51259069008215"
       ]
      },
      {
       "output_type": "stream",
       "stream": "stdout",
       "text": [
        "\r",
        "62.01269305341614"
       ]
      },
      {
       "output_type": "stream",
       "stream": "stdout",
       "text": [
        "\r",
        "62.512795416750144"
       ]
      },
      {
       "output_type": "stream",
       "stream": "stdout",
       "text": [
        "\r",
        "63.012897780084145"
       ]
      },
      {
       "output_type": "stream",
       "stream": "stdout",
       "text": [
        "\r",
        "63.513000143418154"
       ]
      },
      {
       "output_type": "stream",
       "stream": "stdout",
       "text": [
        "\r",
        "64.01310250675215"
       ]
      },
      {
       "output_type": "stream",
       "stream": "stdout",
       "text": [
        "\r",
        "64.51320487008616"
       ]
      },
      {
       "output_type": "stream",
       "stream": "stdout",
       "text": [
        "\r",
        "65.01330723342015"
       ]
      },
      {
       "output_type": "stream",
       "stream": "stdout",
       "text": [
        "\r",
        "65.51340959675414"
       ]
      },
      {
       "output_type": "stream",
       "stream": "stdout",
       "text": [
        "\r",
        "66.01351196008815"
       ]
      },
      {
       "output_type": "stream",
       "stream": "stdout",
       "text": [
        "\r",
        "66.51361432342216"
       ]
      },
      {
       "output_type": "stream",
       "stream": "stdout",
       "text": [
        "\r",
        "67.01371668675615"
       ]
      },
      {
       "output_type": "stream",
       "stream": "stdout",
       "text": [
        "\r",
        "67.51381905009015"
       ]
      },
      {
       "output_type": "stream",
       "stream": "stdout",
       "text": [
        "\r",
        "68.01392141342416"
       ]
      },
      {
       "output_type": "stream",
       "stream": "stdout",
       "text": [
        "\r",
        "68.51402377675817"
       ]
      },
      {
       "output_type": "stream",
       "stream": "stdout",
       "text": [
        "\r",
        "69.01412614009216"
       ]
      },
      {
       "output_type": "stream",
       "stream": "stdout",
       "text": [
        "\r",
        "69.51422850342615"
       ]
      },
      {
       "output_type": "stream",
       "stream": "stdout",
       "text": [
        "\r",
        "70.01433086676016"
       ]
      },
      {
       "output_type": "stream",
       "stream": "stdout",
       "text": [
        "\r",
        "70.51443323009417"
       ]
      },
      {
       "output_type": "stream",
       "stream": "stdout",
       "text": [
        "\r",
        "71.01453559342816"
       ]
      },
      {
       "output_type": "stream",
       "stream": "stdout",
       "text": [
        "\r",
        "71.51463795676216"
       ]
      },
      {
       "output_type": "stream",
       "stream": "stdout",
       "text": [
        "\r",
        "72.01474032009617"
       ]
      },
      {
       "output_type": "stream",
       "stream": "stdout",
       "text": [
        "\r",
        "72.51484268343017"
       ]
      },
      {
       "output_type": "stream",
       "stream": "stdout",
       "text": [
        "\r",
        "73.01494504676417"
       ]
      },
      {
       "output_type": "stream",
       "stream": "stdout",
       "text": [
        "\r",
        "73.51504741009816"
       ]
      },
      {
       "output_type": "stream",
       "stream": "stdout",
       "text": [
        "\r",
        "74.01514977343217"
       ]
      },
      {
       "output_type": "stream",
       "stream": "stdout",
       "text": [
        "\r",
        "74.51525213676618"
       ]
      },
      {
       "output_type": "stream",
       "stream": "stdout",
       "text": [
        "\r",
        "75.01535450010017"
       ]
      },
      {
       "output_type": "stream",
       "stream": "stdout",
       "text": [
        "\r",
        "75.51545686343417"
       ]
      },
      {
       "output_type": "stream",
       "stream": "stdout",
       "text": [
        "\r",
        "76.01555922676818"
       ]
      },
      {
       "output_type": "stream",
       "stream": "stdout",
       "text": [
        "\r",
        "76.51566159010218"
       ]
      },
      {
       "output_type": "stream",
       "stream": "stdout",
       "text": [
        "\r",
        "77.01576395343618"
       ]
      },
      {
       "output_type": "stream",
       "stream": "stdout",
       "text": [
        "\r",
        "77.51586631677017"
       ]
      },
      {
       "output_type": "stream",
       "stream": "stdout",
       "text": [
        "\r",
        "78.01596868010418"
       ]
      },
      {
       "output_type": "stream",
       "stream": "stdout",
       "text": [
        "\r",
        "78.51607104343819"
       ]
      },
      {
       "output_type": "stream",
       "stream": "stdout",
       "text": [
        "\r",
        "79.01617340677218"
       ]
      },
      {
       "output_type": "stream",
       "stream": "stdout",
       "text": [
        "\r",
        "79.51627577010618"
       ]
      },
      {
       "output_type": "stream",
       "stream": "stdout",
       "text": [
        "\r",
        "80.01637813344018"
       ]
      },
      {
       "output_type": "stream",
       "stream": "stdout",
       "text": [
        "\r",
        "80.5164804967742"
       ]
      },
      {
       "output_type": "stream",
       "stream": "stdout",
       "text": [
        "\r",
        "81.01658286010819"
       ]
      },
      {
       "output_type": "stream",
       "stream": "stdout",
       "text": [
        "\r",
        "81.51668522344218"
       ]
      },
      {
       "output_type": "stream",
       "stream": "stdout",
       "text": [
        "\r",
        "82.01678758677619"
       ]
      },
      {
       "output_type": "stream",
       "stream": "stdout",
       "text": [
        "\r",
        "82.5168899501102"
       ]
      },
      {
       "output_type": "stream",
       "stream": "stdout",
       "text": [
        "\r",
        "83.01699231344419"
       ]
      },
      {
       "output_type": "stream",
       "stream": "stdout",
       "text": [
        "\r",
        "83.51709467677819"
       ]
      },
      {
       "output_type": "stream",
       "stream": "stdout",
       "text": [
        "\r",
        "84.0171970401122"
       ]
      },
      {
       "output_type": "stream",
       "stream": "stdout",
       "text": [
        "\r",
        "84.5172994034462"
       ]
      },
      {
       "output_type": "stream",
       "stream": "stdout",
       "text": [
        "\r",
        "85.0174017667802"
       ]
      },
      {
       "output_type": "stream",
       "stream": "stdout",
       "text": [
        "\r",
        "85.51750413011419"
       ]
      },
      {
       "output_type": "stream",
       "stream": "stdout",
       "text": [
        "\r",
        "86.0176064934482"
       ]
      },
      {
       "output_type": "stream",
       "stream": "stdout",
       "text": [
        "\r",
        "86.5177088567822"
       ]
      },
      {
       "output_type": "stream",
       "stream": "stdout",
       "text": [
        "\r",
        "87.0178112201162"
       ]
      },
      {
       "output_type": "stream",
       "stream": "stdout",
       "text": [
        "\r",
        "87.5179135834502"
       ]
      },
      {
       "output_type": "stream",
       "stream": "stdout",
       "text": [
        "\r",
        "88.0180159467842"
       ]
      },
      {
       "output_type": "stream",
       "stream": "stdout",
       "text": [
        "\r",
        "88.51811831011821"
       ]
      },
      {
       "output_type": "stream",
       "stream": "stdout",
       "text": [
        "\r",
        "89.0182206734522"
       ]
      },
      {
       "output_type": "stream",
       "stream": "stdout",
       "text": [
        "\r",
        "89.51832303678621"
       ]
      },
      {
       "output_type": "stream",
       "stream": "stdout",
       "text": [
        "\r",
        "90.01842540012021"
       ]
      },
      {
       "output_type": "stream",
       "stream": "stdout",
       "text": [
        "\r",
        "90.51852776345422"
       ]
      },
      {
       "output_type": "stream",
       "stream": "stdout",
       "text": [
        "\r",
        "91.01863012678821"
       ]
      },
      {
       "output_type": "stream",
       "stream": "stdout",
       "text": [
        "\r",
        "91.51873249012222"
       ]
      },
      {
       "output_type": "stream",
       "stream": "stdout",
       "text": [
        "\r",
        "92.01883485345621"
       ]
      },
      {
       "output_type": "stream",
       "stream": "stdout",
       "text": [
        "\r",
        "92.5189372167902"
       ]
      },
      {
       "output_type": "stream",
       "stream": "stdout",
       "text": [
        "\r",
        "93.01903958012421"
       ]
      },
      {
       "output_type": "stream",
       "stream": "stdout",
       "text": [
        "\r",
        "93.51914194345822"
       ]
      },
      {
       "output_type": "stream",
       "stream": "stdout",
       "text": [
        "\r",
        "94.01924430679222"
       ]
      },
      {
       "output_type": "stream",
       "stream": "stdout",
       "text": [
        "\r",
        "94.51934667012621"
       ]
      },
      {
       "output_type": "stream",
       "stream": "stdout",
       "text": [
        "\r",
        "95.01944903346022"
       ]
      },
      {
       "output_type": "stream",
       "stream": "stdout",
       "text": [
        "\r",
        "95.51955139679423"
       ]
      },
      {
       "output_type": "stream",
       "stream": "stdout",
       "text": [
        "\r",
        "96.01965376012822"
       ]
      },
      {
       "output_type": "stream",
       "stream": "stdout",
       "text": [
        "\r",
        "96.51975612346222"
       ]
      },
      {
       "output_type": "stream",
       "stream": "stdout",
       "text": [
        "\r",
        "97.01985848679622"
       ]
      },
      {
       "output_type": "stream",
       "stream": "stdout",
       "text": [
        "\r",
        "97.51996085013023"
       ]
      },
      {
       "output_type": "stream",
       "stream": "stdout",
       "text": [
        "\r",
        "98.02006321346423"
       ]
      },
      {
       "output_type": "stream",
       "stream": "stdout",
       "text": [
        "\r",
        "98.52016557679822"
       ]
      },
      {
       "output_type": "stream",
       "stream": "stdout",
       "text": [
        "\r",
        "99.02026794013223"
       ]
      },
      {
       "output_type": "stream",
       "stream": "stdout",
       "text": [
        "\r",
        "99.52037030346624"
       ]
      },
      {
       "output_type": "stream",
       "stream": "stdout",
       "text": [
        "\r"
       ]
      }
     ],
     "prompt_number": 14
    },
    {
     "cell_type": "markdown",
     "metadata": {},
     "source": [
      "Maybe downvote?"
     ]
    },
    {
     "cell_type": "code",
     "collapsed": false,
     "input": [
      "index = 0\n",
      "previous = 0\n",
      "for _, vote in votes.iterrows():\n",
      "    index += 1\n",
      "    current = float(index / votes.shape[0]) * 100\n",
      "    if (previous + 0.5 < current):\n",
      "        previous = current\n",
      "        print(current, end=\"\\r\")\n",
      "    if (str(vote[\"value\"]) not in str(vote[\"refurl\"])):\n",
      "        ids.append(vote[\"user_id\"])\n",
      "        links.append(\"http://golos.io/{}\".format(vote[\"value\"]))\n",
      "        classes.append(False)"
     ],
     "language": "python",
     "metadata": {},
     "outputs": [
      {
       "output_type": "stream",
       "stream": "stdout",
       "text": [
        "0.5001023633340012\r",
        "1.0002047266680023"
       ]
      },
      {
       "output_type": "stream",
       "stream": "stdout",
       "text": [
        "\r",
        "1.5003070900020035"
       ]
      },
      {
       "output_type": "stream",
       "stream": "stdout",
       "text": [
        "\r",
        "2.0004094533360046"
       ]
      },
      {
       "output_type": "stream",
       "stream": "stdout",
       "text": [
        "\r",
        "2.5005118166700058"
       ]
      },
      {
       "output_type": "stream",
       "stream": "stdout",
       "text": [
        "\r",
        "3.000614180004007"
       ]
      },
      {
       "output_type": "stream",
       "stream": "stdout",
       "text": [
        "\r",
        "3.500716543338008"
       ]
      },
      {
       "output_type": "stream",
       "stream": "stdout",
       "text": [
        "\r",
        "4.000818906672009"
       ]
      },
      {
       "output_type": "stream",
       "stream": "stdout",
       "text": [
        "\r",
        "4.50092127000601"
       ]
      },
      {
       "output_type": "stream",
       "stream": "stdout",
       "text": [
        "\r",
        "5.0010236333400115"
       ]
      },
      {
       "output_type": "stream",
       "stream": "stdout",
       "text": [
        "\r",
        "5.501125996674013"
       ]
      },
      {
       "output_type": "stream",
       "stream": "stdout",
       "text": [
        "\r",
        "6.001228360008014"
       ]
      },
      {
       "output_type": "stream",
       "stream": "stdout",
       "text": [
        "\r",
        "6.501330723342015"
       ]
      },
      {
       "output_type": "stream",
       "stream": "stdout",
       "text": [
        "\r",
        "7.001433086676016"
       ]
      },
      {
       "output_type": "stream",
       "stream": "stdout",
       "text": [
        "\r",
        "7.501535450010017"
       ]
      },
      {
       "output_type": "stream",
       "stream": "stdout",
       "text": [
        "\r",
        "8.001637813344018"
       ]
      },
      {
       "output_type": "stream",
       "stream": "stdout",
       "text": [
        "\r",
        "8.50174017667802"
       ]
      },
      {
       "output_type": "stream",
       "stream": "stdout",
       "text": [
        "\r",
        "9.00184254001202"
       ]
      },
      {
       "output_type": "stream",
       "stream": "stdout",
       "text": [
        "\r",
        "9.501944903346022"
       ]
      },
      {
       "output_type": "stream",
       "stream": "stdout",
       "text": [
        "\r",
        "10.002047266680023"
       ]
      },
      {
       "output_type": "stream",
       "stream": "stdout",
       "text": [
        "\r",
        "10.502149630014024"
       ]
      },
      {
       "output_type": "stream",
       "stream": "stdout",
       "text": [
        "\r",
        "11.002251993348025"
       ]
      },
      {
       "output_type": "stream",
       "stream": "stdout",
       "text": [
        "\r",
        "11.502354356682027"
       ]
      },
      {
       "output_type": "stream",
       "stream": "stdout",
       "text": [
        "\r",
        "12.002456720016028"
       ]
      },
      {
       "output_type": "stream",
       "stream": "stdout",
       "text": [
        "\r",
        "12.502559083350029"
       ]
      },
      {
       "output_type": "stream",
       "stream": "stdout",
       "text": [
        "\r",
        "13.00266144668403"
       ]
      },
      {
       "output_type": "stream",
       "stream": "stdout",
       "text": [
        "\r",
        "13.502763810018031"
       ]
      },
      {
       "output_type": "stream",
       "stream": "stdout",
       "text": [
        "\r",
        "14.002866173352032"
       ]
      },
      {
       "output_type": "stream",
       "stream": "stdout",
       "text": [
        "\r",
        "14.502968536686033"
       ]
      },
      {
       "output_type": "stream",
       "stream": "stdout",
       "text": [
        "\r",
        "15.003070900020035"
       ]
      },
      {
       "output_type": "stream",
       "stream": "stdout",
       "text": [
        "\r",
        "15.503173263354036"
       ]
      },
      {
       "output_type": "stream",
       "stream": "stdout",
       "text": [
        "\r",
        "16.003275626688037"
       ]
      },
      {
       "output_type": "stream",
       "stream": "stdout",
       "text": [
        "\r",
        "16.503377990022038"
       ]
      },
      {
       "output_type": "stream",
       "stream": "stdout",
       "text": [
        "\r",
        "17.00348035335604"
       ]
      },
      {
       "output_type": "stream",
       "stream": "stdout",
       "text": [
        "\r",
        "17.50358271669004"
       ]
      },
      {
       "output_type": "stream",
       "stream": "stdout",
       "text": [
        "\r",
        "18.00368508002404"
       ]
      },
      {
       "output_type": "stream",
       "stream": "stdout",
       "text": [
        "\r",
        "18.503787443358043"
       ]
      },
      {
       "output_type": "stream",
       "stream": "stdout",
       "text": [
        "\r",
        "19.003889806692044"
       ]
      },
      {
       "output_type": "stream",
       "stream": "stdout",
       "text": [
        "\r",
        "19.503992170026045"
       ]
      },
      {
       "output_type": "stream",
       "stream": "stdout",
       "text": [
        "\r",
        "20.004094533360046"
       ]
      },
      {
       "output_type": "stream",
       "stream": "stdout",
       "text": [
        "\r",
        "20.504196896694047"
       ]
      },
      {
       "output_type": "stream",
       "stream": "stdout",
       "text": [
        "\r",
        "21.00429926002805"
       ]
      },
      {
       "output_type": "stream",
       "stream": "stdout",
       "text": [
        "\r",
        "21.50440162336205"
       ]
      },
      {
       "output_type": "stream",
       "stream": "stdout",
       "text": [
        "\r",
        "22.00450398669605"
       ]
      },
      {
       "output_type": "stream",
       "stream": "stdout",
       "text": [
        "\r",
        "22.504606350030052"
       ]
      },
      {
       "output_type": "stream",
       "stream": "stdout",
       "text": [
        "\r",
        "23.004708713364053"
       ]
      },
      {
       "output_type": "stream",
       "stream": "stdout",
       "text": [
        "\r",
        "23.504811076698054"
       ]
      },
      {
       "output_type": "stream",
       "stream": "stdout",
       "text": [
        "\r",
        "24.004913440032055"
       ]
      },
      {
       "output_type": "stream",
       "stream": "stdout",
       "text": [
        "\r",
        "24.505015803366057"
       ]
      },
      {
       "output_type": "stream",
       "stream": "stdout",
       "text": [
        "\r",
        "25.005118166700058"
       ]
      },
      {
       "output_type": "stream",
       "stream": "stdout",
       "text": [
        "\r",
        "25.505220530034062"
       ]
      },
      {
       "output_type": "stream",
       "stream": "stdout",
       "text": [
        "\r",
        "26.00532289336806"
       ]
      },
      {
       "output_type": "stream",
       "stream": "stdout",
       "text": [
        "\r",
        "26.505425256702058"
       ]
      },
      {
       "output_type": "stream",
       "stream": "stdout",
       "text": [
        "\r",
        "27.005527620036062"
       ]
      },
      {
       "output_type": "stream",
       "stream": "stdout",
       "text": [
        "\r",
        "27.50562998337006"
       ]
      },
      {
       "output_type": "stream",
       "stream": "stdout",
       "text": [
        "\r",
        "28.005732346704065"
       ]
      },
      {
       "output_type": "stream",
       "stream": "stdout",
       "text": [
        "\r",
        "28.505834710038062"
       ]
      },
      {
       "output_type": "stream",
       "stream": "stdout",
       "text": [
        "\r",
        "29.005937073372067"
       ]
      },
      {
       "output_type": "stream",
       "stream": "stdout",
       "text": [
        "\r",
        "29.506039436706068"
       ]
      },
      {
       "output_type": "stream",
       "stream": "stdout",
       "text": [
        "\r",
        "30.00614180004007"
       ]
      },
      {
       "output_type": "stream",
       "stream": "stdout",
       "text": [
        "\r",
        "30.50624416337407"
       ]
      },
      {
       "output_type": "stream",
       "stream": "stdout",
       "text": [
        "\r",
        "31.00634652670807"
       ]
      },
      {
       "output_type": "stream",
       "stream": "stdout",
       "text": [
        "\r",
        "31.506448890042073"
       ]
      },
      {
       "output_type": "stream",
       "stream": "stdout",
       "text": [
        "\r",
        "32.006551253376074"
       ]
      },
      {
       "output_type": "stream",
       "stream": "stdout",
       "text": [
        "\r",
        "32.506653616710075"
       ]
      },
      {
       "output_type": "stream",
       "stream": "stdout",
       "text": [
        "\r",
        "33.006755980044076"
       ]
      },
      {
       "output_type": "stream",
       "stream": "stdout",
       "text": [
        "\r",
        "33.50685834337808"
       ]
      },
      {
       "output_type": "stream",
       "stream": "stdout",
       "text": [
        "\r",
        "34.00696070671208"
       ]
      },
      {
       "output_type": "stream",
       "stream": "stdout",
       "text": [
        "\r",
        "34.50706307004608"
       ]
      },
      {
       "output_type": "stream",
       "stream": "stdout",
       "text": [
        "\r",
        "35.00716543338008"
       ]
      },
      {
       "output_type": "stream",
       "stream": "stdout",
       "text": [
        "\r",
        "35.50726779671408"
       ]
      },
      {
       "output_type": "stream",
       "stream": "stdout",
       "text": [
        "\r",
        "36.00737016004808"
       ]
      },
      {
       "output_type": "stream",
       "stream": "stdout",
       "text": [
        "\r",
        "36.507472523382084"
       ]
      },
      {
       "output_type": "stream",
       "stream": "stdout",
       "text": [
        "\r",
        "37.007574886716085"
       ]
      },
      {
       "output_type": "stream",
       "stream": "stdout",
       "text": [
        "\r",
        "37.50767725005009"
       ]
      },
      {
       "output_type": "stream",
       "stream": "stdout",
       "text": [
        "\r",
        "38.00777961338409"
       ]
      },
      {
       "output_type": "stream",
       "stream": "stdout",
       "text": [
        "\r",
        "38.50788197671809"
       ]
      },
      {
       "output_type": "stream",
       "stream": "stdout",
       "text": [
        "\r",
        "39.00798434005209"
       ]
      },
      {
       "output_type": "stream",
       "stream": "stdout",
       "text": [
        "\r",
        "39.50808670338609"
       ]
      },
      {
       "output_type": "stream",
       "stream": "stdout",
       "text": [
        "\r",
        "40.00818906672009"
       ]
      },
      {
       "output_type": "stream",
       "stream": "stdout",
       "text": [
        "\r",
        "40.50829143005409"
       ]
      },
      {
       "output_type": "stream",
       "stream": "stdout",
       "text": [
        "\r",
        "41.008393793388095"
       ]
      },
      {
       "output_type": "stream",
       "stream": "stdout",
       "text": [
        "\r",
        "41.508496156722096"
       ]
      },
      {
       "output_type": "stream",
       "stream": "stdout",
       "text": [
        "\r",
        "42.0085985200561"
       ]
      },
      {
       "output_type": "stream",
       "stream": "stdout",
       "text": [
        "\r",
        "42.5087008833901"
       ]
      },
      {
       "output_type": "stream",
       "stream": "stdout",
       "text": [
        "\r",
        "43.0088032467241"
       ]
      },
      {
       "output_type": "stream",
       "stream": "stdout",
       "text": [
        "\r",
        "43.5089056100581"
       ]
      },
      {
       "output_type": "stream",
       "stream": "stdout",
       "text": [
        "\r",
        "44.0090079733921"
       ]
      },
      {
       "output_type": "stream",
       "stream": "stdout",
       "text": [
        "\r",
        "44.5091103367261"
       ]
      },
      {
       "output_type": "stream",
       "stream": "stdout",
       "text": [
        "\r",
        "45.009212700060104"
       ]
      },
      {
       "output_type": "stream",
       "stream": "stdout",
       "text": [
        "\r",
        "45.509315063394105"
       ]
      },
      {
       "output_type": "stream",
       "stream": "stdout",
       "text": [
        "\r",
        "46.009417426728106"
       ]
      },
      {
       "output_type": "stream",
       "stream": "stdout",
       "text": [
        "\r",
        "46.50951979006211"
       ]
      },
      {
       "output_type": "stream",
       "stream": "stdout",
       "text": [
        "\r",
        "47.00962215339611"
       ]
      },
      {
       "output_type": "stream",
       "stream": "stdout",
       "text": [
        "\r",
        "47.50972451673011"
       ]
      },
      {
       "output_type": "stream",
       "stream": "stdout",
       "text": [
        "\r",
        "48.00982688006411"
       ]
      },
      {
       "output_type": "stream",
       "stream": "stdout",
       "text": [
        "\r",
        "48.50992924339811"
       ]
      },
      {
       "output_type": "stream",
       "stream": "stdout",
       "text": [
        "\r",
        "49.01003160673211"
       ]
      },
      {
       "output_type": "stream",
       "stream": "stdout",
       "text": [
        "\r",
        "49.510133970066114"
       ]
      },
      {
       "output_type": "stream",
       "stream": "stdout",
       "text": [
        "\r",
        "50.010236333400115"
       ]
      },
      {
       "output_type": "stream",
       "stream": "stdout",
       "text": [
        "\r",
        "50.51033869673412"
       ]
      },
      {
       "output_type": "stream",
       "stream": "stdout",
       "text": [
        "\r",
        "51.010441060068125"
       ]
      },
      {
       "output_type": "stream",
       "stream": "stdout",
       "text": [
        "\r",
        "51.51054342340212"
       ]
      },
      {
       "output_type": "stream",
       "stream": "stdout",
       "text": [
        "\r",
        "52.01064578673612"
       ]
      },
      {
       "output_type": "stream",
       "stream": "stdout",
       "text": [
        "\r",
        "52.51074815007012"
       ]
      },
      {
       "output_type": "stream",
       "stream": "stdout",
       "text": [
        "\r",
        "53.010850513404115"
       ]
      },
      {
       "output_type": "stream",
       "stream": "stdout",
       "text": [
        "\r",
        "53.51095287673813"
       ]
      },
      {
       "output_type": "stream",
       "stream": "stdout",
       "text": [
        "\r",
        "54.011055240072125"
       ]
      },
      {
       "output_type": "stream",
       "stream": "stdout",
       "text": [
        "\r",
        "54.511157603406126"
       ]
      },
      {
       "output_type": "stream",
       "stream": "stdout",
       "text": [
        "\r",
        "55.01125996674012"
       ]
      },
      {
       "output_type": "stream",
       "stream": "stdout",
       "text": [
        "\r",
        "55.511362330074135"
       ]
      },
      {
       "output_type": "stream",
       "stream": "stdout",
       "text": [
        "\r",
        "56.01146469340813"
       ]
      },
      {
       "output_type": "stream",
       "stream": "stdout",
       "text": [
        "\r",
        "56.51156705674213"
       ]
      },
      {
       "output_type": "stream",
       "stream": "stdout",
       "text": [
        "\r",
        "57.011669420076124"
       ]
      },
      {
       "output_type": "stream",
       "stream": "stdout",
       "text": [
        "\r",
        "57.51177178341014"
       ]
      },
      {
       "output_type": "stream",
       "stream": "stdout",
       "text": [
        "\r",
        "58.011874146744134"
       ]
      },
      {
       "output_type": "stream",
       "stream": "stdout",
       "text": [
        "\r",
        "58.511976510078135"
       ]
      },
      {
       "output_type": "stream",
       "stream": "stdout",
       "text": [
        "\r",
        "59.012078873412136"
       ]
      },
      {
       "output_type": "stream",
       "stream": "stdout",
       "text": [
        "\r",
        "59.512181236746144"
       ]
      },
      {
       "output_type": "stream",
       "stream": "stdout",
       "text": [
        "\r",
        "60.01228360008014"
       ]
      },
      {
       "output_type": "stream",
       "stream": "stdout",
       "text": [
        "\r",
        "60.51238596341414"
       ]
      },
      {
       "output_type": "stream",
       "stream": "stdout",
       "text": [
        "\r",
        "61.01248832674814"
       ]
      },
      {
       "output_type": "stream",
       "stream": "stdout",
       "text": [
        "\r",
        "61.51259069008215"
       ]
      },
      {
       "output_type": "stream",
       "stream": "stdout",
       "text": [
        "\r",
        "62.01269305341614"
       ]
      },
      {
       "output_type": "stream",
       "stream": "stdout",
       "text": [
        "\r",
        "62.512795416750144"
       ]
      },
      {
       "output_type": "stream",
       "stream": "stdout",
       "text": [
        "\r",
        "63.012897780084145"
       ]
      },
      {
       "output_type": "stream",
       "stream": "stdout",
       "text": [
        "\r",
        "63.513000143418154"
       ]
      },
      {
       "output_type": "stream",
       "stream": "stdout",
       "text": [
        "\r",
        "64.01310250675215"
       ]
      },
      {
       "output_type": "stream",
       "stream": "stdout",
       "text": [
        "\r",
        "64.51320487008616"
       ]
      },
      {
       "output_type": "stream",
       "stream": "stdout",
       "text": [
        "\r",
        "65.01330723342015"
       ]
      },
      {
       "output_type": "stream",
       "stream": "stdout",
       "text": [
        "\r",
        "65.51340959675414"
       ]
      },
      {
       "output_type": "stream",
       "stream": "stdout",
       "text": [
        "\r",
        "66.01351196008815"
       ]
      },
      {
       "output_type": "stream",
       "stream": "stdout",
       "text": [
        "\r",
        "66.51361432342216"
       ]
      },
      {
       "output_type": "stream",
       "stream": "stdout",
       "text": [
        "\r",
        "67.01371668675615"
       ]
      },
      {
       "output_type": "stream",
       "stream": "stdout",
       "text": [
        "\r",
        "67.51381905009015"
       ]
      },
      {
       "output_type": "stream",
       "stream": "stdout",
       "text": [
        "\r",
        "68.01392141342416"
       ]
      },
      {
       "output_type": "stream",
       "stream": "stdout",
       "text": [
        "\r",
        "68.51402377675817"
       ]
      },
      {
       "output_type": "stream",
       "stream": "stdout",
       "text": [
        "\r",
        "69.01412614009216"
       ]
      },
      {
       "output_type": "stream",
       "stream": "stdout",
       "text": [
        "\r",
        "69.51422850342615"
       ]
      },
      {
       "output_type": "stream",
       "stream": "stdout",
       "text": [
        "\r",
        "70.01433086676016"
       ]
      },
      {
       "output_type": "stream",
       "stream": "stdout",
       "text": [
        "\r",
        "70.51443323009417"
       ]
      },
      {
       "output_type": "stream",
       "stream": "stdout",
       "text": [
        "\r",
        "71.01453559342816"
       ]
      },
      {
       "output_type": "stream",
       "stream": "stdout",
       "text": [
        "\r",
        "71.51463795676216"
       ]
      },
      {
       "output_type": "stream",
       "stream": "stdout",
       "text": [
        "\r",
        "72.01474032009617"
       ]
      },
      {
       "output_type": "stream",
       "stream": "stdout",
       "text": [
        "\r",
        "72.51484268343017"
       ]
      },
      {
       "output_type": "stream",
       "stream": "stdout",
       "text": [
        "\r",
        "73.01494504676417"
       ]
      },
      {
       "output_type": "stream",
       "stream": "stdout",
       "text": [
        "\r",
        "73.51504741009816"
       ]
      },
      {
       "output_type": "stream",
       "stream": "stdout",
       "text": [
        "\r",
        "74.01514977343217"
       ]
      },
      {
       "output_type": "stream",
       "stream": "stdout",
       "text": [
        "\r",
        "74.51525213676618"
       ]
      },
      {
       "output_type": "stream",
       "stream": "stdout",
       "text": [
        "\r",
        "75.01535450010017"
       ]
      },
      {
       "output_type": "stream",
       "stream": "stdout",
       "text": [
        "\r",
        "75.51545686343417"
       ]
      },
      {
       "output_type": "stream",
       "stream": "stdout",
       "text": [
        "\r",
        "76.01555922676818"
       ]
      },
      {
       "output_type": "stream",
       "stream": "stdout",
       "text": [
        "\r",
        "76.51566159010218"
       ]
      },
      {
       "output_type": "stream",
       "stream": "stdout",
       "text": [
        "\r",
        "77.01576395343618"
       ]
      },
      {
       "output_type": "stream",
       "stream": "stdout",
       "text": [
        "\r",
        "77.51586631677017"
       ]
      },
      {
       "output_type": "stream",
       "stream": "stdout",
       "text": [
        "\r",
        "78.01596868010418"
       ]
      },
      {
       "output_type": "stream",
       "stream": "stdout",
       "text": [
        "\r",
        "78.51607104343819"
       ]
      },
      {
       "output_type": "stream",
       "stream": "stdout",
       "text": [
        "\r",
        "79.01617340677218"
       ]
      },
      {
       "output_type": "stream",
       "stream": "stdout",
       "text": [
        "\r",
        "79.51627577010618"
       ]
      },
      {
       "output_type": "stream",
       "stream": "stdout",
       "text": [
        "\r",
        "80.01637813344018"
       ]
      },
      {
       "output_type": "stream",
       "stream": "stdout",
       "text": [
        "\r",
        "80.5164804967742"
       ]
      },
      {
       "output_type": "stream",
       "stream": "stdout",
       "text": [
        "\r",
        "81.01658286010819"
       ]
      },
      {
       "output_type": "stream",
       "stream": "stdout",
       "text": [
        "\r",
        "81.51668522344218"
       ]
      },
      {
       "output_type": "stream",
       "stream": "stdout",
       "text": [
        "\r",
        "82.01678758677619"
       ]
      },
      {
       "output_type": "stream",
       "stream": "stdout",
       "text": [
        "\r",
        "82.5168899501102"
       ]
      },
      {
       "output_type": "stream",
       "stream": "stdout",
       "text": [
        "\r",
        "83.01699231344419"
       ]
      },
      {
       "output_type": "stream",
       "stream": "stdout",
       "text": [
        "\r",
        "83.51709467677819"
       ]
      },
      {
       "output_type": "stream",
       "stream": "stdout",
       "text": [
        "\r",
        "84.0171970401122"
       ]
      },
      {
       "output_type": "stream",
       "stream": "stdout",
       "text": [
        "\r",
        "84.5172994034462"
       ]
      },
      {
       "output_type": "stream",
       "stream": "stdout",
       "text": [
        "\r",
        "85.0174017667802"
       ]
      },
      {
       "output_type": "stream",
       "stream": "stdout",
       "text": [
        "\r",
        "85.51750413011419"
       ]
      },
      {
       "output_type": "stream",
       "stream": "stdout",
       "text": [
        "\r",
        "86.0176064934482"
       ]
      },
      {
       "output_type": "stream",
       "stream": "stdout",
       "text": [
        "\r",
        "86.5177088567822"
       ]
      },
      {
       "output_type": "stream",
       "stream": "stdout",
       "text": [
        "\r",
        "87.0178112201162"
       ]
      },
      {
       "output_type": "stream",
       "stream": "stdout",
       "text": [
        "\r",
        "87.5179135834502"
       ]
      },
      {
       "output_type": "stream",
       "stream": "stdout",
       "text": [
        "\r",
        "88.0180159467842"
       ]
      },
      {
       "output_type": "stream",
       "stream": "stdout",
       "text": [
        "\r",
        "88.51811831011821"
       ]
      },
      {
       "output_type": "stream",
       "stream": "stdout",
       "text": [
        "\r",
        "89.0182206734522"
       ]
      },
      {
       "output_type": "stream",
       "stream": "stdout",
       "text": [
        "\r",
        "89.51832303678621"
       ]
      },
      {
       "output_type": "stream",
       "stream": "stdout",
       "text": [
        "\r",
        "90.01842540012021"
       ]
      },
      {
       "output_type": "stream",
       "stream": "stdout",
       "text": [
        "\r",
        "90.51852776345422"
       ]
      },
      {
       "output_type": "stream",
       "stream": "stdout",
       "text": [
        "\r",
        "91.01863012678821"
       ]
      },
      {
       "output_type": "stream",
       "stream": "stdout",
       "text": [
        "\r",
        "91.51873249012222"
       ]
      },
      {
       "output_type": "stream",
       "stream": "stdout",
       "text": [
        "\r",
        "92.01883485345621"
       ]
      },
      {
       "output_type": "stream",
       "stream": "stdout",
       "text": [
        "\r",
        "92.5189372167902"
       ]
      },
      {
       "output_type": "stream",
       "stream": "stdout",
       "text": [
        "\r",
        "93.01903958012421"
       ]
      },
      {
       "output_type": "stream",
       "stream": "stdout",
       "text": [
        "\r",
        "93.51914194345822"
       ]
      },
      {
       "output_type": "stream",
       "stream": "stdout",
       "text": [
        "\r",
        "94.01924430679222"
       ]
      },
      {
       "output_type": "stream",
       "stream": "stdout",
       "text": [
        "\r",
        "94.51934667012621"
       ]
      },
      {
       "output_type": "stream",
       "stream": "stdout",
       "text": [
        "\r",
        "95.01944903346022"
       ]
      },
      {
       "output_type": "stream",
       "stream": "stdout",
       "text": [
        "\r",
        "95.51955139679423"
       ]
      },
      {
       "output_type": "stream",
       "stream": "stdout",
       "text": [
        "\r",
        "96.01965376012822"
       ]
      },
      {
       "output_type": "stream",
       "stream": "stdout",
       "text": [
        "\r",
        "96.51975612346222"
       ]
      },
      {
       "output_type": "stream",
       "stream": "stdout",
       "text": [
        "\r",
        "97.01985848679622"
       ]
      },
      {
       "output_type": "stream",
       "stream": "stdout",
       "text": [
        "\r",
        "97.51996085013023"
       ]
      },
      {
       "output_type": "stream",
       "stream": "stdout",
       "text": [
        "\r",
        "98.02006321346423"
       ]
      },
      {
       "output_type": "stream",
       "stream": "stdout",
       "text": [
        "\r",
        "98.52016557679822"
       ]
      },
      {
       "output_type": "stream",
       "stream": "stdout",
       "text": [
        "\r",
        "99.02026794013223"
       ]
      },
      {
       "output_type": "stream",
       "stream": "stdout",
       "text": [
        "\r",
        "99.52037030346624"
       ]
      },
      {
       "output_type": "stream",
       "stream": "stdout",
       "text": [
        "\r"
       ]
      }
     ],
     "prompt_number": 15
    },
    {
     "cell_type": "code",
     "collapsed": false,
     "input": [
      "index = 0\n",
      "previous = 0\n",
      "views = events[(events[\"event_type\"] == \"PageView\") & (~np.isnan(events[\"user_id\"]))]\n",
      "\n",
      "for _, view in views.iterrows():\n",
      "    index += 1\n",
      "    current = float(index / views.shape[0]) * 100\n",
      "    if (previous + 0.5 < current):\n",
      "        previous = current\n",
      "        print(current, end=\"\\r\")\n",
      "    if ((view[\"value\"].count('/') > 2) and (str(view[\"value\"]) in str(view[\"refurl\"]))):\n",
      "        ids.append(view[\"user_id\"])\n",
      "        links.append(\"http://golos.io/{}\".format(view[\"value\"]))\n",
      "        classes.append(False)"
     ],
     "language": "python",
     "metadata": {},
     "outputs": [
      {
       "output_type": "stream",
       "stream": "stdout",
       "text": [
        "0.5000370462634904\r",
        "1.0000740925269809"
       ]
      },
      {
       "output_type": "stream",
       "stream": "stdout",
       "text": [
        "\r",
        "1.5001111387904715"
       ]
      },
      {
       "output_type": "stream",
       "stream": "stdout",
       "text": [
        "\r",
        "2.0001481850539617"
       ]
      },
      {
       "output_type": "stream",
       "stream": "stdout",
       "text": [
        "\r",
        "2.5001852313174524"
       ]
      },
      {
       "output_type": "stream",
       "stream": "stdout",
       "text": [
        "\r",
        "3.000222277580943"
       ]
      },
      {
       "output_type": "stream",
       "stream": "stdout",
       "text": [
        "\r",
        "3.5002593238444337"
       ]
      },
      {
       "output_type": "stream",
       "stream": "stdout",
       "text": [
        "\r",
        "4.0002963701079235"
       ]
      },
      {
       "output_type": "stream",
       "stream": "stdout",
       "text": [
        "\r",
        "4.500333416371414"
       ]
      },
      {
       "output_type": "stream",
       "stream": "stdout",
       "text": [
        "\r",
        "5.000370462634905"
       ]
      },
      {
       "output_type": "stream",
       "stream": "stdout",
       "text": [
        "\r",
        "5.5004075088983955"
       ]
      },
      {
       "output_type": "stream",
       "stream": "stdout",
       "text": [
        "\r",
        "6.000444555161886"
       ]
      },
      {
       "output_type": "stream",
       "stream": "stdout",
       "text": [
        "\r",
        "6.500481601425377"
       ]
      },
      {
       "output_type": "stream",
       "stream": "stdout",
       "text": [
        "\r",
        "7.0005186476888674"
       ]
      },
      {
       "output_type": "stream",
       "stream": "stdout",
       "text": [
        "\r",
        "7.500555693952358"
       ]
      },
      {
       "output_type": "stream",
       "stream": "stdout",
       "text": [
        "\r",
        "8.000592740215847"
       ]
      },
      {
       "output_type": "stream",
       "stream": "stdout",
       "text": [
        "\r",
        "8.500629786479339"
       ]
      },
      {
       "output_type": "stream",
       "stream": "stdout",
       "text": [
        "\r",
        "9.000666832742828"
       ]
      },
      {
       "output_type": "stream",
       "stream": "stdout",
       "text": [
        "\r",
        "9.50070387900632"
       ]
      },
      {
       "output_type": "stream",
       "stream": "stdout",
       "text": [
        "\r",
        "10.00074092526981"
       ]
      },
      {
       "output_type": "stream",
       "stream": "stdout",
       "text": [
        "\r",
        "10.500777971533301"
       ]
      },
      {
       "output_type": "stream",
       "stream": "stdout",
       "text": [
        "\r",
        "11.000815017796791"
       ]
      },
      {
       "output_type": "stream",
       "stream": "stdout",
       "text": [
        "\r",
        "11.500852064060282"
       ]
      },
      {
       "output_type": "stream",
       "stream": "stdout",
       "text": [
        "\r",
        "12.000889110323772"
       ]
      },
      {
       "output_type": "stream",
       "stream": "stdout",
       "text": [
        "\r",
        "12.500926156587264"
       ]
      },
      {
       "output_type": "stream",
       "stream": "stdout",
       "text": [
        "\r",
        "13.000963202850754"
       ]
      },
      {
       "output_type": "stream",
       "stream": "stdout",
       "text": [
        "\r",
        "13.501000249114245"
       ]
      },
      {
       "output_type": "stream",
       "stream": "stdout",
       "text": [
        "\r",
        "14.001037295377735"
       ]
      },
      {
       "output_type": "stream",
       "stream": "stdout",
       "text": [
        "\r",
        "14.501074341641226"
       ]
      },
      {
       "output_type": "stream",
       "stream": "stdout",
       "text": [
        "\r",
        "15.001111387904716"
       ]
      },
      {
       "output_type": "stream",
       "stream": "stdout",
       "text": [
        "\r",
        "15.501148434168208"
       ]
      },
      {
       "output_type": "stream",
       "stream": "stdout",
       "text": [
        "\r",
        "16.001185480431694"
       ]
      },
      {
       "output_type": "stream",
       "stream": "stdout",
       "text": [
        "\r",
        "16.501222526695187"
       ]
      },
      {
       "output_type": "stream",
       "stream": "stdout",
       "text": [
        "\r",
        "17.001259572958677"
       ]
      },
      {
       "output_type": "stream",
       "stream": "stdout",
       "text": [
        "\r",
        "17.501296619222167"
       ]
      },
      {
       "output_type": "stream",
       "stream": "stdout",
       "text": [
        "\r",
        "18.001333665485657"
       ]
      },
      {
       "output_type": "stream",
       "stream": "stdout",
       "text": [
        "\r",
        "18.50137071174915"
       ]
      },
      {
       "output_type": "stream",
       "stream": "stdout",
       "text": [
        "\r",
        "19.00140775801264"
       ]
      },
      {
       "output_type": "stream",
       "stream": "stdout",
       "text": [
        "\r",
        "19.50144480427613"
       ]
      },
      {
       "output_type": "stream",
       "stream": "stdout",
       "text": [
        "\r",
        "20.00148185053962"
       ]
      },
      {
       "output_type": "stream",
       "stream": "stdout",
       "text": [
        "\r",
        "20.501518896803113"
       ]
      },
      {
       "output_type": "stream",
       "stream": "stdout",
       "text": [
        "\r",
        "21.001555943066602"
       ]
      },
      {
       "output_type": "stream",
       "stream": "stdout",
       "text": [
        "\r",
        "21.501592989330092"
       ]
      },
      {
       "output_type": "stream",
       "stream": "stdout",
       "text": [
        "\r",
        "22.001630035593582"
       ]
      },
      {
       "output_type": "stream",
       "stream": "stdout",
       "text": [
        "\r",
        "22.501667081857075"
       ]
      },
      {
       "output_type": "stream",
       "stream": "stdout",
       "text": [
        "\r",
        "23.001704128120565"
       ]
      },
      {
       "output_type": "stream",
       "stream": "stdout",
       "text": [
        "\r",
        "23.501741174384055"
       ]
      },
      {
       "output_type": "stream",
       "stream": "stdout",
       "text": [
        "\r",
        "24.001778220647545"
       ]
      },
      {
       "output_type": "stream",
       "stream": "stdout",
       "text": [
        "\r",
        "24.501815266911038"
       ]
      },
      {
       "output_type": "stream",
       "stream": "stdout",
       "text": [
        "\r",
        "25.001852313174528"
       ]
      },
      {
       "output_type": "stream",
       "stream": "stdout",
       "text": [
        "\r",
        "25.501889359438017"
       ]
      },
      {
       "output_type": "stream",
       "stream": "stdout",
       "text": [
        "\r",
        "26.001926405701507"
       ]
      },
      {
       "output_type": "stream",
       "stream": "stdout",
       "text": [
        "\r",
        "26.501963451965"
       ]
      },
      {
       "output_type": "stream",
       "stream": "stdout",
       "text": [
        "\r",
        "27.00200049822849"
       ]
      },
      {
       "output_type": "stream",
       "stream": "stdout",
       "text": [
        "\r",
        "27.50203754449198"
       ]
      },
      {
       "output_type": "stream",
       "stream": "stdout",
       "text": [
        "\r",
        "28.00207459075547"
       ]
      },
      {
       "output_type": "stream",
       "stream": "stdout",
       "text": [
        "\r",
        "28.502111637018963"
       ]
      },
      {
       "output_type": "stream",
       "stream": "stdout",
       "text": [
        "\r",
        "29.002148683282453"
       ]
      },
      {
       "output_type": "stream",
       "stream": "stdout",
       "text": [
        "\r",
        "29.502185729545943"
       ]
      },
      {
       "output_type": "stream",
       "stream": "stdout",
       "text": [
        "\r",
        "30.002222775809432"
       ]
      },
      {
       "output_type": "stream",
       "stream": "stdout",
       "text": [
        "\r",
        "30.502259822072926"
       ]
      },
      {
       "output_type": "stream",
       "stream": "stdout",
       "text": [
        "\r",
        "31.002296868336416"
       ]
      },
      {
       "output_type": "stream",
       "stream": "stdout",
       "text": [
        "\r",
        "31.502333914599905"
       ]
      },
      {
       "output_type": "stream",
       "stream": "stdout",
       "text": [
        "\r",
        "32.00237096086339"
       ]
      },
      {
       "output_type": "stream",
       "stream": "stdout",
       "text": [
        "\r",
        "32.50240800712688"
       ]
      },
      {
       "output_type": "stream",
       "stream": "stdout",
       "text": [
        "\r",
        "33.002445053390375"
       ]
      },
      {
       "output_type": "stream",
       "stream": "stdout",
       "text": [
        "\r",
        "33.50248209965386"
       ]
      },
      {
       "output_type": "stream",
       "stream": "stdout",
       "text": [
        "\r",
        "34.002519145917354"
       ]
      },
      {
       "output_type": "stream",
       "stream": "stdout",
       "text": [
        "\r",
        "34.50255619218085"
       ]
      },
      {
       "output_type": "stream",
       "stream": "stdout",
       "text": [
        "\r",
        "35.002593238444334"
       ]
      },
      {
       "output_type": "stream",
       "stream": "stdout",
       "text": [
        "\r",
        "35.50263028470783"
       ]
      },
      {
       "output_type": "stream",
       "stream": "stdout",
       "text": [
        "\r",
        "36.00266733097131"
       ]
      },
      {
       "output_type": "stream",
       "stream": "stdout",
       "text": [
        "\r",
        "36.50270437723481"
       ]
      },
      {
       "output_type": "stream",
       "stream": "stdout",
       "text": [
        "\r",
        "37.0027414234983"
       ]
      },
      {
       "output_type": "stream",
       "stream": "stdout",
       "text": [
        "\r",
        "37.502778469761786"
       ]
      },
      {
       "output_type": "stream",
       "stream": "stdout",
       "text": [
        "\r",
        "38.00281551602528"
       ]
      },
      {
       "output_type": "stream",
       "stream": "stdout",
       "text": [
        "\r",
        "38.50285256228877"
       ]
      },
      {
       "output_type": "stream",
       "stream": "stdout",
       "text": [
        "\r",
        "39.00288960855226"
       ]
      },
      {
       "output_type": "stream",
       "stream": "stdout",
       "text": [
        "\r",
        "39.50292665481575"
       ]
      },
      {
       "output_type": "stream",
       "stream": "stdout",
       "text": [
        "\r",
        "40.00296370107924"
       ]
      },
      {
       "output_type": "stream",
       "stream": "stdout",
       "text": [
        "\r",
        "40.50300074734273"
       ]
      },
      {
       "output_type": "stream",
       "stream": "stdout",
       "text": [
        "\r",
        "41.003037793606225"
       ]
      },
      {
       "output_type": "stream",
       "stream": "stdout",
       "text": [
        "\r",
        "41.50307483986971"
       ]
      },
      {
       "output_type": "stream",
       "stream": "stdout",
       "text": [
        "\r",
        "42.003111886133205"
       ]
      },
      {
       "output_type": "stream",
       "stream": "stdout",
       "text": [
        "\r",
        "42.5031489323967"
       ]
      },
      {
       "output_type": "stream",
       "stream": "stdout",
       "text": [
        "\r",
        "43.003185978660184"
       ]
      },
      {
       "output_type": "stream",
       "stream": "stdout",
       "text": [
        "\r",
        "43.50322302492368"
       ]
      },
      {
       "output_type": "stream",
       "stream": "stdout",
       "text": [
        "\r",
        "44.003260071187164"
       ]
      },
      {
       "output_type": "stream",
       "stream": "stdout",
       "text": [
        "\r",
        "44.50329711745066"
       ]
      },
      {
       "output_type": "stream",
       "stream": "stdout",
       "text": [
        "\r",
        "45.00333416371415"
       ]
      },
      {
       "output_type": "stream",
       "stream": "stdout",
       "text": [
        "\r",
        "45.50337120997764"
       ]
      },
      {
       "output_type": "stream",
       "stream": "stdout",
       "text": [
        "\r",
        "46.00340825624113"
       ]
      },
      {
       "output_type": "stream",
       "stream": "stdout",
       "text": [
        "\r",
        "46.50344530250462"
       ]
      },
      {
       "output_type": "stream",
       "stream": "stdout",
       "text": [
        "\r",
        "47.00348234876811"
       ]
      },
      {
       "output_type": "stream",
       "stream": "stdout",
       "text": [
        "\r",
        "47.5035193950316"
       ]
      },
      {
       "output_type": "stream",
       "stream": "stdout",
       "text": [
        "\r",
        "48.00355644129509"
       ]
      },
      {
       "output_type": "stream",
       "stream": "stdout",
       "text": [
        "\r",
        "48.50359348755858"
       ]
      },
      {
       "output_type": "stream",
       "stream": "stdout",
       "text": [
        "\r",
        "49.003630533822076"
       ]
      },
      {
       "output_type": "stream",
       "stream": "stdout",
       "text": [
        "\r",
        "49.50366758008556"
       ]
      },
      {
       "output_type": "stream",
       "stream": "stdout",
       "text": [
        "\r",
        "50.003704626349055"
       ]
      },
      {
       "output_type": "stream",
       "stream": "stdout",
       "text": [
        "\r",
        "50.50374167261255"
       ]
      },
      {
       "output_type": "stream",
       "stream": "stdout",
       "text": [
        "\r",
        "51.003778718876035"
       ]
      },
      {
       "output_type": "stream",
       "stream": "stdout",
       "text": [
        "\r",
        "51.50381576513953"
       ]
      },
      {
       "output_type": "stream",
       "stream": "stdout",
       "text": [
        "\r",
        "52.003852811403014"
       ]
      },
      {
       "output_type": "stream",
       "stream": "stdout",
       "text": [
        "\r",
        "52.50388985766651"
       ]
      },
      {
       "output_type": "stream",
       "stream": "stdout",
       "text": [
        "\r",
        "53.00392690393"
       ]
      },
      {
       "output_type": "stream",
       "stream": "stdout",
       "text": [
        "\r",
        "53.50396395019349"
       ]
      },
      {
       "output_type": "stream",
       "stream": "stdout",
       "text": [
        "\r",
        "54.00400099645698"
       ]
      },
      {
       "output_type": "stream",
       "stream": "stdout",
       "text": [
        "\r",
        "54.504038042720474"
       ]
      },
      {
       "output_type": "stream",
       "stream": "stdout",
       "text": [
        "\r",
        "55.00407508898396"
       ]
      },
      {
       "output_type": "stream",
       "stream": "stdout",
       "text": [
        "\r",
        "55.50411213524745"
       ]
      },
      {
       "output_type": "stream",
       "stream": "stdout",
       "text": [
        "\r",
        "56.00414918151094"
       ]
      },
      {
       "output_type": "stream",
       "stream": "stdout",
       "text": [
        "\r",
        "56.50418622777443"
       ]
      },
      {
       "output_type": "stream",
       "stream": "stdout",
       "text": [
        "\r",
        "57.004223274037926"
       ]
      },
      {
       "output_type": "stream",
       "stream": "stdout",
       "text": [
        "\r",
        "57.50426032030141"
       ]
      },
      {
       "output_type": "stream",
       "stream": "stdout",
       "text": [
        "\r",
        "58.004297366564906"
       ]
      },
      {
       "output_type": "stream",
       "stream": "stdout",
       "text": [
        "\r",
        "58.5043344128284"
       ]
      },
      {
       "output_type": "stream",
       "stream": "stdout",
       "text": [
        "\r",
        "59.004371459091885"
       ]
      },
      {
       "output_type": "stream",
       "stream": "stdout",
       "text": [
        "\r",
        "59.50440850535538"
       ]
      },
      {
       "output_type": "stream",
       "stream": "stdout",
       "text": [
        "\r",
        "60.004445551618865"
       ]
      },
      {
       "output_type": "stream",
       "stream": "stdout",
       "text": [
        "\r",
        "60.50448259788236"
       ]
      },
      {
       "output_type": "stream",
       "stream": "stdout",
       "text": [
        "\r",
        "61.00451964414585"
       ]
      },
      {
       "output_type": "stream",
       "stream": "stdout",
       "text": [
        "\r",
        "61.50455669040934"
       ]
      },
      {
       "output_type": "stream",
       "stream": "stdout",
       "text": [
        "\r",
        "62.00459373667283"
       ]
      },
      {
       "output_type": "stream",
       "stream": "stdout",
       "text": [
        "\r",
        "62.504630782936324"
       ]
      },
      {
       "output_type": "stream",
       "stream": "stdout",
       "text": [
        "\r",
        "63.00466782919981"
       ]
      },
      {
       "output_type": "stream",
       "stream": "stdout",
       "text": [
        "\r",
        "63.504704875463304"
       ]
      },
      {
       "output_type": "stream",
       "stream": "stdout",
       "text": [
        "\r",
        "64.00474192172678"
       ]
      },
      {
       "output_type": "stream",
       "stream": "stdout",
       "text": [
        "\r",
        "64.50477896799028"
       ]
      },
      {
       "output_type": "stream",
       "stream": "stdout",
       "text": [
        "\r",
        "65.00481601425376"
       ]
      },
      {
       "output_type": "stream",
       "stream": "stdout",
       "text": [
        "\r",
        "65.50485306051725"
       ]
      },
      {
       "output_type": "stream",
       "stream": "stdout",
       "text": [
        "\r",
        "66.00489010678075"
       ]
      },
      {
       "output_type": "stream",
       "stream": "stdout",
       "text": [
        "\r",
        "66.50492715304424"
       ]
      },
      {
       "output_type": "stream",
       "stream": "stdout",
       "text": [
        "\r",
        "67.00496419930772"
       ]
      },
      {
       "output_type": "stream",
       "stream": "stdout",
       "text": [
        "\r",
        "67.50500124557122"
       ]
      },
      {
       "output_type": "stream",
       "stream": "stdout",
       "text": [
        "\r",
        "68.00503829183471"
       ]
      },
      {
       "output_type": "stream",
       "stream": "stdout",
       "text": [
        "\r",
        "68.5050753380982"
       ]
      },
      {
       "output_type": "stream",
       "stream": "stdout",
       "text": [
        "\r",
        "69.0051123843617"
       ]
      },
      {
       "output_type": "stream",
       "stream": "stdout",
       "text": [
        "\r",
        "69.50514943062518"
       ]
      },
      {
       "output_type": "stream",
       "stream": "stdout",
       "text": [
        "\r",
        "70.00518647688867"
       ]
      },
      {
       "output_type": "stream",
       "stream": "stdout",
       "text": [
        "\r",
        "70.50522352315215"
       ]
      },
      {
       "output_type": "stream",
       "stream": "stdout",
       "text": [
        "\r",
        "71.00526056941565"
       ]
      },
      {
       "output_type": "stream",
       "stream": "stdout",
       "text": [
        "\r",
        "71.50529761567914"
       ]
      },
      {
       "output_type": "stream",
       "stream": "stdout",
       "text": [
        "\r",
        "72.00533466194263"
       ]
      },
      {
       "output_type": "stream",
       "stream": "stdout",
       "text": [
        "\r",
        "72.50537170820613"
       ]
      },
      {
       "output_type": "stream",
       "stream": "stdout",
       "text": [
        "\r",
        "73.00540875446961"
       ]
      },
      {
       "output_type": "stream",
       "stream": "stdout",
       "text": [
        "\r",
        "73.5054458007331"
       ]
      },
      {
       "output_type": "stream",
       "stream": "stdout",
       "text": [
        "\r",
        "74.0054828469966"
       ]
      },
      {
       "output_type": "stream",
       "stream": "stdout",
       "text": [
        "\r",
        "74.50551989326009"
       ]
      },
      {
       "output_type": "stream",
       "stream": "stdout",
       "text": [
        "\r",
        "75.00555693952357"
       ]
      },
      {
       "output_type": "stream",
       "stream": "stdout",
       "text": [
        "\r",
        "75.50559398578707"
       ]
      },
      {
       "output_type": "stream",
       "stream": "stdout",
       "text": [
        "\r",
        "76.00563103205056"
       ]
      },
      {
       "output_type": "stream",
       "stream": "stdout",
       "text": [
        "\r",
        "76.50566807831405"
       ]
      },
      {
       "output_type": "stream",
       "stream": "stdout",
       "text": [
        "\r",
        "77.00570512457755"
       ]
      },
      {
       "output_type": "stream",
       "stream": "stdout",
       "text": [
        "\r",
        "77.50574217084103"
       ]
      },
      {
       "output_type": "stream",
       "stream": "stdout",
       "text": [
        "\r",
        "78.00577921710452"
       ]
      },
      {
       "output_type": "stream",
       "stream": "stdout",
       "text": [
        "\r",
        "78.50581626336802"
       ]
      },
      {
       "output_type": "stream",
       "stream": "stdout",
       "text": [
        "\r",
        "79.0058533096315"
       ]
      },
      {
       "output_type": "stream",
       "stream": "stdout",
       "text": [
        "\r",
        "79.50589035589499"
       ]
      },
      {
       "output_type": "stream",
       "stream": "stdout",
       "text": [
        "\r",
        "80.00592740215848"
       ]
      },
      {
       "output_type": "stream",
       "stream": "stdout",
       "text": [
        "\r",
        "80.50596444842198"
       ]
      },
      {
       "output_type": "stream",
       "stream": "stdout",
       "text": [
        "\r",
        "81.00600149468546"
       ]
      },
      {
       "output_type": "stream",
       "stream": "stdout",
       "text": [
        "\r",
        "81.50603854094895"
       ]
      },
      {
       "output_type": "stream",
       "stream": "stdout",
       "text": [
        "\r",
        "82.00607558721245"
       ]
      },
      {
       "output_type": "stream",
       "stream": "stdout",
       "text": [
        "\r",
        "82.50611263347594"
       ]
      },
      {
       "output_type": "stream",
       "stream": "stdout",
       "text": [
        "\r",
        "83.00614967973942"
       ]
      },
      {
       "output_type": "stream",
       "stream": "stdout",
       "text": [
        "\r",
        "83.50618672600292"
       ]
      },
      {
       "output_type": "stream",
       "stream": "stdout",
       "text": [
        "\r",
        "84.00622377226641"
       ]
      },
      {
       "output_type": "stream",
       "stream": "stdout",
       "text": [
        "\r",
        "84.5062608185299"
       ]
      },
      {
       "output_type": "stream",
       "stream": "stdout",
       "text": [
        "\r",
        "85.0062978647934"
       ]
      },
      {
       "output_type": "stream",
       "stream": "stdout",
       "text": [
        "\r",
        "85.50633491105688"
       ]
      },
      {
       "output_type": "stream",
       "stream": "stdout",
       "text": [
        "\r",
        "86.00637195732037"
       ]
      },
      {
       "output_type": "stream",
       "stream": "stdout",
       "text": [
        "\r",
        "86.50640900358385"
       ]
      },
      {
       "output_type": "stream",
       "stream": "stdout",
       "text": [
        "\r",
        "87.00644604984736"
       ]
      },
      {
       "output_type": "stream",
       "stream": "stdout",
       "text": [
        "\r",
        "87.50648309611084"
       ]
      },
      {
       "output_type": "stream",
       "stream": "stdout",
       "text": [
        "\r",
        "88.00652014237433"
       ]
      },
      {
       "output_type": "stream",
       "stream": "stdout",
       "text": [
        "\r",
        "88.50655718863783"
       ]
      },
      {
       "output_type": "stream",
       "stream": "stdout",
       "text": [
        "\r",
        "89.00659423490131"
       ]
      },
      {
       "output_type": "stream",
       "stream": "stdout",
       "text": [
        "\r",
        "89.5066312811648"
       ]
      },
      {
       "output_type": "stream",
       "stream": "stdout",
       "text": [
        "\r",
        "90.0066683274283"
       ]
      },
      {
       "output_type": "stream",
       "stream": "stdout",
       "text": [
        "\r",
        "90.50670537369179"
       ]
      },
      {
       "output_type": "stream",
       "stream": "stdout",
       "text": [
        "\r",
        "91.00674241995527"
       ]
      },
      {
       "output_type": "stream",
       "stream": "stdout",
       "text": [
        "\r",
        "91.50677946621877"
       ]
      },
      {
       "output_type": "stream",
       "stream": "stdout",
       "text": [
        "\r",
        "92.00681651248226"
       ]
      },
      {
       "output_type": "stream",
       "stream": "stdout",
       "text": [
        "\r",
        "92.50685355874575"
       ]
      },
      {
       "output_type": "stream",
       "stream": "stdout",
       "text": [
        "\r",
        "93.00689060500925"
       ]
      },
      {
       "output_type": "stream",
       "stream": "stdout",
       "text": [
        "\r",
        "93.50692765127273"
       ]
      },
      {
       "output_type": "stream",
       "stream": "stdout",
       "text": [
        "\r",
        "94.00696469753622"
       ]
      },
      {
       "output_type": "stream",
       "stream": "stdout",
       "text": [
        "\r",
        "94.50700174379972"
       ]
      },
      {
       "output_type": "stream",
       "stream": "stdout",
       "text": [
        "\r",
        "95.0070387900632"
       ]
      },
      {
       "output_type": "stream",
       "stream": "stdout",
       "text": [
        "\r",
        "95.50707583632669"
       ]
      },
      {
       "output_type": "stream",
       "stream": "stdout",
       "text": [
        "\r",
        "96.00711288259018"
       ]
      },
      {
       "output_type": "stream",
       "stream": "stdout",
       "text": [
        "\r",
        "96.50714992885368"
       ]
      },
      {
       "output_type": "stream",
       "stream": "stdout",
       "text": [
        "\r",
        "97.00718697511716"
       ]
      },
      {
       "output_type": "stream",
       "stream": "stdout",
       "text": [
        "\r",
        "97.50722402138065"
       ]
      },
      {
       "output_type": "stream",
       "stream": "stdout",
       "text": [
        "\r",
        "98.00726106764415"
       ]
      },
      {
       "output_type": "stream",
       "stream": "stdout",
       "text": [
        "\r",
        "98.50729811390764"
       ]
      },
      {
       "output_type": "stream",
       "stream": "stdout",
       "text": [
        "\r",
        "99.00733516017112"
       ]
      },
      {
       "output_type": "stream",
       "stream": "stdout",
       "text": [
        "\r",
        "99.50737220643462"
       ]
      },
      {
       "output_type": "stream",
       "stream": "stdout",
       "text": [
        "\r"
       ]
      }
     ],
     "prompt_number": 16
    },
    {
     "cell_type": "code",
     "collapsed": false,
     "input": [
      "import numpy as np\n",
      "import pandas as pd\n",
      "votes = events[(events[\"event_type\"] == \"Vote\") & (~np.isnan(events[\"user_id\"]))]\n",
      "dataset = pd.DataFrame()\n",
      "ids = []\n",
      "links = []\n",
      "classes = []\n",
      "index = 0\n",
      "previous = 0\n",
      "\n",
      "for user in events[\"user_id\"].unique():\n",
      "    # 100% like\n",
      "    # Maybe dislike\n",
      "    # "
     ],
     "language": "python",
     "metadata": {},
     "outputs": []
    },
    {
     "cell_type": "code",
     "collapsed": false,
     "input": [
      "dataset[\"user_id\"] = ids\n",
      "dataset[\"post_permlink\"] = links\n",
      "dataset[\"like\"] = classes"
     ],
     "language": "python",
     "metadata": {},
     "outputs": [],
     "prompt_number": 17
    },
    {
     "cell_type": "code",
     "collapsed": false,
     "input": [
      "dataset.to_csv(\"./events1.csv\")"
     ],
     "language": "python",
     "metadata": {},
     "outputs": [],
     "prompt_number": 18
    },
    {
     "cell_type": "code",
     "collapsed": false,
     "input": [
      "dataset.shape"
     ],
     "language": "python",
     "metadata": {},
     "outputs": [
      {
       "metadata": {},
       "output_type": "pyout",
       "prompt_number": 19,
       "text": [
        "(1559391, 3)"
       ]
      }
     ],
     "prompt_number": 19
    },
    {
     "cell_type": "markdown",
     "metadata": {},
     "source": [
      "\u041b\u0430\u0439\u043a - \u043b\u0430\u0439\u043a\u043d\u0443\u043b \u0441\u043e \u0441\u0442\u0440\u0430\u043d\u0438\u0446\u044b \u0441\u0442\u0430\u0442\u044c\u0438, \u043f\u043e\u0441\u043c\u043e\u0442\u0440\u0435\u043b \u0431\u043e\u043b\u044c\u0448\u0435 n \u0440\u0430\u0437\n",
      "\n",
      "\u0414\u0438\u0437\u043b\u0430\u0439\u043a - \u043f\u043e\u0441\u043c\u043e\u0442\u0440\u0435\u043b \u043c\u0435\u043d\u044c\u0448\u0435 n \u0440\u0430\u0437 \u0438 \u043d\u0435 \u043b\u0430\u0439\u043a\u043d\u0443\u043b, \u043e\u0442\u043a\u043e\u043c\u043c\u0435\u043d\u0442\u0438\u043b \u0438 \u043d\u0435 \u043b\u0430\u0439\u043a\u043d\u0443\u043b"
     ]
    },
    {
     "cell_type": "code",
     "collapsed": false,
     "input": [
      "user_events = events[events[\"refurl\"].apply(lambda x: str(x).count(\"/\") > 4)].set_index(\"user_id\")"
     ],
     "language": "python",
     "metadata": {},
     "outputs": [],
     "prompt_number": 57
    },
    {
     "cell_type": "code",
     "collapsed": false,
     "input": [
      "user_post_votes = user_events[].reset_index()"
     ],
     "language": "python",
     "metadata": {},
     "outputs": []
    },
    {
     "cell_type": "code",
     "collapsed": false,
     "input": [
      "def user_posts(user):\n",
      "    return user_events.loc[user][\"refurl\"]\n",
      "    \n",
      "def vote_from_page(user, post):\n",
      "    return user_post_votes.loc[user, post]\n",
      "\n",
      "def comment_without_vote(user, post):\n",
      "    return ((user, post) in user_post_comments.index) and ((user, post) not in user_post_votes.index)"
     ],
     "language": "python",
     "metadata": {},
     "outputs": []
    },
    {
     "cell_type": "code",
     "collapsed": false,
     "input": [
      "for user in events[\"user_id\"].unique()[0:10]:\n",
      "    for post in user_posts(user).unique():\n",
      "        if vote_from_page(user, post):\n",
      "            print(\"Like!\")\n",
      "        if comment_without_vote(user, post):\n",
      "            print(\"Dislike...\")\n",
      "    user_views = user_posts(user).value_counts()\n",
      "    for post in user_views[:10]:\n",
      "        print(\"Like!\")\n",
      "    for post in user_views[-10:]:\n",
      "        print(\"Dislike...\")\n",
      "        # All likes from a page\n",
      "        # Top-k value counts by views\n",
      "        # Bottom-k value counts by views without a like\n",
      "        # Comments without likes"
     ],
     "language": "python",
     "metadata": {},
     "outputs": []
    },
    {
     "cell_type": "markdown",
     "metadata": {},
     "source": [
      "\u0425\u043e\u0440\u043e\u0448\u0438\u0439 \u043f\u0440\u0438\u043c\u0435\u0440 - \u043f\u043e\u043b\u044c\u0437\u043e\u0432\u0430\u0442\u0435\u043b\u044c 10"
     ]
    },
    {
     "cell_type": "code",
     "collapsed": false,
     "input": [
      "views[(views[\"user_id\"] == events[\"user_id\"].iloc[10])][\"value\"].value_counts()"
     ],
     "language": "python",
     "metadata": {},
     "outputs": [
      {
       "metadata": {},
       "output_type": "pyout",
       "prompt_number": 58,
       "text": [
        "/@ruta                                                                                               256\n",
        "/@ruta/transfers                                                                                     132\n",
        "/@ruta/recent-replies                                                                                102\n",
        "/@vp-magic-india                                                                                      67\n",
        "/magic-india/@vp-magic-india/bozhestvennoe-remeslo-vishvakarmana                                      36\n",
        "/@ruta/comments                                                                                       35\n",
        "/magic-india/@vp-magic-india/muzykalnye-instrumenty-indii                                             27\n",
        "/magic-india/@vp-magic-india/blokchein-protiv-konfliktnykh-almazov                                    21\n",
        "/trending/ru--apvot50-50                                                                              19\n",
        "/ru--more-czvetov/@ruta/more-cvetov-konkurs-5-ya-budu-dolgo-gnat-velosiped                            17\n",
        "/ru--more-czvetov/@more-tsvetov/kollazh-cvetochnogo-nastroeniya                                       16\n",
        "/papamama/@vp-papamama/istoriya-mishki-teddi                                                          13\n",
        "/ru--fotografika/@ruta/fotografika-konkurs-2-angely-apokalipsisa                                      13\n",
        "/@more-tsvetov                                                                                        12\n",
        "/magic-india/@vp-magic-india/indiiskoe-kino                                                           11\n",
        "/magic-india/@vp-magic-india/nauchno-tekhnicheskie-perspektivy-razvitiya-indii                        11\n",
        "/magic-india/@vp-magic-india/simvoly-indii-2-korolevskaya-kobra                                       11\n",
        "/ru--more-czvetov/@more-tsvetov/more-cvetov-start-tematicheskogo-cvetochnogo-konkursa-5               10\n",
        "/magic-india/@vp-magic-india/velikolepnaya-semerka-indiiskie-korolevy-krasoty                         10\n",
        "/ru--more-czvetov/@more-tsvetov/afrikanskaya-roza-v-severnykh-shirotakh                               10\n",
        "/magic-india/@vp-magic-india/katkhak-legendy-otrazhyonnye-v-tance-chast-2                              9\n",
        "/welcome                                                                                               9\n",
        "/vox-populi/@poesie/poeziya-golosa-obyavlyaem-pobeditelei-poeticheskogo-konkursa-zolotaya-osen         9\n",
        "/submit.html                                                                                           8\n",
        "/@ruta/followed                                                                                        8\n",
        "/mapala/@lira/obnazhennaya-istina-shokuriyushaya-skulptura-v-anglii                                    7\n",
        "/ru--art/@natabelu/slona-na-skaku-ostanovim                                                            7\n",
        "/magic-india/@vp-magic-india/pozdnii-vedicheskii-period-rubrika-istoriya                               7\n",
        "/trending/ru--more-czvetov                                                                             7\n",
        "/magic-india/@vp-magic-india/evnukhi-sovremennoi-indii                                                 7\n",
        "                                                                                                    ... \n",
        "/ru--more-czvetov/@more-tsvetov/letnee-prazdnichnoe-nastroenie-v-osennie-budni                         1\n",
        "/ru--rekomendacziya/@neo/rekomendacii-4                                                                1\n",
        "/trending/ru--darkrumbum                                                                               1\n",
        "/vp-painting/@vp-painting/yarkaya-vitrazhnaya-kartina-svoimi-rukami-legko-originalno-interesno         1\n",
        "/robot/@stepanov/biokhimiya-babego-leta                                                                1\n",
        "/ru--tvorchestvo/@cartel/saga-o-kartele-glava-15-smutnye-mysli                                         1\n",
        "/x/@catyk/re-ruta-re-catyk-re-ruta-re-urri-u-bm-budet-bmchain-a-u-nas-ruchain-20171009t103013053z      1\n",
        "/@svinsent                                                                                             1\n",
        "/ru--apvot50-50/@naminutku/bitkoin-ustareet-ranshe-chem-vy-eto-poimete                                 1\n",
        "/ru--apvot50-50/@pioner777888/reshayut-sekundy                                                         1\n",
        "/x/@kayros/re-ruta-re-vp-magic-india-drevnii-khram-somnatkh-svyatilishe-indii-20171019t195917113z      1\n",
        "/ru--golos/@on0tole/osnovy-oformleniya-postov-na-golose-polnyi-kurs-po-rabote-s-markdown               1\n",
        "/ru--perepisxdebilov/@lehard/ispanskii-styd-kuda-katitsya-golos                                        1\n",
        "/trending/vox-populi                                                                                   1\n",
        "/ru--fotografika/@snake911/fotografika-konkurs-2-itogi                                                 1\n",
        "/psk/@eduard/mozhno-li-opredelit-kharakter-cheloveka-po-chertam-lica                                   1\n",
        "/trending/ru--lotereya                                                                                 1\n",
        "/ru--mir-kino/@vp-mir-kino/novyi-konkurs-ot-gildii-kinomanov-golosa-mir-kino                           1\n",
        "/ru--zolotayaosenx/@urii/poeticheskii-konkurs-zolotaya-osen-osennii-privet                             1\n",
        "/ru--zhiznx/@svinsent/zhdun-uzhe-ne-tot-sovsem-ne-tot-2017-10-14-18-26-09                              1\n",
        "/golos/@analytics/discussed-blogers-weekly-02-10-2017-08-10-2017                                       1\n",
        "/magic-india/@vp-magic-india/kkhari-baoli-mir-specii/                                                  1\n",
        "/ru--lotereya/@golos.loto/5x36-golos-lottery-883-7367                                                  1\n",
        "/robot/@svinsent/nas-malo-no-my-v-telnyashke-khotya-i-i-bez-trusov                                     1\n",
        "/x/@natalia/re-ruta-re-natalia-london-teatr-globus-20171009t090758111z                                 1\n",
        "/ru--shyeo/@sheo/sheo-poprosite-to-chto-vam-nuzhno                                                     1\n",
        "/ru--konkurs/@nikulinsb/konkurs-svidanie-svidanie-bez-lyubvi                                           1\n",
        "/ru--apvot50-50/@naminutku/poluchi-grazhdanstvo-za-bitkoiny                                            1\n",
        "/ru--fotografiya/@vasyl73/zelenyi-osennii-kuznechik-50-50                                              1\n",
        "/ru--konkurs/@rica170/konkurs-ot-soobshestva-volshebnaya-indiya/                                       1\n",
        "Name: value, Length: 481, dtype: int64"
       ]
      }
     ],
     "prompt_number": 58
    },
    {
     "cell_type": "code",
     "collapsed": false,
     "input": [
      "events[\"user_id\"].iloc[10]"
     ],
     "language": "python",
     "metadata": {},
     "outputs": [
      {
       "metadata": {},
       "output_type": "pyout",
       "prompt_number": 59,
       "text": [
        "15542.0"
       ]
      }
     ],
     "prompt_number": 59
    },
    {
     "cell_type": "code",
     "collapsed": false,
     "input": [
      "comments = events[events[\"event_type\"] == \"Comment\"]\n",
      "comments.apply(lambda x: x)"
     ],
     "language": "python",
     "metadata": {},
     "outputs": [
      {
       "metadata": {},
       "output_type": "pyout",
       "prompt_number": 52,
       "text": [
        "1          https://golos.io/mapala/@ladyzarulem/estafeta-...\n",
        "6          https://golos.io/ru--rasskaz/@tinochka/u-menya...\n",
        "11         https://golos.io/ru--lotereya/@golos.loto/5x36...\n",
        "12         https://golos.io/mapala/@gans91/planirovanie-p...\n",
        "14         https://golos.io/mapala/@cysik1946/zamechateln...\n",
        "18         https://golos.io/ru--lotereya/@golos.loto/5x36...\n",
        "26         https://golos.io/ru--rasskaz/@tinochka/u-menya...\n",
        "33         https://golos.io/ru--permx/@matilda88/progulka...\n",
        "36         https://golos.io/ru--permx/@matilda88/progulka...\n",
        "40         https://golos.io/mapala/@ladyzarulem/estafeta-...\n",
        "42         https://golos.io/mapala/@kssenia/abakan---lyub...\n",
        "50         https://golos.io/ru--rasskaz/@tinochka/u-menya...\n",
        "54         https://golos.io/ru--permx/@matilda88/progulka...\n",
        "58         https://golos.io/ru--lotereya/@golos.loto/5x36...\n",
        "71         https://golos.io/ru--permx/@matilda88/progulka...\n",
        "75         https://golos.io/ru--rasskaz/@tinochka/u-menya...\n",
        "76         https://golos.io/ru--bezdarigolosa/@avtor8904/...\n",
        "77          https://golos.io/mapala/@mahadev/velichie-smerti\n",
        "96         https://golos.io/ru--rasskaz/@tinochka/u-menya...\n",
        "105        https://golos.io/family/@malay11/marriage-with...\n",
        "106        https://golos.io/ru--kriptoinvestor/@aleco/kri...\n",
        "111        https://golos.io/ru--rasskaz/@tinochka/u-menya...\n",
        "115        https://golos.io/ru--yestafetaczveta/@lenutsa/...\n",
        "117        https://golos.io/ru--zdorovxe/@mommo/mozhno-li...\n",
        "120        https://golos.io/ru--golosmasterov/@anela/star...\n",
        "121        https://golos.io/ru--rasskaz/@tinochka/u-menya...\n",
        "126        https://golos.io/ru--zhiznx/@pavelval/pro-byud...\n",
        "137        https://golos.io/mapala/@evildeathcore/moij-go...\n",
        "141        https://golos.io/ru--zhiznx/@gildar/privat-ban...\n",
        "143        https://golos.io/ru--yestafetaczveta/@svinsent...\n",
        "                                 ...                        \n",
        "2599015    https://golos.io/gaa/@eto-ka/golos-art-awards-...\n",
        "2599049    https://golos.io/ru--lotereya/@golos.loto/5x36...\n",
        "2599080    https://golos.io/mapala/@victoriaa/kak-ya-bezh...\n",
        "2599122    https://golos.io/vox-populi/@vp-golos-tv/novos...\n",
        "2599162    https://golos.io/ru--apvot50-50/@student61/uda...\n",
        "2599194    https://golos.io/ru--lotereya/@golos.loto/5x36...\n",
        "2599229    https://golos.io/ru--kao/@delfin/kao-delfin-ro...\n",
        "2599243    https://golos.io/psk/@varja/pereraspredelenie-...\n",
        "2599309    https://golos.io/ru--zagadkipaganelya/@cergey-...\n",
        "2599339    https://golos.io/ru--konkurs/@vox.mens/konkurs...\n",
        "2599343    https://golos.io/mapala/@valievilya/idealnyi-z...\n",
        "2599344    https://golos.io/bookmaker/@bukmkr/4delwt-priv...\n",
        "2599473    https://golos.io/ru--golos/@wealthycat/kupi-go...\n",
        "2599478    https://golos.io/ru--reportazh/@fen-vey/koncer...\n",
        "2599511    https://golos.io/golos/@ackza/10gbg-to-first-5...\n",
        "2599559    https://golos.io/ru--mysli/@vpervye1/kuda-vloz...\n",
        "2599565    https://golos.io/ru--golos/@snooze/kak-kupit-f...\n",
        "2599583    https://golos.io/ru--zhiznx/@edgaroz/f-k-krasn...\n",
        "2599622    https://golos.io/ru--lotereya/@golos.loto/5x36...\n",
        "2599628    https://golos.io/ru--apvot50-50/@student61/uda...\n",
        "2599680    https://golos.io/ru--zagadkipaganelya/@cergey-...\n",
        "2599745    https://golos.io/ru--zhiznx/@yellowsubmarine/e...\n",
        "2599749    https://golos.io/ru--foto/@irishka999/my-s-rod...\n",
        "2599752    https://golos.io/ru--more-czvetov/@kayros/moyo...\n",
        "2599823    https://golos.io/goldvoice/@shenanigan/zhivcha...\n",
        "2599885    https://golos.io/ru--kao/@igor66/model-vashego...\n",
        "2599891    https://golos.io/ru--more-czvetov/@kayros/moyo...\n",
        "2599894    https://golos.io/ru--krasivyiesteny/@may2015/p...\n",
        "2599896    https://golos.io/ru--golos/@snooze/kak-kupit-f...\n",
        "2599919    https://golos.io/ru--dobryijkit/@dobryj.kit/do...\n",
        "Name: refurl, Length: 328203, dtype: object"
       ]
      }
     ],
     "prompt_number": 52
    },
    {
     "cell_type": "code",
     "collapsed": false,
     "input": [],
     "language": "python",
     "metadata": {},
     "outputs": []
    }
   ],
   "metadata": {}
  }
 ]
}