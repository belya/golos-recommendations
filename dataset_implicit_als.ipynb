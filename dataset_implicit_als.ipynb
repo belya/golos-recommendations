{
 "metadata": {
  "name": "",
  "signature": "sha256:561fc71ce3923f30cdeea9c2de2b0290823d392cd1455119084034a3b0974121"
 },
 "nbformat": 3,
 "nbformat_minor": 0,
 "worksheets": [
  {
   "cells": [
    {
     "cell_type": "code",
     "collapsed": false,
     "input": [
      "import pandas as pd\n",
      "events = pd.read_csv(\"../golosio-recommendation-model/datasets/events_golos3.csv\") # There is small error in this file, and it can't be read fully"
     ],
     "language": "python",
     "metadata": {},
     "outputs": []
    },
    {
     "cell_type": "code",
     "collapsed": false,
     "input": [
      "events.shape"
     ],
     "language": "python",
     "metadata": {},
     "outputs": []
    },
    {
     "cell_type": "code",
     "collapsed": false,
     "input": [
      "import numpy as np\n",
      "import pandas as pd\n",
      "views = events[(events[\"event_type\"] == \"PageView\") & (~np.isnan(events[\"user_id\"]))]\n",
      "votes = events[(events[\"event_type\"] == \"Vote\") & (~np.isnan(events[\"user_id\"]))].set_index([\"user_id\", \"value\"])\n",
      "comments = events[(events[\"event_type\"] == \"Comment\") & (~np.isnan(events[\"user_id\"]))].set_index([\"user_id\", \"value\"])\n",
      "dataset = pd.DataFrame()\n",
      "ids = []\n",
      "links = []\n",
      "classes = []\n",
      "index = 0\n",
      "previous = 0\n",
      "\n",
      "for _, view in views.iterrows():\n",
      "    index += 1\n",
      "    current = float(index / views.shape[0]) * 100\n",
      "    if (previous + 0.5 < current):\n",
      "        previous = current\n",
      "        print(current, end=\"\\r\")\n",
      "    if (view[\"value\"].count('/') > 2):\n",
      "        ids.append(view[\"user_id\"])\n",
      "        links.append(\"http://golos.io/{}\".format(view[\"value\"]))\n",
      "        classes.append((view[\"user_id\"], view[\"value\"]) in votes.index or (view[\"user_id\"], view[\"value\"]) in comments.index)"
     ],
     "language": "python",
     "metadata": {},
     "outputs": []
    },
    {
     "cell_type": "markdown",
     "metadata": {},
     "source": [
      "One hungred percent vote"
     ]
    },
    {
     "cell_type": "code",
     "collapsed": false,
     "input": [
      "import numpy as np\n",
      "import pandas as pd\n",
      "votes = events[(events[\"event_type\"] == \"Vote\") & (~np.isnan(events[\"user_id\"]))]\n",
      "dataset = pd.DataFrame()\n",
      "ids = []\n",
      "links = []\n",
      "classes = []\n",
      "index = 0\n",
      "previous = 0\n",
      "\n",
      "for _, vote in votes.iterrows():\n",
      "    index += 1\n",
      "    current = float(index / votes.shape[0]) * 100\n",
      "    if (previous + 0.5 < current):\n",
      "        previous = current\n",
      "        print(current, end=\"\\r\")\n",
      "    if (str(vote[\"value\"]) in str(vote[\"refurl\"])):\n",
      "        ids.append(vote[\"user_id\"])\n",
      "        links.append(\"http://golos.io/{}\".format(vote[\"value\"]))\n",
      "        classes.append(True)"
     ],
     "language": "python",
     "metadata": {},
     "outputs": []
    },
    {
     "cell_type": "markdown",
     "metadata": {},
     "source": [
      "Maybe downvote?"
     ]
    },
    {
     "cell_type": "code",
     "collapsed": false,
     "input": [
      "index = 0\n",
      "previous = 0\n",
      "for _, vote in votes.iterrows():\n",
      "    index += 1\n",
      "    current = float(index / votes.shape[0]) * 100\n",
      "    if (previous + 0.5 < current):\n",
      "        previous = current\n",
      "        print(current, end=\"\\r\")\n",
      "    if (str(vote[\"value\"]) not in str(vote[\"refurl\"])):\n",
      "        ids.append(vote[\"user_id\"])\n",
      "        links.append(\"http://golos.io/{}\".format(vote[\"value\"]))\n",
      "        classes.append(False)"
     ],
     "language": "python",
     "metadata": {},
     "outputs": []
    },
    {
     "cell_type": "code",
     "collapsed": false,
     "input": [
      "index = 0\n",
      "previous = 0\n",
      "views = events[(events[\"event_type\"] == \"PageView\") & (~np.isnan(events[\"user_id\"]))]\n",
      "\n",
      "for _, view in views.iterrows():\n",
      "    index += 1\n",
      "    current = float(index / views.shape[0]) * 100\n",
      "    if (previous + 0.5 < current):\n",
      "        previous = current\n",
      "        print(current, end=\"\\r\")\n",
      "    if ((view[\"value\"].count('/') > 2) and (str(view[\"value\"]) in str(view[\"refurl\"]))):\n",
      "        ids.append(view[\"user_id\"])\n",
      "        links.append(\"http://golos.io/{}\".format(view[\"value\"]))\n",
      "        classes.append(False)"
     ],
     "language": "python",
     "metadata": {},
     "outputs": []
    },
    {
     "cell_type": "code",
     "collapsed": false,
     "input": [
      "dataset[\"user_id\"] = ids\n",
      "dataset[\"post_permlink\"] = links\n",
      "dataset[\"like\"] = classes"
     ],
     "language": "python",
     "metadata": {},
     "outputs": [],
     "prompt_number": 11
    },
    {
     "cell_type": "code",
     "collapsed": false,
     "input": [
      "dataset.to_csv(\"./events.csv\")"
     ],
     "language": "python",
     "metadata": {},
     "outputs": [],
     "prompt_number": 12
    },
    {
     "cell_type": "code",
     "collapsed": false,
     "input": [
      "dataset.shape"
     ],
     "language": "python",
     "metadata": {},
     "outputs": [
      {
       "metadata": {},
       "output_type": "pyout",
       "prompt_number": 13,
       "text": [
        "(1559391, 3)"
       ]
      }
     ],
     "prompt_number": 13
    },
    {
     "cell_type": "code",
     "collapsed": false,
     "input": [
      "import pymongo\n",
      "from pymongo import MongoClient\n",
      "client = MongoClient()"
     ],
     "language": "python",
     "metadata": {},
     "outputs": [],
     "prompt_number": 1
    },
    {
     "cell_type": "code",
     "collapsed": false,
     "input": [
      "db = client.steemdb_1\n",
      "db.collection_names()"
     ],
     "language": "python",
     "metadata": {},
     "outputs": [
      {
       "metadata": {},
       "output_type": "pyout",
       "prompt_number": 2,
       "text": [
        "['author_reward',\n",
        " 'vote',\n",
        " 'transfer',\n",
        " 'witness_vote',\n",
        " 'reblog',\n",
        " 'vesting_withdraw',\n",
        " 'curation_reward',\n",
        " 'account',\n",
        " 'vesting_deposit',\n",
        " 'status',\n",
        " 'pow',\n",
        " 'block_30d',\n",
        " 'comment',\n",
        " 'block',\n",
        " 'follow']"
       ]
      }
     ],
     "prompt_number": 2
    },
    {
     "cell_type": "code",
     "collapsed": false,
     "input": [
      "for collection in db.collection_names():\n",
      "    print(collection)\n",
      "    print(db[collection].find_one())\n",
      "    print(\"====\")"
     ],
     "language": "python",
     "metadata": {},
     "outputs": [
      {
       "output_type": "stream",
       "stream": "stdout",
       "text": [
        "author_reward\n",
        "{'vesting_payout': 188157087.628, '_id': '2558657/steemychicken1/steemychicken1-witness-cv', 'permlink': 'steemychicken1-witness-cv', 'sbd_payout': 8.127, 'steem_payout': 0.0, '_ts': datetime.datetime(2017, 1, 15, 11, 0, 6), 'author': 'steemychicken1'}\n",
        "====\n",
        "vote\n",
        "{'_ts': datetime.datetime(2016, 10, 18, 11, 49, 39), '_id': '900/primus/primus/nastroika-nod-mainera-i-delegata-dlya-raboty-v-golose-rabochie-konfigi-i-poyasneniya-po-ustanovke', 'permlink': 'nastroika-nod-mainera-i-delegata-dlya-raboty-v-golose-rabochie-konfigi-i-poyasneniya-po-ustanovke', 'weight': 10000, 'voter': 'primus', 'author': 'primus'}\n",
        "====\n",
        "transfer\n",
        "{'_ts': datetime.datetime(2016, 10, 18, 11, 17, 36), '_id': '286/cyberfounder/cyberdrop', 'to': 'cyberdrop', 'amount': 4512000.0, 'memo': '', 'type': 'GOLOS', 'from': 'cyberfounder'}\n",
        "====\n",
        "witness_vote\n",
        "{'_ts': datetime.datetime(2016, 10, 18, 11, 10, 54), '_id': ObjectId('59fcdb553f33f4c8b83ee356'), 'witness': 'testz', 'approve': True, 'account': 'testz'}\n",
        "====\n",
        "reblog\n",
        "{'_block': 3261, '_id': ObjectId('59fcdb603f33f4c8b83f1695'), 'permlink': 'komanda-golos-nastoyashie-kosmonavty', '_ts': datetime.datetime(2016, 10, 18, 13, 48, 6), 'author': 'lehard', 'account': 'hipster'}\n",
        "====\n",
        "vesting_withdraw\n",
        "{'_ts': datetime.datetime(2016, 10, 25, 12, 32, 21), '_id': '202782/phenom/phenom', 'from_account': 'phenom', 'to_account': 'phenom', 'deposited': 0.173, 'withdrawn': 1730.76923}\n",
        "====\n",
        "curation_reward\n",
        "{'curator': 'hipster', 'comment_permlink': 'steemychicken1-witness-cv', '_id': '2558657/hipster/steemychicken1/steemychicken1-witness-cv', '_ts': datetime.datetime(2017, 1, 15, 11, 0, 6), 'reward': 124376158.769, 'comment_author': 'steemychicken1'}\n",
        "====\n",
        "account\n",
        "{'_dirty': True, '_id': 'testzcrypto-04'}\n",
        "====\n",
        "vesting_deposit\n",
        "{'amount': 1.0, '_ts': datetime.datetime(2016, 10, 18, 11, 7, 36), '_id': '111/testzcrypto-04/testz', 'from': 'testzcrypto-04', 'to': 'testz'}\n",
        "====\n",
        "status\n",
        "{'_id': 'height', 'value': 7886768}\n",
        "====\n",
        "pow\n",
        "{'_ts': datetime.datetime(2016, 10, 18, 11, 3, 3), '_id': '26-initfounder', 'work': [0, {'pow_summary': 4194738265, 'input': {'worker_account': 'initfounder', 'nonce': '14618240069569735498', 'prev_block': '00000019c11cc0b431626637cc2e5896473ecead'}}], 'new_owner_key': 'GLS6hhoECYq2yxgJLUsoUDDU6TeqWDtUmG45rvNuYANWaZpmk1JCN', 'props': {'sbd_interest_rate': 1000, 'account_creation_fee': '3.000 GOLOS', 'maximum_block_size': 131072}, 'block': 26}\n",
        "====\n",
        "block_30d\n",
        "{'transaction_merkle_root': '0000000000000000000000000000000000000000', '_id': 2, 'previous': '0000000124e9a697d13b4b133b9d4048a631e952', 'timestamp': '2016-10-18T11:01:51', '_ts': datetime.datetime(2016, 10, 18, 11, 1, 51), 'extensions': [[1, '0.14.2'], [2, {'hf_time': '2016-10-18T11:02:00', 'hf_version': '0.6.0'}]], 'transactions': [], 'witness': 'cyberfounder', 'witness_signature': '205b4e25f261c9fb4b66607007be4fdead9b98ba06371627c071218a0ec9e1356e0b39237bff40e46d0263696fa5276ea347fc784813df25c97d9ff72d3ca83fef'}\n",
        "====\n",
        "comment\n",
        "{'children_rshares2': 0.0, 'body': '\u0412\u0441\u0435\u043c \u0434\u043e\u0431\u0440\u0430', '_id': 'hipster/post-dobra', 'active_votes': [{'percent': 10000, 'reputation': '8384654052423', 'time': datetime.datetime(2016, 10, 18, 12, 29, 18), 'weight': 1.9789616566371484e+16, 'voter': 'pfunk', 'rshares': 4300000000.0}, {'percent': 8500, 'reputation': '57839098574841', 'time': datetime.datetime(2017, 10, 19, 1, 30, 6), 'weight': 0.0, 'voter': 'hipster', 'rshares': 0.0}, {'percent': 10000, 'reputation': '88363536501615', 'time': datetime.datetime(2016, 10, 18, 12, 18, 24), 'weight': 9011441823834144.0, 'voter': 'lehard', 'rshares': 1955000000.0}, {'percent': 10000, 'reputation': '51385944733833', 'time': datetime.datetime(2016, 10, 18, 12, 30, 39), 'weight': 8960367266612542.0, 'voter': 'on0tole', 'rshares': 1950000000.0}, {'percent': 10000, 'reputation': '49715395568664', 'time': datetime.datetime(2016, 10, 19, 7, 54, 54), 'weight': 1145769371535190.0, 'voter': 'mrgreen', 'rshares': 250000000.0}, {'percent': 10000, 'reputation': '1177822741105', 'time': datetime.datetime(2016, 10, 18, 12, 39, 33), 'weight': 1.3538868184289952e+16, 'voter': 'jesta', 'rshares': 2950000000.0}, {'percent': 10000, 'reputation': '31910532064100', 'time': datetime.datetime(2017, 9, 9, 20, 50, 57), 'weight': 0.0, 'voter': 'litvintech', 'rshares': 0.0}, {'percent': 10000, 'reputation': '35924518865755', 'time': datetime.datetime(2016, 10, 19, 2, 20, 3), 'weight': 1123101684710461.0, 'voter': 'kibela', 'rshares': 245000000.0}, {'percent': 10000, 'reputation': '36312226335', 'time': datetime.datetime(2016, 10, 18, 16, 30), 'weight': 1123238864957892.0, 'voter': 'numberone', 'rshares': 245000000.0}, {'percent': 10000, 'reputation': '1865260106486', 'time': datetime.datetime(2016, 10, 19, 6, 39, 18), 'weight': 893799232971924.0, 'voter': 'stepanoff', 'rshares': 195000000.0}, {'percent': 10000, 'reputation': '911566240353', 'time': datetime.datetime(2016, 10, 18, 13, 29, 42), 'weight': 1146446430855800.0, 'voter': 'wanker', 'rshares': 250000000.0}, {'percent': 10000, 'reputation': '167545076702', 'time': datetime.datetime(2016, 10, 18, 15, 44, 18), 'weight': 1146303541396107.0, 'voter': 'dionis', 'rshares': 250000000.0}, {'percent': 10000, 'reputation': '932884847910', 'time': datetime.datetime(2016, 10, 20, 13, 56, 57), 'weight': 1122715475363875.0, 'voter': 'visitor', 'rshares': 245000000.0}, {'percent': 2000, 'reputation': '51798231358588', 'time': datetime.datetime(2017, 9, 9, 20, 51, 3), 'weight': 0.0, 'voter': 'rusldv', 'rshares': 0.0}, {'percent': 1500, 'reputation': '6163868007350', 'time': datetime.datetime(2017, 10, 19, 1, 30, 30), 'weight': 0.0, 'voter': 'dmitriu', 'rshares': 0.0}, {'percent': 10000, 'reputation': '84911253819872', 'time': datetime.datetime(2017, 6, 10, 16, 17, 12), 'weight': 0.0, 'voter': 'zaxar', 'rshares': 0.0}, {'percent': 10000, 'reputation': '7557310192392', 'time': datetime.datetime(2017, 3, 25, 20, 47, 45), 'weight': 0.0, 'voter': 'seriy', 'rshares': 0.0}, {'percent': 100, 'reputation': '17590463372822', 'time': datetime.datetime(2017, 10, 18, 18, 34, 51), 'weight': 0.0, 'voter': 'gryph0n', 'rshares': 0.0}, {'percent': 10000, 'reputation': '20288155193368', 'time': datetime.datetime(2017, 10, 18, 11, 25, 12), 'weight': 0.0, 'voter': 'urri', 'rshares': 0.0}, {'percent': 500, 'reputation': '10355663269728', 'time': datetime.datetime(2017, 9, 9, 20, 51, 48), 'weight': 0.0, 'voter': 'vika-teplo', 'rshares': 0.0}, {'percent': 10000, 'reputation': '181803116782', 'time': datetime.datetime(2017, 10, 20, 7, 4, 33), 'weight': 0.0, 'voter': 'pros', 'rshares': 0.0}, {'percent': 10000, 'reputation': 0, 'time': datetime.datetime(2017, 7, 26, 13, 27, 54), 'weight': 0.0, 'voter': 'djomushka', 'rshares': 0.0}], 'created': datetime.datetime(2016, 10, 18, 11, 46, 3), 'root_title': '\u041f\u043e\u0441\u0442 \u0434\u043e\u0431\u0440\u0430', 'scanned': datetime.datetime(2017, 11, 4, 21, 22, 59, 50000), 'author_reputation': 57839098574841.0, 'root_comment': 0, 'total_pending_payout_value': 0.0, 'author': 'hipster', 'parent_author': '', 'curator_payout_value': 0.0, 'net_rshares': 0.0, 'promoted': '0.000 GBG', 'permlink': 'post-dobra', 'total_payout_value': 0.0, 'depth': 0, 'abs_rshares': 0.0, 'pending_payout_value': 0.0, 'last_reply': datetime.datetime(2016, 11, 1, 4, 16, 42), 'last_reply_by': 'smailer', 'percent_steem_dollars': 10000, 'last_update': datetime.datetime(2016, 10, 18, 11, 46, 3), 'json_metadata': {'tags': ['ru--vpered', 'ru--golos']}, 'last_payout': datetime.datetime(2017, 2, 14, 11, 0, 6), 'title': '\u041f\u043e\u0441\u0442 \u0434\u043e\u0431\u0440\u0430', 'max_accepted_payout': 1000000.0, 'url': '/ru--vpered/@hipster/post-dobra', 'replies': [], 'id': 0, 'net_votes': 11, 'vote_rshares': 0.0, 'allow_votes': True, 'beneficiaries': [], 'body_length': 0, 'category': 'ru--vpered', 'reward_weight': 10000, 'parent_permlink': 'ru--vpered', 'children_abs_rshares': 0.0, 'max_cashout_time': datetime.datetime(1969, 12, 31, 23, 59, 59), 'author_rewards': 0, 'cashout_time': datetime.datetime(1969, 12, 31, 23, 59, 59), 'children': 5, 'allow_replies': True, 'allow_curation_rewards': True, 'active': datetime.datetime(2016, 11, 1, 4, 16, 42), 'total_vote_weight': 0, 'reblogged_by': []}\n",
        "====\n",
        "block\n",
        "{'transaction_merkle_root': '0000000000000000000000000000000000000000', '_id': 2, 'previous': '0000000124e9a697d13b4b133b9d4048a631e952', 'timestamp': '2016-10-18T11:01:51', '_ts': datetime.datetime(2016, 10, 18, 11, 1, 51), 'extensions': [[1, '0.14.2'], [2, {'hf_time': '2016-10-18T11:02:00', 'hf_version': '0.6.0'}]], 'transactions': [], 'witness': 'cyberfounder', 'witness_signature': '205b4e25f261c9fb4b66607007be4fdead9b98ba06371627c071218a0ec9e1356e0b39237bff40e46d0263696fa5276ea347fc784813df25c97d9ff72d3ca83fef'}\n",
        "====\n",
        "follow\n",
        "{'_block': 1677, '_id': ObjectId('59fcdb593f33f4c8b83efcde'), 'following': 'lehard', 'what': [], '_ts': datetime.datetime(2016, 10, 18, 12, 28, 51), 'follower': 'on0tole'}\n",
        "====\n"
       ]
      }
     ],
     "prompt_number": 3
    },
    {
     "cell_type": "code",
     "collapsed": false,
     "input": [
      "import pandas as pd\n",
      "from bs4 import BeautifulSoup\n",
      "import warnings\n",
      "warnings.filterwarnings(\"ignore\", category=UserWarning, module='bs4')\n",
      "\n",
      "posts = pd.DataFrame()\n",
      "\n",
      "links = []\n",
      "texts = []\n",
      "index = 0\n",
      "for post in db.comment.find():\n",
      "    index += 1\n",
      "    print(float(index / db.comment.count()) * 100, end=\"\\r\")\n",
      "    links.append(\"http://golos.io/@{}/{}\".format(post[\"author\"], post[\"permlink\"]))\n",
      "    texts.append(BeautifulSoup(post[\"body\"], 'html.parser').get_text())\n",
      "posts[\"permlink\"] = links\n",
      "posts[\"text\"] = texts"
     ],
     "language": "python",
     "metadata": {},
     "outputs": []
    },
    {
     "cell_type": "code",
     "collapsed": false,
     "input": [
      "posts.to_csv(\"./posts.csv\")"
     ],
     "language": "python",
     "metadata": {},
     "outputs": [],
     "prompt_number": 6
    }
   ],
   "metadata": {}
  }
 ]
}